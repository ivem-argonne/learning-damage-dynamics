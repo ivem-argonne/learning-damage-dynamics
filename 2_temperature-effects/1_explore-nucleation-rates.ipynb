{
 "cells": [
  {
   "cell_type": "markdown",
   "id": "3528046f-d713-4218-bb37-e7ae3a10f00e",
   "metadata": {},
   "source": [
    "# Explore Nucleation Rates\n",
    "See how nucleation rates change as a function of temperature."
   ]
  },
  {
   "cell_type": "code",
   "execution_count": 2,
   "id": "c89d2ea7-091e-4c5a-af41-ef16eaae93dd",
   "metadata": {
    "tags": []
   },
   "outputs": [],
   "source": [
    "%matplotlib inline\n",
    "from matplotlib import pyplot as plt\n",
    "from pathlib import Path\n",
    "import pandas as pd\n",
    "import numpy as np\n",
    "import json"
   ]
  },
  {
   "cell_type": "markdown",
   "id": "a718e020-cdff-443a-aa22-e70d9fc7ab37",
   "metadata": {},
   "source": [
    "## Load Results\n",
    "Each of the result folders in [the void tracking directory](../1_void-tracking) are named after the temperature and contain a file which contains the void growth and mobility functions."
   ]
  },
  {
   "cell_type": "code",
   "execution_count": 4,
   "id": "da29c72f-0a0f-4990-9f06-dbbeee017f7a",
   "metadata": {
    "tags": []
   },
   "outputs": [],
   "source": [
    "dynamics_terms = []\n",
    "for path in Path('../1_void-tracking/output/').glob('8bitTIFF-*/rate-parameters.json'):\n",
    "    # Get the temperature\n",
    "    temperature = float(path.parent.name.split(\"-\")[-1][:-1])  # Directories are named [...]-[temp]C\n",
    "    terms = {'temp': temperature}\n",
    "    \n",
    "    # Load the model parameters\n",
    "    params = json.loads(path.read_text())\n",
    "    terms.update(params)\n",
    "    \n",
    "    dynamics_terms.append(terms)\n",
    "dynamics_terms = pd.DataFrame(dynamics_terms).sort_values('temp')"
   ]
  },
  {
   "cell_type": "code",
   "execution_count": 5,
   "id": "c4512931-4a9e-446b-a1b6-93c4b51e9662",
   "metadata": {},
   "outputs": [
    {
     "data": {
      "text/html": [
       "<div>\n",
       "<style scoped>\n",
       "    .dataframe tbody tr th:only-of-type {\n",
       "        vertical-align: middle;\n",
       "    }\n",
       "\n",
       "    .dataframe tbody tr th {\n",
       "        vertical-align: top;\n",
       "    }\n",
       "\n",
       "    .dataframe thead th {\n",
       "        text-align: right;\n",
       "    }\n",
       "</style>\n",
       "<table border=\"1\" class=\"dataframe\">\n",
       "  <thead>\n",
       "    <tr style=\"text-align: right;\">\n",
       "      <th></th>\n",
       "      <th>temp</th>\n",
       "      <th>nucleation_rate</th>\n",
       "      <th>dissolution_prob</th>\n",
       "    </tr>\n",
       "  </thead>\n",
       "  <tbody>\n",
       "    <tr>\n",
       "      <th>0</th>\n",
       "      <td>525.0</td>\n",
       "      <td>0.854438</td>\n",
       "      <td>0.024626</td>\n",
       "    </tr>\n",
       "    <tr>\n",
       "      <th>4</th>\n",
       "      <td>550.0</td>\n",
       "      <td>0.060470</td>\n",
       "      <td>0.020658</td>\n",
       "    </tr>\n",
       "    <tr>\n",
       "      <th>2</th>\n",
       "      <td>575.0</td>\n",
       "      <td>0.554286</td>\n",
       "      <td>0.034412</td>\n",
       "    </tr>\n",
       "    <tr>\n",
       "      <th>5</th>\n",
       "      <td>600.0</td>\n",
       "      <td>0.191630</td>\n",
       "      <td>0.012189</td>\n",
       "    </tr>\n",
       "    <tr>\n",
       "      <th>3</th>\n",
       "      <td>625.0</td>\n",
       "      <td>0.828743</td>\n",
       "      <td>0.011195</td>\n",
       "    </tr>\n",
       "    <tr>\n",
       "      <th>1</th>\n",
       "      <td>650.0</td>\n",
       "      <td>0.216407</td>\n",
       "      <td>0.015303</td>\n",
       "    </tr>\n",
       "  </tbody>\n",
       "</table>\n",
       "</div>"
      ],
      "text/plain": [
       "    temp  nucleation_rate  dissolution_prob\n",
       "0  525.0         0.854438          0.024626\n",
       "4  550.0         0.060470          0.020658\n",
       "2  575.0         0.554286          0.034412\n",
       "5  600.0         0.191630          0.012189\n",
       "3  625.0         0.828743          0.011195\n",
       "1  650.0         0.216407          0.015303"
      ]
     },
     "execution_count": 5,
     "metadata": {},
     "output_type": "execute_result"
    }
   ],
   "source": [
    "dynamics_terms"
   ]
  },
  {
   "cell_type": "markdown",
   "id": "da734dc9-3d73-4d80-b10c-0f22a12701c8",
   "metadata": {},
   "source": [
    "## Plot the Effect of Temperature on Growth\n",
    "See if there is a consistent trend"
   ]
  },
  {
   "cell_type": "code",
   "execution_count": 19,
   "id": "88697b94-fc73-4e63-a236-64b2c4439323",
   "metadata": {
    "tags": []
   },
   "outputs": [
    {
     "data": {
      "image/png": "[encoded data removed]",
      "text/plain": [
       "<Figure size 350x200 with 2 Axes>"
      ]
     },
     "metadata": {},
     "output_type": "display_data"
    }
   ],
   "source": [
    "fig, ax = plt.subplots(figsize=(3.5, 2.))\n",
    "\n",
    "ax.scatter(dynamics_terms['temp'], dynamics_terms['nucleation_rate'], color='blue', marker='^')\n",
    "\n",
    "ax2 = ax.twinx()\n",
    "ax2.scatter(dynamics_terms['temp'], dynamics_terms['dissolution_prob'] * 100, color='red', marker='v')\n",
    "\n",
    "ax.set_xlabel('T ($\\\\degree$C)')\n",
    "ax.set_ylabel('Nucleation Rate (1/s)')\n",
    "ax2.set_ylabel('Dissolution Prob (%)')\n",
    "\n",
    "\n",
    "fig.tight_layout()\n",
    "fig.savefig('figures/nucleation-vs-temperature.png', dpi=320)"
   ]
  },
  {
   "cell_type": "code",
   "execution_count": null,
   "id": "afb1e687-8846-409c-9b27-8502564004c9",
   "metadata": {},
   "outputs": [],
   "source": []
  }
 ],
 "metadata": {
  "kernelspec": {
   "display_name": "Python 3 (ipykernel)",
   "language": "python",
   "name": "python3"
  },
  "language_info": {
   "codemirror_mode": {
    "name": "ipython",
    "version": 3
   },
   "file_extension": ".py",
   "mimetype": "text/x-python",
   "name": "python",
   "nbconvert_exporter": "python",
   "pygments_lexer": "ipython3",
   "version": "3.10.12"
  }
 },
 "nbformat": 4,
 "nbformat_minor": 5
}

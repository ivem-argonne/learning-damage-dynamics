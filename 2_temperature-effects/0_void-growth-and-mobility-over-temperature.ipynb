{
 "cells": [
  {
   "cell_type": "markdown",
   "id": "0d848d0d-c59d-4516-a7c7-181edc575cec",
   "metadata": {},
   "source": [
    "# Evaluate the Effect of Temperature\n",
    "See how the void growth rates and mobility terms change as a function of temperature"
   ]
  },
  {
   "cell_type": "code",
   "execution_count": 2,
   "id": "d35e1b73-c8fe-45ce-9d43-2db0b0202642",
   "metadata": {
    "tags": []
   },
   "outputs": [],
   "source": [
    "%matplotlib inline\n",
    "from matplotlib import pyplot as plt\n",
    "from pathlib import Path\n",
    "import pandas as pd\n",
    "import numpy as np\n",
    "import json"
   ]
  },
  {
   "cell_type": "markdown",
   "id": "d9b4d0d2-c6f9-4bea-a393-3e67c0db9444",
   "metadata": {},
   "source": [
    "## Load Results\n",
    "Each of the result folders in [the void tracking directory](../1_void-tracking) are named after the temperature and contain a file which contains the void growth and mobility functions."
   ]
  },
  {
   "cell_type": "code",
   "execution_count": 3,
   "id": "a34cb7d3-1d53-48ff-a1d5-a34676fe731e",
   "metadata": {
    "tags": []
   },
   "outputs": [],
   "source": [
    "dynamics_terms = []\n",
    "for path in Path('../1_void-tracking/output/').glob('8bitTIFF-*/model-parameters.json'):\n",
    "    # Get the temperature\n",
    "    temperature = float(path.parent.name.split(\"-\")[-1][:-1])  # Directories are named [...]-[temp]C\n",
    "    terms = {'temp': temperature}\n",
    "    \n",
    "    # Load the model parameters\n",
    "    params = json.loads(path.read_text())\n",
    "    for key, p in params.items():\n",
    "        # The terms are always in the same order.\n",
    "        \n",
    "        for name, v in zip(['alpha.0', 'alpha.1', 'beta.0', 'beta.1'], p):\n",
    "            terms[f'{key}.{name}'] = v\n",
    "    \n",
    "    dynamics_terms.append(terms)\n",
    "dynamics_terms = pd.DataFrame(dynamics_terms).sort_values('temp')"
   ]
  },
  {
   "cell_type": "code",
   "execution_count": 4,
   "id": "5afbf5dc-6fc1-4e16-9aba-b5500ad72433",
   "metadata": {
    "tags": []
   },
   "outputs": [
    {
     "data": {
      "text/html": [
       "<div>\n",
       "<style scoped>\n",
       "    .dataframe tbody tr th:only-of-type {\n",
       "        vertical-align: middle;\n",
       "    }\n",
       "\n",
       "    .dataframe tbody tr th {\n",
       "        vertical-align: top;\n",
       "    }\n",
       "\n",
       "    .dataframe thead th {\n",
       "        text-align: right;\n",
       "    }\n",
       "</style>\n",
       "<table border=\"1\" class=\"dataframe\">\n",
       "  <thead>\n",
       "    <tr style=\"text-align: right;\">\n",
       "      <th></th>\n",
       "      <th>temp</th>\n",
       "      <th>growth.alpha.0</th>\n",
       "      <th>growth.alpha.1</th>\n",
       "      <th>growth.beta.0</th>\n",
       "      <th>growth.beta.1</th>\n",
       "      <th>movement.alpha.0</th>\n",
       "      <th>movement.alpha.1</th>\n",
       "      <th>movement.beta.0</th>\n",
       "      <th>movement.beta.1</th>\n",
       "    </tr>\n",
       "  </thead>\n",
       "  <tbody>\n",
       "    <tr>\n",
       "      <th>0</th>\n",
       "      <td>525.0</td>\n",
       "      <td>-0.001213</td>\n",
       "      <td>-0.000247</td>\n",
       "      <td>-1.633784</td>\n",
       "      <td>-0.112717</td>\n",
       "      <td>-1.973680</td>\n",
       "      <td>-0.560920</td>\n",
       "      <td>0.026094</td>\n",
       "      <td>0.015193</td>\n",
       "    </tr>\n",
       "    <tr>\n",
       "      <th>4</th>\n",
       "      <td>550.0</td>\n",
       "      <td>-0.004154</td>\n",
       "      <td>0.000052</td>\n",
       "      <td>-1.323378</td>\n",
       "      <td>0.019620</td>\n",
       "      <td>-3.110522</td>\n",
       "      <td>-0.132544</td>\n",
       "      <td>0.204095</td>\n",
       "      <td>-0.001699</td>\n",
       "    </tr>\n",
       "    <tr>\n",
       "      <th>2</th>\n",
       "      <td>575.0</td>\n",
       "      <td>-0.001020</td>\n",
       "      <td>0.000250</td>\n",
       "      <td>-1.535237</td>\n",
       "      <td>-0.089147</td>\n",
       "      <td>-2.502272</td>\n",
       "      <td>-0.433159</td>\n",
       "      <td>0.099867</td>\n",
       "      <td>-0.011840</td>\n",
       "    </tr>\n",
       "    <tr>\n",
       "      <th>5</th>\n",
       "      <td>600.0</td>\n",
       "      <td>-0.000173</td>\n",
       "      <td>0.000525</td>\n",
       "      <td>-1.372825</td>\n",
       "      <td>0.025640</td>\n",
       "      <td>-2.366270</td>\n",
       "      <td>0.144712</td>\n",
       "      <td>0.103735</td>\n",
       "      <td>-0.006032</td>\n",
       "    </tr>\n",
       "    <tr>\n",
       "      <th>3</th>\n",
       "      <td>625.0</td>\n",
       "      <td>-0.001192</td>\n",
       "      <td>0.000904</td>\n",
       "      <td>-2.126776</td>\n",
       "      <td>0.003360</td>\n",
       "      <td>-2.424928</td>\n",
       "      <td>-0.234314</td>\n",
       "      <td>0.088119</td>\n",
       "      <td>0.004439</td>\n",
       "    </tr>\n",
       "    <tr>\n",
       "      <th>1</th>\n",
       "      <td>650.0</td>\n",
       "      <td>0.003771</td>\n",
       "      <td>0.000251</td>\n",
       "      <td>-1.675941</td>\n",
       "      <td>-0.008727</td>\n",
       "      <td>-0.630386</td>\n",
       "      <td>0.111333</td>\n",
       "      <td>0.172013</td>\n",
       "      <td>-0.006124</td>\n",
       "    </tr>\n",
       "  </tbody>\n",
       "</table>\n",
       "</div>"
      ],
      "text/plain": [
       "    temp  growth.alpha.0  growth.alpha.1  growth.beta.0  growth.beta.1  \\\n",
       "0  525.0       -0.001213       -0.000247      -1.633784      -0.112717   \n",
       "4  550.0       -0.004154        0.000052      -1.323378       0.019620   \n",
       "2  575.0       -0.001020        0.000250      -1.535237      -0.089147   \n",
       "5  600.0       -0.000173        0.000525      -1.372825       0.025640   \n",
       "3  625.0       -0.001192        0.000904      -2.126776       0.003360   \n",
       "1  650.0        0.003771        0.000251      -1.675941      -0.008727   \n",
       "\n",
       "   movement.alpha.0  movement.alpha.1  movement.beta.0  movement.beta.1  \n",
       "0         -1.973680         -0.560920         0.026094         0.015193  \n",
       "4         -3.110522         -0.132544         0.204095        -0.001699  \n",
       "2         -2.502272         -0.433159         0.099867        -0.011840  \n",
       "5         -2.366270          0.144712         0.103735        -0.006032  \n",
       "3         -2.424928         -0.234314         0.088119         0.004439  \n",
       "1         -0.630386          0.111333         0.172013        -0.006124  "
      ]
     },
     "execution_count": 4,
     "metadata": {},
     "output_type": "execute_result"
    }
   ],
   "source": [
    "dynamics_terms"
   ]
  },
  {
   "cell_type": "markdown",
   "id": "731b09f7-03cf-4b5b-a6bf-46f7c3165a4b",
   "metadata": {},
   "source": [
    "## Plot the Effect of Temperature on Growth\n",
    "See if there is a consistent trend"
   ]
  },
  {
   "cell_type": "code",
   "execution_count": 7,
   "id": "ee74167c-3f09-4863-bbab-acd870524bc4",
   "metadata": {
    "tags": []
   },
   "outputs": [
    {
     "data": {
      "image/png": "[encoded data removed]",
      "text/plain": [
       "<Figure size 350x200 with 1 Axes>"
      ]
     },
     "metadata": {},
     "output_type": "display_data"
    }
   ],
   "source": [
    "fig, ax = plt.subplots(figsize=(3.5, 2.))\n",
    "\n",
    "for r, m in zip([4, 6, 8], 'ovs'):\n",
    "    ax.errorbar(dynamics_terms['temp'],\n",
    "                y=(dynamics_terms['growth.alpha.0'] + r * dynamics_terms['growth.alpha.1']) * 1e3,\n",
    "                #yerr=np.power(10, dynamics_terms['growth.beta.0'] + r * dynamics_terms['growth.beta.1']), \n",
    "               fmt=f'--{m}', label=f'r={r} nm')\n",
    "\n",
    "ax.text(0, 0.9, '(c)', transform=ax.transAxes, fontsize=10)\n",
    "ax.set_xlabel('T ($\\\\degree$C)')\n",
    "ax.set_ylabel('Growth Rate\\n($10^{-3}$ nm/s)')\n",
    "ax.legend()\n",
    "#ax.set_ylim(-0.02, 0.02)\n",
    "\n",
    "fig.tight_layout()\n",
    "fig.savefig('figures/growth-vs-temperature.png', dpi=320)"
   ]
  },
  {
   "cell_type": "markdown",
   "id": "5e91b09f-a016-4417-975c-85e66ab15c13",
   "metadata": {},
   "source": [
    "Notes:\n",
    "- We are less confident in the 525C voids because they are in a different imaging mode. Mention that in the report"
   ]
  },
  {
   "cell_type": "code",
   "execution_count": null,
   "id": "e81786cb-b6db-4c83-824f-8572c792cd91",
   "metadata": {},
   "outputs": [],
   "source": []
  }
 ],
 "metadata": {
  "kernelspec": {
   "display_name": "Python 3 (ipykernel)",
   "language": "python",
   "name": "python3"
  },
  "language_info": {
   "codemirror_mode": {
    "name": "ipython",
    "version": 3
   },
   "file_extension": ".py",
   "mimetype": "text/x-python",
   "name": "python",
   "nbconvert_exporter": "python",
   "pygments_lexer": "ipython3",
   "version": "3.10.12"
  }
 },
 "nbformat": 4,
 "nbformat_minor": 5
}

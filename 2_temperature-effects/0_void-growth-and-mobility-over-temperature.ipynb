{
 "cells": [
  {
   "cell_type": "markdown",
   "id": "0d848d0d-c59d-4516-a7c7-181edc575cec",
   "metadata": {},
   "source": [
    "# Evaluate the Effect of Temperature\n",
    "See how the void growth rates and mobility terms change as a function of temperature"
   ]
  },
  {
   "cell_type": "code",
   "execution_count": 1,
   "id": "d35e1b73-c8fe-45ce-9d43-2db0b0202642",
   "metadata": {
    "tags": []
   },
   "outputs": [],
   "source": [
    "%matplotlib inline\n",
    "from matplotlib import pyplot as plt\n",
    "from pathlib import Path\n",
    "import pandas as pd\n",
    "import numpy as np\n",
    "import json"
   ]
  },
  {
   "cell_type": "markdown",
   "id": "d9b4d0d2-c6f9-4bea-a393-3e67c0db9444",
   "metadata": {},
   "source": [
    "## Load Results\n",
    "Each of the result folders in [the void tracking directory](../1_void-tracking) are named after the temperature and contain a file which contains the void growth and mobility functions."
   ]
  },
  {
   "cell_type": "code",
   "execution_count": 2,
   "id": "4c8a315f-6a3f-4589-9d76-35eb58e64fdc",
   "metadata": {
    "tags": []
   },
   "outputs": [],
   "source": [
    "param_order = ['alpha.0', 'alpha.1', 'beta.0', 'beta.1']  # The terms are always in the same order."
   ]
  },
  {
   "cell_type": "code",
   "execution_count": 3,
   "id": "a34cb7d3-1d53-48ff-a1d5-a34676fe731e",
   "metadata": {
    "tags": []
   },
   "outputs": [],
   "source": [
    "dynamics_terms = []\n",
    "for path in Path('../1_void-tracking/output/').glob('8bitTIFF-*/growth-parameters-bayesian.json'):\n",
    "    # Get the temperature\n",
    "    temperature = float(path.parent.name.split(\"-\")[-1][:-1])  # Directories are named [...]-[temp]C\n",
    "    terms = {'temp': temperature}\n",
    "    \n",
    "    # Load the model parameters\n",
    "    params = json.loads(path.read_text())\n",
    "    for key, p in params.items():\n",
    "        for name, v in zip(param_order, p['mean']):\n",
    "            terms[f'{key}.{name}'] = v\n",
    "        terms[f'{key}.covar'] = np.array(p['covar'])\n",
    "    \n",
    "    dynamics_terms.append(terms)\n",
    "dynamics_terms = pd.DataFrame(dynamics_terms).sort_values('temp')"
   ]
  },
  {
   "cell_type": "code",
   "execution_count": 4,
   "id": "5afbf5dc-6fc1-4e16-9aba-b5500ad72433",
   "metadata": {
    "tags": []
   },
   "outputs": [
    {
     "data": {
      "text/html": [
       "<div>\n",
       "<style scoped>\n",
       "    .dataframe tbody tr th:only-of-type {\n",
       "        vertical-align: middle;\n",
       "    }\n",
       "\n",
       "    .dataframe tbody tr th {\n",
       "        vertical-align: top;\n",
       "    }\n",
       "\n",
       "    .dataframe thead th {\n",
       "        text-align: right;\n",
       "    }\n",
       "</style>\n",
       "<table border=\"1\" class=\"dataframe\">\n",
       "  <thead>\n",
       "    <tr style=\"text-align: right;\">\n",
       "      <th></th>\n",
       "      <th>temp</th>\n",
       "      <th>growth.alpha.0</th>\n",
       "      <th>growth.alpha.1</th>\n",
       "      <th>growth.beta.0</th>\n",
       "      <th>growth.beta.1</th>\n",
       "      <th>growth.covar</th>\n",
       "      <th>movement.alpha.0</th>\n",
       "      <th>movement.alpha.1</th>\n",
       "      <th>movement.beta.0</th>\n",
       "      <th>movement.beta.1</th>\n",
       "      <th>movement.covar</th>\n",
       "    </tr>\n",
       "  </thead>\n",
       "  <tbody>\n",
       "    <tr>\n",
       "      <th>0</th>\n",
       "      <td>525.0</td>\n",
       "      <td>-0.001450</td>\n",
       "      <td>-0.000200</td>\n",
       "      <td>-1.609942</td>\n",
       "      <td>-0.120840</td>\n",
       "      <td>[[1.8595693649908926e-08, -2.722691414035626e-...</td>\n",
       "      <td>-1.942456</td>\n",
       "      <td>-0.563750</td>\n",
       "      <td>0.034069</td>\n",
       "      <td>0.014361</td>\n",
       "      <td>[[0.0003055118416637787, -8.074296974155348e-0...</td>\n",
       "    </tr>\n",
       "    <tr>\n",
       "      <th>4</th>\n",
       "      <td>550.0</td>\n",
       "      <td>-0.008861</td>\n",
       "      <td>0.000457</td>\n",
       "      <td>-1.331849</td>\n",
       "      <td>0.017572</td>\n",
       "      <td>[[8.540584149702393e-06, -1.788994410471359e-0...</td>\n",
       "      <td>-3.188169</td>\n",
       "      <td>-0.112190</td>\n",
       "      <td>0.196675</td>\n",
       "      <td>-0.000802</td>\n",
       "      <td>[[0.007519228487115018, -0.001532517494622713,...</td>\n",
       "    </tr>\n",
       "    <tr>\n",
       "      <th>2</th>\n",
       "      <td>575.0</td>\n",
       "      <td>-0.002350</td>\n",
       "      <td>0.000414</td>\n",
       "      <td>-1.451770</td>\n",
       "      <td>-0.128595</td>\n",
       "      <td>[[5.3389959707970275e-08, -6.069322330222907e-...</td>\n",
       "      <td>-2.568299</td>\n",
       "      <td>-0.417078</td>\n",
       "      <td>0.070645</td>\n",
       "      <td>0.000184</td>\n",
       "      <td>[[0.0006760178350983613, -9.7439017565279e-05,...</td>\n",
       "    </tr>\n",
       "    <tr>\n",
       "      <th>5</th>\n",
       "      <td>600.0</td>\n",
       "      <td>-0.000073</td>\n",
       "      <td>0.000341</td>\n",
       "      <td>-1.374467</td>\n",
       "      <td>0.027061</td>\n",
       "      <td>[[8.137948657002262e-07, -1.643827222676969e-0...</td>\n",
       "      <td>-2.369049</td>\n",
       "      <td>0.147860</td>\n",
       "      <td>0.114479</td>\n",
       "      <td>-0.007247</td>\n",
       "      <td>[[0.00041133672465144084, -6.950711114459888e-...</td>\n",
       "    </tr>\n",
       "    <tr>\n",
       "      <th>3</th>\n",
       "      <td>625.0</td>\n",
       "      <td>-0.001051</td>\n",
       "      <td>0.000855</td>\n",
       "      <td>-2.113991</td>\n",
       "      <td>-0.001185</td>\n",
       "      <td>[[1.830293401357427e-09, -3.512344634530781e-1...</td>\n",
       "      <td>-2.368642</td>\n",
       "      <td>-0.236065</td>\n",
       "      <td>0.098474</td>\n",
       "      <td>0.005269</td>\n",
       "      <td>[[5.273733429573253e-05, -1.0526067930616075e-...</td>\n",
       "    </tr>\n",
       "    <tr>\n",
       "      <th>1</th>\n",
       "      <td>650.0</td>\n",
       "      <td>0.002947</td>\n",
       "      <td>0.000313</td>\n",
       "      <td>-1.770134</td>\n",
       "      <td>-0.006092</td>\n",
       "      <td>[[5.983061443276663e-08, -6.230735345252651e-0...</td>\n",
       "      <td>-0.706177</td>\n",
       "      <td>0.115668</td>\n",
       "      <td>0.167349</td>\n",
       "      <td>-0.005368</td>\n",
       "      <td>[[0.00043047754117786936, -4.535436514732648e-...</td>\n",
       "    </tr>\n",
       "  </tbody>\n",
       "</table>\n",
       "</div>"
      ],
      "text/plain": [
       "    temp  growth.alpha.0  growth.alpha.1  growth.beta.0  growth.beta.1  \\\n",
       "0  525.0       -0.001450       -0.000200      -1.609942      -0.120840   \n",
       "4  550.0       -0.008861        0.000457      -1.331849       0.017572   \n",
       "2  575.0       -0.002350        0.000414      -1.451770      -0.128595   \n",
       "5  600.0       -0.000073        0.000341      -1.374467       0.027061   \n",
       "3  625.0       -0.001051        0.000855      -2.113991      -0.001185   \n",
       "1  650.0        0.002947        0.000313      -1.770134      -0.006092   \n",
       "\n",
       "                                        growth.covar  movement.alpha.0  \\\n",
       "0  [[1.8595693649908926e-08, -2.722691414035626e-...         -1.942456   \n",
       "4  [[8.540584149702393e-06, -1.788994410471359e-0...         -3.188169   \n",
       "2  [[5.3389959707970275e-08, -6.069322330222907e-...         -2.568299   \n",
       "5  [[8.137948657002262e-07, -1.643827222676969e-0...         -2.369049   \n",
       "3  [[1.830293401357427e-09, -3.512344634530781e-1...         -2.368642   \n",
       "1  [[5.983061443276663e-08, -6.230735345252651e-0...         -0.706177   \n",
       "\n",
       "   movement.alpha.1  movement.beta.0  movement.beta.1  \\\n",
       "0         -0.563750         0.034069         0.014361   \n",
       "4         -0.112190         0.196675        -0.000802   \n",
       "2         -0.417078         0.070645         0.000184   \n",
       "5          0.147860         0.114479        -0.007247   \n",
       "3         -0.236065         0.098474         0.005269   \n",
       "1          0.115668         0.167349        -0.005368   \n",
       "\n",
       "                                      movement.covar  \n",
       "0  [[0.0003055118416637787, -8.074296974155348e-0...  \n",
       "4  [[0.007519228487115018, -0.001532517494622713,...  \n",
       "2  [[0.0006760178350983613, -9.7439017565279e-05,...  \n",
       "5  [[0.00041133672465144084, -6.950711114459888e-...  \n",
       "3  [[5.273733429573253e-05, -1.0526067930616075e-...  \n",
       "1  [[0.00043047754117786936, -4.535436514732648e-...  "
      ]
     },
     "execution_count": 4,
     "metadata": {},
     "output_type": "execute_result"
    }
   ],
   "source": [
    "dynamics_terms"
   ]
  },
  {
   "cell_type": "markdown",
   "id": "731b09f7-03cf-4b5b-a6bf-46f7c3165a4b",
   "metadata": {},
   "source": [
    "## Plot the Effect of Temperature on Growth\n",
    "See if there is a consistent trend.\n",
    "\n",
    "Compute the error bar for the growth rate knowing that the terms are additive"
   ]
  },
  {
   "cell_type": "code",
   "execution_count": 5,
   "id": "ee74167c-3f09-4863-bbab-acd870524bc4",
   "metadata": {
    "tags": []
   },
   "outputs": [
    {
     "data": {
      "image/png": "[encoded data removed]",
      "text/plain": [
       "<Figure size 350x200 with 1 Axes>"
      ]
     },
     "metadata": {},
     "output_type": "display_data"
    }
   ],
   "source": [
    "fig, ax = plt.subplots(figsize=(3.5, 2.))\n",
    "\n",
    "for r, m in zip([4, 6, 8], 'ovs'):\n",
    "    y = dynamics_terms['growth.alpha.0'] + r * dynamics_terms['growth.alpha.1']\n",
    "    yerr = np.sqrt(\n",
    "        dynamics_terms['growth.covar'].apply(lambda x: x[0, 0]) + \n",
    "        dynamics_terms['growth.covar'].apply(lambda x: x[1, 1]) * r ** 2 +\n",
    "        2 * r * dynamics_terms['growth.covar'].apply(lambda x: x[0, 1])\n",
    "    )\n",
    "    \n",
    "    ax.errorbar(dynamics_terms['temp'],\n",
    "                y=y * 1e3, yerr=yerr * 1e3,\n",
    "               fmt=f'--{m}', label=f'r={r} nm')\n",
    "\n",
    "ax.text(0, 0.9, '(c)', transform=ax.transAxes, fontsize=10)\n",
    "ax.set_xlabel('T ($\\\\degree$C)')\n",
    "ax.set_ylabel('Growth Rate\\n($10^{-3}$ nm/s)')\n",
    "ax.legend()\n",
    "#ax.set_ylim(-0.02, 0.02)\n",
    "\n",
    "fig.tight_layout()\n",
    "fig.savefig('figures/growth-vs-temperature.png', dpi=320)"
   ]
  },
  {
   "cell_type": "markdown",
   "id": "5e91b09f-a016-4417-975c-85e66ab15c13",
   "metadata": {},
   "source": [
    "Notes:\n",
    "- We are less confident in the 525C voids because they are in a different imaging mode. Mention that in the report"
   ]
  },
  {
   "cell_type": "markdown",
   "id": "d787aae4-45f9-434d-b751-848ec968460f",
   "metadata": {},
   "source": [
    "## Plot effect on Critical Radius\n",
    "The critical radius is where the growth rate is zero\n",
    "\n",
    "$r_{crit} = - \\alpha_0 / \\alpha_1$\n",
    "\n",
    "We can express the variance of this term as: \n",
    "\n",
    "$\\sigma_{r_{crit}}^2 = \\left(\\frac{\\alpha_0}{\\alpha_1}\\right)^2 \\left[ \n",
    "   \\left(\\frac{\\sigma_{\\alpha_0}}{\\alpha_0} \\right) ^ 2 +\n",
    "   \\left(\\frac{\\sigma_{\\alpha_1}}{\\alpha_1} \\right) ^ 2 -\n",
    "   2 \\frac{\\sigma_{\\alpha_0\\alpha_1}}{\\alpha_0\\alpha_1}\n",
    "\\right]$\n",
    "\n",
    "through [propogation of uncertainty](https://en.wikipedia.org/wiki/Propagation_of_uncertainty#Example_formulae)"
   ]
  },
  {
   "cell_type": "code",
   "execution_count": 6,
   "id": "e81786cb-b6db-4c83-824f-8572c792cd91",
   "metadata": {},
   "outputs": [],
   "source": [
    "dynamics_terms['radius_crit'] = -dynamics_terms['growth.alpha.0'] / dynamics_terms['growth.alpha.1']"
   ]
  },
  {
   "cell_type": "code",
   "execution_count": 7,
   "id": "1cffd741-e7e2-4af7-b2fa-dc7d2baa4aa7",
   "metadata": {
    "tags": []
   },
   "outputs": [],
   "source": [
    "dynamics_terms['radius_crit-std'] = dynamics_terms['radius_crit'] ** 2 * (\n",
    "    dynamics_terms['growth.covar'].apply(lambda x: x[0, 0]) / dynamics_terms['growth.alpha.0'] ** 2 +\n",
    "    dynamics_terms['growth.covar'].apply(lambda x: x[1, 1]) / dynamics_terms['growth.alpha.1'] ** 2 -\n",
    "    2 * dynamics_terms['growth.covar'].apply(lambda x: x[0, 1]) / dynamics_terms['growth.alpha.1'] / dynamics_terms['growth.alpha.0']\n",
    ")\n",
    "dynamics_terms['radius_crit-std'] = np.sqrt(dynamics_terms['radius_crit-std'])"
   ]
  },
  {
   "cell_type": "code",
   "execution_count": 8,
   "id": "44747a17-2c69-41dd-aa44-6740193c5f24",
   "metadata": {
    "tags": []
   },
   "outputs": [
    {
     "data": {
      "image/png": "[encoded data removed]",
      "text/plain": [
       "<Figure size 350x200 with 1 Axes>"
      ]
     },
     "metadata": {},
     "output_type": "display_data"
    }
   ],
   "source": [
    "fig, ax = plt.subplots(figsize=(3.5, 2.))\n",
    "\n",
    "ax.errorbar(dynamics_terms['temp'],\n",
    "            y=dynamics_terms['radius_crit'],\n",
    "            yerr=dynamics_terms['radius_crit-std'], \n",
    "            fmt=f'--{m}', label=f'r={r} nm')\n",
    "\n",
    "ax.set_xlim(ax.get_xlim())\n",
    "ax.plot(ax.get_xlim(), [0, 0], 'k--', lw=1)\n",
    "\n",
    "ax.set_ylim(-12, 25)\n",
    "ax.set_xlabel('T ($\\\\degree$C)')\n",
    "ax.set_ylabel('Critical Radius (nm)')\n",
    "\n",
    "fig.tight_layout()\n",
    "fig.savefig('figures/critical-radius-vs-temperature.png', dpi=320)"
   ]
  },
  {
   "cell_type": "markdown",
   "id": "1d5cbdf2-b5fb-43d0-87d4-a24b0af1965a",
   "metadata": {},
   "source": [
    "I wonder what a negative critical radius means? All voids will grow continually? "
   ]
  },
  {
   "cell_type": "code",
   "execution_count": null,
   "id": "6594d009-bd4b-4a37-a0d7-c38731537a0c",
   "metadata": {},
   "outputs": [],
   "source": []
  }
 ],
 "metadata": {
  "kernelspec": {
   "display_name": "Python 3 (ipykernel)",
   "language": "python",
   "name": "python3"
  },
  "language_info": {
   "codemirror_mode": {
    "name": "ipython",
    "version": 3
   },
   "file_extension": ".py",
   "mimetype": "text/x-python",
   "name": "python",
   "nbconvert_exporter": "python",
   "pygments_lexer": "ipython3",
   "version": "3.10.12"
  }
 },
 "nbformat": 4,
 "nbformat_minor": 5
}

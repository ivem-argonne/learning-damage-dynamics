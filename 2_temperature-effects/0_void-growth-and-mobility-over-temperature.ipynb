{
 "cells": [
  {
   "cell_type": "markdown",
   "id": "0d848d0d-c59d-4516-a7c7-181edc575cec",
   "metadata": {},
   "source": [
    "# Evaluate the Effect of Temperature\n",
    "See how the void growth rates and mobility terms change as a function of temperature"
   ]
  },
  {
   "cell_type": "code",
   "execution_count": 1,
   "id": "d35e1b73-c8fe-45ce-9d43-2db0b0202642",
   "metadata": {
    "tags": []
   },
   "outputs": [],
   "source": [
    "%matplotlib inline\n",
    "from matplotlib import pyplot as plt\n",
    "from pathlib import Path\n",
    "import pandas as pd\n",
    "import numpy as np\n",
    "import json"
   ]
  },
  {
   "cell_type": "markdown",
   "id": "d9b4d0d2-c6f9-4bea-a393-3e67c0db9444",
   "metadata": {},
   "source": [
    "## Load Results\n",
    "Each of the result folders in [the void tracking directory](../1_void-tracking) are named after the temperature and contain a file which contains the void growth and mobility functions."
   ]
  },
  {
   "cell_type": "code",
   "execution_count": 2,
   "id": "a34cb7d3-1d53-48ff-a1d5-a34676fe731e",
   "metadata": {
    "tags": []
   },
   "outputs": [],
   "source": [
    "dynamics_terms = []\n",
    "for path in Path('../1_void-tracking/output/').glob('8bitTIFF-*/model-parameters.json'):\n",
    "    # Get the temperature\n",
    "    temperature = float(path.parent.name.split(\"-\")[-1][:-1])  # Directories are named [...]-[temp]C\n",
    "    terms = {'temp': temperature}\n",
    "    \n",
    "    # Load the model parameters\n",
    "    params = json.loads(path.read_text())\n",
    "    for key, p in params.items():\n",
    "        # The terms are always in the same order.\n",
    "        \n",
    "        for name, v in zip(['alpha.0', 'alpha.1', 'beta.0', 'beta.1'], p):\n",
    "            terms[f'{key}.{name}'] = v\n",
    "    \n",
    "    dynamics_terms.append(terms)\n",
    "dynamics_terms = pd.DataFrame(dynamics_terms).sort_values('temp')"
   ]
  },
  {
   "cell_type": "code",
   "execution_count": 3,
   "id": "5afbf5dc-6fc1-4e16-9aba-b5500ad72433",
   "metadata": {
    "tags": []
   },
   "outputs": [
    {
     "data": {
      "text/html": [
       "<div>\n",
       "<style scoped>\n",
       "    .dataframe tbody tr th:only-of-type {\n",
       "        vertical-align: middle;\n",
       "    }\n",
       "\n",
       "    .dataframe tbody tr th {\n",
       "        vertical-align: top;\n",
       "    }\n",
       "\n",
       "    .dataframe thead th {\n",
       "        text-align: right;\n",
       "    }\n",
       "</style>\n",
       "<table border=\"1\" class=\"dataframe\">\n",
       "  <thead>\n",
       "    <tr style=\"text-align: right;\">\n",
       "      <th></th>\n",
       "      <th>temp</th>\n",
       "      <th>growth.alpha.0</th>\n",
       "      <th>growth.alpha.1</th>\n",
       "      <th>growth.beta.0</th>\n",
       "      <th>growth.beta.1</th>\n",
       "      <th>movement.alpha.0</th>\n",
       "      <th>movement.alpha.1</th>\n",
       "      <th>movement.beta.0</th>\n",
       "      <th>movement.beta.1</th>\n",
       "    </tr>\n",
       "  </thead>\n",
       "  <tbody>\n",
       "    <tr>\n",
       "      <th>0</th>\n",
       "      <td>525.0</td>\n",
       "      <td>-0.001451</td>\n",
       "      <td>-0.000199</td>\n",
       "      <td>-1.609859</td>\n",
       "      <td>-0.120881</td>\n",
       "      <td>-1.942521</td>\n",
       "      <td>-0.563746</td>\n",
       "      <td>0.034157</td>\n",
       "      <td>0.014339</td>\n",
       "    </tr>\n",
       "    <tr>\n",
       "      <th>4</th>\n",
       "      <td>550.0</td>\n",
       "      <td>-0.008871</td>\n",
       "      <td>0.000456</td>\n",
       "      <td>-1.331562</td>\n",
       "      <td>0.017431</td>\n",
       "      <td>-3.188518</td>\n",
       "      <td>-0.111996</td>\n",
       "      <td>0.196401</td>\n",
       "      <td>-0.000773</td>\n",
       "    </tr>\n",
       "    <tr>\n",
       "      <th>2</th>\n",
       "      <td>575.0</td>\n",
       "      <td>-0.002343</td>\n",
       "      <td>0.000413</td>\n",
       "      <td>-1.451983</td>\n",
       "      <td>-0.128573</td>\n",
       "      <td>-2.568087</td>\n",
       "      <td>-0.417081</td>\n",
       "      <td>0.070419</td>\n",
       "      <td>0.000197</td>\n",
       "    </tr>\n",
       "    <tr>\n",
       "      <th>5</th>\n",
       "      <td>600.0</td>\n",
       "      <td>-0.000066</td>\n",
       "      <td>0.000339</td>\n",
       "      <td>-1.374503</td>\n",
       "      <td>0.027051</td>\n",
       "      <td>-2.369227</td>\n",
       "      <td>0.147857</td>\n",
       "      <td>0.114603</td>\n",
       "      <td>-0.007281</td>\n",
       "    </tr>\n",
       "    <tr>\n",
       "      <th>3</th>\n",
       "      <td>625.0</td>\n",
       "      <td>-0.001052</td>\n",
       "      <td>0.000855</td>\n",
       "      <td>-2.114024</td>\n",
       "      <td>-0.001187</td>\n",
       "      <td>-2.368772</td>\n",
       "      <td>-0.236007</td>\n",
       "      <td>0.098535</td>\n",
       "      <td>0.005250</td>\n",
       "    </tr>\n",
       "    <tr>\n",
       "      <th>1</th>\n",
       "      <td>650.0</td>\n",
       "      <td>0.002947</td>\n",
       "      <td>0.000313</td>\n",
       "      <td>-1.770272</td>\n",
       "      <td>-0.006084</td>\n",
       "      <td>-0.706032</td>\n",
       "      <td>0.115638</td>\n",
       "      <td>0.167351</td>\n",
       "      <td>-0.005371</td>\n",
       "    </tr>\n",
       "  </tbody>\n",
       "</table>\n",
       "</div>"
      ],
      "text/plain": [
       "    temp  growth.alpha.0  growth.alpha.1  growth.beta.0  growth.beta.1  \\\n",
       "0  525.0       -0.001451       -0.000199      -1.609859      -0.120881   \n",
       "4  550.0       -0.008871        0.000456      -1.331562       0.017431   \n",
       "2  575.0       -0.002343        0.000413      -1.451983      -0.128573   \n",
       "5  600.0       -0.000066        0.000339      -1.374503       0.027051   \n",
       "3  625.0       -0.001052        0.000855      -2.114024      -0.001187   \n",
       "1  650.0        0.002947        0.000313      -1.770272      -0.006084   \n",
       "\n",
       "   movement.alpha.0  movement.alpha.1  movement.beta.0  movement.beta.1  \n",
       "0         -1.942521         -0.563746         0.034157         0.014339  \n",
       "4         -3.188518         -0.111996         0.196401        -0.000773  \n",
       "2         -2.568087         -0.417081         0.070419         0.000197  \n",
       "5         -2.369227          0.147857         0.114603        -0.007281  \n",
       "3         -2.368772         -0.236007         0.098535         0.005250  \n",
       "1         -0.706032          0.115638         0.167351        -0.005371  "
      ]
     },
     "execution_count": 3,
     "metadata": {},
     "output_type": "execute_result"
    }
   ],
   "source": [
    "dynamics_terms"
   ]
  },
  {
   "cell_type": "markdown",
   "id": "731b09f7-03cf-4b5b-a6bf-46f7c3165a4b",
   "metadata": {},
   "source": [
    "## Plot the Effect of Temperature on Growth\n",
    "See if there is a consistent trend"
   ]
  },
  {
   "cell_type": "code",
   "execution_count": 4,
   "id": "ee74167c-3f09-4863-bbab-acd870524bc4",
   "metadata": {
    "tags": []
   },
   "outputs": [
    {
     "data": {
      "image/png": "[encoded data removed]",
      "text/plain": [
       "<Figure size 350x200 with 1 Axes>"
      ]
     },
     "metadata": {},
     "output_type": "display_data"
    }
   ],
   "source": [
    "fig, ax = plt.subplots(figsize=(3.5, 2.))\n",
    "\n",
    "for r, m in zip([4, 6, 8], 'ovs'):\n",
    "    ax.errorbar(dynamics_terms['temp'],\n",
    "                y=(dynamics_terms['growth.alpha.0'] + r * dynamics_terms['growth.alpha.1']) * 1e3,\n",
    "                #yerr=np.power(10, dynamics_terms['growth.beta.0'] + r * dynamics_terms['growth.beta.1']), \n",
    "               fmt=f'--{m}', label=f'r={r} nm')\n",
    "\n",
    "ax.text(0, 0.9, '(c)', transform=ax.transAxes, fontsize=10)\n",
    "ax.set_xlabel('T ($\\\\degree$C)')\n",
    "ax.set_ylabel('Growth Rate\\n($10^{-3}$ nm/s)')\n",
    "ax.legend()\n",
    "#ax.set_ylim(-0.02, 0.02)\n",
    "\n",
    "fig.tight_layout()\n",
    "fig.savefig('figures/growth-vs-temperature.png', dpi=320)"
   ]
  },
  {
   "cell_type": "markdown",
   "id": "5e91b09f-a016-4417-975c-85e66ab15c13",
   "metadata": {},
   "source": [
    "Notes:\n",
    "- We are less confident in the 525C voids because they are in a different imaging mode. Mention that in the report"
   ]
  },
  {
   "cell_type": "code",
   "execution_count": null,
   "id": "e81786cb-b6db-4c83-824f-8572c792cd91",
   "metadata": {},
   "outputs": [],
   "source": []
  }
 ],
 "metadata": {
  "kernelspec": {
   "display_name": "Python 3 (ipykernel)",
   "language": "python",
   "name": "python3"
  },
  "language_info": {
   "codemirror_mode": {
    "name": "ipython",
    "version": 3
   },
   "file_extension": ".py",
   "mimetype": "text/x-python",
   "name": "python",
   "nbconvert_exporter": "python",
   "pygments_lexer": "ipython3",
   "version": "3.10.12"
  }
 },
 "nbformat": 4,
 "nbformat_minor": 5
}

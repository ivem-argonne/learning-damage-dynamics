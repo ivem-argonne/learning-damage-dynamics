{
 "cells": [
  {
   "cell_type": "markdown",
   "id": "3528046f-d713-4218-bb37-e7ae3a10f00e",
   "metadata": {},
   "source": [
    "# Explore Nucleation Rates\n",
    "See how nucleation rates change as a function of temperature."
   ]
  },
  {
   "cell_type": "code",
   "execution_count": 1,
   "id": "c89d2ea7-091e-4c5a-af41-ef16eaae93dd",
   "metadata": {
    "tags": []
   },
   "outputs": [],
   "source": [
    "%matplotlib inline\n",
    "from matplotlib import pyplot as plt\n",
    "from pathlib import Path\n",
    "import pandas as pd\n",
    "import numpy as np\n",
    "import json"
   ]
  },
  {
   "cell_type": "markdown",
   "id": "a718e020-cdff-443a-aa22-e70d9fc7ab37",
   "metadata": {},
   "source": [
    "## Load Results\n",
    "Each of the result folders in [the void tracking directory](../1_void-tracking) are named after the temperature and contain a file which contains the void growth and mobility functions."
   ]
  },
  {
   "cell_type": "code",
   "execution_count": 2,
   "id": "da29c72f-0a0f-4990-9f06-dbbeee017f7a",
   "metadata": {
    "tags": []
   },
   "outputs": [],
   "source": [
    "dynamics_terms = []\n",
    "for path in Path('../1_void-tracking/output/').glob('8bitTIFF-*/rate-parameters-bayesian.json'):\n",
    "    # Get the temperature\n",
    "    temperature = float(path.parent.name.split(\"-\")[-1][:-1])  # Directories are named [...]-[temp]C\n",
    "    terms = {'temp': temperature}\n",
    "    \n",
    "    # Load the model parameters\n",
    "    params = json.loads(path.read_text())\n",
    "    \n",
    "    # Make means their own columns\n",
    "    terms.update(dict(zip(params['order'], params['mean'])))\n",
    "    \n",
    "    # Store the covariance, but also put in the standard deviations\n",
    "    terms.update(dict(zip(\n",
    "        [x + \"-std\" for x in params['order']], \n",
    "        np.sqrt(np.diag(params['covariance']))\n",
    "    )))\n",
    "    terms['covariance'] = params['covariance']\n",
    "    \n",
    "    dynamics_terms.append(terms)\n",
    "dynamics_terms = pd.DataFrame(dynamics_terms).sort_values('temp')"
   ]
  },
  {
   "cell_type": "code",
   "execution_count": 3,
   "id": "c4512931-4a9e-446b-a1b6-93c4b51e9662",
   "metadata": {},
   "outputs": [
    {
     "data": {
      "text/html": [
       "<div>\n",
       "<style scoped>\n",
       "    .dataframe tbody tr th:only-of-type {\n",
       "        vertical-align: middle;\n",
       "    }\n",
       "\n",
       "    .dataframe tbody tr th {\n",
       "        vertical-align: top;\n",
       "    }\n",
       "\n",
       "    .dataframe thead th {\n",
       "        text-align: right;\n",
       "    }\n",
       "</style>\n",
       "<table border=\"1\" class=\"dataframe\">\n",
       "  <thead>\n",
       "    <tr style=\"text-align: right;\">\n",
       "      <th></th>\n",
       "      <th>temp</th>\n",
       "      <th>nucleation_rate</th>\n",
       "      <th>dissolution_prob</th>\n",
       "      <th>nucleation_rate-std</th>\n",
       "      <th>dissolution_prob-std</th>\n",
       "      <th>covariance</th>\n",
       "    </tr>\n",
       "  </thead>\n",
       "  <tbody>\n",
       "    <tr>\n",
       "      <th>0</th>\n",
       "      <td>525.0</td>\n",
       "      <td>0.764171</td>\n",
       "      <td>0.031653</td>\n",
       "      <td>0.030801</td>\n",
       "      <td>0.001232</td>\n",
       "      <td>[[0.000948701162390158, -3.125424056844795e-07...</td>\n",
       "    </tr>\n",
       "    <tr>\n",
       "      <th>4</th>\n",
       "      <td>550.0</td>\n",
       "      <td>0.065982</td>\n",
       "      <td>0.020038</td>\n",
       "      <td>0.008767</td>\n",
       "      <td>0.002595</td>\n",
       "      <td>[[7.68645380479902e-05, 1.7143289239841637e-08...</td>\n",
       "    </tr>\n",
       "    <tr>\n",
       "      <th>2</th>\n",
       "      <td>575.0</td>\n",
       "      <td>0.405927</td>\n",
       "      <td>0.039527</td>\n",
       "      <td>0.021708</td>\n",
       "      <td>0.002059</td>\n",
       "      <td>[[0.0004712314509723412, 1.3156616172917435e-0...</td>\n",
       "    </tr>\n",
       "    <tr>\n",
       "      <th>5</th>\n",
       "      <td>600.0</td>\n",
       "      <td>0.218790</td>\n",
       "      <td>0.014714</td>\n",
       "      <td>0.015350</td>\n",
       "      <td>0.001040</td>\n",
       "      <td>[[0.00023562807987110733, 9.819123752725069e-0...</td>\n",
       "    </tr>\n",
       "    <tr>\n",
       "      <th>3</th>\n",
       "      <td>625.0</td>\n",
       "      <td>0.965483</td>\n",
       "      <td>0.018284</td>\n",
       "      <td>0.034044</td>\n",
       "      <td>0.000644</td>\n",
       "      <td>[[0.001159025074778016, -1.9346499907902673e-0...</td>\n",
       "    </tr>\n",
       "    <tr>\n",
       "      <th>1</th>\n",
       "      <td>650.0</td>\n",
       "      <td>0.199823</td>\n",
       "      <td>0.027774</td>\n",
       "      <td>0.013290</td>\n",
       "      <td>0.001818</td>\n",
       "      <td>[[0.00017661472782903032, 3.377439166953053e-0...</td>\n",
       "    </tr>\n",
       "  </tbody>\n",
       "</table>\n",
       "</div>"
      ],
      "text/plain": [
       "    temp  nucleation_rate  dissolution_prob  nucleation_rate-std  \\\n",
       "0  525.0         0.764171          0.031653             0.030801   \n",
       "4  550.0         0.065982          0.020038             0.008767   \n",
       "2  575.0         0.405927          0.039527             0.021708   \n",
       "5  600.0         0.218790          0.014714             0.015350   \n",
       "3  625.0         0.965483          0.018284             0.034044   \n",
       "1  650.0         0.199823          0.027774             0.013290   \n",
       "\n",
       "   dissolution_prob-std                                         covariance  \n",
       "0              0.001232  [[0.000948701162390158, -3.125424056844795e-07...  \n",
       "4              0.002595  [[7.68645380479902e-05, 1.7143289239841637e-08...  \n",
       "2              0.002059  [[0.0004712314509723412, 1.3156616172917435e-0...  \n",
       "5              0.001040  [[0.00023562807987110733, 9.819123752725069e-0...  \n",
       "3              0.000644  [[0.001159025074778016, -1.9346499907902673e-0...  \n",
       "1              0.001818  [[0.00017661472782903032, 3.377439166953053e-0...  "
      ]
     },
     "execution_count": 3,
     "metadata": {},
     "output_type": "execute_result"
    }
   ],
   "source": [
    "dynamics_terms"
   ]
  },
  {
   "cell_type": "markdown",
   "id": "da734dc9-3d73-4d80-b10c-0f22a12701c8",
   "metadata": {},
   "source": [
    "## Plot the Effect of Temperature on Growth\n",
    "See if there is a consistent trend"
   ]
  },
  {
   "cell_type": "code",
   "execution_count": 4,
   "id": "88697b94-fc73-4e63-a236-64b2c4439323",
   "metadata": {
    "tags": []
   },
   "outputs": [
    {
     "data": {
      "image/png": "[encoded data removed]",
      "text/plain": [
       "<Figure size 350x200 with 2 Axes>"
      ]
     },
     "metadata": {},
     "output_type": "display_data"
    }
   ],
   "source": [
    "fig, ax = plt.subplots(figsize=(3.5, 2.))\n",
    "\n",
    "ax.errorbar(dynamics_terms['temp'], dynamics_terms['nucleation_rate'], yerr=dynamics_terms['nucleation_rate-std'], color='blue', fmt='<', ms=4)\n",
    "\n",
    "ax2 = ax.twinx()\n",
    "ax2.errorbar(dynamics_terms['temp'], dynamics_terms['dissolution_prob'], yerr=dynamics_terms['dissolution_prob-std'], color='red', fmt='>', ms=4)\n",
    "\n",
    "ax.set_xlabel('T ($\\\\degree$C)')\n",
    "ax.set_ylabel('Nucleation Rate (1/s)', color='blue')\n",
    "ax2.set_ylabel('Dissolution Prob (%)', color='red')\n",
    "\n",
    "\n",
    "fig.tight_layout()\n",
    "fig.savefig('figures/nucleation-vs-temperature.png', dpi=320)"
   ]
  },
  {
   "cell_type": "code",
   "execution_count": null,
   "id": "afb1e687-8846-409c-9b27-8502564004c9",
   "metadata": {},
   "outputs": [],
   "source": []
  }
 ],
 "metadata": {
  "kernelspec": {
   "display_name": "Python 3 (ipykernel)",
   "language": "python",
   "name": "python3"
  },
  "language_info": {
   "codemirror_mode": {
    "name": "ipython",
    "version": 3
   },
   "file_extension": ".py",
   "mimetype": "text/x-python",
   "name": "python",
   "nbconvert_exporter": "python",
   "pygments_lexer": "ipython3",
   "version": "3.10.12"
  }
 },
 "nbformat": 4,
 "nbformat_minor": 5
}

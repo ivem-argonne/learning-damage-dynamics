{
 "cells": [
  {
   "cell_type": "markdown",
   "id": "0d848d0d-c59d-4516-a7c7-181edc575cec",
   "metadata": {},
   "source": [
    "# Evaluate the Effect of Temperature\n",
    "See how the void growth rates and mobility terms change as a function of temperature"
   ]
  },
  {
   "cell_type": "code",
   "execution_count": 1,
   "id": "d35e1b73-c8fe-45ce-9d43-2db0b0202642",
   "metadata": {
    "tags": []
   },
   "outputs": [],
   "source": [
    "%matplotlib inline\n",
    "from matplotlib import pyplot as plt\n",
    "from pathlib import Path\n",
    "import pandas as pd\n",
    "import numpy as np\n",
    "import json"
   ]
  },
  {
   "cell_type": "markdown",
   "id": "d9b4d0d2-c6f9-4bea-a393-3e67c0db9444",
   "metadata": {},
   "source": [
    "## Load Results\n",
    "Each of the result folders in [the void tracking directory](../1_void-tracking) are named after the temperature and contain a file which contains the void growth and mobility functions."
   ]
  },
  {
   "cell_type": "code",
   "execution_count": 2,
   "id": "4c8a315f-6a3f-4589-9d76-35eb58e64fdc",
   "metadata": {
    "tags": []
   },
   "outputs": [],
   "source": [
    "param_order = ['alpha.0', 'alpha.1', 'beta.0', 'beta.1']  # The terms are always in the same order."
   ]
  },
  {
   "cell_type": "code",
   "execution_count": 3,
   "id": "a34cb7d3-1d53-48ff-a1d5-a34676fe731e",
   "metadata": {
    "tags": []
   },
   "outputs": [],
   "source": [
    "dynamics_terms = []\n",
    "for path in Path('../1_void-tracking/output/').glob('8bitTIFF-*/growth-parameters-bayesian.json'):\n",
    "    # Get the temperature\n",
    "    temperature = float(path.parent.name.split(\"-\")[-1][:-1])  # Directories are named [...]-[temp]C\n",
    "    terms = {'temp': temperature}\n",
    "    \n",
    "    # Load the model parameters\n",
    "    params = json.loads(path.read_text())\n",
    "    for key, p in params.items():\n",
    "        p = p['linear']  # Assume a linear model\n",
    "        for name, v in zip(param_order, p['mean']):\n",
    "            terms[f'{key}.{name}'] = v\n",
    "        terms[f'{key}.covar'] = np.array(p['covar'])\n",
    "    \n",
    "    dynamics_terms.append(terms)\n",
    "dynamics_terms = pd.DataFrame(dynamics_terms).sort_values('temp')"
   ]
  },
  {
   "cell_type": "code",
   "execution_count": 4,
   "id": "5afbf5dc-6fc1-4e16-9aba-b5500ad72433",
   "metadata": {
    "tags": []
   },
   "outputs": [
    {
     "data": {
      "text/html": [
       "<div>\n",
       "<style scoped>\n",
       "    .dataframe tbody tr th:only-of-type {\n",
       "        vertical-align: middle;\n",
       "    }\n",
       "\n",
       "    .dataframe tbody tr th {\n",
       "        vertical-align: top;\n",
       "    }\n",
       "\n",
       "    .dataframe thead th {\n",
       "        text-align: right;\n",
       "    }\n",
       "</style>\n",
       "<table border=\"1\" class=\"dataframe\">\n",
       "  <thead>\n",
       "    <tr style=\"text-align: right;\">\n",
       "      <th></th>\n",
       "      <th>temp</th>\n",
       "      <th>growth.alpha.0</th>\n",
       "      <th>growth.alpha.1</th>\n",
       "      <th>growth.beta.0</th>\n",
       "      <th>growth.beta.1</th>\n",
       "      <th>growth.covar</th>\n",
       "      <th>movement.alpha.0</th>\n",
       "      <th>movement.alpha.1</th>\n",
       "      <th>movement.beta.0</th>\n",
       "      <th>movement.beta.1</th>\n",
       "      <th>movement.covar</th>\n",
       "    </tr>\n",
       "  </thead>\n",
       "  <tbody>\n",
       "    <tr>\n",
       "      <th>0</th>\n",
       "      <td>525.0</td>\n",
       "      <td>-0.005787</td>\n",
       "      <td>0.000388</td>\n",
       "      <td>-1.428440</td>\n",
       "      <td>-0.157653</td>\n",
       "      <td>[[3.567481440507941e-08, -4.822891387106161e-0...</td>\n",
       "      <td>-2.405096</td>\n",
       "      <td>-0.561664</td>\n",
       "      <td>0.020404</td>\n",
       "      <td>-0.010978</td>\n",
       "      <td>[[0.000302195089709248, -6.086894596704653e-05...</td>\n",
       "    </tr>\n",
       "    <tr>\n",
       "      <th>4</th>\n",
       "      <td>550.0</td>\n",
       "      <td>-0.018984</td>\n",
       "      <td>0.001370</td>\n",
       "      <td>-1.820126</td>\n",
       "      <td>0.046372</td>\n",
       "      <td>[[3.223631553313064e-06, -6.521404900678392e-0...</td>\n",
       "      <td>-3.530104</td>\n",
       "      <td>-0.084328</td>\n",
       "      <td>0.185356</td>\n",
       "      <td>-0.008228</td>\n",
       "      <td>[[0.011004862193631221, -0.0020055529071283515...</td>\n",
       "    </tr>\n",
       "    <tr>\n",
       "      <th>2</th>\n",
       "      <td>575.0</td>\n",
       "      <td>-0.002631</td>\n",
       "      <td>0.000467</td>\n",
       "      <td>-1.585036</td>\n",
       "      <td>-0.106996</td>\n",
       "      <td>[[6.927234472393811e-08, -7.962041381538618e-0...</td>\n",
       "      <td>-4.260977</td>\n",
       "      <td>-0.224251</td>\n",
       "      <td>0.016449</td>\n",
       "      <td>-0.011277</td>\n",
       "      <td>[[0.0012008182222047162, -0.000159615769476777...</td>\n",
       "    </tr>\n",
       "    <tr>\n",
       "      <th>5</th>\n",
       "      <td>600.0</td>\n",
       "      <td>-0.001932</td>\n",
       "      <td>0.000516</td>\n",
       "      <td>-1.533288</td>\n",
       "      <td>-0.019177</td>\n",
       "      <td>[[2.474767403286702e-07, -3.751803331916117e-0...</td>\n",
       "      <td>-3.650961</td>\n",
       "      <td>-0.131864</td>\n",
       "      <td>0.001089</td>\n",
       "      <td>0.011827</td>\n",
       "      <td>[[0.0005704035400184669, -9.778427674972505e-0...</td>\n",
       "    </tr>\n",
       "    <tr>\n",
       "      <th>3</th>\n",
       "      <td>625.0</td>\n",
       "      <td>0.000671</td>\n",
       "      <td>0.000601</td>\n",
       "      <td>-1.998511</td>\n",
       "      <td>-0.038896</td>\n",
       "      <td>[[2.184197713213882e-09, -2.7482233440995134e-...</td>\n",
       "      <td>-3.002192</td>\n",
       "      <td>-0.334247</td>\n",
       "      <td>0.093728</td>\n",
       "      <td>-0.008499</td>\n",
       "      <td>[[5.1325992048121596e-05, -8.270906918043843e-...</td>\n",
       "    </tr>\n",
       "    <tr>\n",
       "      <th>1</th>\n",
       "      <td>650.0</td>\n",
       "      <td>0.009848</td>\n",
       "      <td>-0.000388</td>\n",
       "      <td>-1.839205</td>\n",
       "      <td>-0.032209</td>\n",
       "      <td>[[5.968077225708036e-08, -5.569010817726608e-0...</td>\n",
       "      <td>-3.684684</td>\n",
       "      <td>-0.179452</td>\n",
       "      <td>-0.150814</td>\n",
       "      <td>0.025038</td>\n",
       "      <td>[[0.0005150893880486856, -6.076186522131517e-0...</td>\n",
       "    </tr>\n",
       "  </tbody>\n",
       "</table>\n",
       "</div>"
      ],
      "text/plain": [
       "    temp  growth.alpha.0  growth.alpha.1  growth.beta.0  growth.beta.1  \\\n",
       "0  525.0       -0.005787        0.000388      -1.428440      -0.157653   \n",
       "4  550.0       -0.018984        0.001370      -1.820126       0.046372   \n",
       "2  575.0       -0.002631        0.000467      -1.585036      -0.106996   \n",
       "5  600.0       -0.001932        0.000516      -1.533288      -0.019177   \n",
       "3  625.0        0.000671        0.000601      -1.998511      -0.038896   \n",
       "1  650.0        0.009848       -0.000388      -1.839205      -0.032209   \n",
       "\n",
       "                                        growth.covar  movement.alpha.0  \\\n",
       "0  [[3.567481440507941e-08, -4.822891387106161e-0...         -2.405096   \n",
       "4  [[3.223631553313064e-06, -6.521404900678392e-0...         -3.530104   \n",
       "2  [[6.927234472393811e-08, -7.962041381538618e-0...         -4.260977   \n",
       "5  [[2.474767403286702e-07, -3.751803331916117e-0...         -3.650961   \n",
       "3  [[2.184197713213882e-09, -2.7482233440995134e-...         -3.002192   \n",
       "1  [[5.968077225708036e-08, -5.569010817726608e-0...         -3.684684   \n",
       "\n",
       "   movement.alpha.1  movement.beta.0  movement.beta.1  \\\n",
       "0         -0.561664         0.020404        -0.010978   \n",
       "4         -0.084328         0.185356        -0.008228   \n",
       "2         -0.224251         0.016449        -0.011277   \n",
       "5         -0.131864         0.001089         0.011827   \n",
       "3         -0.334247         0.093728        -0.008499   \n",
       "1         -0.179452        -0.150814         0.025038   \n",
       "\n",
       "                                      movement.covar  \n",
       "0  [[0.000302195089709248, -6.086894596704653e-05...  \n",
       "4  [[0.011004862193631221, -0.0020055529071283515...  \n",
       "2  [[0.0012008182222047162, -0.000159615769476777...  \n",
       "5  [[0.0005704035400184669, -9.778427674972505e-0...  \n",
       "3  [[5.1325992048121596e-05, -8.270906918043843e-...  \n",
       "1  [[0.0005150893880486856, -6.076186522131517e-0...  "
      ]
     },
     "execution_count": 4,
     "metadata": {},
     "output_type": "execute_result"
    }
   ],
   "source": [
    "dynamics_terms"
   ]
  },
  {
   "cell_type": "markdown",
   "id": "731b09f7-03cf-4b5b-a6bf-46f7c3165a4b",
   "metadata": {},
   "source": [
    "## Plot the Effect of Temperature on Growth\n",
    "See if there is a consistent trend.\n",
    "\n",
    "Compute the error bar for the growth rate knowing that the terms are additive"
   ]
  },
  {
   "cell_type": "code",
   "execution_count": 5,
   "id": "ee74167c-3f09-4863-bbab-acd870524bc4",
   "metadata": {
    "tags": []
   },
   "outputs": [
    {
     "data": {
      "image/png": "[encoded data removed]",
      "text/plain": [
       "<Figure size 350x200 with 1 Axes>"
      ]
     },
     "metadata": {},
     "output_type": "display_data"
    }
   ],
   "source": [
    "fig, ax = plt.subplots(figsize=(3.5, 2.))\n",
    "\n",
    "for r, m in zip([4, 6, 8], 'ovs'):\n",
    "    y = dynamics_terms['growth.alpha.0'] + r * dynamics_terms['growth.alpha.1']\n",
    "    yerr = np.sqrt(\n",
    "        dynamics_terms['growth.covar'].apply(lambda x: x[0, 0]) + \n",
    "        dynamics_terms['growth.covar'].apply(lambda x: x[1, 1]) * r ** 2 +\n",
    "        2 * r * dynamics_terms['growth.covar'].apply(lambda x: x[0, 1])\n",
    "    )\n",
    "    \n",
    "    ax.errorbar(dynamics_terms['temp'],\n",
    "                y=y * 1e3, yerr=yerr * 1e3,\n",
    "               fmt=f'--{m}', label=f'r={r} nm')\n",
    "\n",
    "ax.text(0, 0.9, '(c)', transform=ax.transAxes, fontsize=10)\n",
    "ax.set_xlabel('T ($\\\\degree$C)')\n",
    "ax.set_ylabel('Growth Rate\\n($10^{-3}$ nm/s)')\n",
    "ax.legend()\n",
    "#ax.set_ylim(-0.02, 0.02)\n",
    "\n",
    "fig.tight_layout()\n",
    "fig.savefig('figures/growth-vs-temperature.png', dpi=320)"
   ]
  },
  {
   "cell_type": "markdown",
   "id": "5e91b09f-a016-4417-975c-85e66ab15c13",
   "metadata": {},
   "source": [
    "Notes:\n",
    "- We are less confident in the 525C voids because they are in a different imaging mode. Mention that in the report"
   ]
  },
  {
   "cell_type": "markdown",
   "id": "f718589c-f65a-4514-880c-092b960cd336",
   "metadata": {},
   "source": [
    "## Plot effect on Critical Radius\n",
    "The critical radius is where the growth rate is zero"
   ]
  },
  {
   "cell_type": "markdown",
   "id": "fbfbab39-5047-4ceb-8227-ae40976554e0",
   "metadata": {},
   "source": [
    "### Linear Models\n",
    "$r_{crit} = - \\alpha_0 / \\alpha_1$\n",
    "\n",
    "We can express the variance of this term as: \n",
    "\n",
    "$\\sigma_{r_{crit}}^2 = \\left(\\frac{\\alpha_0}{\\alpha_1}\\right)^2 \\left[ \n",
    "   \\left(\\frac{\\sigma_{\\alpha_0}}{\\alpha_0} \\right) ^ 2 +\n",
    "   \\left(\\frac{\\sigma_{\\alpha_1}}{\\alpha_1} \\right) ^ 2 -\n",
    "   2 \\frac{\\sigma_{\\alpha_0\\alpha_1}}{\\alpha_0\\alpha_1}\n",
    "\\right]$\n",
    "\n",
    "through [propogation of uncertainty](https://en.wikipedia.org/wiki/Propagation_of_uncertainty#Example_formulae)"
   ]
  },
  {
   "cell_type": "code",
   "execution_count": 6,
   "id": "e81786cb-b6db-4c83-824f-8572c792cd91",
   "metadata": {},
   "outputs": [],
   "source": [
    "dynamics_terms['radius_crit'] = -dynamics_terms['growth.alpha.0'] / dynamics_terms['growth.alpha.1']"
   ]
  },
  {
   "cell_type": "code",
   "execution_count": 7,
   "id": "1cffd741-e7e2-4af7-b2fa-dc7d2baa4aa7",
   "metadata": {
    "tags": []
   },
   "outputs": [],
   "source": [
    "dynamics_terms['radius_crit-std'] = dynamics_terms['radius_crit'] ** 2 * (\n",
    "    dynamics_terms['growth.covar'].apply(lambda x: x[0, 0]) / dynamics_terms['growth.alpha.0'] ** 2 +\n",
    "    dynamics_terms['growth.covar'].apply(lambda x: x[1, 1]) / dynamics_terms['growth.alpha.1'] ** 2 -\n",
    "    2 * dynamics_terms['growth.covar'].apply(lambda x: x[0, 1]) / dynamics_terms['growth.alpha.1'] / dynamics_terms['growth.alpha.0']\n",
    ")\n",
    "dynamics_terms['radius_crit-std'] = np.sqrt(dynamics_terms['radius_crit-std'])"
   ]
  },
  {
   "cell_type": "code",
   "execution_count": 8,
   "id": "44747a17-2c69-41dd-aa44-6740193c5f24",
   "metadata": {
    "tags": []
   },
   "outputs": [
    {
     "data": {
      "image/png": "[encoded data removed]",
      "text/plain": [
       "<Figure size 350x200 with 1 Axes>"
      ]
     },
     "metadata": {},
     "output_type": "display_data"
    }
   ],
   "source": [
    "fig, ax = plt.subplots(figsize=(3.5, 2.))\n",
    "\n",
    "ax.errorbar(dynamics_terms['temp'],\n",
    "            y=dynamics_terms['radius_crit'],\n",
    "            yerr=dynamics_terms['radius_crit-std'], \n",
    "            fmt=f'--{m}', label=f'r={r} nm')\n",
    "\n",
    "ax.set_xlim(ax.get_xlim())\n",
    "ax.plot(ax.get_xlim(), [0, 0], 'k--', lw=1)\n",
    "\n",
    "ax.set_ylim(-12, 25)\n",
    "ax.set_xlabel('T ($\\\\degree$C)')\n",
    "ax.set_ylabel('Critical Radius (nm)')\n",
    "\n",
    "fig.tight_layout()\n",
    "fig.savefig('figures/critical-radius-vs-temperature.png', dpi=320)"
   ]
  },
  {
   "cell_type": "markdown",
   "id": "1d5cbdf2-b5fb-43d0-87d4-a24b0af1965a",
   "metadata": {},
   "source": [
    "I wonder what a negative critical radius means? All voids will grow continually? "
   ]
  },
  {
   "cell_type": "markdown",
   "id": "f17ebb8e-3437-45f3-b00c-661a236eed24",
   "metadata": {},
   "source": [
    "Notes: At least the range of 550-625 makes sense"
   ]
  },
  {
   "cell_type": "code",
   "execution_count": null,
   "id": "98543da4-347e-4de1-9680-8346026e6d67",
   "metadata": {},
   "outputs": [],
   "source": []
  }
 ],
 "metadata": {
  "kernelspec": {
   "display_name": "Python 3 (ipykernel)",
   "language": "python",
   "name": "python3"
  },
  "language_info": {
   "codemirror_mode": {
    "name": "ipython",
    "version": 3
   },
   "file_extension": ".py",
   "mimetype": "text/x-python",
   "name": "python",
   "nbconvert_exporter": "python",
   "pygments_lexer": "ipython3",
   "version": "3.10.12"
  }
 },
 "nbformat": 4,
 "nbformat_minor": 5
}

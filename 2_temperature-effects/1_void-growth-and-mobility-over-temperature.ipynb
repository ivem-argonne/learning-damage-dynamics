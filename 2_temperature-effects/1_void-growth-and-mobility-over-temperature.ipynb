{
 "cells": [
  {
   "cell_type": "markdown",
   "id": "0d848d0d-c59d-4516-a7c7-181edc575cec",
   "metadata": {},
   "source": [
    "# Evaluate the Effect of Temperature\n",
    "See how the void growth rates and mobility terms change as a function of temperature"
   ]
  },
  {
   "cell_type": "code",
   "execution_count": 1,
   "id": "d35e1b73-c8fe-45ce-9d43-2db0b0202642",
   "metadata": {
    "tags": []
   },
   "outputs": [],
   "source": [
    "%matplotlib inline\n",
    "from matplotlib import pyplot as plt\n",
    "from pathlib import Path\n",
    "import pandas as pd\n",
    "import numpy as np\n",
    "import json"
   ]
  },
  {
   "cell_type": "markdown",
   "id": "d9b4d0d2-c6f9-4bea-a393-3e67c0db9444",
   "metadata": {},
   "source": [
    "## Load Results\n",
    "Each of the result folders in [the void tracking directory](../1_void-tracking) are named after the temperature and contain a file which contains the void growth and mobility functions."
   ]
  },
  {
   "cell_type": "code",
   "execution_count": 2,
   "id": "4c8a315f-6a3f-4589-9d76-35eb58e64fdc",
   "metadata": {
    "tags": []
   },
   "outputs": [],
   "source": [
    "param_order = ['alpha.0', 'alpha.1', 'beta.0', 'beta.1']  # The terms are always in the same order."
   ]
  },
  {
   "cell_type": "code",
   "execution_count": 3,
   "id": "a34cb7d3-1d53-48ff-a1d5-a34676fe731e",
   "metadata": {
    "tags": []
   },
   "outputs": [],
   "source": [
    "dynamics_terms = []\n",
    "for path in Path('../1_void-tracking/output/').glob('8bitTIFF-*/growth-parameters-bayesian.json'):\n",
    "    # Get the temperature\n",
    "    temperature = float(path.parent.name.split(\"-\")[-1][:-1])  # Directories are named [...]-[temp]C\n",
    "    terms = {'temp': temperature}\n",
    "    \n",
    "    # Load the model parameters\n",
    "    params = json.loads(path.read_text())\n",
    "    for key, p in params.items():\n",
    "        p = p['linear']  # Assume a linear model\n",
    "        for name, v in zip(param_order, p['mean']):\n",
    "            terms[f'{key}.{name}'] = v\n",
    "        terms[f'{key}.covar'] = np.array(p['covar'])\n",
    "    \n",
    "    dynamics_terms.append(terms)\n",
    "dynamics_terms = pd.DataFrame(dynamics_terms).sort_values('temp')"
   ]
  },
  {
   "cell_type": "code",
   "execution_count": 4,
   "id": "5afbf5dc-6fc1-4e16-9aba-b5500ad72433",
   "metadata": {
    "tags": []
   },
   "outputs": [
    {
     "data": {
      "text/html": [
       "<div>\n",
       "<style scoped>\n",
       "    .dataframe tbody tr th:only-of-type {\n",
       "        vertical-align: middle;\n",
       "    }\n",
       "\n",
       "    .dataframe tbody tr th {\n",
       "        vertical-align: top;\n",
       "    }\n",
       "\n",
       "    .dataframe thead th {\n",
       "        text-align: right;\n",
       "    }\n",
       "</style>\n",
       "<table border=\"1\" class=\"dataframe\">\n",
       "  <thead>\n",
       "    <tr style=\"text-align: right;\">\n",
       "      <th></th>\n",
       "      <th>temp</th>\n",
       "      <th>growth.alpha.0</th>\n",
       "      <th>growth.alpha.1</th>\n",
       "      <th>growth.beta.0</th>\n",
       "      <th>growth.beta.1</th>\n",
       "      <th>growth.covar</th>\n",
       "      <th>movement.alpha.0</th>\n",
       "      <th>movement.alpha.1</th>\n",
       "      <th>movement.beta.0</th>\n",
       "      <th>movement.beta.1</th>\n",
       "      <th>movement.covar</th>\n",
       "    </tr>\n",
       "  </thead>\n",
       "  <tbody>\n",
       "    <tr>\n",
       "      <th>0</th>\n",
       "      <td>525.0</td>\n",
       "      <td>-0.011557</td>\n",
       "      <td>0.001143</td>\n",
       "      <td>-1.324878</td>\n",
       "      <td>-0.179344</td>\n",
       "      <td>[[4.8161764081837156e-08, -6.302324349413257e-...</td>\n",
       "      <td>-3.129296</td>\n",
       "      <td>-0.472385</td>\n",
       "      <td>0.010736</td>\n",
       "      <td>-0.028414</td>\n",
       "      <td>[[0.0005363390426832504, -8.948161232052568e-0...</td>\n",
       "    </tr>\n",
       "    <tr>\n",
       "      <th>4</th>\n",
       "      <td>550.0</td>\n",
       "      <td>-0.022258</td>\n",
       "      <td>0.002240</td>\n",
       "      <td>-1.214464</td>\n",
       "      <td>-0.137394</td>\n",
       "      <td>[[1.9134134381731594e-06, -2.946017025995168e-...</td>\n",
       "      <td>-3.140511</td>\n",
       "      <td>0.152452</td>\n",
       "      <td>0.291388</td>\n",
       "      <td>0.006986</td>\n",
       "      <td>[[0.049168670609781674, -0.009072381140225122,...</td>\n",
       "    </tr>\n",
       "    <tr>\n",
       "      <th>2</th>\n",
       "      <td>575.0</td>\n",
       "      <td>-0.001972</td>\n",
       "      <td>0.000388</td>\n",
       "      <td>-1.287720</td>\n",
       "      <td>-0.148187</td>\n",
       "      <td>[[9.92291592452653e-08, -1.1115566817462613e-0...</td>\n",
       "      <td>-4.376133</td>\n",
       "      <td>-0.242392</td>\n",
       "      <td>-0.145051</td>\n",
       "      <td>0.013092</td>\n",
       "      <td>[[0.0012552478923037787, -0.000165997214589149...</td>\n",
       "    </tr>\n",
       "    <tr>\n",
       "      <th>5</th>\n",
       "      <td>600.0</td>\n",
       "      <td>0.001668</td>\n",
       "      <td>0.000323</td>\n",
       "      <td>-0.578453</td>\n",
       "      <td>-0.066384</td>\n",
       "      <td>[[1.1975346361058786e-05, -1.4827310397220444e...</td>\n",
       "      <td>-1.853782</td>\n",
       "      <td>-0.114589</td>\n",
       "      <td>0.215395</td>\n",
       "      <td>0.010872</td>\n",
       "      <td>[[0.003258948672497223, -0.0004996011167797161...</td>\n",
       "    </tr>\n",
       "    <tr>\n",
       "      <th>3</th>\n",
       "      <td>625.0</td>\n",
       "      <td>0.004307</td>\n",
       "      <td>0.000186</td>\n",
       "      <td>-1.736480</td>\n",
       "      <td>-0.075090</td>\n",
       "      <td>[[7.343414626138834e-09, -7.373434394053427e-1...</td>\n",
       "      <td>-3.434619</td>\n",
       "      <td>-0.302894</td>\n",
       "      <td>0.049303</td>\n",
       "      <td>-0.005710</td>\n",
       "      <td>[[8.276516162400232e-05, -1.1533670985922519e-...</td>\n",
       "    </tr>\n",
       "    <tr>\n",
       "      <th>1</th>\n",
       "      <td>650.0</td>\n",
       "      <td>0.014822</td>\n",
       "      <td>-0.000788</td>\n",
       "      <td>-1.773001</td>\n",
       "      <td>-0.075690</td>\n",
       "      <td>[[4.0827574305371885e-08, -3.5946248201045516e...</td>\n",
       "      <td>-4.238290</td>\n",
       "      <td>-0.150949</td>\n",
       "      <td>-0.048074</td>\n",
       "      <td>-0.001573</td>\n",
       "      <td>[[0.002078493657036105, -0.0002071492680966665...</td>\n",
       "    </tr>\n",
       "  </tbody>\n",
       "</table>\n",
       "</div>"
      ],
      "text/plain": [
       "    temp  growth.alpha.0  growth.alpha.1  growth.beta.0  growth.beta.1  \\\n",
       "0  525.0       -0.011557        0.001143      -1.324878      -0.179344   \n",
       "4  550.0       -0.022258        0.002240      -1.214464      -0.137394   \n",
       "2  575.0       -0.001972        0.000388      -1.287720      -0.148187   \n",
       "5  600.0        0.001668        0.000323      -0.578453      -0.066384   \n",
       "3  625.0        0.004307        0.000186      -1.736480      -0.075090   \n",
       "1  650.0        0.014822       -0.000788      -1.773001      -0.075690   \n",
       "\n",
       "                                        growth.covar  movement.alpha.0  \\\n",
       "0  [[4.8161764081837156e-08, -6.302324349413257e-...         -3.129296   \n",
       "4  [[1.9134134381731594e-06, -2.946017025995168e-...         -3.140511   \n",
       "2  [[9.92291592452653e-08, -1.1115566817462613e-0...         -4.376133   \n",
       "5  [[1.1975346361058786e-05, -1.4827310397220444e...         -1.853782   \n",
       "3  [[7.343414626138834e-09, -7.373434394053427e-1...         -3.434619   \n",
       "1  [[4.0827574305371885e-08, -3.5946248201045516e...         -4.238290   \n",
       "\n",
       "   movement.alpha.1  movement.beta.0  movement.beta.1  \\\n",
       "0         -0.472385         0.010736        -0.028414   \n",
       "4          0.152452         0.291388         0.006986   \n",
       "2         -0.242392        -0.145051         0.013092   \n",
       "5         -0.114589         0.215395         0.010872   \n",
       "3         -0.302894         0.049303        -0.005710   \n",
       "1         -0.150949        -0.048074        -0.001573   \n",
       "\n",
       "                                      movement.covar  \n",
       "0  [[0.0005363390426832504, -8.948161232052568e-0...  \n",
       "4  [[0.049168670609781674, -0.009072381140225122,...  \n",
       "2  [[0.0012552478923037787, -0.000165997214589149...  \n",
       "5  [[0.003258948672497223, -0.0004996011167797161...  \n",
       "3  [[8.276516162400232e-05, -1.1533670985922519e-...  \n",
       "1  [[0.002078493657036105, -0.0002071492680966665...  "
      ]
     },
     "execution_count": 4,
     "metadata": {},
     "output_type": "execute_result"
    }
   ],
   "source": [
    "dynamics_terms"
   ]
  },
  {
   "cell_type": "markdown",
   "id": "731b09f7-03cf-4b5b-a6bf-46f7c3165a4b",
   "metadata": {},
   "source": [
    "## Plot the Effect of Temperature on Growth\n",
    "See if there is a consistent trend.\n",
    "\n",
    "Compute the error bar for the growth rate knowing that the terms are additive"
   ]
  },
  {
   "cell_type": "code",
   "execution_count": 5,
   "id": "ee74167c-3f09-4863-bbab-acd870524bc4",
   "metadata": {
    "tags": []
   },
   "outputs": [
    {
     "data": {
      "image/png": "[encoded data removed]",
      "text/plain": [
       "<Figure size 350x200 with 1 Axes>"
      ]
     },
     "metadata": {},
     "output_type": "display_data"
    }
   ],
   "source": [
    "fig, ax = plt.subplots(figsize=(3.5, 2.))\n",
    "\n",
    "for r, m in zip([4, 6, 8], 'ovs'):\n",
    "    y = dynamics_terms['growth.alpha.0'] + r * dynamics_terms['growth.alpha.1']\n",
    "    yerr = np.sqrt(\n",
    "        dynamics_terms['growth.covar'].apply(lambda x: x[0, 0]) + \n",
    "        dynamics_terms['growth.covar'].apply(lambda x: x[1, 1]) * r ** 2 +\n",
    "        2 * r * dynamics_terms['growth.covar'].apply(lambda x: x[0, 1])\n",
    "    )\n",
    "    \n",
    "    ax.errorbar(dynamics_terms['temp'],\n",
    "                y=y * 1e3, yerr=yerr * 1e3,\n",
    "               fmt=f'--{m}', label=f'r={r} nm')\n",
    "\n",
    "ax.text(0, 0.9, '(c)', transform=ax.transAxes, fontsize=10)\n",
    "ax.set_xlabel('T ($\\\\degree$C)')\n",
    "ax.set_ylabel('Growth Rate\\n($10^{-3}$ nm/s)')\n",
    "ax.legend()\n",
    "#ax.set_ylim(-0.02, 0.02)\n",
    "\n",
    "fig.tight_layout()\n",
    "fig.savefig('figures/growth-vs-temperature.png', dpi=320)"
   ]
  },
  {
   "cell_type": "markdown",
   "id": "5e91b09f-a016-4417-975c-85e66ab15c13",
   "metadata": {},
   "source": [
    "Notes:\n",
    "- We are less confident in the 525C voids because they are in a different imaging mode. Mention that in the report"
   ]
  },
  {
   "cell_type": "markdown",
   "id": "d787aae4-45f9-434d-b751-848ec968460f",
   "metadata": {},
   "source": [
    "## Plot effect on Critical Radius\n",
    "The critical radius is where the growth rate is zero\n",
    "\n",
    "$r_{crit} = - \\alpha_0 / \\alpha_1$\n",
    "\n",
    "We can express the variance of this term as: \n",
    "\n",
    "$\\sigma_{r_{crit}}^2 = \\left(\\frac{\\alpha_0}{\\alpha_1}\\right)^2 \\left[ \n",
    "   \\left(\\frac{\\sigma_{\\alpha_0}}{\\alpha_0} \\right) ^ 2 +\n",
    "   \\left(\\frac{\\sigma_{\\alpha_1}}{\\alpha_1} \\right) ^ 2 -\n",
    "   2 \\frac{\\sigma_{\\alpha_0\\alpha_1}}{\\alpha_0\\alpha_1}\n",
    "\\right]$\n",
    "\n",
    "through [propogation of uncertainty](https://en.wikipedia.org/wiki/Propagation_of_uncertainty#Example_formulae)"
   ]
  },
  {
   "cell_type": "code",
   "execution_count": 6,
   "id": "e81786cb-b6db-4c83-824f-8572c792cd91",
   "metadata": {},
   "outputs": [],
   "source": [
    "dynamics_terms['radius_crit'] = -dynamics_terms['growth.alpha.0'] / dynamics_terms['growth.alpha.1']"
   ]
  },
  {
   "cell_type": "code",
   "execution_count": 7,
   "id": "1cffd741-e7e2-4af7-b2fa-dc7d2baa4aa7",
   "metadata": {
    "tags": []
   },
   "outputs": [],
   "source": [
    "dynamics_terms['radius_crit-std'] = dynamics_terms['radius_crit'] ** 2 * (\n",
    "    dynamics_terms['growth.covar'].apply(lambda x: x[0, 0]) / dynamics_terms['growth.alpha.0'] ** 2 +\n",
    "    dynamics_terms['growth.covar'].apply(lambda x: x[1, 1]) / dynamics_terms['growth.alpha.1'] ** 2 -\n",
    "    2 * dynamics_terms['growth.covar'].apply(lambda x: x[0, 1]) / dynamics_terms['growth.alpha.1'] / dynamics_terms['growth.alpha.0']\n",
    ")\n",
    "dynamics_terms['radius_crit-std'] = np.sqrt(dynamics_terms['radius_crit-std'])"
   ]
  },
  {
   "cell_type": "code",
   "execution_count": 8,
   "id": "44747a17-2c69-41dd-aa44-6740193c5f24",
   "metadata": {
    "tags": []
   },
   "outputs": [
    {
     "data": {
      "image/png": "[encoded data removed]",
      "text/plain": [
       "<Figure size 350x200 with 1 Axes>"
      ]
     },
     "metadata": {},
     "output_type": "display_data"
    }
   ],
   "source": [
    "fig, ax = plt.subplots(figsize=(3.5, 2.))\n",
    "\n",
    "ax.errorbar(dynamics_terms['temp'],\n",
    "            y=dynamics_terms['radius_crit'],\n",
    "            yerr=dynamics_terms['radius_crit-std'], \n",
    "            fmt=f'--{m}', label=f'r={r} nm')\n",
    "\n",
    "ax.set_xlim(ax.get_xlim())\n",
    "ax.plot(ax.get_xlim(), [0, 0], 'k--', lw=1)\n",
    "\n",
    "ax.set_ylim(-12, 25)\n",
    "ax.set_xlabel('T ($\\\\degree$C)')\n",
    "ax.set_ylabel('Critical Radius (nm)')\n",
    "\n",
    "fig.tight_layout()\n",
    "fig.savefig('figures/critical-radius-vs-temperature.png', dpi=320)"
   ]
  },
  {
   "cell_type": "markdown",
   "id": "1d5cbdf2-b5fb-43d0-87d4-a24b0af1965a",
   "metadata": {},
   "source": [
    "I wonder what a negative critical radius means? All voids will grow continually? \n",
    "- It means voids, regardless of size, will grow or shrink\n",
    "- Are we gradually decreasing in size. Radius for left is too large to detect, right is too small"
   ]
  },
  {
   "cell_type": "markdown",
   "id": "f17ebb8e-3437-45f3-b00c-661a236eed24",
   "metadata": {},
   "source": [
    "Notes: At least the range of 550-625 makes sense"
   ]
  },
  {
   "cell_type": "code",
   "execution_count": 9,
   "id": "ea555f2d-9604-435c-8d80-93e105bb131a",
   "metadata": {
    "tags": []
   },
   "outputs": [
    {
     "data": {
      "text/plain": [
       "0    10.115009\n",
       "4     9.935226\n",
       "2     5.086902\n",
       "5    -5.168090\n",
       "3   -23.119054\n",
       "1    18.799571\n",
       "Name: radius_crit, dtype: float64"
      ]
     },
     "execution_count": 9,
     "metadata": {},
     "output_type": "execute_result"
    }
   ],
   "source": [
    "dynamics_terms['radius_crit']"
   ]
  },
  {
   "cell_type": "code",
   "execution_count": 10,
   "id": "6594d009-bd4b-4a37-a0d7-c38731537a0c",
   "metadata": {},
   "outputs": [
    {
     "data": {
      "text/plain": [
       "0    0.001143\n",
       "4    0.002240\n",
       "2    0.000388\n",
       "5    0.000323\n",
       "3    0.000186\n",
       "1   -0.000788\n",
       "Name: growth.alpha.1, dtype: float64"
      ]
     },
     "execution_count": 10,
     "metadata": {},
     "output_type": "execute_result"
    }
   ],
   "source": [
    "dynamics_terms['growth.alpha.1']"
   ]
  },
  {
   "cell_type": "code",
   "execution_count": null,
   "id": "98543da4-347e-4de1-9680-8346026e6d67",
   "metadata": {},
   "outputs": [],
   "source": []
  }
 ],
 "metadata": {
  "kernelspec": {
   "display_name": "Python 3 (ipykernel)",
   "language": "python",
   "name": "python3"
  },
  "language_info": {
   "codemirror_mode": {
    "name": "ipython",
    "version": 3
   },
   "file_extension": ".py",
   "mimetype": "text/x-python",
   "name": "python",
   "nbconvert_exporter": "python",
   "pygments_lexer": "ipython3",
   "version": "3.10.12"
  }
 },
 "nbformat": 4,
 "nbformat_minor": 5
}

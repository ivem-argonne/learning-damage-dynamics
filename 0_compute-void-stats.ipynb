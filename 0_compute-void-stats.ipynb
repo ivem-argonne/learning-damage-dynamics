{
 "cells": [
  {
   "cell_type": "markdown",
   "id": "8835ce30-6339-425c-80a2-06cb431a0ce5",
   "metadata": {},
   "source": [
    "# Parse Data\n",
    "Read the data out of a ZIP file and put it into a Pandas dataframe. Also compute some basic stastitics"
   ]
  },
  {
   "cell_type": "code",
   "execution_count": 1,
   "id": "db13741a-e7d3-4a3c-b84c-e385bffecb6a",
   "metadata": {},
   "outputs": [],
   "source": [
    "%matplotlib inline\n",
    "from matplotlib import pyplot as plt\n",
    "from zipfile import ZipFile, ZipInfo\n",
    "from pathlib import Path\n",
    "from tqdm import tqdm\n",
    "import pandas as pd\n",
    "import numpy as np"
   ]
  },
  {
   "cell_type": "markdown",
   "id": "ae5fab44-027c-4ae6-83ae-72366478e90a",
   "metadata": {},
   "source": [
    "## List the Contents of the ZIP File\n",
    "To see what we're working with"
   ]
  },
  {
   "cell_type": "code",
   "execution_count": 2,
   "id": "01544f8c-e200-42f4-aa87-79c3ee533243",
   "metadata": {},
   "outputs": [],
   "source": [
    "datazip = ZipFile('video_voids_size.zip')"
   ]
  },
  {
   "cell_type": "markdown",
   "id": "6d7fc729-0f59-4213-8213-15fa7f5e61be",
   "metadata": {},
   "source": [
    "Find all the CSV files"
   ]
  },
  {
   "cell_type": "code",
   "execution_count": 3,
   "id": "cf5abfb5-4a0e-428a-aa4c-5d592082c247",
   "metadata": {},
   "outputs": [
    {
     "name": "stdout",
     "output_type": "stream",
     "text": [
      "Found 1994 CSV files\n"
     ]
    }
   ],
   "source": [
    "csv_files = [i for i in datazip.infolist() if i.filename.endswith('csv')]\n",
    "print(f'Found {len(csv_files)} CSV files')"
   ]
  },
  {
   "cell_type": "markdown",
   "id": "937f7c62-1392-4069-9ef7-f4709c859898",
   "metadata": {},
   "source": [
    "Print the head of one"
   ]
  },
  {
   "cell_type": "code",
   "execution_count": 4,
   "id": "ffaf64d2-2434-483e-b887-9d90f3b08edc",
   "metadata": {},
   "outputs": [],
   "source": [
    "x = csv_files[0]"
   ]
  },
  {
   "cell_type": "code",
   "execution_count": 5,
   "id": "31f96ce3-c9c3-4fc4-84ce-7f77cb439259",
   "metadata": {},
   "outputs": [],
   "source": [
    "with datazip.open(x, 'r') as fp:\n",
    "    data = pd.read_csv(fp)"
   ]
  },
  {
   "cell_type": "code",
   "execution_count": 6,
   "id": "7d39dca1-8189-49e0-a8e8-029798599140",
   "metadata": {},
   "outputs": [
    {
     "data": {
      "text/html": [
       "<div>\n",
       "<style scoped>\n",
       "    .dataframe tbody tr th:only-of-type {\n",
       "        vertical-align: middle;\n",
       "    }\n",
       "\n",
       "    .dataframe tbody tr th {\n",
       "        vertical-align: top;\n",
       "    }\n",
       "\n",
       "    .dataframe thead th {\n",
       "        text-align: right;\n",
       "    }\n",
       "</style>\n",
       "<table border=\"1\" class=\"dataframe\">\n",
       "  <thead>\n",
       "    <tr style=\"text-align: right;\">\n",
       "      <th></th>\n",
       "      <th>void id</th>\n",
       "      <th>void size (nm)</th>\n",
       "    </tr>\n",
       "  </thead>\n",
       "  <tbody>\n",
       "    <tr>\n",
       "      <th>0</th>\n",
       "      <td>1</td>\n",
       "      <td>20.115950</td>\n",
       "    </tr>\n",
       "    <tr>\n",
       "      <th>1</th>\n",
       "      <td>2</td>\n",
       "      <td>14.948362</td>\n",
       "    </tr>\n",
       "    <tr>\n",
       "      <th>2</th>\n",
       "      <td>3</td>\n",
       "      <td>25.863647</td>\n",
       "    </tr>\n",
       "    <tr>\n",
       "      <th>3</th>\n",
       "      <td>4</td>\n",
       "      <td>25.696962</td>\n",
       "    </tr>\n",
       "    <tr>\n",
       "      <th>4</th>\n",
       "      <td>5</td>\n",
       "      <td>25.275441</td>\n",
       "    </tr>\n",
       "  </tbody>\n",
       "</table>\n",
       "</div>"
      ],
      "text/plain": [
       "   void id  void size (nm)\n",
       "0        1       20.115950\n",
       "1        2       14.948362\n",
       "2        3       25.863647\n",
       "3        4       25.696962\n",
       "4        5       25.275441"
      ]
     },
     "execution_count": 6,
     "metadata": {},
     "output_type": "execute_result"
    }
   ],
   "source": [
    "data.head()"
   ]
  },
  {
   "cell_type": "markdown",
   "id": "5fb9a795-ce26-4afc-a491-0ffe6e5db0aa",
   "metadata": {},
   "source": [
    "We have an inventory of each void found during the search"
   ]
  },
  {
   "cell_type": "markdown",
   "id": "b04172b6-d6d1-4de6-9bf1-58ec7befd7d4",
   "metadata": {},
   "source": [
    "## Load in All of the Datasets\n",
    "Record the void sizes for each frame, along with the frame number"
   ]
  },
  {
   "cell_type": "code",
   "execution_count": 7,
   "id": "59ca3af2-086e-43fe-a095-63585ff8a548",
   "metadata": {},
   "outputs": [],
   "source": [
    "def parse_void_sizes(info: ZipInfo, zipdata: ZipFile) -> np.ndarray:\n",
    "    \"\"\"Extract data for a single frame\n",
    "    \n",
    "    Args:\n",
    "        info: Information about a specific file in a ZIP\n",
    "        zipdata: Zip file information\n",
    "    Returns:\n",
    "        List of void sizes\n",
    "    \"\"\"\n",
    "    \n",
    "    with zipdata.open(info, 'r') as fp:\n",
    "        return pd.read_csv(fp)['void size (nm)'].values"
   ]
  },
  {
   "cell_type": "code",
   "execution_count": 8,
   "id": "9ee757ec-7dff-4bd2-afb6-1ad2d2297e25",
   "metadata": {},
   "outputs": [],
   "source": [
    "data = pd.DataFrame([\n",
    "    {'frame_id': int(Path(x.filename).name[6:-4]), 'void_radii': parse_void_sizes(x, datazip)}\n",
    "    for x in csv_files\n",
    "])"
   ]
  },
  {
   "cell_type": "code",
   "execution_count": 9,
   "id": "3b763b4f-6e1b-49b1-9325-9dc68fcd7e28",
   "metadata": {},
   "outputs": [
    {
     "data": {
      "text/html": [
       "<div>\n",
       "<style scoped>\n",
       "    .dataframe tbody tr th:only-of-type {\n",
       "        vertical-align: middle;\n",
       "    }\n",
       "\n",
       "    .dataframe tbody tr th {\n",
       "        vertical-align: top;\n",
       "    }\n",
       "\n",
       "    .dataframe thead th {\n",
       "        text-align: right;\n",
       "    }\n",
       "</style>\n",
       "<table border=\"1\" class=\"dataframe\">\n",
       "  <thead>\n",
       "    <tr style=\"text-align: right;\">\n",
       "      <th></th>\n",
       "      <th>frame_id</th>\n",
       "      <th>void_radii</th>\n",
       "    </tr>\n",
       "  </thead>\n",
       "  <tbody>\n",
       "    <tr>\n",
       "      <th>0</th>\n",
       "      <td>1</td>\n",
       "      <td>[20.115949960445413, 14.948362455500638, 25.86...</td>\n",
       "    </tr>\n",
       "    <tr>\n",
       "      <th>1</th>\n",
       "      <td>2</td>\n",
       "      <td>[25.30376130259481, 16.840846433292995, 25.974...</td>\n",
       "    </tr>\n",
       "    <tr>\n",
       "      <th>2</th>\n",
       "      <td>3</td>\n",
       "      <td>[20.416336496974036, 19.242504387508777, 26.16...</td>\n",
       "    </tr>\n",
       "  </tbody>\n",
       "</table>\n",
       "</div>"
      ],
      "text/plain": [
       "   frame_id                                         void_radii\n",
       "0         1  [20.115949960445413, 14.948362455500638, 25.86...\n",
       "1         2  [25.30376130259481, 16.840846433292995, 25.974...\n",
       "2         3  [20.416336496974036, 19.242504387508777, 26.16..."
      ]
     },
     "execution_count": 9,
     "metadata": {},
     "output_type": "execute_result"
    }
   ],
   "source": [
    "data.sort_values('frame_id', inplace=True, ignore_index=True)\n",
    "data.head(3)"
   ]
  },
  {
   "cell_type": "markdown",
   "id": "1c3027b7-48ed-40df-b7e2-a3365cbecc8a",
   "metadata": {},
   "source": [
    "## Compute Statistics for Each Step\n",
    "We want key statistics about the voids:\n",
    "- Void Count\n",
    "- Void Radius: Total, Mean, Standard Deviation\n",
    "- Void Volume: Total, Mean, Standard Deviation\n",
    "- Void Surface Area: Total, Mean, Standard Deviation\n",
    "- Void Fraction"
   ]
  },
  {
   "cell_type": "code",
   "execution_count": 10,
   "id": "c4d6e33c-c966-45fc-b7d5-44f162626911",
   "metadata": {},
   "outputs": [],
   "source": [
    "def compute_stats(radii: np.ndarray) -> dict:\n",
    "    \"\"\"Compute some statistics about void sizes\"\"\"\n",
    "    \n",
    "    # Compute the surface areas and volumes\n",
    "    surf_areas = 4 * np.pi * np.power(radii, 2)\n",
    "    volumes = 4 / 3 * np.pi * np.power(radii, 3)\n",
    "    \n",
    "    # Initialize the output\n",
    "    output = {'void_count': len(radii)}\n",
    "    \n",
    "    # Compute some statistics\n",
    "    for name, values in zip(['radius', 'surfarea', 'volume'],\n",
    "                           [radii, surf_areas, volumes]):\n",
    "        output[f'{name}_total'] = np.sum(values)\n",
    "        output[f'{name}_mean'] = np.mean(values)\n",
    "        output[f'{name}_stddev'] = np.std(values)\n",
    "    return output"
   ]
  },
  {
   "cell_type": "code",
   "execution_count": 11,
   "id": "c8b83a68-4d74-4a9a-9f2e-15efe648868f",
   "metadata": {},
   "outputs": [
    {
     "data": {
      "text/html": [
       "<div>\n",
       "<style scoped>\n",
       "    .dataframe tbody tr th:only-of-type {\n",
       "        vertical-align: middle;\n",
       "    }\n",
       "\n",
       "    .dataframe tbody tr th {\n",
       "        vertical-align: top;\n",
       "    }\n",
       "\n",
       "    .dataframe thead th {\n",
       "        text-align: right;\n",
       "    }\n",
       "</style>\n",
       "<table border=\"1\" class=\"dataframe\">\n",
       "  <thead>\n",
       "    <tr style=\"text-align: right;\">\n",
       "      <th></th>\n",
       "      <th>frame_id</th>\n",
       "      <th>void_radii</th>\n",
       "      <th>void_count</th>\n",
       "      <th>radius_total</th>\n",
       "      <th>radius_mean</th>\n",
       "      <th>radius_stddev</th>\n",
       "      <th>surfarea_total</th>\n",
       "      <th>surfarea_mean</th>\n",
       "      <th>surfarea_stddev</th>\n",
       "      <th>volume_total</th>\n",
       "      <th>volume_mean</th>\n",
       "      <th>volume_stddev</th>\n",
       "    </tr>\n",
       "  </thead>\n",
       "  <tbody>\n",
       "    <tr>\n",
       "      <th>0</th>\n",
       "      <td>1</td>\n",
       "      <td>[20.115949960445413, 14.948362455500638, 25.86...</td>\n",
       "      <td>51</td>\n",
       "      <td>1159.630190</td>\n",
       "      <td>22.737847</td>\n",
       "      <td>3.434627</td>\n",
       "      <td>338904.0</td>\n",
       "      <td>6645.176471</td>\n",
       "      <td>1904.134395</td>\n",
       "      <td>2.679521e+06</td>\n",
       "      <td>52539.617723</td>\n",
       "      <td>21444.502043</td>\n",
       "    </tr>\n",
       "    <tr>\n",
       "      <th>1</th>\n",
       "      <td>2</td>\n",
       "      <td>[25.30376130259481, 16.840846433292995, 25.974...</td>\n",
       "      <td>52</td>\n",
       "      <td>1175.418020</td>\n",
       "      <td>22.604193</td>\n",
       "      <td>3.563824</td>\n",
       "      <td>342180.0</td>\n",
       "      <td>6580.384615</td>\n",
       "      <td>1923.493918</td>\n",
       "      <td>2.696669e+06</td>\n",
       "      <td>51859.015468</td>\n",
       "      <td>21163.135165</td>\n",
       "    </tr>\n",
       "    <tr>\n",
       "      <th>2</th>\n",
       "      <td>3</td>\n",
       "      <td>[20.416336496974036, 19.242504387508777, 26.16...</td>\n",
       "      <td>52</td>\n",
       "      <td>1161.311616</td>\n",
       "      <td>22.332916</td>\n",
       "      <td>3.876824</td>\n",
       "      <td>335736.0</td>\n",
       "      <td>6456.461538</td>\n",
       "      <td>2040.417580</td>\n",
       "      <td>2.635457e+06</td>\n",
       "      <td>50681.869873</td>\n",
       "      <td>22248.809614</td>\n",
       "    </tr>\n",
       "  </tbody>\n",
       "</table>\n",
       "</div>"
      ],
      "text/plain": [
       "   frame_id                                         void_radii  void_count  \\\n",
       "0         1  [20.115949960445413, 14.948362455500638, 25.86...          51   \n",
       "1         2  [25.30376130259481, 16.840846433292995, 25.974...          52   \n",
       "2         3  [20.416336496974036, 19.242504387508777, 26.16...          52   \n",
       "\n",
       "   radius_total  radius_mean  radius_stddev  surfarea_total  surfarea_mean  \\\n",
       "0   1159.630190    22.737847       3.434627        338904.0    6645.176471   \n",
       "1   1175.418020    22.604193       3.563824        342180.0    6580.384615   \n",
       "2   1161.311616    22.332916       3.876824        335736.0    6456.461538   \n",
       "\n",
       "   surfarea_stddev  volume_total   volume_mean  volume_stddev  \n",
       "0      1904.134395  2.679521e+06  52539.617723   21444.502043  \n",
       "1      1923.493918  2.696669e+06  51859.015468   21163.135165  \n",
       "2      2040.417580  2.635457e+06  50681.869873   22248.809614  "
      ]
     },
     "execution_count": 11,
     "metadata": {},
     "output_type": "execute_result"
    }
   ],
   "source": [
    "stats = pd.DataFrame(data['void_radii'].apply(compute_stats).tolist())\n",
    "data = pd.concat((data, stats), axis=1)\n",
    "data.head(3)"
   ]
  },
  {
   "cell_type": "markdown",
   "id": "8e26d33e-562d-40f6-be9d-9e7bbc0c0ede",
   "metadata": {},
   "source": [
    "## Make Diagnostic Plots\n",
    "See if everything looks fine"
   ]
  },
  {
   "cell_type": "code",
   "execution_count": 12,
   "id": "b2af0a26-e27d-4502-b02a-414175b8146d",
   "metadata": {},
   "outputs": [
    {
     "data": {
      "image/png": "[encoded data removed]",
      "text/plain": [
       "<Figure size 432x288 with 1 Axes>"
      ]
     },
     "metadata": {
      "needs_background": "light"
     },
     "output_type": "display_data"
    }
   ],
   "source": [
    "fig, ax = plt.subplots()\n",
    "\n",
    "ax.plot(data['frame_id'], data['volume_mean'], label='Mean')\n",
    "ax.plot(data['frame_id'], data['volume_stddev'], label='Std. Dev.')\n",
    "\n",
    "ax.set_xlabel('Time (frame #)')\n",
    "ax.set_ylabel('Volume (nm$^3$)')\n",
    "\n",
    "ax.legend()\n",
    "fig.tight_layout()"
   ]
  },
  {
   "cell_type": "markdown",
   "id": "551cb14e-e937-4c5f-bfc4-e3f0acb2b402",
   "metadata": {},
   "source": [
    "## Save the data"
   ]
  },
  {
   "cell_type": "markdown",
   "id": "9394b59e-cf47-48cf-a174-8627d09ae16d",
   "metadata": {},
   "source": [
    "Save the data without the raw counts to CSV, full thing as a pickle"
   ]
  },
  {
   "cell_type": "code",
   "execution_count": 13,
   "id": "4342b4a8-d213-4b63-893c-428fff0f7677",
   "metadata": {},
   "outputs": [],
   "source": [
    "Path('datasets').mkdir(exist_ok=True)"
   ]
  },
  {
   "cell_type": "code",
   "execution_count": 14,
   "id": "c97bee21-84f2-4e13-99bb-cbf19af0d9d2",
   "metadata": {},
   "outputs": [],
   "source": [
    "data.drop(columns=['void_radii']).to_csv('datasets/initial_data.csv', index=False)"
   ]
  },
  {
   "cell_type": "code",
   "execution_count": 15,
   "id": "05844384-1eb5-4820-9312-e8c3c30d7ee1",
   "metadata": {},
   "outputs": [],
   "source": [
    "data.to_pickle('datasets/initial_data.pkl')"
   ]
  },
  {
   "cell_type": "code",
   "execution_count": null,
   "id": "a0f89192-96ae-48de-b40f-fc339d2fa8a0",
   "metadata": {},
   "outputs": [],
   "source": []
  }
 ],
 "metadata": {
  "kernelspec": {
   "display_name": "Python 3",
   "language": "python",
   "name": "python3"
  },
  "language_info": {
   "codemirror_mode": {
    "name": "ipython",
    "version": 3
   },
   "file_extension": ".py",
   "mimetype": "text/x-python",
   "name": "python",
   "nbconvert_exporter": "python",
   "pygments_lexer": "ipython3",
   "version": "3.9.5"
  }
 },
 "nbformat": 4,
 "nbformat_minor": 5
}

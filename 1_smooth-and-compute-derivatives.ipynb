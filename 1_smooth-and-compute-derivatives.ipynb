{
 "cells": [
  {
   "cell_type": "markdown",
   "id": "8abd3432-c1c5-4aa1-8094-4a35912c6c72",
   "metadata": {},
   "source": [
    "# Smooth the Data and Compute Derivatives\n",
    "The data has a lot of noise in it, which is going to make derivatives particularly problematic"
   ]
  },
  {
   "cell_type": "code",
   "execution_count": 1,
   "id": "0747cb97-52da-4dd2-bebb-13ef7ef1051b",
   "metadata": {},
   "outputs": [],
   "source": [
    "%matplotlib inline\n",
    "from matplotlib import pyplot as plt\n",
    "from scipy.interpolate import UnivariateSpline\n",
    "from tqdm import tqdm\n",
    "import pandas as pd\n",
    "import numpy as np"
   ]
  },
  {
   "cell_type": "markdown",
   "id": "62676fa4-37fe-4e9c-b249-6bb7f907a9b9",
   "metadata": {},
   "source": [
    "## Load in the Data\n",
    "We'll use the pickle file saved earlier"
   ]
  },
  {
   "cell_type": "code",
   "execution_count": 2,
   "id": "0d43b634-b918-4b65-80b0-65d5c8532ea3",
   "metadata": {},
   "outputs": [
    {
     "data": {
      "text/html": [
       "<div>\n",
       "<style scoped>\n",
       "    .dataframe tbody tr th:only-of-type {\n",
       "        vertical-align: middle;\n",
       "    }\n",
       "\n",
       "    .dataframe tbody tr th {\n",
       "        vertical-align: top;\n",
       "    }\n",
       "\n",
       "    .dataframe thead th {\n",
       "        text-align: right;\n",
       "    }\n",
       "</style>\n",
       "<table border=\"1\" class=\"dataframe\">\n",
       "  <thead>\n",
       "    <tr style=\"text-align: right;\">\n",
       "      <th></th>\n",
       "      <th>frame_id</th>\n",
       "      <th>void_radii</th>\n",
       "      <th>void_count</th>\n",
       "      <th>radius_total</th>\n",
       "      <th>radius_mean</th>\n",
       "      <th>radius_stddev</th>\n",
       "      <th>surfarea_total</th>\n",
       "      <th>surfarea_mean</th>\n",
       "      <th>surfarea_stddev</th>\n",
       "      <th>volume_total</th>\n",
       "      <th>volume_mean</th>\n",
       "      <th>volume_stddev</th>\n",
       "    </tr>\n",
       "  </thead>\n",
       "  <tbody>\n",
       "    <tr>\n",
       "      <th>0</th>\n",
       "      <td>1</td>\n",
       "      <td>[20.115949960445413, 14.948362455500638, 25.86...</td>\n",
       "      <td>51</td>\n",
       "      <td>1159.630190</td>\n",
       "      <td>22.737847</td>\n",
       "      <td>3.434627</td>\n",
       "      <td>338904.0</td>\n",
       "      <td>6645.176471</td>\n",
       "      <td>1904.134395</td>\n",
       "      <td>2.679521e+06</td>\n",
       "      <td>52539.617723</td>\n",
       "      <td>21444.502043</td>\n",
       "    </tr>\n",
       "    <tr>\n",
       "      <th>1</th>\n",
       "      <td>2</td>\n",
       "      <td>[25.30376130259481, 16.840846433292995, 25.974...</td>\n",
       "      <td>52</td>\n",
       "      <td>1175.418020</td>\n",
       "      <td>22.604193</td>\n",
       "      <td>3.563824</td>\n",
       "      <td>342180.0</td>\n",
       "      <td>6580.384615</td>\n",
       "      <td>1923.493918</td>\n",
       "      <td>2.696669e+06</td>\n",
       "      <td>51859.015468</td>\n",
       "      <td>21163.135165</td>\n",
       "    </tr>\n",
       "    <tr>\n",
       "      <th>2</th>\n",
       "      <td>3</td>\n",
       "      <td>[20.416336496974036, 19.242504387508777, 26.16...</td>\n",
       "      <td>52</td>\n",
       "      <td>1161.311616</td>\n",
       "      <td>22.332916</td>\n",
       "      <td>3.876824</td>\n",
       "      <td>335736.0</td>\n",
       "      <td>6456.461538</td>\n",
       "      <td>2040.417580</td>\n",
       "      <td>2.635457e+06</td>\n",
       "      <td>50681.869873</td>\n",
       "      <td>22248.809614</td>\n",
       "    </tr>\n",
       "  </tbody>\n",
       "</table>\n",
       "</div>"
      ],
      "text/plain": [
       "   frame_id                                         void_radii  void_count  \\\n",
       "0         1  [20.115949960445413, 14.948362455500638, 25.86...          51   \n",
       "1         2  [25.30376130259481, 16.840846433292995, 25.974...          52   \n",
       "2         3  [20.416336496974036, 19.242504387508777, 26.16...          52   \n",
       "\n",
       "   radius_total  radius_mean  radius_stddev  surfarea_total  surfarea_mean  \\\n",
       "0   1159.630190    22.737847       3.434627        338904.0    6645.176471   \n",
       "1   1175.418020    22.604193       3.563824        342180.0    6580.384615   \n",
       "2   1161.311616    22.332916       3.876824        335736.0    6456.461538   \n",
       "\n",
       "   surfarea_stddev  volume_total   volume_mean  volume_stddev  \n",
       "0      1904.134395  2.679521e+06  52539.617723   21444.502043  \n",
       "1      1923.493918  2.696669e+06  51859.015468   21163.135165  \n",
       "2      2040.417580  2.635457e+06  50681.869873   22248.809614  "
      ]
     },
     "execution_count": 2,
     "metadata": {},
     "output_type": "execute_result"
    }
   ],
   "source": [
    "raw_data = pd.read_pickle('datasets/initial_data.pkl')\n",
    "raw_data.head(3)"
   ]
  },
  {
   "cell_type": "markdown",
   "id": "2a16b8c7-ab2b-4df6-b397-d1a682d4887f",
   "metadata": {},
   "source": [
    "## Initial Smoothing\n",
    "Our data has a lot of large jumps, so we'll smooth it out with a median filter first"
   ]
  },
  {
   "cell_type": "code",
   "execution_count": 3,
   "id": "5a966cec-4236-4d7a-9d01-3b544b11a406",
   "metadata": {},
   "outputs": [],
   "source": [
    "data = raw_data.rolling(65, center=True).median()"
   ]
  },
  {
   "cell_type": "code",
   "execution_count": 4,
   "id": "5cf1ab46-0745-4f8e-82e1-c7e7e5c737aa",
   "metadata": {},
   "outputs": [],
   "source": [
    "# Remove points that are too close to the edges\n",
    "data = data[~data.isnull().any(axis=1)]"
   ]
  },
  {
   "cell_type": "code",
   "execution_count": 5,
   "id": "7d286093-cbf6-45fd-8835-6b7be55b01e3",
   "metadata": {},
   "outputs": [
    {
     "data": {
      "text/plain": [
       "Text(0, 0.5, 'Radius (nm)')"
      ]
     },
     "execution_count": 5,
     "metadata": {},
     "output_type": "execute_result"
    },
    {
     "data": {
      "image/png": "[encoded data removed]",
      "text/plain": [
       "<Figure size 432x288 with 1 Axes>"
      ]
     },
     "metadata": {
      "needs_background": "light"
     },
     "output_type": "display_data"
    }
   ],
   "source": [
    "fig, ax = plt.subplots()\n",
    "\n",
    "x = np.arange(len(data))\n",
    "ax.scatter(raw_data['frame_id'], raw_data['radius_mean'])\n",
    "ax.scatter(data['frame_id'], data['radius_mean'])\n",
    "\n",
    "ax.set_xlabel('Time (frame #)')\n",
    "ax.set_ylabel('Radius (nm)')"
   ]
  },
  {
   "cell_type": "markdown",
   "id": "e96bdc5d-6f4e-4cf5-abb4-bed25406c8fd",
   "metadata": {},
   "source": [
    "## Try out smoothing splines\n",
    "The key way to adjust a spline in scipy's [`UnivariateSpline`](https://docs.scipy.org/doc/scipy/reference/generated/scipy.interpolate.UnivariateSpline.html) is the \"smoothing factor,\" which controls the number of knots on the spline by asserting the error between the spline and the original data stays below a threshold.\n",
    "\n",
    "We are going to make that threshold equal to 10% of the value fo the data points."
   ]
  },
  {
   "cell_type": "code",
   "execution_count": 6,
   "id": "783ec5c4-e958-43e1-a02c-c4829c3d2dab",
   "metadata": {},
   "outputs": [],
   "source": [
    "spline = UnivariateSpline(data['frame_id'], data['radius_mean'], k=5, s=(data['radius_mean'].median() * 0.01) ** 2 * len(data))"
   ]
  },
  {
   "cell_type": "code",
   "execution_count": 7,
   "id": "81ec61f9-be68-4f06-8006-9d41bb5170b6",
   "metadata": {},
   "outputs": [
    {
     "data": {
      "text/plain": [
       "Text(0, 0.5, 'Radius (nm)')"
      ]
     },
     "execution_count": 7,
     "metadata": {},
     "output_type": "execute_result"
    },
    {
     "data": {
      "image/png": "[encoded data removed]",
      "text/plain": [
       "<Figure size 432x288 with 1 Axes>"
      ]
     },
     "metadata": {
      "needs_background": "light"
     },
     "output_type": "display_data"
    }
   ],
   "source": [
    "fig, ax = plt.subplots()\n",
    "\n",
    "x = np.arange(len(data))\n",
    "ax.scatter(data['frame_id'], data['radius_mean'])\n",
    "\n",
    "ax.plot(x, spline(x), 'r', lw=3)\n",
    "\n",
    "ax.set_xlabel('Time (frame #)')\n",
    "ax.set_ylabel('Radius (nm)')"
   ]
  },
  {
   "cell_type": "markdown",
   "id": "dbf8da81-8db8-4495-87a7-04157769190c",
   "metadata": {},
   "source": [
    "**TODO**: Probably good enough for the time being, though it seems too smooth. Eventually impose a rule like \"select the maximum `s` such that derivatives that there are no outliers above 4 * IQR\""
   ]
  },
  {
   "cell_type": "code",
   "execution_count": 8,
   "id": "2acb5dac-4ba9-4be7-86f6-23b543de2d60",
   "metadata": {},
   "outputs": [
    {
     "data": {
      "text/plain": [
       "Text(0, 0.5, '$d$Radius/$dt$ (nm/s)')"
      ]
     },
     "execution_count": 8,
     "metadata": {},
     "output_type": "execute_result"
    },
    {
     "data": {
      "image/png": "[encoded data removed]",
      "text/plain": [
       "<Figure size 432x288 with 1 Axes>"
      ]
     },
     "metadata": {
      "needs_background": "light"
     },
     "output_type": "display_data"
    }
   ],
   "source": [
    "fig, ax = plt.subplots()\n",
    "\n",
    "ax.plot(x, spline.derivative(1)(x), 'r', lw=3)\n",
    "\n",
    "ax.set_xlabel('Time (frame #)')\n",
    "ax.set_ylabel('$d$Radius/$dt$ (nm/s)')"
   ]
  },
  {
   "cell_type": "markdown",
   "id": "f4dfac8f-12f2-46d0-9d83-82b630b77435",
   "metadata": {},
   "source": [
    "## Run them on all columns\n",
    "So that we get smooth derivatives for everything"
   ]
  },
  {
   "cell_type": "code",
   "execution_count": 9,
   "id": "c4ac51dd-047a-42ba-b3dc-335837087100",
   "metadata": {},
   "outputs": [],
   "source": [
    "data_cols = data.columns[1:] # Skip frame_id, void_radii"
   ]
  },
  {
   "cell_type": "code",
   "execution_count": 10,
   "id": "42258d46-024a-4395-b0f9-770914393838",
   "metadata": {},
   "outputs": [
    {
     "name": "stderr",
     "output_type": "stream",
     "text": [
      "100%|██████████| 10/10 [00:00<00:00, 426.42it/s]\n"
     ]
    }
   ],
   "source": [
    "smooth_data = data.copy()\n",
    "for c in tqdm(data_cols):\n",
    "    # Fit a smoothing spline\n",
    "    spline = UnivariateSpline(data['frame_id'], data[c], k=5, s=(data[c].median() * 0.01) ** 2 * len(data))\n",
    "    \n",
    "    # Smooth the data\n",
    "    smooth_data[c] = spline(data['frame_id'])\n",
    "    \n",
    "    # Compute derivatives of the smoothed data\n",
    "    smooth_data[f'{c}_dt'] = spline.derivative(1)(data['frame_id'])"
   ]
  },
  {
   "cell_type": "code",
   "execution_count": 11,
   "id": "f026931f-1d1c-4f40-8eaa-934d2a508a33",
   "metadata": {},
   "outputs": [
    {
     "data": {
      "text/html": [
       "<div>\n",
       "<style scoped>\n",
       "    .dataframe tbody tr th:only-of-type {\n",
       "        vertical-align: middle;\n",
       "    }\n",
       "\n",
       "    .dataframe tbody tr th {\n",
       "        vertical-align: top;\n",
       "    }\n",
       "\n",
       "    .dataframe thead th {\n",
       "        text-align: right;\n",
       "    }\n",
       "</style>\n",
       "<table border=\"1\" class=\"dataframe\">\n",
       "  <thead>\n",
       "    <tr style=\"text-align: right;\">\n",
       "      <th></th>\n",
       "      <th>frame_id</th>\n",
       "      <th>void_count</th>\n",
       "      <th>radius_total</th>\n",
       "      <th>radius_mean</th>\n",
       "      <th>radius_stddev</th>\n",
       "      <th>surfarea_total</th>\n",
       "      <th>surfarea_mean</th>\n",
       "      <th>surfarea_stddev</th>\n",
       "      <th>volume_total</th>\n",
       "      <th>volume_mean</th>\n",
       "      <th>volume_stddev</th>\n",
       "    </tr>\n",
       "  </thead>\n",
       "  <tbody>\n",
       "    <tr>\n",
       "      <th>32</th>\n",
       "      <td>33.0</td>\n",
       "      <td>55.0</td>\n",
       "      <td>1223.710309</td>\n",
       "      <td>23.945742</td>\n",
       "      <td>4.171713</td>\n",
       "      <td>393084.0</td>\n",
       "      <td>7503.639344</td>\n",
       "      <td>2273.147812</td>\n",
       "      <td>3.624017e+06</td>\n",
       "      <td>64627.902598</td>\n",
       "      <td>25592.679213</td>\n",
       "    </tr>\n",
       "    <tr>\n",
       "      <th>33</th>\n",
       "      <td>34.0</td>\n",
       "      <td>58.0</td>\n",
       "      <td>1424.849871</td>\n",
       "      <td>24.025747</td>\n",
       "      <td>4.171713</td>\n",
       "      <td>446958.0</td>\n",
       "      <td>7531.403226</td>\n",
       "      <td>2273.147812</td>\n",
       "      <td>3.773123e+06</td>\n",
       "      <td>64666.925170</td>\n",
       "      <td>26042.573474</td>\n",
       "    </tr>\n",
       "    <tr>\n",
       "      <th>34</th>\n",
       "      <td>35.0</td>\n",
       "      <td>58.0</td>\n",
       "      <td>1432.019484</td>\n",
       "      <td>24.102505</td>\n",
       "      <td>4.171713</td>\n",
       "      <td>453024.0</td>\n",
       "      <td>7548.000000</td>\n",
       "      <td>2273.147812</td>\n",
       "      <td>3.834438e+06</td>\n",
       "      <td>64844.603913</td>\n",
       "      <td>26042.573474</td>\n",
       "    </tr>\n",
       "    <tr>\n",
       "      <th>35</th>\n",
       "      <td>36.0</td>\n",
       "      <td>58.0</td>\n",
       "      <td>1446.769030</td>\n",
       "      <td>24.153357</td>\n",
       "      <td>4.171713</td>\n",
       "      <td>456633.0</td>\n",
       "      <td>7560.580645</td>\n",
       "      <td>2273.147812</td>\n",
       "      <td>3.864942e+06</td>\n",
       "      <td>64938.141394</td>\n",
       "      <td>26103.481797</td>\n",
       "    </tr>\n",
       "    <tr>\n",
       "      <th>36</th>\n",
       "      <td>37.0</td>\n",
       "      <td>59.0</td>\n",
       "      <td>1452.440130</td>\n",
       "      <td>24.181701</td>\n",
       "      <td>4.084902</td>\n",
       "      <td>457227.0</td>\n",
       "      <td>7560.692308</td>\n",
       "      <td>2273.147812</td>\n",
       "      <td>3.890676e+06</td>\n",
       "      <td>64951.250287</td>\n",
       "      <td>26316.646274</td>\n",
       "    </tr>\n",
       "    <tr>\n",
       "      <th>...</th>\n",
       "      <td>...</td>\n",
       "      <td>...</td>\n",
       "      <td>...</td>\n",
       "      <td>...</td>\n",
       "      <td>...</td>\n",
       "      <td>...</td>\n",
       "      <td>...</td>\n",
       "      <td>...</td>\n",
       "      <td>...</td>\n",
       "      <td>...</td>\n",
       "      <td>...</td>\n",
       "    </tr>\n",
       "    <tr>\n",
       "      <th>1957</th>\n",
       "      <td>1958.0</td>\n",
       "      <td>299.0</td>\n",
       "      <td>7237.819780</td>\n",
       "      <td>24.191535</td>\n",
       "      <td>6.976470</td>\n",
       "      <td>2380644.0</td>\n",
       "      <td>7953.780405</td>\n",
       "      <td>4416.340754</td>\n",
       "      <td>2.221866e+07</td>\n",
       "      <td>74261.887202</td>\n",
       "      <td>60818.782662</td>\n",
       "    </tr>\n",
       "    <tr>\n",
       "      <th>1958</th>\n",
       "      <td>1959.0</td>\n",
       "      <td>300.0</td>\n",
       "      <td>7238.814670</td>\n",
       "      <td>24.172318</td>\n",
       "      <td>6.976470</td>\n",
       "      <td>2381013.0</td>\n",
       "      <td>7953.351171</td>\n",
       "      <td>4416.340754</td>\n",
       "      <td>2.222834e+07</td>\n",
       "      <td>74205.160839</td>\n",
       "      <td>60818.782662</td>\n",
       "    </tr>\n",
       "    <tr>\n",
       "      <th>1959</th>\n",
       "      <td>1960.0</td>\n",
       "      <td>300.0</td>\n",
       "      <td>7238.814670</td>\n",
       "      <td>24.172318</td>\n",
       "      <td>6.976470</td>\n",
       "      <td>2381013.0</td>\n",
       "      <td>7953.351171</td>\n",
       "      <td>4418.233452</td>\n",
       "      <td>2.223382e+07</td>\n",
       "      <td>74205.160839</td>\n",
       "      <td>60870.953904</td>\n",
       "    </tr>\n",
       "    <tr>\n",
       "      <th>1960</th>\n",
       "      <td>1961.0</td>\n",
       "      <td>300.0</td>\n",
       "      <td>7239.154863</td>\n",
       "      <td>24.172318</td>\n",
       "      <td>6.976470</td>\n",
       "      <td>2381877.0</td>\n",
       "      <td>7953.351171</td>\n",
       "      <td>4418.233452</td>\n",
       "      <td>2.224490e+07</td>\n",
       "      <td>74205.160839</td>\n",
       "      <td>60870.953904</td>\n",
       "    </tr>\n",
       "    <tr>\n",
       "      <th>1961</th>\n",
       "      <td>1962.0</td>\n",
       "      <td>300.0</td>\n",
       "      <td>7242.025218</td>\n",
       "      <td>24.172318</td>\n",
       "      <td>6.974731</td>\n",
       "      <td>2382606.0</td>\n",
       "      <td>7953.351171</td>\n",
       "      <td>4418.233452</td>\n",
       "      <td>2.224729e+07</td>\n",
       "      <td>74205.160839</td>\n",
       "      <td>60870.953904</td>\n",
       "    </tr>\n",
       "  </tbody>\n",
       "</table>\n",
       "<p>1930 rows × 11 columns</p>\n",
       "</div>"
      ],
      "text/plain": [
       "      frame_id  void_count  radius_total  radius_mean  radius_stddev  \\\n",
       "32        33.0        55.0   1223.710309    23.945742       4.171713   \n",
       "33        34.0        58.0   1424.849871    24.025747       4.171713   \n",
       "34        35.0        58.0   1432.019484    24.102505       4.171713   \n",
       "35        36.0        58.0   1446.769030    24.153357       4.171713   \n",
       "36        37.0        59.0   1452.440130    24.181701       4.084902   \n",
       "...        ...         ...           ...          ...            ...   \n",
       "1957    1958.0       299.0   7237.819780    24.191535       6.976470   \n",
       "1958    1959.0       300.0   7238.814670    24.172318       6.976470   \n",
       "1959    1960.0       300.0   7238.814670    24.172318       6.976470   \n",
       "1960    1961.0       300.0   7239.154863    24.172318       6.976470   \n",
       "1961    1962.0       300.0   7242.025218    24.172318       6.974731   \n",
       "\n",
       "      surfarea_total  surfarea_mean  surfarea_stddev  volume_total  \\\n",
       "32          393084.0    7503.639344      2273.147812  3.624017e+06   \n",
       "33          446958.0    7531.403226      2273.147812  3.773123e+06   \n",
       "34          453024.0    7548.000000      2273.147812  3.834438e+06   \n",
       "35          456633.0    7560.580645      2273.147812  3.864942e+06   \n",
       "36          457227.0    7560.692308      2273.147812  3.890676e+06   \n",
       "...              ...            ...              ...           ...   \n",
       "1957       2380644.0    7953.780405      4416.340754  2.221866e+07   \n",
       "1958       2381013.0    7953.351171      4416.340754  2.222834e+07   \n",
       "1959       2381013.0    7953.351171      4418.233452  2.223382e+07   \n",
       "1960       2381877.0    7953.351171      4418.233452  2.224490e+07   \n",
       "1961       2382606.0    7953.351171      4418.233452  2.224729e+07   \n",
       "\n",
       "       volume_mean  volume_stddev  \n",
       "32    64627.902598   25592.679213  \n",
       "33    64666.925170   26042.573474  \n",
       "34    64844.603913   26042.573474  \n",
       "35    64938.141394   26103.481797  \n",
       "36    64951.250287   26316.646274  \n",
       "...            ...            ...  \n",
       "1957  74261.887202   60818.782662  \n",
       "1958  74205.160839   60818.782662  \n",
       "1959  74205.160839   60870.953904  \n",
       "1960  74205.160839   60870.953904  \n",
       "1961  74205.160839   60870.953904  \n",
       "\n",
       "[1930 rows x 11 columns]"
      ]
     },
     "execution_count": 11,
     "metadata": {},
     "output_type": "execute_result"
    }
   ],
   "source": [
    "data"
   ]
  },
  {
   "cell_type": "code",
   "execution_count": 12,
   "id": "dfc1f647-4cdf-43de-8a12-2d495b82512f",
   "metadata": {},
   "outputs": [
    {
     "data": {
      "image/png": "[encoded data removed]",
      "text/plain": [
       "<Figure size 540x324 with 10 Axes>"
      ]
     },
     "metadata": {
      "needs_background": "light"
     },
     "output_type": "display_data"
    }
   ],
   "source": [
    "fig, axs = plt.subplots(2, 5, sharex=True, figsize=(7.5, 4.5))\n",
    "\n",
    "\n",
    "for c, ax in zip(data_cols, axs.flatten()):\n",
    "    ax.scatter(data['frame_id'], data[c], s=1)\n",
    "    ax.plot(smooth_data['frame_id'], smooth_data[c], 'r')\n",
    "    \n",
    "    ax.set_yticklabels([])\n",
    "    ax.set_title(c)\n",
    "    \n",
    "for ax in axs[-1, :]:\n",
    "    ax.set_xlabel('Frame ID')\n",
    "    \n",
    "fig.tight_layout()"
   ]
  },
  {
   "cell_type": "markdown",
   "id": "b3134332-85df-4eb4-907c-59e14c8e4c2f",
   "metadata": {},
   "source": [
    "## Save Data\n",
    "In both CSV and pickle formats"
   ]
  },
  {
   "cell_type": "code",
   "execution_count": 13,
   "id": "1aa26e70-a99c-4603-afd6-fa7c917e81b5",
   "metadata": {},
   "outputs": [],
   "source": [
    "smooth_data.to_csv('datasets/smooth_data.csv', index=False)"
   ]
  },
  {
   "cell_type": "code",
   "execution_count": 14,
   "id": "fe7eff5d-cc3a-4092-bea3-2c699f037bb6",
   "metadata": {},
   "outputs": [],
   "source": [
    "smooth_data.to_pickle('datasets/smooth_data.pkl')"
   ]
  },
  {
   "cell_type": "code",
   "execution_count": null,
   "id": "e30a9faa-5779-416e-b946-f2ff55fcd58b",
   "metadata": {},
   "outputs": [],
   "source": []
  }
 ],
 "metadata": {
  "kernelspec": {
   "display_name": "Python 3",
   "language": "python",
   "name": "python3"
  },
  "language_info": {
   "codemirror_mode": {
    "name": "ipython",
    "version": 3
   },
   "file_extension": ".py",
   "mimetype": "text/x-python",
   "name": "python",
   "nbconvert_exporter": "python",
   "pygments_lexer": "ipython3",
   "version": "3.9.5"
  }
 },
 "nbformat": 4,
 "nbformat_minor": 5
}

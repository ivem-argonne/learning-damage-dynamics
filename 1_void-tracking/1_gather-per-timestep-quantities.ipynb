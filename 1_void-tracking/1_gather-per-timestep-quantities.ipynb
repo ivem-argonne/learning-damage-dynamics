{
 "cells": [
  {
   "cell_type": "markdown",
   "id": "8fb983f5-ae73-419a-b229-af9a6ea95eb3",
   "metadata": {
    "editable": true,
    "slideshow": {
     "slide_type": ""
    },
    "tags": []
   },
   "source": [
    "# Evaluate the Void Growth over Time\n",
    "Use our matched voids to show a few things about how voids move and change. \n",
    "Involves both looking at the entire trajectory and individual points along the line"
   ]
  },
  {
   "cell_type": "code",
   "execution_count": 1,
   "id": "f93fa3bb-2367-489c-9890-a5172e1b127d",
   "metadata": {
    "tags": []
   },
   "outputs": [],
   "source": [
    "%matplotlib inline\n",
    "from matplotlib import pyplot as plt\n",
    "from matplotlib import colormaps\n",
    "from scipy.interpolate import UnivariateSpline\n",
    "from pathlib import Path\n",
    "import pandas as pd\n",
    "import numpy as np"
   ]
  },
  {
   "cell_type": "markdown",
   "id": "43c10f3c-fa3b-48da-adb9-a47a66f909cb",
   "metadata": {},
   "source": [
    "Configuration"
   ]
  },
  {
   "cell_type": "code",
   "execution_count": 2,
   "id": "1b94e800-ed80-47ef-8d3f-91b199d1381b",
   "metadata": {
    "tags": [
     "parameters"
    ]
   },
   "outputs": [],
   "source": [
    "run_directory = '../data/8bitTIFF-video28-600C/'\n",
    "pixel_size = 0.47  # nm/pixel"
   ]
  },
  {
   "cell_type": "code",
   "execution_count": 3,
   "id": "357932cc-0eb8-4057-877e-591ac9b84ec8",
   "metadata": {
    "editable": true,
    "slideshow": {
     "slide_type": ""
    },
    "tags": [
     "parameters"
    ]
   },
   "outputs": [],
   "source": [
    "run_directory = Path(run_directory)\n",
    "run_name = run_directory.name\n",
    "defect_path = f'../0_drift-correction/output/{run_name}/defect-details.json'\n",
    "out_directory = Path('output') / run_name\n",
    "track_path = out_directory / 'tracks.json'"
   ]
  },
  {
   "cell_type": "code",
   "execution_count": 4,
   "id": "88cab4d2-5bc7-4f70-9188-9c1039acd410",
   "metadata": {
    "editable": true,
    "slideshow": {
     "slide_type": ""
    },
    "tags": []
   },
   "outputs": [],
   "source": [
    "(out_directory / 'figures').mkdir(exist_ok=True)"
   ]
  },
  {
   "cell_type": "markdown",
   "id": "c795e095-56e8-4e8c-95a0-3c949e34343c",
   "metadata": {
    "editable": true,
    "slideshow": {
     "slide_type": ""
    },
    "tags": []
   },
   "source": [
    "## Load in the Void Data\n",
    "Load in the void tracks from a previous notebook and the overall summaries in each"
   ]
  },
  {
   "cell_type": "code",
   "execution_count": 5,
   "id": "23587a49-d9dd-4fa9-86ce-cac5a613fa05",
   "metadata": {
    "tags": []
   },
   "outputs": [
    {
     "data": {
      "text/html": [
       "<div>\n",
       "<style scoped>\n",
       "    .dataframe tbody tr th:only-of-type {\n",
       "        vertical-align: middle;\n",
       "    }\n",
       "\n",
       "    .dataframe tbody tr th {\n",
       "        vertical-align: top;\n",
       "    }\n",
       "\n",
       "    .dataframe thead th {\n",
       "        text-align: right;\n",
       "    }\n",
       "</style>\n",
       "<table border=\"1\" class=\"dataframe\">\n",
       "  <thead>\n",
       "    <tr style=\"text-align: right;\">\n",
       "      <th></th>\n",
       "      <th>start_frame</th>\n",
       "      <th>end_frame</th>\n",
       "      <th>total_frames</th>\n",
       "      <th>inferred_frames</th>\n",
       "      <th>positions</th>\n",
       "      <th>touches_side</th>\n",
       "      <th>local_id</th>\n",
       "      <th>disp_from_start</th>\n",
       "      <th>max_disp</th>\n",
       "      <th>drift_rate</th>\n",
       "      <th>dist_traveled</th>\n",
       "      <th>total_traveled</th>\n",
       "      <th>movement_rate</th>\n",
       "      <th>radii</th>\n",
       "      <th>max_radius</th>\n",
       "      <th>min_radius</th>\n",
       "      <th>growth_rate</th>\n",
       "    </tr>\n",
       "  </thead>\n",
       "  <tbody>\n",
       "    <tr>\n",
       "      <th>0</th>\n",
       "      <td>0</td>\n",
       "      <td>44</td>\n",
       "      <td>45</td>\n",
       "      <td>3</td>\n",
       "      <td>[[434.5490909091, 23.2545454545], [434.7166229...</td>\n",
       "      <td>[False, False, False, False, False, False, Fal...</td>\n",
       "      <td>[0, 0, 0, 0, 0, 0, 0, 0, 0, 0, 0, 0, 0, 0, 0, ...</td>\n",
       "      <td>[0.0, 0.7228488259, 1.4578548828, 0.5513618417...</td>\n",
       "      <td>2.729787</td>\n",
       "      <td>0.060662</td>\n",
       "      <td>[0.0, 0.7228488259, 2.0175172609, 2.9474578938...</td>\n",
       "      <td>48.467611</td>\n",
       "      <td>1.077058</td>\n",
       "      <td>[9.3560257963, 10.0133717672, 7.978845608, 7.4...</td>\n",
       "      <td>10.295494</td>\n",
       "      <td>4.886025</td>\n",
       "      <td>-0.028078</td>\n",
       "    </tr>\n",
       "    <tr>\n",
       "      <th>1</th>\n",
       "      <td>0</td>\n",
       "      <td>152</td>\n",
       "      <td>153</td>\n",
       "      <td>13</td>\n",
       "      <td>[[544.0552016985, 980.3927813163], [544.645203...</td>\n",
       "      <td>[False, False, False, False, False, False, Fal...</td>\n",
       "      <td>[13, 13, 14, 11, 13, 14, 11, 13, 13, 12, 13, 1...</td>\n",
       "      <td>[0.0, 1.4444550948, 0.652893798, 1.0485522599,...</td>\n",
       "      <td>39.390524</td>\n",
       "      <td>0.257454</td>\n",
       "      <td>[0.0, 1.4444550948, 2.2413769226, 2.7513691033...</td>\n",
       "      <td>592.921988</td>\n",
       "      <td>3.875307</td>\n",
       "      <td>[12.2443438531, 12.6282719712, 11.8076132283, ...</td>\n",
       "      <td>14.036874</td>\n",
       "      <td>3.989423</td>\n",
       "      <td>-0.020996</td>\n",
       "    </tr>\n",
       "  </tbody>\n",
       "</table>\n",
       "</div>"
      ],
      "text/plain": [
       "   start_frame  end_frame  total_frames  inferred_frames  \\\n",
       "0            0         44            45                3   \n",
       "1            0        152           153               13   \n",
       "\n",
       "                                           positions  \\\n",
       "0  [[434.5490909091, 23.2545454545], [434.7166229...   \n",
       "1  [[544.0552016985, 980.3927813163], [544.645203...   \n",
       "\n",
       "                                        touches_side  \\\n",
       "0  [False, False, False, False, False, False, Fal...   \n",
       "1  [False, False, False, False, False, False, Fal...   \n",
       "\n",
       "                                            local_id  \\\n",
       "0  [0, 0, 0, 0, 0, 0, 0, 0, 0, 0, 0, 0, 0, 0, 0, ...   \n",
       "1  [13, 13, 14, 11, 13, 14, 11, 13, 13, 12, 13, 1...   \n",
       "\n",
       "                                     disp_from_start   max_disp  drift_rate  \\\n",
       "0  [0.0, 0.7228488259, 1.4578548828, 0.5513618417...   2.729787    0.060662   \n",
       "1  [0.0, 1.4444550948, 0.652893798, 1.0485522599,...  39.390524    0.257454   \n",
       "\n",
       "                                       dist_traveled  total_traveled  \\\n",
       "0  [0.0, 0.7228488259, 2.0175172609, 2.9474578938...       48.467611   \n",
       "1  [0.0, 1.4444550948, 2.2413769226, 2.7513691033...      592.921988   \n",
       "\n",
       "   movement_rate                                              radii  \\\n",
       "0       1.077058  [9.3560257963, 10.0133717672, 7.978845608, 7.4...   \n",
       "1       3.875307  [12.2443438531, 12.6282719712, 11.8076132283, ...   \n",
       "\n",
       "   max_radius  min_radius  growth_rate  \n",
       "0   10.295494    4.886025    -0.028078  \n",
       "1   14.036874    3.989423    -0.020996  "
      ]
     },
     "execution_count": 5,
     "metadata": {},
     "output_type": "execute_result"
    }
   ],
   "source": [
    "void_tracks = pd.read_json(track_path, lines=True)\n",
    "void_tracks.head(2)"
   ]
  },
  {
   "cell_type": "code",
   "execution_count": 6,
   "id": "0613e993-1511-48b7-8f59-4bcf9dbeae23",
   "metadata": {
    "tags": []
   },
   "outputs": [
    {
     "data": {
      "text/html": [
       "<div>\n",
       "<style scoped>\n",
       "    .dataframe tbody tr th:only-of-type {\n",
       "        vertical-align: middle;\n",
       "    }\n",
       "\n",
       "    .dataframe tbody tr th {\n",
       "        vertical-align: top;\n",
       "    }\n",
       "\n",
       "    .dataframe thead th {\n",
       "        text-align: right;\n",
       "    }\n",
       "</style>\n",
       "<table border=\"1\" class=\"dataframe\">\n",
       "  <thead>\n",
       "    <tr style=\"text-align: right;\">\n",
       "      <th></th>\n",
       "      <th>void_frac</th>\n",
       "      <th>void_count</th>\n",
       "      <th>radii</th>\n",
       "      <th>radii_average</th>\n",
       "      <th>positions</th>\n",
       "      <th>touches_side</th>\n",
       "      <th>run_time</th>\n",
       "      <th>created_time</th>\n",
       "      <th>completed_time</th>\n",
       "      <th>mask-path</th>\n",
       "      <th>image-path</th>\n",
       "      <th>rtt</th>\n",
       "      <th>detect_time</th>\n",
       "      <th>positions_corrected-fft</th>\n",
       "      <th>drift</th>\n",
       "    </tr>\n",
       "  </thead>\n",
       "  <tbody>\n",
       "    <tr>\n",
       "      <th>0</th>\n",
       "      <td>0.004645</td>\n",
       "      <td>14</td>\n",
       "      <td>[9.3560257963, 13.1227149792, 14.0708474942, 4...</td>\n",
       "      <td>10.017254</td>\n",
       "      <td>[[434.5490909091, 23.2545454545], [949.0462107...</td>\n",
       "      <td>[False, False, False, False, False, False, Fal...</td>\n",
       "      <td>0.205788</td>\n",
       "      <td>2022-06-21 15:19:58</td>\n",
       "      <td>2023-09-25 07:47:13.718</td>\n",
       "      <td>data/8bitTIFF-video28-600C/masks/Video28-600C-...</td>\n",
       "      <td>data/8bitTIFF-video28-600C/Video28-600C-Minute...</td>\n",
       "      <td>74.376115</td>\n",
       "      <td>2023-09-25 07:45:59.341</td>\n",
       "      <td>[[434.5490909091, 23.2545454545], [949.0462107...</td>\n",
       "      <td>[0, 0]</td>\n",
       "    </tr>\n",
       "    <tr>\n",
       "      <th>1</th>\n",
       "      <td>0.004628</td>\n",
       "      <td>14</td>\n",
       "      <td>[10.0133717672, 12.5397401797, 13.0741121641, ...</td>\n",
       "      <td>9.955283</td>\n",
       "      <td>[[434.9396825397, 23.7396825397], [949.4331983...</td>\n",
       "      <td>[False, False, False, False, False, False, Fal...</td>\n",
       "      <td>0.203068</td>\n",
       "      <td>2022-06-21 15:19:58</td>\n",
       "      <td>2023-09-25 07:47:56.159</td>\n",
       "      <td>data/8bitTIFF-video28-600C/masks/Video28-600C-...</td>\n",
       "      <td>data/8bitTIFF-video28-600C/Video28-600C-Minute...</td>\n",
       "      <td>116.816310</td>\n",
       "      <td>2023-09-25 07:45:59.343</td>\n",
       "      <td>[[434.7166229255, 23.9577121834], [949.2101387...</td>\n",
       "      <td>[0, 0]</td>\n",
       "    </tr>\n",
       "  </tbody>\n",
       "</table>\n",
       "</div>"
      ],
      "text/plain": [
       "   void_frac  void_count                                              radii  \\\n",
       "0   0.004645          14  [9.3560257963, 13.1227149792, 14.0708474942, 4...   \n",
       "1   0.004628          14  [10.0133717672, 12.5397401797, 13.0741121641, ...   \n",
       "\n",
       "   radii_average                                          positions  \\\n",
       "0      10.017254  [[434.5490909091, 23.2545454545], [949.0462107...   \n",
       "1       9.955283  [[434.9396825397, 23.7396825397], [949.4331983...   \n",
       "\n",
       "                                        touches_side  run_time  \\\n",
       "0  [False, False, False, False, False, False, Fal...  0.205788   \n",
       "1  [False, False, False, False, False, False, Fal...  0.203068   \n",
       "\n",
       "         created_time          completed_time  \\\n",
       "0 2022-06-21 15:19:58 2023-09-25 07:47:13.718   \n",
       "1 2022-06-21 15:19:58 2023-09-25 07:47:56.159   \n",
       "\n",
       "                                           mask-path  \\\n",
       "0  data/8bitTIFF-video28-600C/masks/Video28-600C-...   \n",
       "1  data/8bitTIFF-video28-600C/masks/Video28-600C-...   \n",
       "\n",
       "                                          image-path         rtt  \\\n",
       "0  data/8bitTIFF-video28-600C/Video28-600C-Minute...   74.376115   \n",
       "1  data/8bitTIFF-video28-600C/Video28-600C-Minute...  116.816310   \n",
       "\n",
       "              detect_time                            positions_corrected-fft  \\\n",
       "0 2023-09-25 07:45:59.341  [[434.5490909091, 23.2545454545], [949.0462107...   \n",
       "1 2023-09-25 07:45:59.343  [[434.7166229255, 23.9577121834], [949.2101387...   \n",
       "\n",
       "    drift  \n",
       "0  [0, 0]  \n",
       "1  [0, 0]  "
      ]
     },
     "execution_count": 6,
     "metadata": {},
     "output_type": "execute_result"
    }
   ],
   "source": [
    "frame_data = pd.read_json(defect_path, lines=True)\n",
    "frame_data.head(2)"
   ]
  },
  {
   "cell_type": "markdown",
   "id": "750b6373-d0c9-4b87-aa03-f37c3b8dbdaa",
   "metadata": {},
   "source": [
    "## Evaluate Growth of Individual Voids\n",
    "Determine if there are rules which govern the mobility and growth of voids"
   ]
  },
  {
   "cell_type": "markdown",
   "id": "114ba8a7-9897-4fca-a2b8-e8683d673f98",
   "metadata": {},
   "source": [
    "### Coarse Metrics\n",
    "Are they growing or shrinking over their whole life?"
   ]
  },
  {
   "cell_type": "code",
   "execution_count": 7,
   "id": "64fb471d-d0f7-4b25-a8a5-6460bda47bae",
   "metadata": {
    "tags": []
   },
   "outputs": [
    {
     "data": {
      "image/png": "[encoded data removed]",
      "text/plain": [
       "<Figure size 350x400 with 2 Axes>"
      ]
     },
     "metadata": {},
     "output_type": "display_data"
    }
   ],
   "source": [
    "fig, axs = plt.subplots(2, 1, figsize=(3.5, 4.), sharex=True)\n",
    "\n",
    "# Plot the void growth\n",
    "ax = axs[0]\n",
    "ax.scatter(void_tracks['max_radius'] * pixel_size, void_tracks['growth_rate'] * pixel_size, s=1)\n",
    "ax.set_xlim(0, 16)\n",
    "ax.plot(ax.get_xlim(), [0, 0], 'k--', lw=1)\n",
    "ax.set_ylabel('Growth (nm/frame)')\n",
    "\n",
    "# Plot the movement\n",
    "ax = axs[1]\n",
    "ax.scatter(void_tracks['max_radius'] * pixel_size, void_tracks['drift_rate'] * pixel_size, s=1)\n",
    "ax.set_ylabel('Drift (nm/frame)')\n",
    "ax.set_ylim(-0.1, max(ax.get_ylim()))\n",
    "\n",
    "ax.set_xlabel('Void Size, Max (nm)')\n",
    "fig.tight_layout()\n",
    "\n",
    "fig.savefig(out_directory / 'figures/coarse-metrics.png', dpi=320)"
   ]
  },
  {
   "cell_type": "markdown",
   "id": "65134616-383b-430a-bd5f-27de307ee366",
   "metadata": {},
   "source": [
    "Large voids continue to continue to grow, small ones will disappear. Drift (how much it moved from the start) is only noticable for the small voids"
   ]
  },
  {
   "cell_type": "markdown",
   "id": "d1456bad-6b97-49f5-b6cb-53df8d2788f2",
   "metadata": {},
   "source": [
    "### Does that hold on at individual timesteps?\n",
    "Can we look at specific snapshots in time and see if smaller voids are more mobile and less likely to grow.\n",
    "\n",
    "Our strategy will be to fit a smoothing spline to the positions and radii, then estimate the derivatives at a few points along its timeline."
   ]
  },
  {
   "cell_type": "markdown",
   "id": "3f03d6c6-7554-4811-ba5f-b4a373474096",
   "metadata": {},
   "source": [
    "Start by examining a few voids"
   ]
  },
  {
   "cell_type": "code",
   "execution_count": 8,
   "id": "5c07a58d-79f9-49d5-b6c6-13c5ac7d4807",
   "metadata": {
    "tags": []
   },
   "outputs": [],
   "source": [
    "big_void = void_tracks.query('total_frames > 15').sort_values('max_radius', ascending=False).iloc[0]"
   ]
  },
  {
   "cell_type": "code",
   "execution_count": 17,
   "id": "2952b43c-5e5b-4bfa-90fd-10e85d032027",
   "metadata": {
    "tags": []
   },
   "outputs": [],
   "source": [
    "medium_void = void_tracks.query('total_frames > 15').sort_values('max_radius', ascending=False).iloc[1]"
   ]
  },
  {
   "cell_type": "code",
   "execution_count": 18,
   "id": "0b177dfc-03b0-4f42-91be-f4d42a93daf6",
   "metadata": {
    "tags": []
   },
   "outputs": [
    {
     "data": {
      "image/png": "[encoded data removed]",
      "text/plain": [
       "<Figure size 350x450 with 2 Axes>"
      ]
     },
     "metadata": {},
     "output_type": "display_data"
    }
   ],
   "source": [
    "fig, axs = plt.subplots(2, 1, figsize=(3.5, 4.5), sharex=False)\n",
    "\n",
    "for void in [big_void, medium_void]:\n",
    "    # Plot the radius\n",
    "    x = np.arange(void['total_frames']) + void['start_frame']\n",
    "    spline = UnivariateSpline(x, void['radii'])\n",
    "    axs[0].scatter(x, void['radii'], s=1)\n",
    "    axs[0].plot(x, spline(x), 'k-')\n",
    "\n",
    "    # Plot the x-z coordinates\n",
    "    positions = np.array(void['positions'])\n",
    "    positions -= positions[0, :]\n",
    "    x_spline = UnivariateSpline(x, positions[:, 0], )\n",
    "    y_spline = UnivariateSpline(x, positions[:, 1])\n",
    "    axs[1].scatter(positions[:, 0], positions[:, 1], s=1)\n",
    "    axs[1].plot(x_spline(x), y_spline(x), 'k--', lw=1)\n",
    "\n",
    "# Axes\n",
    "axs[0].set_xlabel('Frame')\n",
    "axs[0].set_ylabel('Radius')\n",
    "\n",
    "axs[1].set_xlabel('x')\n",
    "axs[1].set_ylabel('y')\n",
    "fig.tight_layout()"
   ]
  },
  {
   "cell_type": "markdown",
   "id": "b3fd2b2a-3a86-4e3a-9b32-53299779d421",
   "metadata": {
    "editable": true,
    "slideshow": {
     "slide_type": ""
    },
    "tags": []
   },
   "source": [
    "The spline works well with its default settings for the radius. We probably need more smoothing for the y-splines"
   ]
  },
  {
   "cell_type": "markdown",
   "id": "ed5dbd6c-220d-4462-a9a7-b80cd844394a",
   "metadata": {},
   "source": [
    "Repeat analysis for all voids then pick the derivatives at a few frames along the growth"
   ]
  },
  {
   "cell_type": "code",
   "execution_count": 11,
   "id": "5935ddcf-b120-45f3-9763-7a3206d61995",
   "metadata": {
    "tags": []
   },
   "outputs": [
    {
     "name": "stdout",
     "output_type": "stream",
     "text": [
      "Pulled 11893 snapshots\n"
     ]
    }
   ],
   "source": [
    "snapshots = []\n",
    "for _, void in void_tracks.query('total_frames > 48').iterrows():\n",
    "    # Get a mask marking when the measurements are valid\n",
    "    mask = np.logical_not(void['touches_side'])\n",
    "    if mask.sum() < 10:\n",
    "        continue  # Skip if there are too few points\n",
    "    \n",
    "    # Fit a spline to the radii\n",
    "    x = np.arange(void['total_frames'], dtype=int) + void['start_frame']\n",
    "    r_spline = UnivariateSpline(x[mask], np.array(void['radii'])[mask])\n",
    "    \n",
    "    # Get the x and y coordinates\n",
    "    positions = np.array(void['positions'])\n",
    "    x_spline = UnivariateSpline(x[mask], positions[mask, 0])\n",
    "    y_spline = UnivariateSpline(x[mask], positions[mask, 1])\n",
    "    \n",
    "    # Compute the drift from the x and y prints\n",
    "    start = [x_spline(void['start_frame']), y_spline(void['start_frame'])]\n",
    "    positions_smoothed = np.transpose([x_spline(x), y_spline(x)])\n",
    "    drift = np.linalg.norm(np.subtract(positions_smoothed, start), axis=1)\n",
    "    drift_spline = UnivariateSpline(x, drift).derivative(1)\n",
    "    \n",
    "    # Measure it every 20 frames\n",
    "    r_spline_dt = r_spline.derivative(1)\n",
    "    for frame in x:\n",
    "        snapshots.append({\n",
    "            'void': void.name,\n",
    "            'frame': frame,\n",
    "            'radius': r_spline(frame) * pixel_size,\n",
    "            'radius_dt': float(r_spline_dt(frame)) * pixel_size,\n",
    "            'velocity_mag': np.linalg.norm([s(frame, 1) for s in [x_spline, y_spline]]) * pixel_size,\n",
    "            'position-x': positions[frame - void['start_frame'], 0] * pixel_size,\n",
    "            'position-y': positions[frame - void['start_frame'], 1] * pixel_size\n",
    "        })\n",
    "snapshots = pd.DataFrame(snapshots).sample(frac=1)\n",
    "print(f'Pulled {len(snapshots)} snapshots')"
   ]
  },
  {
   "cell_type": "markdown",
   "id": "66fe5ebf-6829-4b74-9b03-b4fac0b5db52",
   "metadata": {},
   "source": [
    "Assign a random color to each void"
   ]
  },
  {
   "cell_type": "code",
   "execution_count": 12,
   "id": "c1ca4a2a-2be0-4749-9a1e-96ad0649d1cc",
   "metadata": {
    "tags": []
   },
   "outputs": [],
   "source": [
    "cmap = colormaps['viridis']"
   ]
  },
  {
   "cell_type": "code",
   "execution_count": 13,
   "id": "8f0294cc-46c9-4fd5-802a-ed3c9bd2ceb2",
   "metadata": {
    "tags": []
   },
   "outputs": [],
   "source": [
    "colors = np.linspace(0, 1, len(void_tracks))\n",
    "rng = np.random.RandomState(1)\n",
    "rng.shuffle(colors)\n",
    "colors = cmap(colors)"
   ]
  },
  {
   "cell_type": "code",
   "execution_count": 14,
   "id": "41f77052-ba72-4855-88a0-8d88dd978f89",
   "metadata": {
    "tags": []
   },
   "outputs": [],
   "source": [
    "snapshots['color'] = snapshots['void'].apply(colors.__getitem__)"
   ]
  },
  {
   "cell_type": "code",
   "execution_count": 15,
   "id": "ab5b8d55-6133-43e1-9b64-d11503099f03",
   "metadata": {
    "editable": true,
    "slideshow": {
     "slide_type": ""
    },
    "tags": []
   },
   "outputs": [
    {
     "data": {
      "image/png": "[encoded data removed]",
      "text/plain": [
       "<Figure size 550x200 with 2 Axes>"
      ]
     },
     "metadata": {},
     "output_type": "display_data"
    }
   ],
   "source": [
    "fig, axs = plt.subplots(1, 2, figsize=(5.5, 2.), sharex=True)\n",
    "\n",
    "alpha = 0.7\n",
    "\n",
    "# Plot the growth\n",
    "ax = axs[0]\n",
    "for gid, group in snapshots.groupby('void'):\n",
    "    # Skip tracks outside the box\n",
    "    if group['radius_dt'].abs().max() > 0.2:\n",
    "        continue\n",
    "    group = group.sort_values('frame')\n",
    "    \n",
    "    # Determine the color for this group\n",
    "    color = group['color'].iloc[0].tolist()\n",
    "    color[3] = alpha  # Set the alpha\n",
    "    ax.plot(group['radius'], group['radius_dt'], 'k--o', \n",
    "            ms=4, lw=1, mfc=color, mec='none', markevery=12)\n",
    "\n",
    "ax.set_xlim(0, max(ax.get_xlim()) * 1.1)\n",
    "ax.plot(ax.get_xlim(), [0, 0], 'k--', lw=1)\n",
    "ax.set_ylabel('Growth (nm/frame)')\n",
    "ax.set_ylim(-0.15, 0.15)\n",
    "\n",
    "# Plot the movement\n",
    "ax = axs[1]\n",
    "for gid, group in snapshots.groupby('void'):\n",
    "    # Skip tracks outside the box\n",
    "    if group['velocity_mag'].abs().max() > 0.4:\n",
    "        continue\n",
    "    group = group.sort_values('frame')\n",
    "    \n",
    "    # Determine the color for this group\n",
    "    color = group['color'].iloc[0].tolist()\n",
    "    color[3] = alpha  # Set the alpha\n",
    "    ax.plot(group['radius'], group['velocity_mag'], 'k--o', \n",
    "            ms=4, lw=1, mfc=color, mec='none', markevery=12)\n",
    "\n",
    "ax.set_ylim(0, 0.4)\n",
    "ax.set_ylabel('Movement')\n",
    "\n",
    "for ax in axs:\n",
    "    ax.set_xlabel('Size (nm)')\n",
    "fig.tight_layout()\n",
    "fig.savefig(out_directory / 'figures/time-resolved-voids.png', dpi=320)"
   ]
  },
  {
   "cell_type": "markdown",
   "id": "7f8db8e1-9893-4c3f-ae7a-aafb070aaf58",
   "metadata": {
    "editable": true,
    "slideshow": {
     "slide_type": ""
    },
    "tags": []
   },
   "source": [
    "Save the smoothed tracks"
   ]
  },
  {
   "cell_type": "code",
   "execution_count": 16,
   "id": "a4776aab-4d7e-4164-9e41-1807a08f1a5c",
   "metadata": {
    "editable": true,
    "slideshow": {
     "slide_type": ""
    },
    "tags": []
   },
   "outputs": [],
   "source": [
    "snapshots.to_csv(out_directory / 'smoothed_tracks.csv', index=False)"
   ]
  },
  {
   "cell_type": "code",
   "execution_count": null,
   "id": "4c4eaec5-407f-41da-b321-f11ae63694ae",
   "metadata": {
    "editable": true,
    "slideshow": {
     "slide_type": ""
    },
    "tags": []
   },
   "outputs": [],
   "source": []
  }
 ],
 "metadata": {
  "kernelspec": {
   "display_name": "Python 3 (ipykernel)",
   "language": "python",
   "name": "python3"
  },
  "language_info": {
   "codemirror_mode": {
    "name": "ipython",
    "version": 3
   },
   "file_extension": ".py",
   "mimetype": "text/x-python",
   "name": "python",
   "nbconvert_exporter": "python",
   "pygments_lexer": "ipython3",
   "version": "3.10.12"
  }
 },
 "nbformat": 4,
 "nbformat_minor": 5
}

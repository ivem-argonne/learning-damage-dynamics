{
 "cells": [
  {
   "cell_type": "markdown",
   "id": "8fb983f5-ae73-419a-b229-af9a6ea95eb3",
   "metadata": {
    "editable": true,
    "slideshow": {
     "slide_type": ""
    },
    "tags": []
   },
   "source": [
    "# Evaluate the Void Growth over Time\n",
    "Use our matched voids to show a few things about how voids move and change. \n",
    "Involves both looking at the entire trajectory and individual points along the line"
   ]
  },
  {
   "cell_type": "code",
   "execution_count": 24,
   "id": "f93fa3bb-2367-489c-9890-a5172e1b127d",
   "metadata": {
    "tags": []
   },
   "outputs": [],
   "source": [
    "%matplotlib inline\n",
    "from matplotlib import pyplot as plt\n",
    "from matplotlib import colormaps\n",
    "from scipy.interpolate import UnivariateSpline\n",
    "from pathlib import Path\n",
    "import pandas as pd\n",
    "import numpy as np"
   ]
  },
  {
   "cell_type": "markdown",
   "id": "43c10f3c-fa3b-48da-adb9-a47a66f909cb",
   "metadata": {},
   "source": [
    "Configuration"
   ]
  },
  {
   "cell_type": "code",
   "execution_count": 25,
   "id": "1b94e800-ed80-47ef-8d3f-91b199d1381b",
   "metadata": {
    "tags": [
     "parameters"
    ]
   },
   "outputs": [],
   "source": [
    "run_directory = '../data/8bitTIFF-video26-575C/'\n",
    "pixel_size = 0.47  # nm/pixel"
   ]
  },
  {
   "cell_type": "code",
   "execution_count": 26,
   "id": "357932cc-0eb8-4057-877e-591ac9b84ec8",
   "metadata": {
    "editable": true,
    "slideshow": {
     "slide_type": ""
    },
    "tags": [
     "parameters"
    ]
   },
   "outputs": [],
   "source": [
    "run_directory = Path(run_directory)\n",
    "run_name = run_directory.name\n",
    "defect_path = f'../0_drift-correction/output/{run_name}/defect-details.json'\n",
    "out_directory = Path('output') / run_name\n",
    "track_path = out_directory / 'tracks.json'"
   ]
  },
  {
   "cell_type": "code",
   "execution_count": 27,
   "id": "88cab4d2-5bc7-4f70-9188-9c1039acd410",
   "metadata": {
    "editable": true,
    "slideshow": {
     "slide_type": ""
    },
    "tags": []
   },
   "outputs": [],
   "source": [
    "(out_directory / 'figures').mkdir(exist_ok=True)"
   ]
  },
  {
   "cell_type": "markdown",
   "id": "c795e095-56e8-4e8c-95a0-3c949e34343c",
   "metadata": {
    "editable": true,
    "slideshow": {
     "slide_type": ""
    },
    "tags": []
   },
   "source": [
    "## Load in the Void Data\n",
    "Load in the void tracks from a previous notebook and the overall summaries in each"
   ]
  },
  {
   "cell_type": "code",
   "execution_count": 28,
   "id": "23587a49-d9dd-4fa9-86ce-cac5a613fa05",
   "metadata": {
    "tags": []
   },
   "outputs": [
    {
     "data": {
      "text/html": [
       "<div>\n",
       "<style scoped>\n",
       "    .dataframe tbody tr th:only-of-type {\n",
       "        vertical-align: middle;\n",
       "    }\n",
       "\n",
       "    .dataframe tbody tr th {\n",
       "        vertical-align: top;\n",
       "    }\n",
       "\n",
       "    .dataframe thead th {\n",
       "        text-align: right;\n",
       "    }\n",
       "</style>\n",
       "<table border=\"1\" class=\"dataframe\">\n",
       "  <thead>\n",
       "    <tr style=\"text-align: right;\">\n",
       "      <th></th>\n",
       "      <th>start_frame</th>\n",
       "      <th>end_frame</th>\n",
       "      <th>total_frames</th>\n",
       "      <th>inferred_frames</th>\n",
       "      <th>positions</th>\n",
       "      <th>touches_side</th>\n",
       "      <th>local_id</th>\n",
       "      <th>disp_from_start</th>\n",
       "      <th>max_disp</th>\n",
       "      <th>drift_rate</th>\n",
       "      <th>dist_traveled</th>\n",
       "      <th>total_traveled</th>\n",
       "      <th>movement_rate</th>\n",
       "      <th>radii</th>\n",
       "      <th>max_radius</th>\n",
       "      <th>min_radius</th>\n",
       "      <th>growth_rate</th>\n",
       "    </tr>\n",
       "  </thead>\n",
       "  <tbody>\n",
       "    <tr>\n",
       "      <th>0</th>\n",
       "      <td>0</td>\n",
       "      <td>520</td>\n",
       "      <td>521</td>\n",
       "      <td>21</td>\n",
       "      <td>[[246.7148148148, 74.8037037037], [247.1412861...</td>\n",
       "      <td>[False, False, False, False, False, False, Fal...</td>\n",
       "      <td>[0, 0, 0, 0, 0, 0, 0, 0, 0, 0, 0, 0, 0, 0, 0, ...</td>\n",
       "      <td>[0.0, 0.7207323498, 1.6175603731, 0.3102163376...</td>\n",
       "      <td>17.105676</td>\n",
       "      <td>0.032832</td>\n",
       "      <td>[0.0, 0.7207323498, 2.7644186212, 4.4814788211...</td>\n",
       "      <td>595.502234</td>\n",
       "      <td>1.142999</td>\n",
       "      <td>[16.0571170454, 15.2331187558, 14.8736468594, ...</td>\n",
       "      <td>16.516403</td>\n",
       "      <td>3.989423</td>\n",
       "      <td>-0.002419</td>\n",
       "    </tr>\n",
       "    <tr>\n",
       "      <th>1</th>\n",
       "      <td>0</td>\n",
       "      <td>713</td>\n",
       "      <td>714</td>\n",
       "      <td>9</td>\n",
       "      <td>[[832.7724637681, 127.8376811594], [832.285769...</td>\n",
       "      <td>[False, False, False, False, False, False, Fal...</td>\n",
       "      <td>[1, 1, 1, 1, 1, 1, 1, 1, 1, 1, 1, 1, 1, 1, 1, ...</td>\n",
       "      <td>[0.0, 0.9450737506, 1.6474574942, 0.9461370726...</td>\n",
       "      <td>16.411571</td>\n",
       "      <td>0.022985</td>\n",
       "      <td>[0.0, 0.9450737506, 1.663214746, 2.7613057034,...</td>\n",
       "      <td>721.226830</td>\n",
       "      <td>1.010122</td>\n",
       "      <td>[14.8200479576, 15.0227064574, 14.7230782274, ...</td>\n",
       "      <td>20.208701</td>\n",
       "      <td>3.989423</td>\n",
       "      <td>0.008937</td>\n",
       "    </tr>\n",
       "  </tbody>\n",
       "</table>\n",
       "</div>"
      ],
      "text/plain": [
       "   start_frame  end_frame  total_frames  inferred_frames  \\\n",
       "0            0        520           521               21   \n",
       "1            0        713           714                9   \n",
       "\n",
       "                                           positions  \\\n",
       "0  [[246.7148148148, 74.8037037037], [247.1412861...   \n",
       "1  [[832.7724637681, 127.8376811594], [832.285769...   \n",
       "\n",
       "                                        touches_side  \\\n",
       "0  [False, False, False, False, False, False, Fal...   \n",
       "1  [False, False, False, False, False, False, Fal...   \n",
       "\n",
       "                                            local_id  \\\n",
       "0  [0, 0, 0, 0, 0, 0, 0, 0, 0, 0, 0, 0, 0, 0, 0, ...   \n",
       "1  [1, 1, 1, 1, 1, 1, 1, 1, 1, 1, 1, 1, 1, 1, 1, ...   \n",
       "\n",
       "                                     disp_from_start   max_disp  drift_rate  \\\n",
       "0  [0.0, 0.7207323498, 1.6175603731, 0.3102163376...  17.105676    0.032832   \n",
       "1  [0.0, 0.9450737506, 1.6474574942, 0.9461370726...  16.411571    0.022985   \n",
       "\n",
       "                                       dist_traveled  total_traveled  \\\n",
       "0  [0.0, 0.7207323498, 2.7644186212, 4.4814788211...      595.502234   \n",
       "1  [0.0, 0.9450737506, 1.663214746, 2.7613057034,...      721.226830   \n",
       "\n",
       "   movement_rate                                              radii  \\\n",
       "0       1.142999  [16.0571170454, 15.2331187558, 14.8736468594, ...   \n",
       "1       1.010122  [14.8200479576, 15.0227064574, 14.7230782274, ...   \n",
       "\n",
       "   max_radius  min_radius  growth_rate  \n",
       "0   16.516403    3.989423    -0.002419  \n",
       "1   20.208701    3.989423     0.008937  "
      ]
     },
     "execution_count": 28,
     "metadata": {},
     "output_type": "execute_result"
    }
   ],
   "source": [
    "void_tracks = pd.read_json(track_path, lines=True)\n",
    "void_tracks.head(2)"
   ]
  },
  {
   "cell_type": "code",
   "execution_count": 29,
   "id": "0613e993-1511-48b7-8f59-4bcf9dbeae23",
   "metadata": {
    "tags": []
   },
   "outputs": [
    {
     "data": {
      "text/html": [
       "<div>\n",
       "<style scoped>\n",
       "    .dataframe tbody tr th:only-of-type {\n",
       "        vertical-align: middle;\n",
       "    }\n",
       "\n",
       "    .dataframe tbody tr th {\n",
       "        vertical-align: top;\n",
       "    }\n",
       "\n",
       "    .dataframe thead th {\n",
       "        text-align: right;\n",
       "    }\n",
       "</style>\n",
       "<table border=\"1\" class=\"dataframe\">\n",
       "  <thead>\n",
       "    <tr style=\"text-align: right;\">\n",
       "      <th></th>\n",
       "      <th>void_frac</th>\n",
       "      <th>void_count</th>\n",
       "      <th>radii</th>\n",
       "      <th>radii_average</th>\n",
       "      <th>positions</th>\n",
       "      <th>touches_side</th>\n",
       "      <th>run_time</th>\n",
       "      <th>created_time</th>\n",
       "      <th>completed_time</th>\n",
       "      <th>mask-path</th>\n",
       "      <th>image-path</th>\n",
       "      <th>rtt</th>\n",
       "      <th>detect_time</th>\n",
       "      <th>positions_corrected-fft</th>\n",
       "      <th>drift</th>\n",
       "    </tr>\n",
       "  </thead>\n",
       "  <tbody>\n",
       "    <tr>\n",
       "      <th>0</th>\n",
       "      <td>0.005616</td>\n",
       "      <td>9</td>\n",
       "      <td>[16.0571170454, 14.8200479576, 10.5248202071, ...</td>\n",
       "      <td>13.793744</td>\n",
       "      <td>[[246.7148148148, 74.8037037037], [832.7724637...</td>\n",
       "      <td>[False, False, False, False, False, False, Fal...</td>\n",
       "      <td>0.202828</td>\n",
       "      <td>2022-06-21 15:17:50</td>\n",
       "      <td>2023-09-25 07:43:36.990</td>\n",
       "      <td>data/8bitTIFF-video26-575C/masks/Video26-600C-...</td>\n",
       "      <td>data/8bitTIFF-video26-575C/Video26-600C-Minute...</td>\n",
       "      <td>72.042686</td>\n",
       "      <td>2023-09-25 07:42:24.947</td>\n",
       "      <td>[[246.7148148148, 74.8037037037], [832.7724637...</td>\n",
       "      <td>[0, 0]</td>\n",
       "    </tr>\n",
       "    <tr>\n",
       "      <th>1</th>\n",
       "      <td>0.005440</td>\n",
       "      <td>9</td>\n",
       "      <td>[15.2331187558, 15.0227064574, 10.9545801878, ...</td>\n",
       "      <td>13.590443</td>\n",
       "      <td>[[247.0219478738, 75.3388203018], [832.1664315...</td>\n",
       "      <td>[False, False, False, False, False, False, Fal...</td>\n",
       "      <td>0.208086</td>\n",
       "      <td>2022-06-21 15:17:50</td>\n",
       "      <td>2023-09-25 07:45:32.786</td>\n",
       "      <td>data/8bitTIFF-video26-575C/masks/Video26-600C-...</td>\n",
       "      <td>data/8bitTIFF-video26-575C/Video26-600C-Minute...</td>\n",
       "      <td>187.833227</td>\n",
       "      <td>2023-09-25 07:42:24.952</td>\n",
       "      <td>[[247.1412861806, 75.3847177261], [832.2857699...</td>\n",
       "      <td>[0, 0]</td>\n",
       "    </tr>\n",
       "  </tbody>\n",
       "</table>\n",
       "</div>"
      ],
      "text/plain": [
       "   void_frac  void_count                                              radii  \\\n",
       "0   0.005616           9  [16.0571170454, 14.8200479576, 10.5248202071, ...   \n",
       "1   0.005440           9  [15.2331187558, 15.0227064574, 10.9545801878, ...   \n",
       "\n",
       "   radii_average                                          positions  \\\n",
       "0      13.793744  [[246.7148148148, 74.8037037037], [832.7724637...   \n",
       "1      13.590443  [[247.0219478738, 75.3388203018], [832.1664315...   \n",
       "\n",
       "                                        touches_side  run_time  \\\n",
       "0  [False, False, False, False, False, False, Fal...  0.202828   \n",
       "1  [False, False, False, False, False, False, Fal...  0.208086   \n",
       "\n",
       "         created_time          completed_time  \\\n",
       "0 2022-06-21 15:17:50 2023-09-25 07:43:36.990   \n",
       "1 2022-06-21 15:17:50 2023-09-25 07:45:32.786   \n",
       "\n",
       "                                           mask-path  \\\n",
       "0  data/8bitTIFF-video26-575C/masks/Video26-600C-...   \n",
       "1  data/8bitTIFF-video26-575C/masks/Video26-600C-...   \n",
       "\n",
       "                                          image-path         rtt  \\\n",
       "0  data/8bitTIFF-video26-575C/Video26-600C-Minute...   72.042686   \n",
       "1  data/8bitTIFF-video26-575C/Video26-600C-Minute...  187.833227   \n",
       "\n",
       "              detect_time                            positions_corrected-fft  \\\n",
       "0 2023-09-25 07:42:24.947  [[246.7148148148, 74.8037037037], [832.7724637...   \n",
       "1 2023-09-25 07:42:24.952  [[247.1412861806, 75.3847177261], [832.2857699...   \n",
       "\n",
       "    drift  \n",
       "0  [0, 0]  \n",
       "1  [0, 0]  "
      ]
     },
     "execution_count": 29,
     "metadata": {},
     "output_type": "execute_result"
    }
   ],
   "source": [
    "frame_data = pd.read_json(defect_path, lines=True)\n",
    "frame_data.head(2)"
   ]
  },
  {
   "cell_type": "markdown",
   "id": "750b6373-d0c9-4b87-aa03-f37c3b8dbdaa",
   "metadata": {},
   "source": [
    "## Evaluate Growth of Individual Voids\n",
    "Determine if there are rules which govern the mobility and growth of voids"
   ]
  },
  {
   "cell_type": "markdown",
   "id": "114ba8a7-9897-4fca-a2b8-e8683d673f98",
   "metadata": {},
   "source": [
    "### Coarse Metrics\n",
    "Are they growing or shrinking over their whole life?"
   ]
  },
  {
   "cell_type": "code",
   "execution_count": 30,
   "id": "64fb471d-d0f7-4b25-a8a5-6460bda47bae",
   "metadata": {
    "tags": []
   },
   "outputs": [
    {
     "data": {
      "image/png": "[encoded data removed]",
      "text/plain": [
       "<Figure size 350x400 with 2 Axes>"
      ]
     },
     "metadata": {},
     "output_type": "display_data"
    }
   ],
   "source": [
    "fig, axs = plt.subplots(2, 1, figsize=(3.5, 4.), sharex=True)\n",
    "\n",
    "# Plot the void growth\n",
    "ax = axs[0]\n",
    "ax.scatter(void_tracks['max_radius'] * pixel_size, void_tracks['growth_rate'] * pixel_size, s=1)\n",
    "ax.set_xlim(0, 16)\n",
    "ax.plot(ax.get_xlim(), [0, 0], 'k--', lw=1)\n",
    "ax.set_ylabel('Growth (nm/frame)')\n",
    "\n",
    "# Plot the movement\n",
    "ax = axs[1]\n",
    "ax.scatter(void_tracks['max_radius'] * pixel_size, void_tracks['drift_rate'] * pixel_size, s=1)\n",
    "ax.set_ylabel('Drift (nm/frame)')\n",
    "ax.set_ylim(-0.1, max(ax.get_ylim()))\n",
    "\n",
    "ax.set_xlabel('Void Size, Max (nm)')\n",
    "fig.tight_layout()\n",
    "\n",
    "fig.savefig(out_directory / 'figures/coarse-metrics.png', dpi=320)"
   ]
  },
  {
   "cell_type": "markdown",
   "id": "65134616-383b-430a-bd5f-27de307ee366",
   "metadata": {},
   "source": [
    "Large voids continue to continue to grow, small ones will disappear. Drift (how much it moved from the start) is only noticable for the small voids"
   ]
  },
  {
   "cell_type": "markdown",
   "id": "d1456bad-6b97-49f5-b6cb-53df8d2788f2",
   "metadata": {},
   "source": [
    "### Does that hold on at individual timesteps?\n",
    "Can we look at specific snapshots in time and see if smaller voids are more mobile and less likely to grow.\n",
    "\n",
    "Our strategy will be to fit a smoothing spline to the positions and radii, then estimate the derivatives at a few points along its timeline."
   ]
  },
  {
   "cell_type": "markdown",
   "id": "3f03d6c6-7554-4811-ba5f-b4a373474096",
   "metadata": {},
   "source": [
    "Start by examining a few voids"
   ]
  },
  {
   "cell_type": "code",
   "execution_count": 31,
   "id": "5c07a58d-79f9-49d5-b6c6-13c5ac7d4807",
   "metadata": {
    "tags": []
   },
   "outputs": [],
   "source": [
    "big_void = void_tracks.sort_values('max_radius', ascending=False).iloc[0]"
   ]
  },
  {
   "cell_type": "code",
   "execution_count": 32,
   "id": "2952b43c-5e5b-4bfa-90fd-10e85d032027",
   "metadata": {
    "tags": []
   },
   "outputs": [],
   "source": [
    "medium_void = void_tracks.sort_values('max_radius', ascending=False).iloc[2]"
   ]
  },
  {
   "cell_type": "code",
   "execution_count": 10,
   "id": "0b177dfc-03b0-4f42-91be-f4d42a93daf6",
   "metadata": {
    "tags": []
   },
   "outputs": [
    {
     "data": {
      "image/png": "[encoded data removed]",
      "text/plain": [
       "<Figure size 350x450 with 2 Axes>"
      ]
     },
     "metadata": {},
     "output_type": "display_data"
    }
   ],
   "source": [
    "fig, axs = plt.subplots(2, 1, figsize=(3.5, 4.5), sharex=False)\n",
    "\n",
    "for void in [big_void, medium_void]:\n",
    "    # Plot the radius\n",
    "    x = np.arange(void['total_frames']) + void['start_frame']\n",
    "    spline = UnivariateSpline(x, void['radii'])\n",
    "    axs[0].scatter(x, void['radii'], s=1)\n",
    "    axs[0].plot(x, spline(x), 'k-')\n",
    "\n",
    "    # Plot the x-z coordinates\n",
    "    positions = np.array(void['positions'])\n",
    "    positions -= positions[0, :]\n",
    "    x_spline = UnivariateSpline(x, positions[:, 0], )\n",
    "    y_spline = UnivariateSpline(x, positions[:, 1])\n",
    "    axs[1].scatter(positions[:, 0], positions[:, 1], s=1)\n",
    "    axs[1].plot(x_spline(x), y_spline(x), 'k--', lw=1)\n",
    "\n",
    "# Axes\n",
    "axs[0].set_xlabel('Frame')\n",
    "axs[0].set_ylabel('Radius')\n",
    "\n",
    "axs[1].set_xlabel('x')\n",
    "axs[1].set_ylabel('y')\n",
    "fig.tight_layout()"
   ]
  },
  {
   "cell_type": "markdown",
   "id": "b3fd2b2a-3a86-4e3a-9b32-53299779d421",
   "metadata": {
    "editable": true,
    "slideshow": {
     "slide_type": ""
    },
    "tags": []
   },
   "source": [
    "The spline works well with its default settings for the radius. We probably need more smoothing for the y-splines"
   ]
  },
  {
   "cell_type": "markdown",
   "id": "ed5dbd6c-220d-4462-a9a7-b80cd844394a",
   "metadata": {},
   "source": [
    "Repeat analysis for all voids then pick the derivatives at a few frames along the growth"
   ]
  },
  {
   "cell_type": "code",
   "execution_count": 1,
   "id": "5935ddcf-b120-45f3-9763-7a3206d61995",
   "metadata": {
    "tags": []
   },
   "outputs": [
    {
     "ename": "NameError",
     "evalue": "name 'void_tracks' is not defined",
     "output_type": "error",
     "traceback": [
      "\u001b[0;31m---------------------------------------------------------------------------\u001b[0m",
      "\u001b[0;31mNameError\u001b[0m                                 Traceback (most recent call last)",
      "Cell \u001b[0;32mIn[1], line 2\u001b[0m\n\u001b[1;32m      1\u001b[0m snapshots \u001b[38;5;241m=\u001b[39m []\n\u001b[0;32m----> 2\u001b[0m \u001b[38;5;28;01mfor\u001b[39;00m _, void \u001b[38;5;129;01min\u001b[39;00m \u001b[43mvoid_tracks\u001b[49m\u001b[38;5;241m.\u001b[39mquery(\u001b[38;5;124m'\u001b[39m\u001b[38;5;124mtotal_frames > 48\u001b[39m\u001b[38;5;124m'\u001b[39m)\u001b[38;5;241m.\u001b[39miterrows():\n\u001b[1;32m      3\u001b[0m     \u001b[38;5;66;03m# Get a mask marking when the measurements are valid\u001b[39;00m\n\u001b[1;32m      4\u001b[0m     mask \u001b[38;5;241m=\u001b[39m np\u001b[38;5;241m.\u001b[39mlogical_not(void[\u001b[38;5;124m'\u001b[39m\u001b[38;5;124mtouches_side\u001b[39m\u001b[38;5;124m'\u001b[39m])\n\u001b[1;32m      5\u001b[0m     \u001b[38;5;28;01mif\u001b[39;00m mask\u001b[38;5;241m.\u001b[39msum() \u001b[38;5;241m<\u001b[39m \u001b[38;5;241m10\u001b[39m:\n",
      "\u001b[0;31mNameError\u001b[0m: name 'void_tracks' is not defined"
     ]
    }
   ],
   "source": [
    "snapshots = []\n",
    "for _, void in void_tracks.query('total_frames > 48').iterrows():\n",
    "    # Get a mask marking when the measurements are valid\n",
    "    mask = np.logical_not(void['touches_side'])\n",
    "    if mask.sum() < 10:\n",
    "        continue  # Skip if there are too few points\n",
    "    \n",
    "    # Fit a spline to the radii\n",
    "    x = np.arange(void['total_frames'], dtype=int) + void['start_frame']\n",
    "    r_spline = UnivariateSpline(x[mask], np.array(void['radii'])[mask])\n",
    "    \n",
    "    # Get the x and y coordinates\n",
    "    positions = np.array(void['positions'])\n",
    "    x_spline = UnivariateSpline(x[mask], positions[mask, 0])\n",
    "    y_spline = UnivariateSpline(x[mask], positions[mask, 1])\n",
    "    \n",
    "    # Compute the drift from the x and y prints\n",
    "    start = [x_spline(void['start_frame']), y_spline(void['start_frame'])]\n",
    "    positions_smoothed = np.transpose([x_spline(x), y_spline(x)])\n",
    "    drift = np.linalg.norm(np.subtract(positions_smoothed, start), axis=1)\n",
    "    drift_spline = UnivariateSpline(x, drift).derivative(1)\n",
    "    \n",
    "    # Measure it every 20 frames\n",
    "    r_spline_dt = r_spline.derivative(1)\n",
    "    for frame in x:\n",
    "        snapshots.append({\n",
    "            'void': void.name,\n",
    "            'frame': frame,\n",
    "            'radius': r_spline(frame) * pixel_size,\n",
    "            'radius_dt': float(r_spline_dt(frame)) * pixel_size,\n",
    "            'velocity_mag': np.linalg.norm([s(frame, 1) for s in [x_spline, y_spline]]) * pixel_size,\n",
    "            'position-x': positions[frame - void['start_frame'], 0] * pixel_size,\n",
    "            'position-y': positions[frame - void['start_frame'], 1] * pixel_size\n",
    "        })\n",
    "snapshots = pd.DataFrame(snapshots).sample(frac=1)\n",
    "print(f'Pulled {len(snapshots)} snapshots')"
   ]
  },
  {
   "cell_type": "markdown",
   "id": "66fe5ebf-6829-4b74-9b03-b4fac0b5db52",
   "metadata": {},
   "source": [
    "Assign a random color to each void"
   ]
  },
  {
   "cell_type": "code",
   "execution_count": 43,
   "id": "c1ca4a2a-2be0-4749-9a1e-96ad0649d1cc",
   "metadata": {
    "tags": []
   },
   "outputs": [],
   "source": [
    "cmap = colormaps['viridis']"
   ]
  },
  {
   "cell_type": "code",
   "execution_count": 44,
   "id": "8f0294cc-46c9-4fd5-802a-ed3c9bd2ceb2",
   "metadata": {
    "tags": []
   },
   "outputs": [],
   "source": [
    "colors = np.linspace(0, 1, len(void_tracks))\n",
    "rng = np.random.RandomState(1)\n",
    "rng.shuffle(colors)\n",
    "colors = cmap(colors)"
   ]
  },
  {
   "cell_type": "code",
   "execution_count": 45,
   "id": "41f77052-ba72-4855-88a0-8d88dd978f89",
   "metadata": {
    "tags": []
   },
   "outputs": [],
   "source": [
    "snapshots['color'] = snapshots['void'].apply(colors.__getitem__)"
   ]
  },
  {
   "cell_type": "code",
   "execution_count": 46,
   "id": "ab5b8d55-6133-43e1-9b64-d11503099f03",
   "metadata": {
    "editable": true,
    "slideshow": {
     "slide_type": ""
    },
    "tags": []
   },
   "outputs": [
    {
     "data": {
      "image/png": "[encoded data removed]",
      "text/plain": [
       "<Figure size 550x200 with 2 Axes>"
      ]
     },
     "metadata": {},
     "output_type": "display_data"
    }
   ],
   "source": [
    "fig, axs = plt.subplots(1, 2, figsize=(5.5, 2.), sharex=True)\n",
    "\n",
    "alpha = 0.7\n",
    "\n",
    "# Plot the growth\n",
    "ax = axs[0]\n",
    "for gid, group in snapshots.groupby('void'):\n",
    "    # Skip tracks outside the box\n",
    "    if group['radius_dt'].abs().max() > 0.2:\n",
    "        continue\n",
    "    group = group.sort_values('frame')\n",
    "    \n",
    "    # Determine the color for this group\n",
    "    color = group['color'].iloc[0].tolist()\n",
    "    color[3] = alpha  # Set the alpha\n",
    "    ax.plot(group['radius'], group['radius_dt'], 'k--o', \n",
    "            ms=4, lw=1, mfc=color, mec='none', markevery=12)\n",
    "\n",
    "ax.set_xlim(0, max(ax.get_xlim()) * 1.1)\n",
    "ax.plot(ax.get_xlim(), [0, 0], 'k--', lw=1)\n",
    "ax.set_ylabel('Growth (nm/frame)')\n",
    "ax.set_ylim(-0.15, 0.15)\n",
    "\n",
    "# Plot the movement\n",
    "ax = axs[1]\n",
    "for gid, group in snapshots.groupby('void'):\n",
    "    # Skip tracks outside the box\n",
    "    if group['velocity_mag'].abs().max() > 0.4:\n",
    "        continue\n",
    "    group = group.sort_values('frame')\n",
    "    \n",
    "    # Determine the color for this group\n",
    "    color = group['color'].iloc[0].tolist()\n",
    "    color[3] = alpha  # Set the alpha\n",
    "    ax.plot(group['radius'], group['velocity_mag'], 'k--o', \n",
    "            ms=4, lw=1, mfc=color, mec='none', markevery=12)\n",
    "\n",
    "ax.set_ylim(0, 0.4)\n",
    "ax.set_ylabel('Movement')\n",
    "\n",
    "for ax in axs:\n",
    "    ax.set_xlabel('Size (nm)')\n",
    "fig.tight_layout()\n",
    "fig.savefig(out_directory / 'figures/time-resolved-voids.png', dpi=320)"
   ]
  },
  {
   "cell_type": "markdown",
   "id": "7f8db8e1-9893-4c3f-ae7a-aafb070aaf58",
   "metadata": {
    "editable": true,
    "slideshow": {
     "slide_type": ""
    },
    "tags": []
   },
   "source": [
    "Save the smoothed tracks"
   ]
  },
  {
   "cell_type": "code",
   "execution_count": 16,
   "id": "a4776aab-4d7e-4164-9e41-1807a08f1a5c",
   "metadata": {
    "editable": true,
    "slideshow": {
     "slide_type": ""
    },
    "tags": []
   },
   "outputs": [],
   "source": [
    "snapshots.to_csv(out_directory / 'smoothed_tracks.csv', index=False)"
   ]
  },
  {
   "cell_type": "code",
   "execution_count": null,
   "id": "4c4eaec5-407f-41da-b321-f11ae63694ae",
   "metadata": {
    "editable": true,
    "slideshow": {
     "slide_type": ""
    },
    "tags": []
   },
   "outputs": [],
   "source": []
  }
 ],
 "metadata": {
  "kernelspec": {
   "display_name": "Python 3 (ipykernel)",
   "language": "python",
   "name": "python3"
  },
  "language_info": {
   "codemirror_mode": {
    "name": "ipython",
    "version": 3
   },
   "file_extension": ".py",
   "mimetype": "text/x-python",
   "name": "python",
   "nbconvert_exporter": "python",
   "pygments_lexer": "ipython3",
   "version": "3.10.12"
  }
 },
 "nbformat": 4,
 "nbformat_minor": 5
}

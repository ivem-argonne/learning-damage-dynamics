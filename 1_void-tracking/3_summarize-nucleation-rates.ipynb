{
 "cells": [
  {
   "cell_type": "markdown",
   "id": "c76da263-794f-4eba-83df-a3b60faff27d",
   "metadata": {},
   "source": [
    "# Summarize Growth and Nucleation Rates\n",
    "There are continually new voids which grow large enough to appear and small enough to disappear from microscopy.\n",
    "We assume these rates correspond to the nucleation and dissolution rates.\n",
    "\n",
    "The goal of this notebook is to establish an estimate for these rates by fitting a model which explains the appearance and disapperance of voids."
   ]
  },
  {
   "cell_type": "code",
   "execution_count": 1,
   "id": "7892cd3b-4784-4ace-b6b7-8d19b7f3e781",
   "metadata": {
    "tags": []
   },
   "outputs": [],
   "source": [
    "%matplotlib inline\n",
    "from matplotlib import pyplot as plt\n",
    "from scipy.optimize import minimize\n",
    "from pathlib import Path\n",
    "from scipy import stats\n",
    "import pandas as pd\n",
    "import numpy as np\n",
    "import json"
   ]
  },
  {
   "cell_type": "markdown",
   "id": "5d5bde64-ac1c-4da5-8b56-3873a4f99c53",
   "metadata": {},
   "source": [
    "Configuration"
   ]
  },
  {
   "cell_type": "code",
   "execution_count": 2,
   "id": "869200b4-75fe-4647-b41d-025bd1a63145",
   "metadata": {
    "editable": true,
    "slideshow": {
     "slide_type": ""
    },
    "tags": [
     "parameters"
    ]
   },
   "outputs": [],
   "source": [
    "run_directory = '../data/8bitTIFF-video26-575C/'"
   ]
  },
  {
   "cell_type": "markdown",
   "id": "bebbc842-8294-44da-b1dc-4f4767c6f6fd",
   "metadata": {
    "editable": true,
    "slideshow": {
     "slide_type": ""
    },
    "tags": []
   },
   "source": [
    "Derived"
   ]
  },
  {
   "cell_type": "code",
   "execution_count": 3,
   "id": "c402153e-58df-4a2e-8c61-2ae719348b6c",
   "metadata": {
    "editable": true,
    "slideshow": {
     "slide_type": ""
    },
    "tags": []
   },
   "outputs": [],
   "source": [
    "run_directory = Path(run_directory)\n",
    "run_name = run_directory.name\n",
    "out_directory = Path('output') / run_name"
   ]
  },
  {
   "cell_type": "markdown",
   "id": "c13f43d3-97bf-4e6b-bd38-8264b9037a46",
   "metadata": {},
   "source": [
    "## Load in Data\n",
    "We need the tracked voids."
   ]
  },
  {
   "cell_type": "code",
   "execution_count": 4,
   "id": "bdd3e274-f7a2-4945-a66d-e8f568ba57db",
   "metadata": {
    "tags": []
   },
   "outputs": [
    {
     "name": "stdout",
     "output_type": "stream",
     "text": [
      "Loaded 1662 distinct tracks\n"
     ]
    }
   ],
   "source": [
    "tracks = pd.read_json(out_directory / 'tracks.json', lines=True)\n",
    "print(f'Loaded {len(tracks)} distinct tracks')"
   ]
  },
  {
   "cell_type": "code",
   "execution_count": 5,
   "id": "f28ee38f-1108-474c-961d-4aa702b51174",
   "metadata": {
    "tags": []
   },
   "outputs": [
    {
     "name": "stdout",
     "output_type": "stream",
     "text": [
      "Found 549 voids that appeared for more than a few frames\n"
     ]
    }
   ],
   "source": [
    "long_tracks = tracks.query('total_frames > 10')\n",
    "print(f'Found {len(long_tracks)} voids that appeared for more than a few frames')"
   ]
  },
  {
   "cell_type": "markdown",
   "id": "3bef69f8-9df5-4473-8074-e27d71c28903",
   "metadata": {},
   "source": [
    "Narrow down to things that appear and disappear during the run"
   ]
  },
  {
   "cell_type": "code",
   "execution_count": 6,
   "id": "c93164a6-3562-4703-925d-9516ce20a6bc",
   "metadata": {
    "tags": []
   },
   "outputs": [
    {
     "name": "stdout",
     "output_type": "stream",
     "text": [
      "Found 513 voids that appear then disappear during the movie\n"
     ]
    }
   ],
   "source": [
    "buffer = 10\n",
    "last_frame = tracks['end_frame'].max()\n",
    "long_tracks = long_tracks.query(f'start_frame > {buffer} and end_frame < {last_frame - buffer}')\n",
    "print(f'Found {len(long_tracks)} voids that appear then disappear during the movie')"
   ]
  },
  {
   "cell_type": "markdown",
   "id": "196aa567-761d-4655-9707-8b0a3d5230d3",
   "metadata": {},
   "source": [
    "Eliminate those which start and exit near the side"
   ]
  },
  {
   "cell_type": "code",
   "execution_count": 7,
   "id": "9134f296-45f8-4a38-b465-0d8f8a4643b6",
   "metadata": {
    "tags": []
   },
   "outputs": [
    {
     "name": "stdout",
     "output_type": "stream",
     "text": [
      "Found 485 which do not move in or out of frame.\n"
     ]
    }
   ],
   "source": [
    "out_of_frame = long_tracks['touches_side'].apply(lambda x: any(x[-buffer:]) or any(x[:buffer]))\n",
    "long_tracks = long_tracks[~ out_of_frame]\n",
    "print(f'Found {len(long_tracks)} which do not move in or out of frame.')"
   ]
  },
  {
   "cell_type": "markdown",
   "id": "05af80c4-88fd-4077-b3ea-35daf8993140",
   "metadata": {},
   "source": [
    "## Evaluating Qualitatively\n",
    "Let's start by examining the data. How many new voids appear and disappear within a certain bin of times."
   ]
  },
  {
   "cell_type": "code",
   "execution_count": 8,
   "id": "7b0d0bb1-f40e-4b8d-8913-431e6108494b",
   "metadata": {
    "tags": []
   },
   "outputs": [
    {
     "name": "stdout",
     "output_type": "stream",
     "text": [
      "Made 64 bins that are each 13 frames wide\n"
     ]
    }
   ],
   "source": [
    "bins = np.linspace(long_tracks['start_frame'].min(), long_tracks['end_frame'].max(), 64, dtype=int)\n",
    "width = bins[1] - bins[0]\n",
    "print(f'Made {len(bins)} bins that are each {width} frames wide')"
   ]
  },
  {
   "cell_type": "markdown",
   "id": "52c13068-75df-4023-b083-5e4ceace36c1",
   "metadata": {},
   "source": [
    "Make the counts"
   ]
  },
  {
   "cell_type": "code",
   "execution_count": 9,
   "id": "f695fe85-06fe-46f6-9f0f-77eaa5a74697",
   "metadata": {
    "tags": []
   },
   "outputs": [],
   "source": [
    "appear_counts, _ = np.histogram(long_tracks['start_frame'], bins=bins)\n",
    "disappear_counts, _ = np.histogram(long_tracks['end_frame'], bins=bins)"
   ]
  },
  {
   "cell_type": "code",
   "execution_count": 10,
   "id": "53df70f9-8fb1-4926-b468-64cd770ceae3",
   "metadata": {
    "tags": []
   },
   "outputs": [
    {
     "data": {
      "image/png": "[encoded data removed]",
      "text/plain": [
       "<Figure size 350x200 with 1 Axes>"
      ]
     },
     "metadata": {},
     "output_type": "display_data"
    }
   ],
   "source": [
    "fig, ax = plt.subplots(figsize=(3.5, 2.))\n",
    "\n",
    "ax.bar(bins[:-1], appear_counts, width=width * 0.8, color='blue')\n",
    "ax.bar(bins[:-1], -disappear_counts, width=width*0.8, color='red')\n",
    "\n",
    "ax.set_xlabel('Frame')\n",
    "ax.set_ylabel('Change')\n",
    "fig.tight_layout()\n",
    "fig.savefig(out_directory / 'figures' / 'nucleation-and-dissolution-over-time.png', dpi=320)"
   ]
  },
  {
   "cell_type": "markdown",
   "id": "cf2fe932-afa6-4692-9cf5-488679952da4",
   "metadata": {},
   "source": [
    "To my eye, the rates seem to be gradually growing over time (for 575C)"
   ]
  },
  {
   "cell_type": "markdown",
   "id": "733125ce-e19d-4e01-8655-2e87fea5b3f1",
   "metadata": {},
   "source": [
    "## Setting up the Models\n",
    "We have a few different options for explaining the nucleation of voids, all of which rely on assuming a \"nuclation rate\"\n",
    "We do not directly measure the nucleation rate direction but only the number of voids which appear and disappear between frames.\n",
    "The two are related, which lets us estimate a rate given the data.\n",
    "\n",
    "For nucleation, we assume a certain rate unit area/volume which means we can describe the distribution of the number of nucleation events as a [Poisson Distribution](https://en.wikipedia.org/wiki/Poisson_distribution). \n",
    "\n",
    "For dissolution, we assume _each void_ has a certain probability of disappearing over time. The number of dissolution events is related to the number of voids, so we assume a [Binomial Distribution](https://en.wikipedia.org/wiki/Binomial_distribution) to explain the number of events per time.\n",
    "\n",
    "We will fit both of these models under a few simplifying assumptions:\n",
    "1. The rates of dissolution or do not change over time. This is a constraint we will relax later.\n",
    "2. The rate of nucleation is unaffected by the number of voids present. This assumption may be problematic, as voids likely inhibit growth of new voids because they absorb vanacies before they could cluster to form new voids.\n",
    "3. Dissolution rates are unaffected by size. Probably not true either, larger voids are less bound to disappear immediately\n",
    "4. No voids appear then disappear between two frames. Our training set is composed of voids that are present for many frames so that we are focused on rates of \"long-lived voids\" appearing and dissolving."
   ]
  },
  {
   "cell_type": "markdown",
   "id": "a4f63e83-41e5-4b40-9538-338fcf6a74a4",
   "metadata": {},
   "source": [
    "Start by measuring the change at each frame"
   ]
  },
  {
   "cell_type": "code",
   "execution_count": 11,
   "id": "959206dc-fdf4-4436-8e0e-25ed772bad6f",
   "metadata": {
    "tags": []
   },
   "outputs": [],
   "source": [
    "frames = np.arange(long_tracks['start_frame'].min(), long_tracks['end_frame'].max() + 1)\n",
    "start_by_frame = long_tracks['start_frame'].value_counts().to_dict()\n",
    "end_by_frame = long_tracks['end_frame'].value_counts().to_dict()\n",
    "change_by_frame = pd.DataFrame({\n",
    "    'frame': frames,\n",
    "    'appeared': [start_by_frame.get(i, 0) for i in frames],  # Number appeared in this frame\n",
    "    'disappeared': [end_by_frame.get(i, 0) for i in frames],  # Number that disappeared between this and next\n",
    "})\n"
   ]
  },
  {
   "cell_type": "markdown",
   "id": "80370969-2878-4a28-8561-ee664735cf7f",
   "metadata": {},
   "source": [
    "Compute by how much the amount changes between each frame"
   ]
  },
  {
   "cell_type": "code",
   "execution_count": 12,
   "id": "4cec24c9-6038-4ab2-a2bb-2d5645e801f7",
   "metadata": {},
   "outputs": [],
   "source": [
    "change_by_frame['delta'] = change_by_frame['appeared']  # It increases by the number in appeared in this farmae\n",
    "change_by_frame['delta'][1:] -= change_by_frame['disappeared'].values[:-1]  # Decreases by number that disappeared from last frame"
   ]
  },
  {
   "cell_type": "code",
   "execution_count": 13,
   "id": "2168bd19-558b-4981-99f5-fc67c0020a4a",
   "metadata": {
    "tags": []
   },
   "outputs": [],
   "source": [
    "change_by_frame['total'] = change_by_frame['delta'].cumsum()"
   ]
  },
  {
   "cell_type": "code",
   "execution_count": 14,
   "id": "8ad6fc11-6a2c-462a-8ba3-f87d93dfe4b7",
   "metadata": {
    "tags": []
   },
   "outputs": [
    {
     "data": {
      "image/png": "[encoded data removed]",
      "text/plain": [
       "<Figure size 650x200 with 3 Axes>"
      ]
     },
     "metadata": {},
     "output_type": "display_data"
    }
   ],
   "source": [
    "fig, axs = plt.subplots(1, 3, figsize=(6.5, 2.))\n",
    "\n",
    "# Plot the total over time\n",
    "ax = axs[0]\n",
    "ax.plot(change_by_frame['frame'], change_by_frame['total'])\n",
    "ax.set_xlabel('Frame')\n",
    "ax.set_ylabel('Tracked Voids')\n",
    "\n",
    "# Plot the distribution of number appeared\n",
    "ax = axs[1]\n",
    "counts = change_by_frame['appeared'].value_counts()\n",
    "ax.bar(counts.index, counts)\n",
    "ax.set_xlabel('N Appeared')\n",
    "ax.set_ylabel('Frequency')\n",
    "\n",
    "# Plot the distribution of number appeared\n",
    "ax = axs[2]\n",
    "bin_max = np.percentile(long_tracks['total_frames'], 99)\n",
    "ax.hist(long_tracks['total_frames'], bins=np.linspace(0, bin_max, 32))\n",
    "ax.set_xlabel('Length')\n",
    "ax.set_ylabel('Frequency')\n",
    "\n",
    "\n",
    "fig.tight_layout()"
   ]
  },
  {
   "cell_type": "markdown",
   "id": "de704ecf-563c-44ab-89da-b080e261ac08",
   "metadata": {},
   "source": [
    "*Note*: For at least 575C, the distributions seem to describe our data well. The number appearing in each frame follows a Poisson distribution with a small &lambda; and the path lengths follow a [geometric distribution](https://en.wikipedia.org/wiki/Geometric_distribution). "
   ]
  },
  {
   "cell_type": "markdown",
   "id": "fe3fd5dc-37f8-4ddc-b75e-426e6c97752c",
   "metadata": {},
   "source": [
    "Estimate the parameters given coarse statistics"
   ]
  },
  {
   "cell_type": "code",
   "execution_count": 15,
   "id": "a9d9af96-2bb6-41f2-8397-d1964b88e892",
   "metadata": {
    "tags": []
   },
   "outputs": [],
   "source": [
    "nuc_rate_start = change_by_frame['appeared'].mean()  # The mean of a Poisson dist is the lambda parameter"
   ]
  },
  {
   "cell_type": "code",
   "execution_count": 16,
   "id": "41237256-2634-477f-945f-6b30c2f625d8",
   "metadata": {
    "tags": []
   },
   "outputs": [],
   "source": [
    "dis_prob_start = 1. / long_tracks['total_frames'].mean()  # Each individual is dissolves following the a Bernoulli process, so we can estimate the rate from the number of survivals"
   ]
  },
  {
   "cell_type": "markdown",
   "id": "cd2a5385-73d8-4792-a403-5828d75ee2c0",
   "metadata": {},
   "source": [
    "Use these as starting points to drive a larger optimization"
   ]
  },
  {
   "cell_type": "code",
   "execution_count": 17,
   "id": "8d5c6749-1076-45ba-bb1a-70e33168e180",
   "metadata": {
    "tags": []
   },
   "outputs": [],
   "source": [
    "def generate_distributions(start_count: int, nuc_rate: float, dissolve_prob: float) -> tuple[stats.rv_discrete, stats.rv_discrete]:\n",
    "    \"\"\"Generate the probability distributions for the number of voids nucleated and dissolved.\n",
    "    \n",
    "    Args:\n",
    "        start_count: Number of voids in the current frame\n",
    "        nuc_rate: Nucleation rate\n",
    "        dissolve_prob: Probability that a void will dissolve\n",
    "    Returns:\n",
    "        - Distribution of expected number of dissolution events\n",
    "        - Distribution of expected number of nucleation events\n",
    "    \"\"\"\n",
    "    \n",
    "    # The nucleation rate is unaffected by system state\n",
    "    nuc_dist = stats.poisson(nuc_rate)\n",
    "    \n",
    "    # The dissolution rate depends on the number of active voids\n",
    "    dis_dist = stats.binom(start_count, dissolve_prob)\n",
    "    \n",
    "    return nuc_dist, dis_dist"
   ]
  },
  {
   "cell_type": "code",
   "execution_count": 18,
   "id": "308c051e-ef21-4696-9216-9ca70e34ccf7",
   "metadata": {
    "tags": []
   },
   "outputs": [],
   "source": [
    "def log_loss(frame_stats: pd.DataFrame, nuc_rate: float, dist_prob: float) -> float:\n",
    "    \"\"\"Compute the log-likelihood of observing the per-frame changes\n",
    "    \n",
    "    Args:\n",
    "        frame_stats: Holds the number of appearances, \n",
    "            total number of voids, and number of dissolutions per frame\n",
    "        nuc_rate, dist_prob: See parameters for `generate_distributions`\n",
    "    Returns:\n",
    "        Log-likelihood of all data\n",
    "    \"\"\"\n",
    "    \n",
    "    # Start by making the distributions\n",
    "    app_dist, dis_dist = generate_distributions(frame_stats['total'], nuc_rate, dist_prob)\n",
    "    \n",
    "    # Compute the log probabilities of observing the data\n",
    "    app_logprb = app_dist.logpmf(frame_stats['appeared']).sum()\n",
    "    dist_logprb = dis_dist.logpmf(frame_stats['disappeared']).sum()\n",
    "\n",
    "    return dist_logprb + app_logprb"
   ]
  },
  {
   "cell_type": "code",
   "execution_count": 19,
   "id": "9cf97d7a-0b55-49f1-ba2f-57b212a60891",
   "metadata": {
    "tags": []
   },
   "outputs": [
    {
     "data": {
      "text/plain": [
       "-1691.8024254702"
      ]
     },
     "execution_count": 19,
     "metadata": {},
     "output_type": "execute_result"
    }
   ],
   "source": [
    "log_loss(change_by_frame, nuc_rate_start, dis_prob_start)"
   ]
  },
  {
   "cell_type": "markdown",
   "id": "e86f11bb-4c35-465a-9812-f28a2af899e8",
   "metadata": {},
   "source": [
    "Minimize the negative log loss"
   ]
  },
  {
   "cell_type": "code",
   "execution_count": 20,
   "id": "f59b9fe5-05b5-4bd9-aca4-8e2763c6e669",
   "metadata": {
    "tags": []
   },
   "outputs": [
    {
     "data": {
      "text/plain": [
       "       message: Optimization terminated successfully.\n",
       "       success: True\n",
       "        status: 0\n",
       "           fun: 1691.8024254702\n",
       "             x: [ 5.543e-01  3.441e-02]\n",
       "           nit: 17\n",
       "          nfev: 35\n",
       " final_simplex: (array([[ 5.543e-01,  3.441e-02],\n",
       "                       [ 5.544e-01,  3.442e-02],\n",
       "                       [ 5.543e-01,  3.442e-02]]), array([ 1.692e+03,  1.692e+03,  1.692e+03]))"
      ]
     },
     "execution_count": 20,
     "metadata": {},
     "output_type": "execute_result"
    }
   ],
   "source": [
    "result = minimize(lambda x: -log_loss(change_by_frame, *x), (nuc_rate_start, dis_prob_start), method='Nelder-Mead')\n",
    "result"
   ]
  },
  {
   "cell_type": "markdown",
   "id": "ed8beed5-3037-47cd-9421-b4d82c6b4cf0",
   "metadata": {},
   "source": [
    "Save the results"
   ]
  },
  {
   "cell_type": "code",
   "execution_count": 21,
   "id": "757b177a-46a2-487a-8d7b-0a0d7d4b98e0",
   "metadata": {
    "tags": []
   },
   "outputs": [],
   "source": [
    "with open(out_directory / 'rate-parameters.json', 'w') as fp:\n",
    "    json.dump({\n",
    "        'nucleation_rate': result.x[0],\n",
    "        'dissolution_prob': result.x[1]\n",
    "    }, fp)"
   ]
  },
  {
   "cell_type": "code",
   "execution_count": null,
   "id": "3bd5001a-638f-4c71-ba9e-5cd6fd07ed60",
   "metadata": {},
   "outputs": [],
   "source": []
  }
 ],
 "metadata": {
  "kernelspec": {
   "display_name": "Python 3 (ipykernel)",
   "language": "python",
   "name": "python3"
  },
  "language_info": {
   "codemirror_mode": {
    "name": "ipython",
    "version": 3
   },
   "file_extension": ".py",
   "mimetype": "text/x-python",
   "name": "python",
   "nbconvert_exporter": "python",
   "pygments_lexer": "ipython3",
   "version": "3.10.12"
  }
 },
 "nbformat": 4,
 "nbformat_minor": 5
}

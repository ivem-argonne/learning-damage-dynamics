{
 "cells": [
  {
   "cell_type": "markdown",
   "id": "4a0646a7-ae7c-42ab-a009-498c17acb8a3",
   "metadata": {},
   "source": [
    "# Summarize Void Growth and Movement\n",
    "Determine whether time or size affect the mobility or growth rates of voids."
   ]
  },
  {
   "cell_type": "code",
   "execution_count": 1,
   "id": "f179d0ad-978e-4750-b127-3f64571e5375",
   "metadata": {},
   "outputs": [],
   "source": [
    "%matplotlib inline\n",
    "from matplotlib import pyplot as plt\n",
    "from matplotlib import colormaps\n",
    "from scipy.optimize import minimize\n",
    "from scipy.stats import norm, lognorm\n",
    "from functools import partial\n",
    "from multiprocessing import Pool\n",
    "from pathlib import Path\n",
    "from cycler import cycle\n",
    "import pandas as pd\n",
    "import numpy as np\n",
    "import emcee\n",
    "import json"
   ]
  },
  {
   "cell_type": "markdown",
   "id": "ab3a0571-119b-448a-a495-0e4d9448ade5",
   "metadata": {},
   "source": [
    "Configuration"
   ]
  },
  {
   "cell_type": "code",
   "execution_count": 2,
   "id": "7634d052-e4c7-4a9b-a4e1-63f858db9831",
   "metadata": {
    "editable": true,
    "slideshow": {
     "slide_type": ""
    },
    "tags": [
     "parameters"
    ]
   },
   "outputs": [],
   "source": [
    "run_directory = '../data/8bitTIFF-video24-550C'"
   ]
  },
  {
   "cell_type": "markdown",
   "id": "3bfde8a0-70fd-41d2-a185-75013c4a593b",
   "metadata": {
    "editable": true,
    "slideshow": {
     "slide_type": ""
    },
    "tags": []
   },
   "source": [
    "Other key paths"
   ]
  },
  {
   "cell_type": "code",
   "execution_count": 3,
   "id": "429956c0-6759-45d4-9888-f9418156e490",
   "metadata": {
    "editable": true,
    "slideshow": {
     "slide_type": ""
    },
    "tags": []
   },
   "outputs": [],
   "source": [
    "run_directory = Path(run_directory)\n",
    "run_name = run_directory.name\n",
    "out_directory = Path('output') / run_name"
   ]
  },
  {
   "cell_type": "markdown",
   "id": "1f5db767-e56b-495f-a7dc-5ea2f265f4ae",
   "metadata": {
    "editable": true,
    "slideshow": {
     "slide_type": ""
    },
    "tags": []
   },
   "source": [
    "## Load the Smoothed Tracks\n",
    "We are going to start from the tasks after smoothing them with splines"
   ]
  },
  {
   "cell_type": "code",
   "execution_count": 4,
   "id": "5c790fe7-f57e-4e2b-b846-e24c75946d85",
   "metadata": {
    "editable": true,
    "slideshow": {
     "slide_type": ""
    },
    "tags": []
   },
   "outputs": [
    {
     "name": "stdout",
     "output_type": "stream",
     "text": [
      "Loaded 2558 records from 17 voids\n"
     ]
    }
   ],
   "source": [
    "track_data = pd.read_csv(out_directory / 'smoothed_tracks.csv')\n",
    "print(f'Loaded {len(track_data)} records from {len(track_data[\"void\"].value_counts())} voids')"
   ]
  },
  {
   "cell_type": "code",
   "execution_count": 5,
   "id": "fad80c0a-a4a8-49a9-8c91-9d4b8459b86b",
   "metadata": {
    "editable": true,
    "slideshow": {
     "slide_type": ""
    },
    "tags": []
   },
   "outputs": [
    {
     "data": {
      "text/html": [
       "<div>\n",
       "<style scoped>\n",
       "    .dataframe tbody tr th:only-of-type {\n",
       "        vertical-align: middle;\n",
       "    }\n",
       "\n",
       "    .dataframe tbody tr th {\n",
       "        vertical-align: top;\n",
       "    }\n",
       "\n",
       "    .dataframe thead th {\n",
       "        text-align: right;\n",
       "    }\n",
       "</style>\n",
       "<table border=\"1\" class=\"dataframe\">\n",
       "  <thead>\n",
       "    <tr style=\"text-align: right;\">\n",
       "      <th></th>\n",
       "      <th>void</th>\n",
       "      <th>frame</th>\n",
       "      <th>radius</th>\n",
       "      <th>radius_dt</th>\n",
       "      <th>velocity_mag</th>\n",
       "      <th>position-x</th>\n",
       "      <th>position-y</th>\n",
       "      <th>color</th>\n",
       "    </tr>\n",
       "  </thead>\n",
       "  <tbody>\n",
       "    <tr>\n",
       "      <th>0</th>\n",
       "      <td>193</td>\n",
       "      <td>422</td>\n",
       "      <td>3.655775</td>\n",
       "      <td>-0.011185</td>\n",
       "      <td>0.006624</td>\n",
       "      <td>462.258592</td>\n",
       "      <td>135.588053</td>\n",
       "      <td>[0.225863 0.330805 0.547314 1.      ]</td>\n",
       "    </tr>\n",
       "    <tr>\n",
       "      <th>1</th>\n",
       "      <td>118</td>\n",
       "      <td>400</td>\n",
       "      <td>4.293406</td>\n",
       "      <td>-0.008532</td>\n",
       "      <td>0.003046</td>\n",
       "      <td>139.535770</td>\n",
       "      <td>212.042469</td>\n",
       "      <td>[0.150148 0.676631 0.506589 1.      ]</td>\n",
       "    </tr>\n",
       "    <tr>\n",
       "      <th>2</th>\n",
       "      <td>3</td>\n",
       "      <td>35</td>\n",
       "      <td>3.738911</td>\n",
       "      <td>0.029312</td>\n",
       "      <td>0.039266</td>\n",
       "      <td>464.777018</td>\n",
       "      <td>449.218899</td>\n",
       "      <td>[0.404001 0.800275 0.362552 1.      ]</td>\n",
       "    </tr>\n",
       "    <tr>\n",
       "      <th>3</th>\n",
       "      <td>111</td>\n",
       "      <td>325</td>\n",
       "      <td>5.431482</td>\n",
       "      <td>0.000569</td>\n",
       "      <td>0.001144</td>\n",
       "      <td>70.459376</td>\n",
       "      <td>226.081019</td>\n",
       "      <td>[0.220124 0.725509 0.466226 1.      ]</td>\n",
       "    </tr>\n",
       "    <tr>\n",
       "      <th>4</th>\n",
       "      <td>14</td>\n",
       "      <td>55</td>\n",
       "      <td>2.634231</td>\n",
       "      <td>-0.022364</td>\n",
       "      <td>0.214583</td>\n",
       "      <td>74.598702</td>\n",
       "      <td>226.975201</td>\n",
       "      <td>[0.13777  0.537492 0.554906 1.      ]</td>\n",
       "    </tr>\n",
       "  </tbody>\n",
       "</table>\n",
       "</div>"
      ],
      "text/plain": [
       "   void  frame    radius  radius_dt  velocity_mag  position-x  position-y  \\\n",
       "0   193    422  3.655775  -0.011185      0.006624  462.258592  135.588053   \n",
       "1   118    400  4.293406  -0.008532      0.003046  139.535770  212.042469   \n",
       "2     3     35  3.738911   0.029312      0.039266  464.777018  449.218899   \n",
       "3   111    325  5.431482   0.000569      0.001144   70.459376  226.081019   \n",
       "4    14     55  2.634231  -0.022364      0.214583   74.598702  226.975201   \n",
       "\n",
       "                                   color  \n",
       "0  [0.225863 0.330805 0.547314 1.      ]  \n",
       "1  [0.150148 0.676631 0.506589 1.      ]  \n",
       "2  [0.404001 0.800275 0.362552 1.      ]  \n",
       "3  [0.220124 0.725509 0.466226 1.      ]  \n",
       "4  [0.13777  0.537492 0.554906 1.      ]  "
      ]
     },
     "execution_count": 5,
     "metadata": {},
     "output_type": "execute_result"
    }
   ],
   "source": [
    "track_data.head()"
   ]
  },
  {
   "cell_type": "markdown",
   "id": "fb2e9267-fbed-4f6e-93b4-4f34ba1d4209",
   "metadata": {
    "editable": true,
    "slideshow": {
     "slide_type": ""
    },
    "tags": []
   },
   "source": [
    "## Detect Outliers\n",
    "See if any of the growth rates are particularly unlikely compared to the others. We are going to use methods based on the IQR for simplicity's sake"
   ]
  },
  {
   "cell_type": "markdown",
   "id": "444e3f16-415d-4993-b403-f260412639d0",
   "metadata": {},
   "source": [
    "### Growth\n",
    "From the previous notebook, we can see that growth terms are relatively smooth. So, I'm leery to refer to points as outliers unless they are far out"
   ]
  },
  {
   "cell_type": "code",
   "execution_count": 6,
   "id": "bf2b10c0-193c-497f-be09-7f7118464920",
   "metadata": {
    "tags": []
   },
   "outputs": [],
   "source": [
    "iqr_rdt = np.diff(np.percentile(track_data['radius_dt'], [25, 75]))[0]"
   ]
  },
  {
   "cell_type": "code",
   "execution_count": 7,
   "id": "befb4d18-b4b8-4aa1-890d-b02dcbea53b0",
   "metadata": {
    "tags": []
   },
   "outputs": [],
   "source": [
    "k = 5  # Based on https://aakinshin.net/posts/tukey-outlier-probability/\n",
    "upper_thr = np.percentile(track_data['radius_dt'], 75) + k * iqr_rdt\n",
    "lower_thr = np.percentile(track_data['radius_dt'], 25) - k * iqr_rdt"
   ]
  },
  {
   "cell_type": "code",
   "execution_count": 8,
   "id": "91b38274-fa8b-42ba-9129-2ea2f702ec02",
   "metadata": {
    "tags": []
   },
   "outputs": [
    {
     "data": {
      "text/plain": [
       "Text(0, 0.5, 'Count')"
      ]
     },
     "execution_count": 8,
     "metadata": {},
     "output_type": "execute_result"
    },
    {
     "data": {
      "image/png": "[encoded data removed]",
      "text/plain": [
       "<Figure size 350x200 with 1 Axes>"
      ]
     },
     "metadata": {},
     "output_type": "display_data"
    }
   ],
   "source": [
    "fig, ax = plt.subplots(figsize=(3.5, 2.))\n",
    "\n",
    "ax.hist(track_data['radius_dt'], bins=1024)\n",
    "\n",
    "ax.set_ylim(ax.get_ylim())\n",
    "for thr in [lower_thr, upper_thr]:\n",
    "    ax.plot([thr]*2, ax.get_ylim(), 'k--')\n",
    "\n",
    "ax.set_xlabel('Growth Rate (nm/frame)')\n",
    "ax.set_ylabel('Count')"
   ]
  },
  {
   "cell_type": "code",
   "execution_count": 9,
   "id": "4190b863-1c94-4541-9e22-1e9e1ad67195",
   "metadata": {
    "tags": []
   },
   "outputs": [
    {
     "name": "stdout",
     "output_type": "stream",
     "text": [
      "Found 359 outliers\n"
     ]
    }
   ],
   "source": [
    "track_data['growth_outlier'] = np.logical_or(track_data['radius_dt'] > upper_thr, track_data['radius_dt'] < lower_thr)\n",
    "print(f'Found {track_data[\"growth_outlier\"].sum()} outliers')"
   ]
  },
  {
   "cell_type": "markdown",
   "id": "2cdce785-c100-4612-9e78-076d1986d576",
   "metadata": {},
   "source": [
    "### Movement\n",
    "Movement is more jittery but I need to be less aggressive on movement rates because most voids are sessile. Only the rare void moves"
   ]
  },
  {
   "cell_type": "code",
   "execution_count": 10,
   "id": "b7aae3e8-f65e-487d-990c-911e87969415",
   "metadata": {
    "tags": []
   },
   "outputs": [],
   "source": [
    "iqr_rdt = np.diff(np.percentile(track_data['velocity_mag'], [25, 75]))[0]"
   ]
  },
  {
   "cell_type": "code",
   "execution_count": 11,
   "id": "2ae41478-59b2-4ffa-8de1-d5325018981b",
   "metadata": {
    "tags": []
   },
   "outputs": [
    {
     "name": "stdout",
     "output_type": "stream",
     "text": [
      "Bounds for movement: 0.865, -0.757\n"
     ]
    }
   ],
   "source": [
    "k = 8  # Based on https://aakinshin.net/posts/tukey-outlier-probability/\n",
    "upper_thr = np.percentile(track_data['velocity_mag'], 75) + k * iqr_rdt\n",
    "lower_thr = np.percentile(track_data['velocity_mag'], 25) - k * iqr_rdt\n",
    "print(f'Bounds for movement: {upper_thr:.3f}, {lower_thr:.3f}')"
   ]
  },
  {
   "cell_type": "code",
   "execution_count": 12,
   "id": "9049046d-7c80-4d15-9d81-b85c1bf06b9f",
   "metadata": {
    "tags": []
   },
   "outputs": [
    {
     "data": {
      "text/plain": [
       "Text(0, 0.5, 'Count')"
      ]
     },
     "execution_count": 12,
     "metadata": {},
     "output_type": "execute_result"
    },
    {
     "data": {
      "image/png": "[encoded data removed]",
      "text/plain": [
       "<Figure size 350x200 with 1 Axes>"
      ]
     },
     "metadata": {},
     "output_type": "display_data"
    }
   ],
   "source": [
    "fig, ax = plt.subplots(figsize=(3.5, 2.))\n",
    "\n",
    "ax.hist(track_data['velocity_mag'], bins=1024)\n",
    "\n",
    "ax.set_ylim(ax.get_ylim())\n",
    "for thr in [lower_thr, upper_thr]:\n",
    "    ax.plot([thr]*2, ax.get_ylim(), 'k--')\n",
    "\n",
    "ax.set_xlabel('Movement Rate (nm/frame)')\n",
    "ax.set_ylabel('Count')"
   ]
  },
  {
   "cell_type": "code",
   "execution_count": 13,
   "id": "3b536f2e-ca2e-4e75-9f25-662cbe60022e",
   "metadata": {
    "tags": []
   },
   "outputs": [
    {
     "name": "stdout",
     "output_type": "stream",
     "text": [
      "Found 179 outliers\n"
     ]
    }
   ],
   "source": [
    "track_data['movement_outlier'] = np.logical_or(track_data['velocity_mag'] > upper_thr, track_data['velocity_mag'] < lower_thr)\n",
    "print(f'Found {track_data[\"movement_outlier\"].sum()} outliers')"
   ]
  },
  {
   "cell_type": "markdown",
   "id": "913b79f2-7260-4539-92fc-c517ec347c29",
   "metadata": {},
   "source": [
    "### Drop outliers\n",
    "Exclude if it is an outlier for either"
   ]
  },
  {
   "cell_type": "code",
   "execution_count": 14,
   "id": "be83f6e3-49fe-45a1-9e73-13349c301fe0",
   "metadata": {
    "tags": []
   },
   "outputs": [
    {
     "name": "stdout",
     "output_type": "stream",
     "text": [
      "New size: 2162. 84.52% passed.\n"
     ]
    }
   ],
   "source": [
    "old_size = len(track_data)\n",
    "track_data.query('not (movement_outlier or growth_outlier)', inplace=True)\n",
    "print(f'New size: {len(track_data)}. {len(track_data) / old_size * 100:.2f}% passed.')"
   ]
  },
  {
   "cell_type": "markdown",
   "id": "2edf7efb-de27-4fb9-a7a4-a8c2a0766afb",
   "metadata": {
    "editable": true,
    "slideshow": {
     "slide_type": ""
    },
    "tags": []
   },
   "source": [
    "## Re-plot the void tracks\n",
    "Drop the first and last 5 frames of the void track. Those are right where the void moved or changed enough that it "
   ]
  },
  {
   "cell_type": "markdown",
   "id": "b206e227-bcb2-46b0-b24b-fa2c7d2c43d7",
   "metadata": {},
   "source": [
    "Assign a random color to each void"
   ]
  },
  {
   "cell_type": "code",
   "execution_count": 15,
   "id": "7bf655b1-54b9-4ffe-a291-cb7ec5a582ce",
   "metadata": {
    "tags": []
   },
   "outputs": [],
   "source": [
    "cmap = colormaps['nipy_spectral']"
   ]
  },
  {
   "cell_type": "code",
   "execution_count": 16,
   "id": "39e14681-c91a-418c-863c-f480f8bb89ec",
   "metadata": {
    "tags": []
   },
   "outputs": [],
   "source": [
    "colors = np.linspace(0, 1, len(track_data['void'].value_counts()))\n",
    "rng = np.random.RandomState(1)\n",
    "rng.shuffle(colors)\n",
    "colors = cmap(colors)"
   ]
  },
  {
   "cell_type": "code",
   "execution_count": 17,
   "id": "3a0e9b31-a55a-4535-9128-19b0dbc007ae",
   "metadata": {
    "tags": []
   },
   "outputs": [],
   "source": [
    "known_voids = sorted(set(track_data['void']))\n",
    "track_data['color'] = track_data['void'].apply(known_voids.index).apply(colors.__getitem__)"
   ]
  },
  {
   "cell_type": "code",
   "execution_count": 18,
   "id": "1fd26e25-d859-4b1e-aa80-8800884704ae",
   "metadata": {
    "tags": []
   },
   "outputs": [
    {
     "data": {
      "image/png": "[encoded data removed]",
      "text/plain": [
       "<Figure size 550x200 with 2 Axes>"
      ]
     },
     "metadata": {},
     "output_type": "display_data"
    }
   ],
   "source": [
    "fig, axs = plt.subplots(1, 2, figsize=(5.5, 2.), sharex=True)\n",
    "\n",
    "alpha = 0.7\n",
    "\n",
    "# Plot the growth\n",
    "ax = axs[0]\n",
    "for (gid, group), m in zip(track_data.groupby('void'), cycle('osv^p')):\n",
    "    ax.text(0, 0.9, '(a)', transform=ax.transAxes, fontsize=10, weight='normal')\n",
    "    group = group.sort_values('frame')\n",
    "    \n",
    "    # Determine the color for this group\n",
    "    color = group['color'].iloc[0].tolist()\n",
    "    color[3] = alpha  # Set the alpha\n",
    "    ax.plot(group['radius'], group['radius_dt'], m, \n",
    "            ms=4, lw=1, mfc=color, mec='none', markevery=12)\n",
    "\n",
    "ax.set_xlim(0, max(ax.get_xlim()) * 1.1)\n",
    "ax.plot(ax.get_xlim(), [0, 0], 'k--', lw=1)\n",
    "ax.set_ylabel('Growth (nm/frame)')\n",
    "ax.set_ylim(-0.05, 0.05)\n",
    "\n",
    "# Plot the movement\n",
    "ax = axs[1]\n",
    "for gid, group in track_data.groupby('void'):\n",
    "    ax.text(0, 0.9, '(b)', transform=ax.transAxes, fontsize=10, weight='normal')\n",
    "    # Determine the color for this group\n",
    "    color = group['color'].iloc[0].tolist()\n",
    "    color[3] = alpha  # Set the alpha\n",
    "    ax.plot(group['radius'], group['velocity_mag'], 'o', \n",
    "            ms=4, lw=1, mfc=color, mec='none', markevery=12)\n",
    "\n",
    "ax.set_ylim(0, 0.4)\n",
    "ax.set_ylabel('Movement (nm/frame)')\n",
    "\n",
    "for ax in axs:\n",
    "    ax.set_xlabel('Size (nm)')\n",
    "fig.tight_layout()\n",
    "fig.savefig(out_directory / 'figures/time-resolved-voids-by-size.png', dpi=320)"
   ]
  },
  {
   "cell_type": "code",
   "execution_count": 19,
   "id": "cb35a572-f79d-4eac-a8c5-ad40ce77be1e",
   "metadata": {
    "tags": []
   },
   "outputs": [
    {
     "data": {
      "image/png": "[encoded data removed]",
      "text/plain": [
       "<Figure size 550x200 with 2 Axes>"
      ]
     },
     "metadata": {},
     "output_type": "display_data"
    }
   ],
   "source": [
    "fig, axs = plt.subplots(1, 2, figsize=(5.5, 2.), sharex=True)\n",
    "\n",
    "alpha = 0.7\n",
    "\n",
    "# Plot the growth\n",
    "ax = axs[0]\n",
    "for gid, group in track_data.query('radius > 6').groupby('void'):\n",
    "    ax.text(0, 0.9, '(a)', transform=ax.transAxes, fontsize=10, weight='normal')\n",
    "    group = group.sort_values('frame')\n",
    "    \n",
    "    # Determine the color for this group\n",
    "    color = group['color'].iloc[0].tolist()\n",
    "    color[3] = alpha  # Set the alpha\n",
    "    ax.plot(group['frame'], group['radius_dt'], 'o', \n",
    "            ms=4, lw=1, mfc=color, mec='none', markevery=12)\n",
    "\n",
    "ax.set_xlim(0, max(ax.get_xlim()) * 1.1)\n",
    "ax.plot(ax.get_xlim(), [0, 0], 'k--', lw=1)\n",
    "ax.set_ylabel('Growth (nm/s)')\n",
    "ax.set_ylim(-0.05, 0.05)\n",
    "\n",
    "# Plot the movement\n",
    "ax = axs[1]\n",
    "for gid, group in track_data.query('radius > 6').groupby('void'):\n",
    "    ax.text(0, 0.9, '(b)', transform=ax.transAxes, fontsize=10, weight='normal')\n",
    "    # Determine the color for this group\n",
    "    color = group['color'].iloc[0].tolist()\n",
    "    color[3] = alpha  # Set the alpha\n",
    "    ax.plot(group['frame'], group['velocity_mag'], 'o', \n",
    "            ms=4, lw=1, mfc=color, mec='none', markevery=12)\n",
    "\n",
    "ax.set_ylim(0, 0.4)\n",
    "ax.set_ylabel('Movement (nm/s)')\n",
    "\n",
    "for ax in axs:\n",
    "    ax.set_xlabel('Frame')\n",
    "fig.tight_layout()\n",
    "fig.savefig(out_directory / 'figures/time-resolved-voids-by-time.png', dpi=320)"
   ]
  },
  {
   "cell_type": "markdown",
   "id": "1db1709b-0c42-4524-9de1-3588f0fe9550",
   "metadata": {},
   "source": [
    "## Fit a model for void growth and movement\n",
    "We can assume that both the mean and variance of growth rate for a void is a function of size. We'll use the assumptions from the [Gibbs-Thompson coarsening](https://github.com/ivem-argonne/learning-damage-dynamics/issues/8), which relates\n",
    "\n",
    "$\\frac{dr}{dt} \\propto \\frac{1}{r}(\\Theta_m - \\frac{1}{r})$\n",
    "\n",
    "We reflect this with a probabilistic model which assumes the mean according to the Gibbs-Thompson effect and a variance which varies linearly with particle size.\n",
    "\n",
    "$\\dot{r} \\sim N(\\frac{\\alpha_0}{r} (\\alpha_1 - \\frac{1}{r}), 10^{\\beta_0 + \\beta_1 r})$\n",
    "\n",
    "We fit this distribution my minimizing the log-likelihood of the observed data, which are pairs of $r$ and $\\dot{r}$.\n",
    "\n",
    "We will assume a linear model for movement follows a logarithmic model.\n",
    "\n",
    "$\\log\\left|v\\right| \\sim N(\\alpha_0 + \\alpha_1 r, 10^{\\beta_0 + \\beta_1 r})$\n",
    "\n",
    "We'll compare each of these against a constant, \"unaffected by size\" baseline."
   ]
  },
  {
   "cell_type": "code",
   "execution_count": 20,
   "id": "952e6564-dbb1-46c0-b673-08dac4b828d9",
   "metadata": {
    "tags": []
   },
   "outputs": [],
   "source": [
    "def gt_model(r: float | np.ndarray, params: list[float]):\n",
    "    \"\"\"Get the expected distribution following the Gibbs-Thompson model\n",
    "    \n",
    "    Args:\n",
    "        radius: Sizes of the void\n",
    "        params: Parameters for the distribution model.\n",
    "            Ordered as [alpha, beta]\n",
    "    Returns:\n",
    "        Distribution for all voids\n",
    "    \"\"\"\n",
    "    return norm(params[0] / r * (params[1] - 1 / r), np.power(10, params[2] + params[3] * r))"
   ]
  },
  {
   "cell_type": "code",
   "execution_count": 21,
   "id": "74d54a50-c539-4758-ab3f-079bd6645ea6",
   "metadata": {
    "tags": []
   },
   "outputs": [],
   "source": [
    "def linear_model(r: float | np.ndarray, params: list[float]):\n",
    "    \"\"\"Get the expected distribution following a linear model\n",
    "    \n",
    "    Args:\n",
    "        radius: Sizes of the void\n",
    "        params: Parameters for the distribution model.\n",
    "            Ordered as [alpha, beta]\n",
    "    Returns:\n",
    "        Distribution for all voids\n",
    "    \"\"\"\n",
    "    return norm(params[0] + params[1] * r, np.power(10, params[2] + params[3] * r))"
   ]
  },
  {
   "cell_type": "code",
   "execution_count": 22,
   "id": "94a92101-ac70-42de-8690-2105432e3b6a",
   "metadata": {
    "tags": []
   },
   "outputs": [],
   "source": [
    "def constant_model(r: float | np.ndarray, params: list[float]):\n",
    "    \"\"\"Get the expected distribution following a constant model\n",
    "    \n",
    "    Args:\n",
    "        radius: Sizes of the void\n",
    "        params: Parameters for the distribution model.\n",
    "            Ordered as [alpha, beta]\n",
    "    Returns:\n",
    "        Distribution for all voids\n",
    "    \"\"\"\n",
    "    return norm(params[0], np.power(10, params[1] + params[2] * r))"
   ]
  },
  {
   "cell_type": "markdown",
   "id": "bb74d4f2-606f-433e-ae38-5cb1c8f8c058",
   "metadata": {},
   "source": [
    "Fit the GT, linear, and constant models for void growth"
   ]
  },
  {
   "cell_type": "code",
   "execution_count": 23,
   "id": "fd542cb7-4e4b-41d4-9d51-92afd4b39d18",
   "metadata": {
    "tags": []
   },
   "outputs": [],
   "source": [
    "def log_probability(params: list[float], data: pd.DataFrame, dist_function, target_column: str = 'radius_dt') -> float:\n",
    "    \"\"\"Compute the log probability of the data given a \n",
    "    model which explains the property being an effect of \n",
    "    radius.\n",
    "    \n",
    "    Args:\n",
    "        params: Parameters for the distribution. We assume the parameters for the \n",
    "        data: Data of the void distribution\n",
    "        dist_function: Function which returns the distribution expected given size\n",
    "        target_column: Column being fit\n",
    "    \"\"\"\n",
    "    \n",
    "    r = data['radius']\n",
    "    growth_dist = dist_function(r, params)\n",
    "    ll = growth_dist.logpdf(data[target_column])\n",
    "    return ll.sum()"
   ]
  },
  {
   "cell_type": "code",
   "execution_count": 24,
   "id": "6e1b88bb-6712-4848-80da-4198c70e98d6",
   "metadata": {
    "tags": []
   },
   "outputs": [
    {
     "data": {
      "text/plain": [
       "  message: CONVERGENCE: REL_REDUCTION_OF_F_<=_FACTR*EPSMCH\n",
       "  success: True\n",
       "   status: 0\n",
       "      fun: -3597.575119306457\n",
       "        x: [ 1.458e-01  0.000e+00 -1.397e+00  1.157e-02]\n",
       "      nit: 24\n",
       "      jac: [-5.821e-03  9.978e+00 -9.686e-03 -4.475e-02]\n",
       "     nfev: 140\n",
       "     njev: 28\n",
       " hess_inv: <4x4 LbfgsInvHessProduct with dtype=float64>"
      ]
     },
     "execution_count": 24,
     "metadata": {},
     "output_type": "execute_result"
    }
   ],
   "source": [
    "result = minimize(\n",
    "    lambda x: -log_probability(x, track_data, gt_model), \n",
    "    x0=[1, 1, -1, 0], \n",
    "    bounds=[[0, np.inf]] * 2 + [[-20, 20]] * 2\n",
    ")\n",
    "result"
   ]
  },
  {
   "cell_type": "code",
   "execution_count": 25,
   "id": "9bcfc2b6-627d-449e-9396-284bd4efd253",
   "metadata": {
    "tags": []
   },
   "outputs": [
    {
     "name": "stdout",
     "output_type": "stream",
     "text": [
      "Void growth following GT model is defined by: 1.46e-01 / r (0.00e+00 - 1 / r)\n"
     ]
    }
   ],
   "source": [
    "growth_gt_params = result.x\n",
    "print(f'Void growth following GT model is defined by: {growth_gt_params[0]:.2e} / r ({growth_gt_params[1]:.2e} - 1 / r)')"
   ]
  },
  {
   "cell_type": "code",
   "execution_count": 26,
   "id": "d3d38a97-3dda-4f41-b8a6-61d0caacb394",
   "metadata": {},
   "outputs": [
    {
     "data": {
      "text/plain": [
       "  message: Desired error not necessarily achieved due to precision loss.\n",
       "  success: False\n",
       "   status: 2\n",
       "      fun: -3595.5294908884416\n",
       "        x: [-1.802e-02  1.940e-03 -1.391e+00  1.050e-02]\n",
       "      nit: 44\n",
       "      jac: [-5.359e-02 -1.628e-01  2.319e-03  1.096e-02]\n",
       " hess_inv: [[ 1.309e-05 -2.473e-06  7.237e-06 -1.421e-06]\n",
       "            [-2.473e-06  5.039e-07 -1.367e-06  2.646e-07]\n",
       "            [ 7.237e-06 -1.367e-06  6.854e-04 -1.293e-04]\n",
       "            [-1.421e-06  2.646e-07 -1.293e-04  2.608e-05]]\n",
       "     nfev: 600\n",
       "     njev: 118"
      ]
     },
     "execution_count": 26,
     "metadata": {},
     "output_type": "execute_result"
    }
   ],
   "source": [
    "result = minimize(\n",
    "    lambda x: -log_probability(x, track_data, linear_model), \n",
    "    x0=[1, 0, -1, 0], \n",
    ")\n",
    "result"
   ]
  },
  {
   "cell_type": "code",
   "execution_count": 27,
   "id": "a1c63bfd-7c20-4b3b-a87b-629834045bdd",
   "metadata": {
    "tags": []
   },
   "outputs": [
    {
     "name": "stdout",
     "output_type": "stream",
     "text": [
      "Void growth following linear model is defined by: -1.80e-02 + 1.94e-03 r\n"
     ]
    }
   ],
   "source": [
    "growth_lin_params = result.x\n",
    "print(f'Void growth following linear model is defined by: {growth_lin_params[0]:.2e} + {growth_lin_params[1]:.2e} r')"
   ]
  },
  {
   "cell_type": "code",
   "execution_count": 28,
   "id": "f9059dca-6ec8-4a1e-b25d-7212947db79c",
   "metadata": {},
   "outputs": [
    {
     "data": {
      "text/plain": [
       "  message: Desired error not necessarily achieved due to precision loss.\n",
       "  success: False\n",
       "   status: 2\n",
       "      fun: -3591.8468117804186\n",
       "        x: [-8.502e-03 -1.386e+00  9.691e-03]\n",
       "      nit: 12\n",
       "      jac: [ 0.000e+00  0.000e+00  3.052e-05]\n",
       " hess_inv: [[ 9.822e-07  2.165e-06 -4.304e-07]\n",
       "            [ 2.165e-06  5.806e-04 -1.071e-04]\n",
       "            [-4.304e-07 -1.071e-04  2.141e-05]]\n",
       "     nfev: 248\n",
       "     njev: 59"
      ]
     },
     "execution_count": 28,
     "metadata": {},
     "output_type": "execute_result"
    }
   ],
   "source": [
    "result = minimize(\n",
    "    lambda x: -log_probability(x, track_data, constant_model), \n",
    "    x0=[0, -1, 0], \n",
    ")\n",
    "result"
   ]
  },
  {
   "cell_type": "code",
   "execution_count": 29,
   "id": "e528190e-8d54-4bb3-afc6-77f4596756d8",
   "metadata": {
    "tags": []
   },
   "outputs": [
    {
     "name": "stdout",
     "output_type": "stream",
     "text": [
      "Void growth following const model is defined by: -8.50e-03\n"
     ]
    }
   ],
   "source": [
    "growth_const_params = result.x\n",
    "print(f'Void growth following const model is defined by: {growth_const_params[0]:.2e}')"
   ]
  },
  {
   "cell_type": "markdown",
   "id": "a313bc80-ee71-4a02-9772-0ffbefdbf11d",
   "metadata": {},
   "source": [
    "Repeat for movement"
   ]
  },
  {
   "cell_type": "code",
   "execution_count": 30,
   "id": "79f19531-b7df-4e07-ae05-6f75dd5230af",
   "metadata": {
    "tags": []
   },
   "outputs": [
    {
     "data": {
      "text/plain": [
       "  message: Desired error not necessarily achieved due to precision loss.\n",
       "  success: False\n",
       "   status: 2\n",
       "      fun: 3887.273679627254\n",
       "        x: [-3.953e+00 -4.488e-02  2.620e-02  2.772e-02]\n",
       "      nit: 16\n",
       "      jac: [ 0.000e+00 -6.104e-05  9.155e-05  5.493e-04]\n",
       " hess_inv: [[ 6.520e-05 -5.867e-05 -5.866e-05  1.135e-05]\n",
       "            [-5.867e-05  7.173e-05  7.173e-05 -1.674e-05]\n",
       "            [-5.866e-05  7.173e-05  7.176e-05 -1.675e-05]\n",
       "            [ 1.135e-05 -1.674e-05 -1.675e-05  6.196e-06]]\n",
       "     nfev: 170\n",
       "     njev: 34"
      ]
     },
     "execution_count": 30,
     "metadata": {},
     "output_type": "execute_result"
    }
   ],
   "source": [
    "track_data['log_velocity_mag'] = np.log(track_data['velocity_mag'])\n",
    "result = minimize(lambda x: -log_probability(x, track_data, linear_model, 'log_velocity_mag'), [-1, 0, 0, 1])\n",
    "result"
   ]
  },
  {
   "cell_type": "code",
   "execution_count": 31,
   "id": "4043f457-d965-4756-b424-fef63f0bdd86",
   "metadata": {
    "tags": []
   },
   "outputs": [
    {
     "name": "stdout",
     "output_type": "stream",
     "text": [
      "Log void movement is defined by: -3.95e+00 + -4.49e-02 * r\n"
     ]
    }
   ],
   "source": [
    "movement_lin_params = result.x\n",
    "print(f'Log void movement is defined by: {movement_lin_params[0]:.2e} + {movement_lin_params[1]:.2e} * r')"
   ]
  },
  {
   "cell_type": "code",
   "execution_count": 32,
   "id": "c8b6a3b2-cda3-4687-ad40-3da19348164c",
   "metadata": {
    "tags": []
   },
   "outputs": [
    {
     "data": {
      "text/plain": [
       "  message: Desired error not necessarily achieved due to precision loss.\n",
       "  success: False\n",
       "   status: 2\n",
       "      fun: 3889.009590998018\n",
       "        x: [-4.167e+00  4.149e-02  2.473e-02]\n",
       "      nit: 12\n",
       "      jac: [ 0.000e+00 -3.052e-05 -3.052e-05]\n",
       " hess_inv: [[ 1.012e-03 -8.523e-06  2.410e-06]\n",
       "            [-8.523e-06  1.700e-05 -5.124e-06]\n",
       "            [ 2.410e-06 -5.124e-06  2.956e-06]]\n",
       "     nfev: 100\n",
       "     njev: 25"
      ]
     },
     "execution_count": 32,
     "metadata": {},
     "output_type": "execute_result"
    }
   ],
   "source": [
    "track_data['log_velocity_mag'] = np.log(track_data['velocity_mag'])\n",
    "result = minimize(lambda x: -log_probability(x, track_data, constant_model, 'log_velocity_mag'), [0, 0, 1])\n",
    "result"
   ]
  },
  {
   "cell_type": "code",
   "execution_count": 33,
   "id": "8d0b446b-cadb-4228-b819-2fbf2edac5a2",
   "metadata": {
    "tags": []
   },
   "outputs": [
    {
     "name": "stdout",
     "output_type": "stream",
     "text": [
      "Log void movement is defined by: -4.17e+00\n"
     ]
    }
   ],
   "source": [
    "movement_const_params = result.x\n",
    "print(f'Log void movement is defined by: {movement_const_params[0]:.2e}')"
   ]
  },
  {
   "cell_type": "code",
   "execution_count": 34,
   "id": "cefe00aa-99cd-4124-80a1-e62c574efa38",
   "metadata": {
    "tags": []
   },
   "outputs": [
    {
     "data": {
      "image/png": "[encoded data removed]",
      "text/plain": [
       "<Figure size 550x200 with 2 Axes>"
      ]
     },
     "metadata": {},
     "output_type": "display_data"
    }
   ],
   "source": [
    "fig, axs = plt.subplots(1, 2, figsize=(5.5, 2.), sharex=True)\n",
    "\n",
    "alpha = 0.7\n",
    "\n",
    "marker_list = 'osv^p<>hHP*XD'\n",
    "\n",
    "# Plot the growth\n",
    "ax = axs[0]\n",
    "for (gid, group), m in zip(track_data.groupby('void'), cycle(marker_list)):\n",
    "    ax.text(0, 0.9, '(a)', transform=ax.transAxes, fontsize=10, weight='normal')\n",
    "    group = group.sort_values('frame')\n",
    "    \n",
    "    # Determine the color for this group\n",
    "    color = group['color'].iloc[0].tolist()\n",
    "    color[3] = alpha  # Set the alpha\n",
    "    ax.plot(group['radius'], group['radius_dt'], m, \n",
    "            ms=3, lw=1, mfc=color, mec='none', markevery=12)\n",
    "\n",
    "ax.set_xlim(0, max(ax.get_xlim()) * 1.1)\n",
    "ax.plot(ax.get_xlim(), [0, 0], '--', c='gray', lw=0.7)\n",
    "ax.set_ylabel('Growth (nm/s)')\n",
    "ax.set_ylim(-0.05, 0.05)\n",
    "\n",
    "steps = np.linspace(0, ax.get_xlim()[1], 36)[1:]\n",
    "dist = gt_model(steps, growth_gt_params)\n",
    "mean = dist.mean()\n",
    "std = dist.std()\n",
    "ax.plot(steps, mean, 'k')\n",
    "ax.fill_between(steps, mean + std, mean - std, alpha=0.3, color='k', edgecolor='none')\n",
    "\n",
    "# Plot the movement\n",
    "ax = axs[1]\n",
    "for (gid, group), m in zip(track_data.groupby('void'), cycle(marker_list)):\n",
    "    ax.text(0, 0.9, '(b)', transform=ax.transAxes, fontsize=10, weight='normal')\n",
    "    # Determine the color for this group\n",
    "    color = group['color'].iloc[0].tolist()\n",
    "    color[3] = alpha  # Set the alpha\n",
    "    ax.plot(group['radius'], group['velocity_mag'], m, \n",
    "            ms=3, lw=1, mfc=color, mec='none', markevery=12)\n",
    "\n",
    "ax.set_ylim(0, 0.4)\n",
    "ax.set_ylabel('Movement (nm/s)')\n",
    "\n",
    "ax.text(0.3, 0.87, f'$\\log\\\\left|v\\\\right|\\sim{movement_lin_params[0]:.1f}{movement_lin_params[1]:+.1f}r$',\n",
    "       transform=ax.transAxes, fontsize=8)\n",
    "\n",
    "steps = np.linspace(*ax.get_xlim(), 64)\n",
    "dist = linear_model(steps, movement_lin_params)\n",
    "mean = dist.mean()\n",
    "std = dist.std()\n",
    "ax.plot(steps, np.exp(mean), 'k')\n",
    "ax.fill_between(steps, np.exp(mean + std), np.exp(mean - std), alpha=0.3, color='k', edgecolor='none')\n",
    "\n",
    "\n",
    "for ax in axs:\n",
    "    ax.set_xlabel('Size (nm)')\n",
    "fig.tight_layout()\n",
    "fig.savefig(out_directory / 'figures/time-resolved-voids-by-size.png', dpi=320)"
   ]
  },
  {
   "cell_type": "markdown",
   "id": "94d87721-bbee-489a-b3aa-95474b508a7c",
   "metadata": {},
   "source": [
    "## Use MCMC Sampling to Estimate Parameter Uncertainties\n",
    "The above only gives us point estimates for the values of the parameters, which are a good place to start but limited. It would be better to have uncertainties of each parameter, which we can access with Bayesian methods.\n",
    "\n",
    "Here, we apply [MCMC](https://en.wikipedia.org/wiki/Markov_chain_Monte_Carlo) to establish a distribution for all of our model parameters. In short, we'll build a tool that can generate samples from a distribution of likely parameters given the log probability function I created above.\n",
    "\n",
    "We follow the [tutorial for EMCEE](https://emcee.readthedocs.io/en/stable/tutorials/line/)."
   ]
  },
  {
   "cell_type": "markdown",
   "id": "f311a93b-7a9a-4224-9b1e-5f39f742d53e",
   "metadata": {},
   "source": [
    "Start with the growth parameters. First step is to make an initial guess and the sampler"
   ]
  },
  {
   "cell_type": "code",
   "execution_count": 35,
   "id": "3d055f27-a5e3-4675-ba1a-0fb7a68c1735",
   "metadata": {
    "tags": []
   },
   "outputs": [],
   "source": [
    "def perform_mcmc_analysis(guess: np.ndarray, target: str, dist_function) -> tuple[np.ndarray, np.ndarray, float]:\n",
    "    \"\"\"Perform MCMC analysis to determine parameter means and covariance, and model evidence\n",
    "\n",
    "    Args:\n",
    "        priors: Initial estimate for parameters\n",
    "        target: Name of the property we seek to predict\n",
    "        dist_function: Function which generates probability distribution for observed property\n",
    "\n",
    "    Returns:\n",
    "        - Estimate for the mean\n",
    "        - Estimate for the covariance\n",
    "        - Log evidence\n",
    "    \"\"\"\n",
    "\n",
    "    # Create the walker\n",
    "    pos = guess - 1e-4 + 2e-4 * np.random.rand(32, len(guess))\n",
    "    n_walkers, n_dim = pos.shape\n",
    "\n",
    "    prob_fun = partial(log_probability, data=track_data, dist_function=dist_function, target_column=target)\n",
    "    sampler = emcee.EnsembleSampler(\n",
    "        n_walkers, n_dim, prob_fun\n",
    "    )\n",
    "\n",
    "    # Burn in and find the autocorrelation time. If the autocorrelation time fails, then add more samples\n",
    "    state = sampler.run_mcmc(pos, 5000, progress=True)\n",
    "    \n",
    "    for _ in range(5):\n",
    "        try:\n",
    "            act = sampler.get_autocorr_time().max()\n",
    "            break\n",
    "        except emcee.autocorr.AutocorrError:\n",
    "            state = sampler.run_mcmc(state, 10000, progress=True)\n",
    "    else:\n",
    "        raise ValueError('Did not converge')\n",
    "    print(f'Assuming an autocorrelation time of {act:.1f}')\n",
    "\n",
    "    # Run the sampling, discarding steps based on the autocorr length\n",
    "    samples = sampler.get_chain(discard=int(act*8), thin=int(act / 2), flat=True)\n",
    "    print(f'Pulled {samples.shape[0]} samples.')\n",
    "\n",
    "    # Compute the mean and covariance\n",
    "    growth_covariance = np.cov(samples.T)\n",
    "    growth_means = np.mean(samples, axis=0)\n",
    "\n",
    "    # Compute the evidence\n",
    "    log_evidence = [\n",
    "        prob_fun(x) for x in samples\n",
    "    ]\n",
    "    mean_log_evidence = np.logaddexp.reduce(log_evidence) - np.log(len(samples)) # Subtracting logarithms is equivalent to dividing\n",
    "\n",
    "    return growth_means, growth_covariance, mean_log_evidence"
   ]
  },
  {
   "cell_type": "code",
   "execution_count": 36,
   "id": "9040acd2-6e27-417c-a205-7e7363e4970f",
   "metadata": {},
   "outputs": [
    {
     "name": "stderr",
     "output_type": "stream",
     "text": [
      "100%|█████████████████████████████████████████████████████████████████████████████████████████████████████████████████████████████████████████████████████████████████████████████████████████████████████████████████████████████████████████████████| 5000/5000 [02:04<00:00, 40.14it/s]\n",
      "100%|███████████████████████████████████████████████████████████████████████████████████████████████████████████████████████████████████████████████████████████████████████████████████████████████████████████████████████████████████████████████| 10000/10000 [04:09<00:00, 40.15it/s]\n",
      "100%|███████████████████████████████████████████████████████████████████████████████████████████████████████████████████████████████████████████████████████████████████████████████████████████████████████████████████████████████████████████████| 10000/10000 [04:10<00:00, 39.91it/s]\n",
      "100%|███████████████████████████████████████████████████████████████████████████████████████████████████████████████████████████████████████████████████████████████████████████████████████████████████████████████████████████████████████████████| 10000/10000 [04:09<00:00, 40.08it/s]\n",
      "100%|███████████████████████████████████████████████████████████████████████████████████████████████████████████████████████████████████████████████████████████████████████████████████████████████████████████████████████████████████████████████| 10000/10000 [04:10<00:00, 39.94it/s]\n",
      "100%|███████████████████████████████████████████████████████████████████████████████████████████████████████████████████████████████████████████████████████████████████████████████████████████████████████████████████████████████████████████████| 10000/10000 [04:09<00:00, 40.03it/s]\n"
     ]
    },
    {
     "ename": "ValueError",
     "evalue": "Did not converge",
     "output_type": "error",
     "traceback": [
      "\u001b[0;31m---------------------------------------------------------------------------\u001b[0m",
      "\u001b[0;31mValueError\u001b[0m                                Traceback (most recent call last)",
      "Cell \u001b[0;32mIn[36], line 1\u001b[0m\n\u001b[0;32m----> 1\u001b[0m gt_growth_mean, gt_growth_cov, gt_growth_evidence \u001b[38;5;241m=\u001b[39m \u001b[43mperform_mcmc_analysis\u001b[49m\u001b[43m(\u001b[49m\u001b[43mgrowth_gt_params\u001b[49m\u001b[43m,\u001b[49m\u001b[43m \u001b[49m\u001b[38;5;124;43m'\u001b[39;49m\u001b[38;5;124;43mradius_dt\u001b[39;49m\u001b[38;5;124;43m'\u001b[39;49m\u001b[43m,\u001b[49m\u001b[43m \u001b[49m\u001b[43mgt_model\u001b[49m\u001b[43m)\u001b[49m\n",
      "Cell \u001b[0;32mIn[35], line 34\u001b[0m, in \u001b[0;36mperform_mcmc_analysis\u001b[0;34m(guess, target, dist_function)\u001b[0m\n\u001b[1;32m     32\u001b[0m         state \u001b[38;5;241m=\u001b[39m sampler\u001b[38;5;241m.\u001b[39mrun_mcmc(state, \u001b[38;5;241m10000\u001b[39m, progress\u001b[38;5;241m=\u001b[39m\u001b[38;5;28;01mTrue\u001b[39;00m)\n\u001b[1;32m     33\u001b[0m \u001b[38;5;28;01melse\u001b[39;00m:\n\u001b[0;32m---> 34\u001b[0m     \u001b[38;5;28;01mraise\u001b[39;00m \u001b[38;5;167;01mValueError\u001b[39;00m(\u001b[38;5;124m'\u001b[39m\u001b[38;5;124mDid not converge\u001b[39m\u001b[38;5;124m'\u001b[39m)\n\u001b[1;32m     35\u001b[0m \u001b[38;5;28mprint\u001b[39m(\u001b[38;5;124mf\u001b[39m\u001b[38;5;124m'\u001b[39m\u001b[38;5;124mAssuming an autocorrelation time of \u001b[39m\u001b[38;5;132;01m{\u001b[39;00mact\u001b[38;5;132;01m:\u001b[39;00m\u001b[38;5;124m.1f\u001b[39m\u001b[38;5;132;01m}\u001b[39;00m\u001b[38;5;124m'\u001b[39m)\n\u001b[1;32m     37\u001b[0m \u001b[38;5;66;03m# Run the sampling, discarding steps based on the autocorr length\u001b[39;00m\n",
      "\u001b[0;31mValueError\u001b[0m: Did not converge"
     ]
    }
   ],
   "source": [
    "gt_growth_mean, gt_growth_cov, gt_growth_evidence = perform_mcmc_analysis(growth_gt_params, 'radius_dt', gt_model)"
   ]
  },
  {
   "cell_type": "code",
   "execution_count": null,
   "id": "7fb1f54d-503e-4368-8ba6-03b137dba48f",
   "metadata": {},
   "outputs": [],
   "source": [
    "lin_growth_mean, lin_growth_cov, lin_growth_evidence = perform_mcmc_analysis(growth_lin_params, 'radius_dt', linear_model)"
   ]
  },
  {
   "cell_type": "code",
   "execution_count": null,
   "id": "4ab18f77-7ae3-4d07-a1f4-68fe5320110f",
   "metadata": {},
   "outputs": [],
   "source": [
    "con_growth_mean, con_growth_cov, con_growth_evidence = perform_mcmc_analysis(growth_const_params, 'radius_dt', constant_model)"
   ]
  },
  {
   "cell_type": "markdown",
   "id": "7fa22bed-4e26-45fc-9090-030a0ab2e7a3",
   "metadata": {},
   "source": [
    "Repeat for the movement parameters"
   ]
  },
  {
   "cell_type": "code",
   "execution_count": null,
   "id": "ef6e3758-5b37-430f-a30a-486f81d6c5bc",
   "metadata": {},
   "outputs": [],
   "source": [
    "lin_move_mean, lin_move_cov, lin_move_evidence = perform_mcmc_analysis(movement_lin_params, 'log_velocity_mag', linear_model)"
   ]
  },
  {
   "cell_type": "code",
   "execution_count": null,
   "id": "131cef36-aaa0-4b89-9e17-7f669d05f62a",
   "metadata": {},
   "outputs": [],
   "source": [
    "con_move_mean, con_move_cov, con_move_evidence = perform_mcmc_analysis(movement_const_params, 'log_velocity_mag', constant_model)"
   ]
  },
  {
   "cell_type": "markdown",
   "id": "9488ad9c-91df-4a7d-81d3-ed8edc125dc1",
   "metadata": {},
   "source": [
    "Save the Bayesian results"
   ]
  },
  {
   "cell_type": "code",
   "execution_count": null,
   "id": "3f47971d-6d83-4d55-b38b-db9033618e16",
   "metadata": {
    "tags": []
   },
   "outputs": [],
   "source": [
    "with (out_directory / 'growth-parameters-bayesian.json').open('w') as fp:\n",
    "    json.dump({\n",
    "        'growth': {\n",
    "            'gt': {'mean': gt_growth_mean.tolist(), 'covar': gt_growth_cov.tolist(), 'evidence': gt_growth_evidence},\n",
    "            'linear': {'mean': lin_growth_mean.tolist(), 'covar': lin_growth_cov.tolist(), 'evidence': lin_growth_evidence},\n",
    "            'constant': {'mean': con_growth_mean.tolist(), 'covar': con_growth_cov.tolist(), 'evidence': con_growth_evidence}\n",
    "        },\n",
    "        'movement': {\n",
    "            'linear': {'mean': lin_move_mean.tolist(), 'covar': lin_move_cov.tolist(), 'evidence': lin_move_evidence},\n",
    "            'constant': {'mean': con_move_mean.tolist(), 'covar': con_move_cov.tolist(), 'evidence': con_move_evidence},\n",
    "        }\n",
    "    }, fp, indent=2)"
   ]
  },
  {
   "cell_type": "code",
   "execution_count": null,
   "id": "fc32e41f-2dfa-4317-b2e1-dc836d755b0b",
   "metadata": {},
   "outputs": [],
   "source": []
  }
 ],
 "metadata": {
  "kernelspec": {
   "display_name": "Python 3 (ipykernel)",
   "language": "python",
   "name": "python3"
  },
  "language_info": {
   "codemirror_mode": {
    "name": "ipython",
    "version": 3
   },
   "file_extension": ".py",
   "mimetype": "text/x-python",
   "name": "python",
   "nbconvert_exporter": "python",
   "pygments_lexer": "ipython3",
   "version": "3.10.12"
  }
 },
 "nbformat": 4,
 "nbformat_minor": 5
}

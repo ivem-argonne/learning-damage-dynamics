{
 "cells": [
  {
   "cell_type": "markdown",
   "id": "4a0646a7-ae7c-42ab-a009-498c17acb8a3",
   "metadata": {},
   "source": [
    "# Summarize Void Growth and Movement\n",
    "Determine whether time or size affect the mobility or growth rates of voids."
   ]
  },
  {
   "cell_type": "code",
   "execution_count": 1,
   "id": "f179d0ad-978e-4750-b127-3f64571e5375",
   "metadata": {},
   "outputs": [],
   "source": [
    "%matplotlib inline\n",
    "from matplotlib import pyplot as plt\n",
    "from matplotlib import colormaps\n",
    "from scipy.optimize import minimize\n",
    "from scipy.stats import norm\n",
    "from functools import partial\n",
    "from multiprocessing import Pool\n",
    "from pathlib import Path\n",
    "from cycler import cycle\n",
    "import pandas as pd\n",
    "import numpy as np\n",
    "import emcee\n",
    "import json"
   ]
  },
  {
   "cell_type": "markdown",
   "id": "ab3a0571-119b-448a-a495-0e4d9448ade5",
   "metadata": {},
   "source": [
    "Configuration"
   ]
  },
  {
   "cell_type": "code",
   "execution_count": 2,
   "id": "7634d052-e4c7-4a9b-a4e1-63f858db9831",
   "metadata": {
    "editable": true,
    "slideshow": {
     "slide_type": ""
    },
    "tags": [
     "parameters"
    ]
   },
   "outputs": [],
   "source": [
    "run_directory = '../data/8bitTIFF-video26-575C/'"
   ]
  },
  {
   "cell_type": "markdown",
   "id": "3bfde8a0-70fd-41d2-a185-75013c4a593b",
   "metadata": {
    "editable": true,
    "slideshow": {
     "slide_type": ""
    },
    "tags": []
   },
   "source": [
    "Other key paths"
   ]
  },
  {
   "cell_type": "code",
   "execution_count": 3,
   "id": "429956c0-6759-45d4-9888-f9418156e490",
   "metadata": {
    "editable": true,
    "slideshow": {
     "slide_type": ""
    },
    "tags": []
   },
   "outputs": [],
   "source": [
    "run_directory = Path(run_directory)\n",
    "run_name = run_directory.name\n",
    "out_directory = Path('output') / run_name"
   ]
  },
  {
   "cell_type": "markdown",
   "id": "1f5db767-e56b-495f-a7dc-5ea2f265f4ae",
   "metadata": {
    "editable": true,
    "slideshow": {
     "slide_type": ""
    },
    "tags": []
   },
   "source": [
    "## Load the Smoothed Tracks\n",
    "We are going to start from the tasks after smoothing them with splines"
   ]
  },
  {
   "cell_type": "code",
   "execution_count": 4,
   "id": "5c790fe7-f57e-4e2b-b846-e24c75946d85",
   "metadata": {
    "editable": true,
    "slideshow": {
     "slide_type": ""
    },
    "tags": []
   },
   "outputs": [
    {
     "name": "stdout",
     "output_type": "stream",
     "text": [
      "Loaded 12195 records from 77 voids\n"
     ]
    }
   ],
   "source": [
    "track_data = pd.read_csv(out_directory / 'smoothed_tracks.csv')\n",
    "print(f'Loaded {len(track_data)} records from {len(track_data[\"void\"].value_counts())} voids')"
   ]
  },
  {
   "cell_type": "code",
   "execution_count": 5,
   "id": "fad80c0a-a4a8-49a9-8c91-9d4b8459b86b",
   "metadata": {
    "editable": true,
    "slideshow": {
     "slide_type": ""
    },
    "tags": []
   },
   "outputs": [
    {
     "data": {
      "text/html": [
       "<div>\n",
       "<style scoped>\n",
       "    .dataframe tbody tr th:only-of-type {\n",
       "        vertical-align: middle;\n",
       "    }\n",
       "\n",
       "    .dataframe tbody tr th {\n",
       "        vertical-align: top;\n",
       "    }\n",
       "\n",
       "    .dataframe thead th {\n",
       "        text-align: right;\n",
       "    }\n",
       "</style>\n",
       "<table border=\"1\" class=\"dataframe\">\n",
       "  <thead>\n",
       "    <tr style=\"text-align: right;\">\n",
       "      <th></th>\n",
       "      <th>void</th>\n",
       "      <th>frame</th>\n",
       "      <th>radius</th>\n",
       "      <th>radius_dt</th>\n",
       "      <th>velocity_mag</th>\n",
       "      <th>position-x</th>\n",
       "      <th>position-y</th>\n",
       "      <th>color</th>\n",
       "    </tr>\n",
       "  </thead>\n",
       "  <tbody>\n",
       "    <tr>\n",
       "      <th>0</th>\n",
       "      <td>309</td>\n",
       "      <td>359</td>\n",
       "      <td>2.550270</td>\n",
       "      <td>0.008534</td>\n",
       "      <td>0.011464</td>\n",
       "      <td>406.337277</td>\n",
       "      <td>295.031708</td>\n",
       "      <td>[0.647257 0.8584   0.209861 1.      ]</td>\n",
       "    </tr>\n",
       "    <tr>\n",
       "      <th>1</th>\n",
       "      <td>7</td>\n",
       "      <td>534</td>\n",
       "      <td>9.702548</td>\n",
       "      <td>0.000445</td>\n",
       "      <td>0.000364</td>\n",
       "      <td>112.722406</td>\n",
       "      <td>333.962385</td>\n",
       "      <td>[0.150476 0.504369 0.55743  1.      ]</td>\n",
       "    </tr>\n",
       "    <tr>\n",
       "      <th>2</th>\n",
       "      <td>1</td>\n",
       "      <td>431</td>\n",
       "      <td>8.534464</td>\n",
       "      <td>0.005943</td>\n",
       "      <td>0.002524</td>\n",
       "      <td>391.599824</td>\n",
       "      <td>59.638670</td>\n",
       "      <td>[0.119483 0.614817 0.537692 1.      ]</td>\n",
       "    </tr>\n",
       "    <tr>\n",
       "      <th>3</th>\n",
       "      <td>4</td>\n",
       "      <td>377</td>\n",
       "      <td>8.104264</td>\n",
       "      <td>0.000762</td>\n",
       "      <td>0.003526</td>\n",
       "      <td>44.649238</td>\n",
       "      <td>216.845036</td>\n",
       "      <td>[0.647257 0.8584   0.209861 1.      ]</td>\n",
       "    </tr>\n",
       "    <tr>\n",
       "      <th>4</th>\n",
       "      <td>54</td>\n",
       "      <td>212</td>\n",
       "      <td>2.169712</td>\n",
       "      <td>-0.043048</td>\n",
       "      <td>0.033766</td>\n",
       "      <td>475.160147</td>\n",
       "      <td>482.629605</td>\n",
       "      <td>[0.282623 0.140926 0.457517 1.      ]</td>\n",
       "    </tr>\n",
       "  </tbody>\n",
       "</table>\n",
       "</div>"
      ],
      "text/plain": [
       "   void  frame    radius  radius_dt  velocity_mag  position-x  position-y  \\\n",
       "0   309    359  2.550270   0.008534      0.011464  406.337277  295.031708   \n",
       "1     7    534  9.702548   0.000445      0.000364  112.722406  333.962385   \n",
       "2     1    431  8.534464   0.005943      0.002524  391.599824   59.638670   \n",
       "3     4    377  8.104264   0.000762      0.003526   44.649238  216.845036   \n",
       "4    54    212  2.169712  -0.043048      0.033766  475.160147  482.629605   \n",
       "\n",
       "                                   color  \n",
       "0  [0.647257 0.8584   0.209861 1.      ]  \n",
       "1  [0.150476 0.504369 0.55743  1.      ]  \n",
       "2  [0.119483 0.614817 0.537692 1.      ]  \n",
       "3  [0.647257 0.8584   0.209861 1.      ]  \n",
       "4  [0.282623 0.140926 0.457517 1.      ]  "
      ]
     },
     "execution_count": 5,
     "metadata": {},
     "output_type": "execute_result"
    }
   ],
   "source": [
    "track_data.head()"
   ]
  },
  {
   "cell_type": "markdown",
   "id": "fb2e9267-fbed-4f6e-93b4-4f34ba1d4209",
   "metadata": {
    "editable": true,
    "slideshow": {
     "slide_type": ""
    },
    "tags": []
   },
   "source": [
    "## Detect Outliers\n",
    "See if any of the growth rates are particularly unlikely compared to the others. We are going to use methods based on the IQR for simplicity's sake"
   ]
  },
  {
   "cell_type": "markdown",
   "id": "444e3f16-415d-4993-b403-f260412639d0",
   "metadata": {},
   "source": [
    "### Growth\n",
    "From the previous notebook, we can see that growth terms are relatively smooth. So, I'm leery to refer to points as outliers unless they are far out"
   ]
  },
  {
   "cell_type": "code",
   "execution_count": 6,
   "id": "bf2b10c0-193c-497f-be09-7f7118464920",
   "metadata": {
    "tags": []
   },
   "outputs": [],
   "source": [
    "iqr_rdt = np.diff(np.percentile(track_data['radius_dt'], [25, 75]))[0]"
   ]
  },
  {
   "cell_type": "code",
   "execution_count": 7,
   "id": "befb4d18-b4b8-4aa1-890d-b02dcbea53b0",
   "metadata": {
    "tags": []
   },
   "outputs": [],
   "source": [
    "k = 5  # Based on https://aakinshin.net/posts/tukey-outlier-probability/\n",
    "upper_thr = np.percentile(track_data['radius_dt'], 75) + k * iqr_rdt\n",
    "lower_thr = np.percentile(track_data['radius_dt'], 25) - k * iqr_rdt"
   ]
  },
  {
   "cell_type": "code",
   "execution_count": 8,
   "id": "91b38274-fa8b-42ba-9129-2ea2f702ec02",
   "metadata": {
    "tags": []
   },
   "outputs": [
    {
     "data": {
      "text/plain": [
       "Text(0, 0.5, 'Count')"
      ]
     },
     "execution_count": 8,
     "metadata": {},
     "output_type": "execute_result"
    },
    {
     "data": {
      "image/png": "[encoded data removed]",
      "text/plain": [
       "<Figure size 350x200 with 1 Axes>"
      ]
     },
     "metadata": {},
     "output_type": "display_data"
    }
   ],
   "source": [
    "fig, ax = plt.subplots(figsize=(3.5, 2.))\n",
    "\n",
    "ax.hist(track_data['radius_dt'], bins=1024)\n",
    "\n",
    "ax.set_ylim(ax.get_ylim())\n",
    "for thr in [lower_thr, upper_thr]:\n",
    "    ax.plot([thr]*2, ax.get_ylim(), 'k--')\n",
    "\n",
    "ax.set_xlabel('Growth Rate (nm/frame)')\n",
    "ax.set_ylabel('Count')"
   ]
  },
  {
   "cell_type": "code",
   "execution_count": 9,
   "id": "4190b863-1c94-4541-9e22-1e9e1ad67195",
   "metadata": {
    "tags": []
   },
   "outputs": [
    {
     "name": "stdout",
     "output_type": "stream",
     "text": [
      "Found 755 outliers\n"
     ]
    }
   ],
   "source": [
    "track_data['growth_outlier'] = np.logical_or(track_data['radius_dt'] > upper_thr, track_data['radius_dt'] < lower_thr)\n",
    "print(f'Found {track_data[\"growth_outlier\"].sum()} outliers')"
   ]
  },
  {
   "cell_type": "markdown",
   "id": "2cdce785-c100-4612-9e78-076d1986d576",
   "metadata": {},
   "source": [
    "### Movement\n",
    "Movement is more jittery but I need to be less aggressive on movement rates because most voids are sessile. Only the rare void moves"
   ]
  },
  {
   "cell_type": "code",
   "execution_count": 10,
   "id": "b7aae3e8-f65e-487d-990c-911e87969415",
   "metadata": {
    "tags": []
   },
   "outputs": [],
   "source": [
    "iqr_rdt = np.diff(np.percentile(track_data['velocity_mag'], [25, 75]))[0]"
   ]
  },
  {
   "cell_type": "code",
   "execution_count": 11,
   "id": "2ae41478-59b2-4ffa-8de1-d5325018981b",
   "metadata": {
    "tags": []
   },
   "outputs": [
    {
     "name": "stdout",
     "output_type": "stream",
     "text": [
      "Bounds for movement: 0.396, -0.347\n"
     ]
    }
   ],
   "source": [
    "k = 8  # Based on https://aakinshin.net/posts/tukey-outlier-probability/\n",
    "upper_thr = np.percentile(track_data['velocity_mag'], 75) + k * iqr_rdt\n",
    "lower_thr = np.percentile(track_data['velocity_mag'], 25) - k * iqr_rdt\n",
    "print(f'Bounds for movement: {upper_thr:.3f}, {lower_thr:.3f}')"
   ]
  },
  {
   "cell_type": "code",
   "execution_count": 12,
   "id": "9049046d-7c80-4d15-9d81-b85c1bf06b9f",
   "metadata": {
    "tags": []
   },
   "outputs": [
    {
     "data": {
      "text/plain": [
       "Text(0, 0.5, 'Count')"
      ]
     },
     "execution_count": 12,
     "metadata": {},
     "output_type": "execute_result"
    },
    {
     "data": {
      "image/png": "[encoded data removed]",
      "text/plain": [
       "<Figure size 350x200 with 1 Axes>"
      ]
     },
     "metadata": {},
     "output_type": "display_data"
    }
   ],
   "source": [
    "fig, ax = plt.subplots(figsize=(3.5, 2.))\n",
    "\n",
    "ax.hist(track_data['velocity_mag'], bins=1024)\n",
    "\n",
    "ax.set_ylim(ax.get_ylim())\n",
    "for thr in [lower_thr, upper_thr]:\n",
    "    ax.plot([thr]*2, ax.get_ylim(), 'k--')\n",
    "\n",
    "ax.set_xlabel('Movement Rate (nm/frame)')\n",
    "ax.set_ylabel('Count')"
   ]
  },
  {
   "cell_type": "code",
   "execution_count": 13,
   "id": "3b536f2e-ca2e-4e75-9f25-662cbe60022e",
   "metadata": {
    "tags": []
   },
   "outputs": [
    {
     "name": "stdout",
     "output_type": "stream",
     "text": [
      "Found 1166 outliers\n"
     ]
    }
   ],
   "source": [
    "track_data['movement_outlier'] = np.logical_or(track_data['velocity_mag'] > upper_thr, track_data['velocity_mag'] < lower_thr)\n",
    "print(f'Found {track_data[\"movement_outlier\"].sum()} outliers')"
   ]
  },
  {
   "cell_type": "markdown",
   "id": "913b79f2-7260-4539-92fc-c517ec347c29",
   "metadata": {},
   "source": [
    "### Drop outliers\n",
    "Exclude if it is an outlier for either"
   ]
  },
  {
   "cell_type": "code",
   "execution_count": 14,
   "id": "be83f6e3-49fe-45a1-9e73-13349c301fe0",
   "metadata": {
    "tags": []
   },
   "outputs": [
    {
     "name": "stdout",
     "output_type": "stream",
     "text": [
      "New size: 10744. 88.10% passed.\n"
     ]
    }
   ],
   "source": [
    "old_size = len(track_data)\n",
    "track_data.query('not (movement_outlier or growth_outlier)', inplace=True)\n",
    "print(f'New size: {len(track_data)}. {len(track_data) / old_size * 100:.2f}% passed.')"
   ]
  },
  {
   "cell_type": "markdown",
   "id": "2edf7efb-de27-4fb9-a7a4-a8c2a0766afb",
   "metadata": {
    "editable": true,
    "slideshow": {
     "slide_type": ""
    },
    "tags": []
   },
   "source": [
    "## Re-plot the void tracks\n",
    "Drop the first and last 5 frames of the void track. Those are right where the void moved or changed enough that it "
   ]
  },
  {
   "cell_type": "markdown",
   "id": "b206e227-bcb2-46b0-b24b-fa2c7d2c43d7",
   "metadata": {},
   "source": [
    "Assign a random color to each void"
   ]
  },
  {
   "cell_type": "code",
   "execution_count": 15,
   "id": "7bf655b1-54b9-4ffe-a291-cb7ec5a582ce",
   "metadata": {
    "tags": []
   },
   "outputs": [],
   "source": [
    "cmap = colormaps['nipy_spectral']"
   ]
  },
  {
   "cell_type": "code",
   "execution_count": 16,
   "id": "39e14681-c91a-418c-863c-f480f8bb89ec",
   "metadata": {
    "tags": []
   },
   "outputs": [],
   "source": [
    "colors = np.linspace(0, 1, len(track_data['void'].value_counts()))\n",
    "rng = np.random.RandomState(1)\n",
    "rng.shuffle(colors)\n",
    "colors = cmap(colors)"
   ]
  },
  {
   "cell_type": "code",
   "execution_count": 17,
   "id": "3a0e9b31-a55a-4535-9128-19b0dbc007ae",
   "metadata": {
    "tags": []
   },
   "outputs": [],
   "source": [
    "known_voids = sorted(set(track_data['void']))\n",
    "track_data['color'] = track_data['void'].apply(known_voids.index).apply(colors.__getitem__)"
   ]
  },
  {
   "cell_type": "code",
   "execution_count": 18,
   "id": "1fd26e25-d859-4b1e-aa80-8800884704ae",
   "metadata": {
    "tags": []
   },
   "outputs": [
    {
     "data": {
      "image/png": "[encoded data removed]",
      "text/plain": [
       "<Figure size 550x200 with 2 Axes>"
      ]
     },
     "metadata": {},
     "output_type": "display_data"
    }
   ],
   "source": [
    "fig, axs = plt.subplots(1, 2, figsize=(5.5, 2.), sharex=True)\n",
    "\n",
    "alpha = 0.7\n",
    "\n",
    "# Plot the growth\n",
    "ax = axs[0]\n",
    "for (gid, group), m in zip(track_data.groupby('void'), cycle('osv^p')):\n",
    "    ax.text(0, 0.9, '(a)', transform=ax.transAxes, fontsize=10, weight='normal')\n",
    "    group = group.sort_values('frame')\n",
    "    \n",
    "    # Determine the color for this group\n",
    "    color = group['color'].iloc[0].tolist()\n",
    "    color[3] = alpha  # Set the alpha\n",
    "    ax.plot(group['radius'], group['radius_dt'], m, \n",
    "            ms=4, lw=1, mfc=color, mec='none', markevery=12)\n",
    "\n",
    "ax.set_xlim(0, max(ax.get_xlim()) * 1.1)\n",
    "ax.plot(ax.get_xlim(), [0, 0], 'k--', lw=1)\n",
    "ax.set_ylabel('Growth (nm/frame)')\n",
    "ax.set_ylim(-0.05, 0.05)\n",
    "\n",
    "# Plot the movement\n",
    "ax = axs[1]\n",
    "for gid, group in track_data.groupby('void'):\n",
    "    ax.text(0, 0.9, '(b)', transform=ax.transAxes, fontsize=10, weight='normal')\n",
    "    # Determine the color for this group\n",
    "    color = group['color'].iloc[0].tolist()\n",
    "    color[3] = alpha  # Set the alpha\n",
    "    ax.plot(group['radius'], group['velocity_mag'], 'o', \n",
    "            ms=4, lw=1, mfc=color, mec='none', markevery=12)\n",
    "\n",
    "ax.set_ylim(0, 0.4)\n",
    "ax.set_ylabel('Movement (nm/frame)')\n",
    "\n",
    "for ax in axs:\n",
    "    ax.set_xlabel('Size (nm)')\n",
    "fig.tight_layout()\n",
    "fig.savefig(out_directory / 'figures/time-resolved-voids-by-size.png', dpi=320)"
   ]
  },
  {
   "cell_type": "code",
   "execution_count": 19,
   "id": "cb35a572-f79d-4eac-a8c5-ad40ce77be1e",
   "metadata": {
    "tags": []
   },
   "outputs": [
    {
     "data": {
      "image/png": "[encoded data removed]",
      "text/plain": [
       "<Figure size 550x200 with 2 Axes>"
      ]
     },
     "metadata": {},
     "output_type": "display_data"
    }
   ],
   "source": [
    "fig, axs = plt.subplots(1, 2, figsize=(5.5, 2.), sharex=True)\n",
    "\n",
    "alpha = 0.7\n",
    "\n",
    "# Plot the growth\n",
    "ax = axs[0]\n",
    "for gid, group in track_data.query('radius > 6').groupby('void'):\n",
    "    ax.text(0, 0.9, '(a)', transform=ax.transAxes, fontsize=10, weight='normal')\n",
    "    group = group.sort_values('frame')\n",
    "    \n",
    "    # Determine the color for this group\n",
    "    color = group['color'].iloc[0].tolist()\n",
    "    color[3] = alpha  # Set the alpha\n",
    "    ax.plot(group['frame'], group['radius_dt'], 'o', \n",
    "            ms=4, lw=1, mfc=color, mec='none', markevery=12)\n",
    "\n",
    "ax.set_xlim(0, max(ax.get_xlim()) * 1.1)\n",
    "ax.plot(ax.get_xlim(), [0, 0], 'k--', lw=1)\n",
    "ax.set_ylabel('Growth (nm/s)')\n",
    "ax.set_ylim(-0.05, 0.05)\n",
    "\n",
    "# Plot the movement\n",
    "ax = axs[1]\n",
    "for gid, group in track_data.query('radius > 6').groupby('void'):\n",
    "    ax.text(0, 0.9, '(b)', transform=ax.transAxes, fontsize=10, weight='normal')\n",
    "    # Determine the color for this group\n",
    "    color = group['color'].iloc[0].tolist()\n",
    "    color[3] = alpha  # Set the alpha\n",
    "    ax.plot(group['frame'], group['velocity_mag'], 'o', \n",
    "            ms=4, lw=1, mfc=color, mec='none', markevery=12)\n",
    "\n",
    "ax.set_ylim(0, 0.4)\n",
    "ax.set_ylabel('Movement (nm/s)')\n",
    "\n",
    "for ax in axs:\n",
    "    ax.set_xlabel('Frame')\n",
    "fig.tight_layout()\n",
    "fig.savefig(out_directory / 'figures/time-resolved-voids-by-time.png', dpi=320)"
   ]
  },
  {
   "cell_type": "markdown",
   "id": "1db1709b-0c42-4524-9de1-3588f0fe9550",
   "metadata": {},
   "source": [
    "## Fit a model for void growth and movement\n",
    "We can assume that both the mean and variance of growth rate for a void is a function of size.\n",
    "\n",
    "$\\dot{r} \\sim N(\\alpha_0 + \\alpha_1 r, 10^{\\beta_0 + \\beta_1 r})$\n",
    "\n",
    "We fit this distribution my minimizing the log-likelihood of the observed data, which are pairs of $r$ and $\\dot{r}$.\n",
    "\n",
    "Similar logic holds for"
   ]
  },
  {
   "cell_type": "code",
   "execution_count": 20,
   "id": "952e6564-dbb1-46c0-b673-08dac4b828d9",
   "metadata": {
    "tags": []
   },
   "outputs": [],
   "source": [
    "def get_size_distribution(r: float | np.ndarray, params: list[float]):\n",
    "    \"\"\"Get the expected growth rate distribution of a void given its size\n",
    "    \n",
    "    Args:\n",
    "        radius: Sizes of the void\n",
    "        params: Parameters for the distribution model.\n",
    "            Ordered as [alpha, beta]\n",
    "    Returns:\n",
    "        Distribution for all voids\n",
    "    \"\"\"\n",
    "    return norm(params[0] + params[1] * r, np.power(10, params[2] + params[3] * r))"
   ]
  },
  {
   "cell_type": "markdown",
   "id": "bb74d4f2-606f-433e-ae38-5cb1c8f8c058",
   "metadata": {},
   "source": [
    "Fit the model"
   ]
  },
  {
   "cell_type": "code",
   "execution_count": 21,
   "id": "fd542cb7-4e4b-41d4-9d51-92afd4b39d18",
   "metadata": {
    "tags": []
   },
   "outputs": [],
   "source": [
    "def log_probability(params: list[float], data: pd.DataFrame, target_column: str = 'radius_dt') -> float:\n",
    "    \"\"\"Compute the log probability of the data given a \n",
    "    model which explains the property being an effect of \n",
    "    radius.\n",
    "    \n",
    "    Args:\n",
    "        params: Parameters for the distribution. We assume the parameters for the \n",
    "        data: Data of the void distribution\n",
    "        target_column: Column being fit\n",
    "    \"\"\"\n",
    "    \n",
    "    r = data['radius']\n",
    "    growth_dist = get_size_distribution(r, params)\n",
    "    ll = growth_dist.logpdf(data[target_column])\n",
    "    return ll.sum()"
   ]
  },
  {
   "cell_type": "code",
   "execution_count": 22,
   "id": "6e1b88bb-6712-4848-80da-4198c70e98d6",
   "metadata": {
    "tags": []
   },
   "outputs": [
    {
     "data": {
      "text/plain": [
       "  message: Desired error not necessarily achieved due to precision loss.\n",
       "  success: False\n",
       "   status: 2\n",
       "      fun: -38562.71026828948\n",
       "        x: [-2.343e-03  4.128e-04 -1.452e+00 -1.286e-01]\n",
       "      nit: 16\n",
       "      jac: [-6.836e-03 -3.418e-02 -1.465e-03 -7.812e-03]\n",
       " hess_inv: [[ 5.401e-08 -6.129e-09 -7.555e-08  2.180e-08]\n",
       "            [-6.129e-09  7.145e-10  8.548e-09 -2.447e-09]\n",
       "            [-7.555e-08  8.548e-09  6.326e-07 -4.944e-07]\n",
       "            [ 2.180e-08 -2.447e-09 -4.944e-07  4.664e-07]]\n",
       "     nfev: 175\n",
       "     njev: 35"
      ]
     },
     "execution_count": 22,
     "metadata": {},
     "output_type": "execute_result"
    }
   ],
   "source": [
    "result = minimize(lambda x, y: -log_probability(x, y), [0, 0, -1, 0], args=(track_data,))\n",
    "result"
   ]
  },
  {
   "cell_type": "code",
   "execution_count": 23,
   "id": "9bcfc2b6-627d-449e-9396-284bd4efd253",
   "metadata": {
    "tags": []
   },
   "outputs": [
    {
     "name": "stdout",
     "output_type": "stream",
     "text": [
      "Void growth is defined by: -2.34e-03 + 4.13e-04 * r\n"
     ]
    }
   ],
   "source": [
    "growth_params = result.x\n",
    "print(f'Void growth is defined by: {growth_params[0]:.2e} + {growth_params[1]:.2e} * r')"
   ]
  },
  {
   "cell_type": "markdown",
   "id": "a313bc80-ee71-4a02-9772-0ffbefdbf11d",
   "metadata": {},
   "source": [
    "Repeat for movement"
   ]
  },
  {
   "cell_type": "code",
   "execution_count": 24,
   "id": "79f19531-b7df-4e07-ae05-6f75dd5230af",
   "metadata": {
    "tags": []
   },
   "outputs": [
    {
     "data": {
      "text/plain": [
       "  message: Desired error not necessarily achieved due to precision loss.\n",
       "  success: False\n",
       "   status: 2\n",
       "      fun: -18648.56909437898\n",
       "        x: [ 5.987e-02 -6.043e-03 -9.966e-01 -6.641e-02]\n",
       "      nit: 35\n",
       "      jac: [ 9.766e-04  8.057e-03  0.000e+00 -2.441e-04]\n",
       " hess_inv: [[ 1.618e-06 -1.957e-07 -7.101e-07  1.301e-07]\n",
       "            [-1.957e-07  2.560e-08  9.291e-08 -1.697e-08]\n",
       "            [-7.101e-07  9.291e-08  4.810e-05 -6.960e-06]\n",
       "            [ 1.301e-07 -1.697e-08 -6.960e-06  1.235e-06]]\n",
       "     nfev: 511\n",
       "     njev: 100"
      ]
     },
     "execution_count": 24,
     "metadata": {},
     "output_type": "execute_result"
    }
   ],
   "source": [
    "track_data['log_velocity_mag'] = np.log(track_data['velocity_mag'])\n",
    "result = minimize(lambda x: -log_probability(x, track_data, 'velocity_mag'), [-3, 0, 0, 0])\n",
    "result"
   ]
  },
  {
   "cell_type": "code",
   "execution_count": 25,
   "id": "4043f457-d965-4756-b424-fef63f0bdd86",
   "metadata": {
    "tags": []
   },
   "outputs": [
    {
     "name": "stdout",
     "output_type": "stream",
     "text": [
      "Log void movement is defined by: 5.99e-02 + -6.04e-03 * r\n"
     ]
    }
   ],
   "source": [
    "movement_params = result.x\n",
    "print(f'Log void movement is defined by: {movement_params[0]:.2e} + {movement_params[1]:.2e} * r')"
   ]
  },
  {
   "cell_type": "code",
   "execution_count": 26,
   "id": "cefe00aa-99cd-4124-80a1-e62c574efa38",
   "metadata": {
    "tags": []
   },
   "outputs": [
    {
     "data": {
      "image/png": "[encoded data removed]",
      "text/plain": [
       "<Figure size 550x200 with 2 Axes>"
      ]
     },
     "metadata": {},
     "output_type": "display_data"
    }
   ],
   "source": [
    "fig, axs = plt.subplots(1, 2, figsize=(5.5, 2.), sharex=True)\n",
    "\n",
    "alpha = 0.7\n",
    "\n",
    "marker_list = 'osv^p<>hHP*XD'\n",
    "\n",
    "# Plot the growth\n",
    "ax = axs[0]\n",
    "for (gid, group), m in zip(track_data.groupby('void'), cycle(marker_list)):\n",
    "    ax.text(0, 0.9, '(a)', transform=ax.transAxes, fontsize=10, weight='normal')\n",
    "    group = group.sort_values('frame')\n",
    "    \n",
    "    # Determine the color for this group\n",
    "    color = group['color'].iloc[0].tolist()\n",
    "    color[3] = alpha  # Set the alpha\n",
    "    ax.plot(group['radius'], group['radius_dt'], m, \n",
    "            ms=3, lw=1, mfc=color, mec='none', markevery=12)\n",
    "\n",
    "ax.set_xlim(0, max(ax.get_xlim()) * 1.1)\n",
    "ax.plot(ax.get_xlim(), [0, 0], '--', c='gray', lw=0.7)\n",
    "ax.set_ylabel('Growth (nm/s)')\n",
    "ax.set_ylim(-0.05, 0.05)\n",
    "\n",
    "ax.text(0.5, 0.87, f'$\\dot{{r}}\\sim{growth_params[0]*1000:.1f}{growth_params[1]*1000:+.1f}r$',\n",
    "       transform=ax.transAxes, fontsize=8)\n",
    "\n",
    "steps = np.linspace(*ax.get_xlim(), 32)\n",
    "mean = growth_params[0] + steps * growth_params[1]\n",
    "std = np.power(10, growth_params[2] + growth_params[3] * steps)\n",
    "ax.plot(steps, mean, 'k')\n",
    "ax.fill_between(steps, mean + std, mean - std, alpha=0.3, color='k', edgecolor='none')\n",
    "\n",
    "# Plot the movement\n",
    "ax = axs[1]\n",
    "for (gid, group), m in zip(track_data.groupby('void'), cycle(marker_list)):\n",
    "    ax.text(0, 0.9, '(b)', transform=ax.transAxes, fontsize=10, weight='normal')\n",
    "    # Determine the color for this group\n",
    "    color = group['color'].iloc[0].tolist()\n",
    "    color[3] = alpha  # Set the alpha\n",
    "    ax.plot(group['radius'], group['velocity_mag'], m, \n",
    "            ms=3, lw=1, mfc=color, mec='none', markevery=12)\n",
    "\n",
    "ax.set_ylim(0, 0.4)\n",
    "ax.set_ylabel('Movement (nm/s)')\n",
    "\n",
    "ax.text(0.3, 0.87, f'$\\log\\\\left|v\\\\right|\\sim{movement_params[0]:.1f}{movement_params[1]:+.1f}r$',\n",
    "       transform=ax.transAxes, fontsize=8)\n",
    "\n",
    "steps = np.linspace(*ax.get_xlim(), 32)\n",
    "mean = movement_params[0] + steps * movement_params[1]\n",
    "std = np.power(10, movement_params[2] + movement_params[3] * steps)\n",
    "ax.plot(steps, np.exp(mean), 'k')\n",
    "ax.fill_between(steps, np.exp(mean + std), np.exp(mean - std), alpha=0.3, color='k', edgecolor='none')\n",
    "\n",
    "\n",
    "for ax in axs:\n",
    "    ax.set_xlabel('Size (nm)')\n",
    "fig.tight_layout()\n",
    "fig.savefig(out_directory / 'figures/time-resolved-voids-by-size.png', dpi=320)"
   ]
  },
  {
   "cell_type": "markdown",
   "id": "082d12be-0d1c-4a8e-9241-83dc0230f6d1",
   "metadata": {},
   "source": [
    "Save the model parameters"
   ]
  },
  {
   "cell_type": "code",
   "execution_count": 27,
   "id": "1d85eb88-a88d-45be-86b7-533c2e34e5ef",
   "metadata": {
    "tags": []
   },
   "outputs": [],
   "source": [
    "with (out_directory / 'growth-parameters.json').open('w') as fp:\n",
    "    json.dump({\n",
    "        'growth': growth_params.tolist(),\n",
    "        'movement': movement_params.tolist()\n",
    "    }, fp)"
   ]
  },
  {
   "cell_type": "markdown",
   "id": "94d87721-bbee-489a-b3aa-95474b508a7c",
   "metadata": {},
   "source": [
    "## Use MCMC Sampling to Estimate Parameter Uncertainties\n",
    "The above only gives us point estimates for the values of the parameters, which are a good place to start but limited. It would be better to have uncertainties of each parameter, which we can access with Bayesian methods.\n",
    "\n",
    "Here, we apply [MCMC](https://en.wikipedia.org/wiki/Markov_chain_Monte_Carlo) to establish a distribution for all of our model parameters. In short, we'll build a tool that can generate samples from a distribution of likely parameters given the log probability function I created above.\n",
    "\n",
    "We follow the [tutorial for EMCEE](https://emcee.readthedocs.io/en/stable/tutorials/line/)."
   ]
  },
  {
   "cell_type": "markdown",
   "id": "f311a93b-7a9a-4224-9b1e-5f39f742d53e",
   "metadata": {},
   "source": [
    "Start with the growth parameters. First step is to make an initial guess and the sampler"
   ]
  },
  {
   "cell_type": "code",
   "execution_count": 28,
   "id": "8fe1ca90-64cc-47cb-84fc-f3061e9f499a",
   "metadata": {
    "tags": []
   },
   "outputs": [],
   "source": [
    "pos = growth_params + 1e-4 * np.random.randn(32, len(growth_params))\n",
    "n_walkers, n_dim = pos.shape"
   ]
  },
  {
   "cell_type": "code",
   "execution_count": 29,
   "id": "2c26b823-0e31-4935-b61b-61f67bb67639",
   "metadata": {
    "tags": []
   },
   "outputs": [],
   "source": [
    "prob_fun = partial(log_probability, data=track_data)\n",
    "sampler = emcee.EnsembleSampler(\n",
    "    n_walkers, n_dim, prob_fun\n",
    ")"
   ]
  },
  {
   "cell_type": "markdown",
   "id": "74059cc1-e466-4d98-b24b-b1ac4258cdbf",
   "metadata": {},
   "source": [
    "Then burn in and find the autocorrelation time. If the autocorrelation time fails, then add more samples"
   ]
  },
  {
   "cell_type": "code",
   "execution_count": 30,
   "id": "465e7254-a673-4b6d-9a4a-649f775af070",
   "metadata": {
    "tags": []
   },
   "outputs": [
    {
     "name": "stderr",
     "output_type": "stream",
     "text": [
      "100%|█████████████████████████████████████████████████████████████████████████████████████████████████████████████████████████████████████████████████████████████████████████████████████████████████████████████████████████████████████████████████| 5000/5000 [02:23<00:00, 34.78it/s]\n"
     ]
    }
   ],
   "source": [
    "state = sampler.run_mcmc(pos, 5000, progress=True)"
   ]
  },
  {
   "cell_type": "code",
   "execution_count": 31,
   "id": "547ddc10-011a-4f8e-bd19-946407b4a628",
   "metadata": {
    "tags": []
   },
   "outputs": [
    {
     "name": "stdout",
     "output_type": "stream",
     "text": [
      "Assuming an autocorrelation time of 50.0\n"
     ]
    }
   ],
   "source": [
    "for _ in range(5):\n",
    "    try:\n",
    "        act = sampler.get_autocorr_time().max()\n",
    "        break\n",
    "    except emcee.autocorr.AutocorrError:\n",
    "        state = sampler.run_mcmc(state, 5000, progress=True)\n",
    "else:\n",
    "    raise ValueError('Did not converge')\n",
    "print(f'Assuming an autocorrelation time of {act:.1f}')"
   ]
  },
  {
   "cell_type": "markdown",
   "id": "f3ed74c4-56f0-4df6-981b-ae9c34058232",
   "metadata": {},
   "source": [
    "Run the autocrrelation for a fair number of steps where we pick the "
   ]
  },
  {
   "cell_type": "code",
   "execution_count": 32,
   "id": "8621f9a9-e389-4784-bbf3-3dea64f4b270",
   "metadata": {
    "tags": []
   },
   "outputs": [
    {
     "name": "stdout",
     "output_type": "stream",
     "text": [
      "Pulled 6112 samples.\n"
     ]
    }
   ],
   "source": [
    "samples = sampler.get_chain(discard=int(act*8), thin=int(act / 2), flat=True)\n",
    "print(f'Pulled {samples.shape[0]} samples.')"
   ]
  },
  {
   "cell_type": "markdown",
   "id": "eb930087-9972-42bb-80a0-8b8cae80091c",
   "metadata": {},
   "source": [
    "Compute the mean and covariance"
   ]
  },
  {
   "cell_type": "code",
   "execution_count": 33,
   "id": "3208cf8a-c80e-4f99-85ae-7afd97c465f9",
   "metadata": {
    "tags": []
   },
   "outputs": [],
   "source": [
    "growth_covariance = np.cov(samples.T)"
   ]
  },
  {
   "cell_type": "code",
   "execution_count": 34,
   "id": "5c864f74-1423-49f5-843d-3257857db180",
   "metadata": {
    "tags": []
   },
   "outputs": [],
   "source": [
    "growth_means = np.mean(samples, axis=0)"
   ]
  },
  {
   "cell_type": "markdown",
   "id": "7fa22bed-4e26-45fc-9090-030a0ab2e7a3",
   "metadata": {},
   "source": [
    "Repeat for the movement parameters"
   ]
  },
  {
   "cell_type": "code",
   "execution_count": 63,
   "id": "97c4e0a3-e03d-424a-92b2-e02de5c2b374",
   "metadata": {
    "tags": []
   },
   "outputs": [],
   "source": [
    "pos = movement_params + 1e-4 * np.random.randn(32, len(movement_params))\n",
    "n_walkers, n_dim = pos.shape"
   ]
  },
  {
   "cell_type": "code",
   "execution_count": 64,
   "id": "4cb2d6e5-697b-4d89-98ea-a8eb2ad8c621",
   "metadata": {
    "tags": []
   },
   "outputs": [
    {
     "name": "stderr",
     "output_type": "stream",
     "text": [
      "100%|█████████████████████████████████████████████████████████████████████████████████████████████████████████████████████████████████████████████████████████████████████████████████████████████████████████████████████████████████████████████████████| 50/50 [00:01<00:00, 34.58it/s]\n"
     ]
    }
   ],
   "source": [
    "prob_fun = partial(log_probability, data=track_data, target_column='log_velocity_mag')\n",
    "sampler = emcee.EnsembleSampler(\n",
    "    n_walkers, n_dim, prob_fun\n",
    ")\n",
    "state = sampler.run_mcmc(pos, 50, progress=True)"
   ]
  },
  {
   "cell_type": "code",
   "execution_count": 65,
   "id": "065b6b53-251b-43ee-a927-96397c776ff8",
   "metadata": {
    "tags": []
   },
   "outputs": [
    {
     "name": "stderr",
     "output_type": "stream",
     "text": [
      "100%|█████████████████████████████████████████████████████████████████████████████████████████████████████████████████████████████████████████████████████████████████████████████████████████████████████████████████████████████████████████████████| 5000/5000 [02:23<00:00, 34.73it/s]\n",
      "100%|█████████████████████████████████████████████████████████████████████████████████████████████████████████████████████████████████████████████████████████████████████████████████████████████████████████████████████████████████████████████████| 5000/5000 [02:22<00:00, 35.09it/s]\n"
     ]
    },
    {
     "name": "stdout",
     "output_type": "stream",
     "text": [
      "Assuming an autocorrelation time of 125.2\n"
     ]
    }
   ],
   "source": [
    "for _ in range(5):\n",
    "    try:\n",
    "        act = sampler.get_autocorr_time().max()\n",
    "        if np.isnan(act):\n",
    "            raise ValueError()\n",
    "        break\n",
    "    except (emcee.autocorr.AutocorrError, ValueError):\n",
    "        state = sampler.run_mcmc(state, 5000, progress=True)\n",
    "else:\n",
    "    raise ValueError('Did not converge')\n",
    "print(f'Assuming an autocorrelation time of {act:.1f}')"
   ]
  },
  {
   "cell_type": "code",
   "execution_count": 66,
   "id": "87873b68-8538-4ede-a12e-6f3fa8492cad",
   "metadata": {
    "tags": []
   },
   "outputs": [
    {
     "name": "stdout",
     "output_type": "stream",
     "text": [
      "Pulled 4640 samples.\n"
     ]
    }
   ],
   "source": [
    "samples = sampler.get_chain(discard=int(act*8), thin=int(act / 2), flat=True)\n",
    "print(f'Pulled {samples.shape[0]} samples.')"
   ]
  },
  {
   "cell_type": "code",
   "execution_count": 67,
   "id": "b4861ce2-6dd2-4443-8846-3444bed110c7",
   "metadata": {
    "tags": []
   },
   "outputs": [],
   "source": [
    "move_covariance = np.cov(samples.T)\n",
    "move_means = np.mean(samples, axis=0)"
   ]
  },
  {
   "cell_type": "markdown",
   "id": "9488ad9c-91df-4a7d-81d3-ed8edc125dc1",
   "metadata": {},
   "source": [
    "Save the Bayesian results"
   ]
  },
  {
   "cell_type": "code",
   "execution_count": 69,
   "id": "3f47971d-6d83-4d55-b38b-db9033618e16",
   "metadata": {
    "tags": []
   },
   "outputs": [],
   "source": [
    "with (out_directory / 'growth-parameters-bayesian.json').open('w') as fp:\n",
    "    json.dump({\n",
    "        'growth': {'mean': growth_means.tolist(), 'covar': growth_covariance.tolist()},\n",
    "        'movement': {'mean': move_means.tolist(), 'covar': move_covariance.tolist()}\n",
    "    }, fp)"
   ]
  },
  {
   "cell_type": "code",
   "execution_count": null,
   "id": "fc32e41f-2dfa-4317-b2e1-dc836d755b0b",
   "metadata": {},
   "outputs": [],
   "source": []
  }
 ],
 "metadata": {
  "kernelspec": {
   "display_name": "Python 3 (ipykernel)",
   "language": "python",
   "name": "python3"
  },
  "language_info": {
   "codemirror_mode": {
    "name": "ipython",
    "version": 3
   },
   "file_extension": ".py",
   "mimetype": "text/x-python",
   "name": "python",
   "nbconvert_exporter": "python",
   "pygments_lexer": "ipython3",
   "version": "3.10.12"
  }
 },
 "nbformat": 4,
 "nbformat_minor": 5
}

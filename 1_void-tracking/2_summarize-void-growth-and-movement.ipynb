{
 "cells": [
  {
   "cell_type": "markdown",
   "id": "4a0646a7-ae7c-42ab-a009-498c17acb8a3",
   "metadata": {},
   "source": [
    "# Summarize Void Growth and Movement\n",
    "Determine whether time or size affect the mobility or growth rates of voids."
   ]
  },
  {
   "cell_type": "code",
   "execution_count": 1,
   "id": "f179d0ad-978e-4750-b127-3f64571e5375",
   "metadata": {},
   "outputs": [],
   "source": [
    "%matplotlib inline\n",
    "from matplotlib import pyplot as plt\n",
    "from matplotlib import colormaps\n",
    "from scipy.optimize import minimize\n",
    "from scipy.stats import norm\n",
    "from pathlib import Path\n",
    "from cycler import cycle\n",
    "import pandas as pd\n",
    "import numpy as np\n",
    "import json"
   ]
  },
  {
   "cell_type": "markdown",
   "id": "ab3a0571-119b-448a-a495-0e4d9448ade5",
   "metadata": {},
   "source": [
    "Configuration"
   ]
  },
  {
   "cell_type": "code",
   "execution_count": 2,
   "id": "7634d052-e4c7-4a9b-a4e1-63f858db9831",
   "metadata": {
    "editable": true,
    "slideshow": {
     "slide_type": ""
    },
    "tags": [
     "parameters"
    ]
   },
   "outputs": [],
   "source": [
    "run_directory = '../data/8bitTIFF-video26-575C/'"
   ]
  },
  {
   "cell_type": "markdown",
   "id": "3bfde8a0-70fd-41d2-a185-75013c4a593b",
   "metadata": {
    "editable": true,
    "slideshow": {
     "slide_type": ""
    },
    "tags": []
   },
   "source": [
    "Other key paths"
   ]
  },
  {
   "cell_type": "code",
   "execution_count": 3,
   "id": "429956c0-6759-45d4-9888-f9418156e490",
   "metadata": {
    "editable": true,
    "slideshow": {
     "slide_type": ""
    },
    "tags": []
   },
   "outputs": [],
   "source": [
    "run_directory = Path(run_directory)\n",
    "run_name = run_directory.name\n",
    "out_directory = Path('output') / run_name"
   ]
  },
  {
   "cell_type": "markdown",
   "id": "1f5db767-e56b-495f-a7dc-5ea2f265f4ae",
   "metadata": {
    "editable": true,
    "slideshow": {
     "slide_type": ""
    },
    "tags": []
   },
   "source": [
    "## Load the Smoothed Tracks\n",
    "We are going to start from the tasks after smoothing them with splines"
   ]
  },
  {
   "cell_type": "code",
   "execution_count": 4,
   "id": "5c790fe7-f57e-4e2b-b846-e24c75946d85",
   "metadata": {
    "editable": true,
    "slideshow": {
     "slide_type": ""
    },
    "tags": []
   },
   "outputs": [
    {
     "name": "stdout",
     "output_type": "stream",
     "text": [
      "Loaded 12195 records from 77 voids\n"
     ]
    }
   ],
   "source": [
    "track_data = pd.read_csv(out_directory / 'smoothed_tracks.csv')\n",
    "print(f'Loaded {len(track_data)} records from {len(track_data[\"void\"].value_counts())} voids')"
   ]
  },
  {
   "cell_type": "code",
   "execution_count": 5,
   "id": "fad80c0a-a4a8-49a9-8c91-9d4b8459b86b",
   "metadata": {
    "editable": true,
    "slideshow": {
     "slide_type": ""
    },
    "tags": []
   },
   "outputs": [
    {
     "data": {
      "text/html": [
       "<div>\n",
       "<style scoped>\n",
       "    .dataframe tbody tr th:only-of-type {\n",
       "        vertical-align: middle;\n",
       "    }\n",
       "\n",
       "    .dataframe tbody tr th {\n",
       "        vertical-align: top;\n",
       "    }\n",
       "\n",
       "    .dataframe thead th {\n",
       "        text-align: right;\n",
       "    }\n",
       "</style>\n",
       "<table border=\"1\" class=\"dataframe\">\n",
       "  <thead>\n",
       "    <tr style=\"text-align: right;\">\n",
       "      <th></th>\n",
       "      <th>void</th>\n",
       "      <th>frame</th>\n",
       "      <th>radius</th>\n",
       "      <th>radius_dt</th>\n",
       "      <th>velocity_mag</th>\n",
       "      <th>position-x</th>\n",
       "      <th>position-y</th>\n",
       "      <th>color</th>\n",
       "    </tr>\n",
       "  </thead>\n",
       "  <tbody>\n",
       "    <tr>\n",
       "      <th>0</th>\n",
       "      <td>625</td>\n",
       "      <td>500</td>\n",
       "      <td>2.394004</td>\n",
       "      <td>0.001085</td>\n",
       "      <td>0.033340</td>\n",
       "      <td>60.838713</td>\n",
       "      <td>495.881565</td>\n",
       "      <td>[0.280255 0.165693 0.476498 1.      ]</td>\n",
       "    </tr>\n",
       "    <tr>\n",
       "      <th>1</th>\n",
       "      <td>486</td>\n",
       "      <td>805</td>\n",
       "      <td>3.137472</td>\n",
       "      <td>-0.004171</td>\n",
       "      <td>0.023854</td>\n",
       "      <td>356.658339</td>\n",
       "      <td>495.494583</td>\n",
       "      <td>[0.206756 0.371758 0.553117 1.      ]</td>\n",
       "    </tr>\n",
       "    <tr>\n",
       "      <th>2</th>\n",
       "      <td>1516</td>\n",
       "      <td>943</td>\n",
       "      <td>2.608265</td>\n",
       "      <td>-0.003503</td>\n",
       "      <td>0.835743</td>\n",
       "      <td>358.060177</td>\n",
       "      <td>139.815337</td>\n",
       "      <td>[0.154815 0.493313 0.55784  1.      ]</td>\n",
       "    </tr>\n",
       "    <tr>\n",
       "      <th>3</th>\n",
       "      <td>4</td>\n",
       "      <td>241</td>\n",
       "      <td>7.649041</td>\n",
       "      <td>0.005133</td>\n",
       "      <td>0.003478</td>\n",
       "      <td>44.784384</td>\n",
       "      <td>216.143108</td>\n",
       "      <td>[0.647257 0.8584   0.209861 1.      ]</td>\n",
       "    </tr>\n",
       "    <tr>\n",
       "      <th>4</th>\n",
       "      <td>6</td>\n",
       "      <td>167</td>\n",
       "      <td>6.719231</td>\n",
       "      <td>-0.001815</td>\n",
       "      <td>0.003076</td>\n",
       "      <td>194.144421</td>\n",
       "      <td>298.553146</td>\n",
       "      <td>[0.235526 0.309527 0.542944 1.      ]</td>\n",
       "    </tr>\n",
       "  </tbody>\n",
       "</table>\n",
       "</div>"
      ],
      "text/plain": [
       "   void  frame    radius  radius_dt  velocity_mag  position-x  position-y  \\\n",
       "0   625    500  2.394004   0.001085      0.033340   60.838713  495.881565   \n",
       "1   486    805  3.137472  -0.004171      0.023854  356.658339  495.494583   \n",
       "2  1516    943  2.608265  -0.003503      0.835743  358.060177  139.815337   \n",
       "3     4    241  7.649041   0.005133      0.003478   44.784384  216.143108   \n",
       "4     6    167  6.719231  -0.001815      0.003076  194.144421  298.553146   \n",
       "\n",
       "                                   color  \n",
       "0  [0.280255 0.165693 0.476498 1.      ]  \n",
       "1  [0.206756 0.371758 0.553117 1.      ]  \n",
       "2  [0.154815 0.493313 0.55784  1.      ]  \n",
       "3  [0.647257 0.8584   0.209861 1.      ]  \n",
       "4  [0.235526 0.309527 0.542944 1.      ]  "
      ]
     },
     "execution_count": 5,
     "metadata": {},
     "output_type": "execute_result"
    }
   ],
   "source": [
    "track_data.head()"
   ]
  },
  {
   "cell_type": "markdown",
   "id": "fb2e9267-fbed-4f6e-93b4-4f34ba1d4209",
   "metadata": {
    "editable": true,
    "slideshow": {
     "slide_type": ""
    },
    "tags": []
   },
   "source": [
    "## Detect Outliers\n",
    "See if any of the growth rates are particularly unlikely compared to the others. We are going to use methods based on the IQR for simplicity's sake"
   ]
  },
  {
   "cell_type": "markdown",
   "id": "444e3f16-415d-4993-b403-f260412639d0",
   "metadata": {},
   "source": [
    "### Growth\n",
    "From the previous notebook, we can see that growth terms are relatively smooth. So, I'm leery to refer to points as outliers unless they are far out"
   ]
  },
  {
   "cell_type": "code",
   "execution_count": 6,
   "id": "bf2b10c0-193c-497f-be09-7f7118464920",
   "metadata": {
    "tags": []
   },
   "outputs": [],
   "source": [
    "iqr_rdt = np.diff(np.percentile(track_data['radius_dt'], [25, 75]))[0]"
   ]
  },
  {
   "cell_type": "code",
   "execution_count": 7,
   "id": "befb4d18-b4b8-4aa1-890d-b02dcbea53b0",
   "metadata": {
    "tags": []
   },
   "outputs": [],
   "source": [
    "k = 5  # Based on https://aakinshin.net/posts/tukey-outlier-probability/\n",
    "upper_thr = np.percentile(track_data['radius_dt'], 75) + k * iqr_rdt\n",
    "lower_thr = np.percentile(track_data['radius_dt'], 25) - k * iqr_rdt"
   ]
  },
  {
   "cell_type": "code",
   "execution_count": 8,
   "id": "91b38274-fa8b-42ba-9129-2ea2f702ec02",
   "metadata": {
    "tags": []
   },
   "outputs": [
    {
     "data": {
      "text/plain": [
       "Text(0, 0.5, 'Count')"
      ]
     },
     "execution_count": 8,
     "metadata": {},
     "output_type": "execute_result"
    },
    {
     "data": {
      "image/png": "[encoded data removed]",
      "text/plain": [
       "<Figure size 350x200 with 1 Axes>"
      ]
     },
     "metadata": {},
     "output_type": "display_data"
    }
   ],
   "source": [
    "fig, ax = plt.subplots(figsize=(3.5, 2.))\n",
    "\n",
    "ax.hist(track_data['radius_dt'], bins=1024)\n",
    "\n",
    "ax.set_ylim(ax.get_ylim())\n",
    "for thr in [lower_thr, upper_thr]:\n",
    "    ax.plot([thr]*2, ax.get_ylim(), 'k--')\n",
    "\n",
    "ax.set_xlabel('Growth Rate (nm/frame)')\n",
    "ax.set_ylabel('Count')"
   ]
  },
  {
   "cell_type": "code",
   "execution_count": 9,
   "id": "4190b863-1c94-4541-9e22-1e9e1ad67195",
   "metadata": {
    "tags": []
   },
   "outputs": [
    {
     "name": "stdout",
     "output_type": "stream",
     "text": [
      "Found 601 outliers\n"
     ]
    }
   ],
   "source": [
    "track_data['growth_outlier'] = np.logical_or(track_data['radius_dt'] > upper_thr, track_data['radius_dt'] < lower_thr)\n",
    "print(f'Found {track_data[\"growth_outlier\"].sum()} outliers')"
   ]
  },
  {
   "cell_type": "markdown",
   "id": "2cdce785-c100-4612-9e78-076d1986d576",
   "metadata": {},
   "source": [
    "### Movement\n",
    "Movement is more jittery but I need to be less aggressive on movement rates because most voids are sessile. Only the rare void moves"
   ]
  },
  {
   "cell_type": "code",
   "execution_count": 10,
   "id": "b7aae3e8-f65e-487d-990c-911e87969415",
   "metadata": {
    "tags": []
   },
   "outputs": [],
   "source": [
    "iqr_rdt = np.diff(np.percentile(track_data['velocity_mag'], [25, 75]))[0]"
   ]
  },
  {
   "cell_type": "code",
   "execution_count": 11,
   "id": "2ae41478-59b2-4ffa-8de1-d5325018981b",
   "metadata": {
    "tags": []
   },
   "outputs": [
    {
     "name": "stdout",
     "output_type": "stream",
     "text": [
      "Bounds for movement: 0.336, -0.294\n"
     ]
    }
   ],
   "source": [
    "k = 8  # Based on https://aakinshin.net/posts/tukey-outlier-probability/\n",
    "upper_thr = np.percentile(track_data['velocity_mag'], 75) + k * iqr_rdt\n",
    "lower_thr = np.percentile(track_data['velocity_mag'], 25) - k * iqr_rdt\n",
    "print(f'Bounds for movement: {upper_thr:.3f}, {lower_thr:.3f}')"
   ]
  },
  {
   "cell_type": "code",
   "execution_count": 12,
   "id": "9049046d-7c80-4d15-9d81-b85c1bf06b9f",
   "metadata": {
    "tags": []
   },
   "outputs": [
    {
     "data": {
      "text/plain": [
       "Text(0, 0.5, 'Count')"
      ]
     },
     "execution_count": 12,
     "metadata": {},
     "output_type": "execute_result"
    },
    {
     "data": {
      "image/png": "[encoded data removed]",
      "text/plain": [
       "<Figure size 350x200 with 1 Axes>"
      ]
     },
     "metadata": {},
     "output_type": "display_data"
    }
   ],
   "source": [
    "fig, ax = plt.subplots(figsize=(3.5, 2.))\n",
    "\n",
    "ax.hist(track_data['velocity_mag'], bins=1024)\n",
    "\n",
    "ax.set_ylim(ax.get_ylim())\n",
    "for thr in [lower_thr, upper_thr]:\n",
    "    ax.plot([thr]*2, ax.get_ylim(), 'k--')\n",
    "\n",
    "ax.set_xlabel('Movement Rate (nm/frame)')\n",
    "ax.set_ylabel('Count')"
   ]
  },
  {
   "cell_type": "code",
   "execution_count": 13,
   "id": "3b536f2e-ca2e-4e75-9f25-662cbe60022e",
   "metadata": {
    "tags": []
   },
   "outputs": [
    {
     "name": "stdout",
     "output_type": "stream",
     "text": [
      "Found 889 outliers\n"
     ]
    }
   ],
   "source": [
    "track_data['movement_outlier'] = np.logical_or(track_data['velocity_mag'] > upper_thr, track_data['velocity_mag'] < lower_thr)\n",
    "print(f'Found {track_data[\"movement_outlier\"].sum()} outliers')"
   ]
  },
  {
   "cell_type": "markdown",
   "id": "913b79f2-7260-4539-92fc-c517ec347c29",
   "metadata": {},
   "source": [
    "### Drop outliers\n",
    "Exclude if it is an outlier for either"
   ]
  },
  {
   "cell_type": "code",
   "execution_count": 14,
   "id": "be83f6e3-49fe-45a1-9e73-13349c301fe0",
   "metadata": {
    "tags": []
   },
   "outputs": [
    {
     "name": "stdout",
     "output_type": "stream",
     "text": [
      "New size: 10912. 89.48% passed.\n"
     ]
    }
   ],
   "source": [
    "old_size = len(track_data)\n",
    "track_data.query('not (movement_outlier or growth_outlier)', inplace=True)\n",
    "print(f'New size: {len(track_data)}. {len(track_data) / old_size * 100:.2f}% passed.')"
   ]
  },
  {
   "cell_type": "markdown",
   "id": "2edf7efb-de27-4fb9-a7a4-a8c2a0766afb",
   "metadata": {
    "editable": true,
    "slideshow": {
     "slide_type": ""
    },
    "tags": []
   },
   "source": [
    "## Re-plot the void tracks\n",
    "Drop the first and last 5 frames of the void track. Those are right where the void moved or changed enough that it "
   ]
  },
  {
   "cell_type": "markdown",
   "id": "b206e227-bcb2-46b0-b24b-fa2c7d2c43d7",
   "metadata": {},
   "source": [
    "Assign a random color to each void"
   ]
  },
  {
   "cell_type": "code",
   "execution_count": 15,
   "id": "7bf655b1-54b9-4ffe-a291-cb7ec5a582ce",
   "metadata": {
    "tags": []
   },
   "outputs": [],
   "source": [
    "cmap = colormaps['nipy_spectral']"
   ]
  },
  {
   "cell_type": "code",
   "execution_count": 16,
   "id": "39e14681-c91a-418c-863c-f480f8bb89ec",
   "metadata": {
    "tags": []
   },
   "outputs": [],
   "source": [
    "colors = np.linspace(0, 1, len(track_data['void'].value_counts()))\n",
    "rng = np.random.RandomState(1)\n",
    "rng.shuffle(colors)\n",
    "colors = cmap(colors)"
   ]
  },
  {
   "cell_type": "code",
   "execution_count": 17,
   "id": "3a0e9b31-a55a-4535-9128-19b0dbc007ae",
   "metadata": {
    "tags": []
   },
   "outputs": [],
   "source": [
    "known_voids = sorted(set(track_data['void']))\n",
    "track_data['color'] = track_data['void'].apply(known_voids.index).apply(colors.__getitem__)"
   ]
  },
  {
   "cell_type": "code",
   "execution_count": 18,
   "id": "1fd26e25-d859-4b1e-aa80-8800884704ae",
   "metadata": {
    "tags": []
   },
   "outputs": [
    {
     "data": {
      "image/png": "[encoded data removed]",
      "text/plain": [
       "<Figure size 550x200 with 2 Axes>"
      ]
     },
     "metadata": {},
     "output_type": "display_data"
    }
   ],
   "source": [
    "fig, axs = plt.subplots(1, 2, figsize=(5.5, 2.), sharex=True)\n",
    "\n",
    "alpha = 0.7\n",
    "\n",
    "# Plot the growth\n",
    "ax = axs[0]\n",
    "for (gid, group), m in zip(track_data.groupby('void'), cycle('osv^p')):\n",
    "    ax.text(0, 0.9, '(a)', transform=ax.transAxes, fontsize=10, weight='normal')\n",
    "    group = group.sort_values('frame')\n",
    "    \n",
    "    # Determine the color for this group\n",
    "    color = group['color'].iloc[0].tolist()\n",
    "    color[3] = alpha  # Set the alpha\n",
    "    ax.plot(group['radius'], group['radius_dt'], m, \n",
    "            ms=4, lw=1, mfc=color, mec='none', markevery=12)\n",
    "\n",
    "ax.set_xlim(0, max(ax.get_xlim()) * 1.1)\n",
    "ax.plot(ax.get_xlim(), [0, 0], 'k--', lw=1)\n",
    "ax.set_ylabel('Growth (nm/frame)')\n",
    "ax.set_ylim(-0.05, 0.05)\n",
    "\n",
    "# Plot the movement\n",
    "ax = axs[1]\n",
    "for gid, group in track_data.groupby('void'):\n",
    "    ax.text(0, 0.9, '(b)', transform=ax.transAxes, fontsize=10, weight='normal')\n",
    "    # Determine the color for this group\n",
    "    color = group['color'].iloc[0].tolist()\n",
    "    color[3] = alpha  # Set the alpha\n",
    "    ax.plot(group['radius'], group['velocity_mag'], 'o', \n",
    "            ms=4, lw=1, mfc=color, mec='none', markevery=12)\n",
    "\n",
    "ax.set_ylim(0, 0.4)\n",
    "ax.set_ylabel('Movement (nm/frame)')\n",
    "\n",
    "for ax in axs:\n",
    "    ax.set_xlabel('Size (nm)')\n",
    "fig.tight_layout()\n",
    "fig.savefig(out_directory / 'figures/time-resolved-voids-by-size.png', dpi=320)"
   ]
  },
  {
   "cell_type": "code",
   "execution_count": 19,
   "id": "cb35a572-f79d-4eac-a8c5-ad40ce77be1e",
   "metadata": {
    "tags": []
   },
   "outputs": [
    {
     "data": {
      "image/png": "[encoded data removed]",
      "text/plain": [
       "<Figure size 550x200 with 2 Axes>"
      ]
     },
     "metadata": {},
     "output_type": "display_data"
    }
   ],
   "source": [
    "fig, axs = plt.subplots(1, 2, figsize=(5.5, 2.), sharex=True)\n",
    "\n",
    "alpha = 0.7\n",
    "\n",
    "# Plot the growth\n",
    "ax = axs[0]\n",
    "for gid, group in track_data.query('radius > 6').groupby('void'):\n",
    "    ax.text(0, 0.9, '(a)', transform=ax.transAxes, fontsize=10, weight='normal')\n",
    "    group = group.sort_values('frame')\n",
    "    \n",
    "    # Determine the color for this group\n",
    "    color = group['color'].iloc[0].tolist()\n",
    "    color[3] = alpha  # Set the alpha\n",
    "    ax.plot(group['frame'], group['radius_dt'], 'o', \n",
    "            ms=4, lw=1, mfc=color, mec='none', markevery=12)\n",
    "\n",
    "ax.set_xlim(0, max(ax.get_xlim()) * 1.1)\n",
    "ax.plot(ax.get_xlim(), [0, 0], 'k--', lw=1)\n",
    "ax.set_ylabel('Growth (nm/s)')\n",
    "ax.set_ylim(-0.05, 0.05)\n",
    "\n",
    "# Plot the movement\n",
    "ax = axs[1]\n",
    "for gid, group in track_data.query('radius > 6').groupby('void'):\n",
    "    ax.text(0, 0.9, '(b)', transform=ax.transAxes, fontsize=10, weight='normal')\n",
    "    # Determine the color for this group\n",
    "    color = group['color'].iloc[0].tolist()\n",
    "    color[3] = alpha  # Set the alpha\n",
    "    ax.plot(group['frame'], group['velocity_mag'], 'o', \n",
    "            ms=4, lw=1, mfc=color, mec='none', markevery=12)\n",
    "\n",
    "ax.set_ylim(0, 0.4)\n",
    "ax.set_ylabel('Movement (nm/s)')\n",
    "\n",
    "for ax in axs:\n",
    "    ax.set_xlabel('Frame')\n",
    "fig.tight_layout()\n",
    "fig.savefig(out_directory / 'figures/time-resolved-voids-by-time.png', dpi=320)"
   ]
  },
  {
   "cell_type": "markdown",
   "id": "1db1709b-0c42-4524-9de1-3588f0fe9550",
   "metadata": {},
   "source": [
    "## Fit a model for void growth and movement\n",
    "We can assume that both the mean and variance of growth rate for a void is a function of size.\n",
    "\n",
    "$\\dot{r} \\sim N(\\alpha_0 + \\alpha_1 r, 10^{\\beta_0 + \\beta_1 r})$\n",
    "\n",
    "We fit this distribution my minimizing the log-likelihood of the observed data, which are pairs of $r$ and $\\dot{r}$.\n",
    "\n",
    "Similar logic holds for"
   ]
  },
  {
   "cell_type": "code",
   "execution_count": 20,
   "id": "952e6564-dbb1-46c0-b673-08dac4b828d9",
   "metadata": {
    "tags": []
   },
   "outputs": [],
   "source": [
    "def get_size_distribution(r: float | np.ndarray, params: list[float]):\n",
    "    \"\"\"Get the expected growth rate distribution of a void given its size\n",
    "    \n",
    "    Args:\n",
    "        radius: Sizes of the void\n",
    "        params: Parameters for the distribution model.\n",
    "            Ordered as [alpha, beta]\n",
    "    Returns:\n",
    "        Distribution for all voids\n",
    "    \"\"\"\n",
    "    return norm(params[0] + params[1] * r, np.power(10, params[2] + params[3] * r))"
   ]
  },
  {
   "cell_type": "markdown",
   "id": "bb74d4f2-606f-433e-ae38-5cb1c8f8c058",
   "metadata": {},
   "source": [
    "Fit the model"
   ]
  },
  {
   "cell_type": "code",
   "execution_count": 21,
   "id": "fd542cb7-4e4b-41d4-9d51-92afd4b39d18",
   "metadata": {
    "tags": []
   },
   "outputs": [],
   "source": [
    "def loss_function(params: list[float], data: pd.DataFrame, target_column: str = 'radius_dt') -> float:\n",
    "    \"\"\"Compute the negative log loss of the data given a \n",
    "    model which explains the property being an effect of \n",
    "    radius.\n",
    "    \n",
    "    Args:\n",
    "        params: Parameters for the distribution. We assume the parameters for the \n",
    "        data: Data of the void distribution\n",
    "        target_column: Column being fit\n",
    "    \"\"\"\n",
    "    \n",
    "    r = data['radius']\n",
    "    growth_dist = get_size_distribution(r, params)\n",
    "    nll = growth_dist.logpdf(data[target_column])\n",
    "    return -nll.sum()"
   ]
  },
  {
   "cell_type": "code",
   "execution_count": 22,
   "id": "6e1b88bb-6712-4848-80da-4198c70e98d6",
   "metadata": {
    "tags": []
   },
   "outputs": [
    {
     "data": {
      "text/plain": [
       "  message: Desired error not necessarily achieved due to precision loss.\n",
       "  success: False\n",
       "   status: 2\n",
       "      fun: -35627.04333706785\n",
       "        x: [-1.020e-03  2.496e-04 -1.535e+00 -8.915e-02]\n",
       "      nit: 17\n",
       "      jac: [ 4.785e-02  5.068e-01  9.766e-04  8.301e-03]\n",
       " hess_inv: [[ 3.638e-07 -5.168e-08 -6.031e-13 -5.358e-07]\n",
       "            [-5.168e-08  7.475e-09  8.952e-14  8.028e-08]\n",
       "            [-6.031e-13  8.952e-14  8.592e-12 -1.918e-13]\n",
       "            [-5.358e-07  8.028e-08 -1.918e-13  1.296e-06]]\n",
       "     nfev: 165\n",
       "     njev: 33"
      ]
     },
     "execution_count": 22,
     "metadata": {},
     "output_type": "execute_result"
    }
   ],
   "source": [
    "result = minimize(loss_function, [0, 0, -1, 0], args=(track_data,))\n",
    "result"
   ]
  },
  {
   "cell_type": "code",
   "execution_count": 23,
   "id": "9bcfc2b6-627d-449e-9396-284bd4efd253",
   "metadata": {
    "tags": []
   },
   "outputs": [
    {
     "name": "stdout",
     "output_type": "stream",
     "text": [
      "Void growth is defined by: -1.02e-03 + 2.50e-04 * r\n"
     ]
    }
   ],
   "source": [
    "growth_params = result.x\n",
    "print(f'Void growth is defined by: {growth_params[0]:.2e} + {growth_params[1]:.2e} * r')"
   ]
  },
  {
   "cell_type": "markdown",
   "id": "a313bc80-ee71-4a02-9772-0ffbefdbf11d",
   "metadata": {},
   "source": [
    "Repeat for movement"
   ]
  },
  {
   "cell_type": "code",
   "execution_count": 24,
   "id": "79f19531-b7df-4e07-ae05-6f75dd5230af",
   "metadata": {
    "tags": []
   },
   "outputs": [
    {
     "data": {
      "text/plain": [
       "  message: Desired error not necessarily achieved due to precision loss.\n",
       "  success: False\n",
       "   status: 2\n",
       "      fun: 16327.707193857224\n",
       "        x: [-2.502e+00 -4.332e-01  9.987e-02 -1.184e-02]\n",
       "      nit: 19\n",
       "      jac: [-1.221e-04  0.000e+00  0.000e+00  3.662e-04]\n",
       " hess_inv: [[ 1.820e-03 -2.944e-04 -9.228e-04  1.566e-04]\n",
       "            [-2.944e-04  4.998e-05  1.484e-04 -2.516e-05]\n",
       "            [-9.228e-04  1.484e-04  4.819e-04 -8.115e-05]\n",
       "            [ 1.566e-04 -2.516e-05 -8.115e-05  1.394e-05]]\n",
       "     nfev: 318\n",
       "     njev: 62"
      ]
     },
     "execution_count": 24,
     "metadata": {},
     "output_type": "execute_result"
    }
   ],
   "source": [
    "track_data['log_velocity_mag'] = np.log(track_data['velocity_mag'])\n",
    "result = minimize(loss_function, [-3, 0, 0, 0], args=(track_data, 'log_velocity_mag'))\n",
    "result"
   ]
  },
  {
   "cell_type": "code",
   "execution_count": 25,
   "id": "4043f457-d965-4756-b424-fef63f0bdd86",
   "metadata": {
    "tags": []
   },
   "outputs": [
    {
     "name": "stdout",
     "output_type": "stream",
     "text": [
      "Log void movement is defined by: -2.50e+00 + -4.33e-01 * r\n"
     ]
    }
   ],
   "source": [
    "movement_params = result.x\n",
    "print(f'Log void movement is defined by: {movement_params[0]:.2e} + {movement_params[1]:.2e} * r')"
   ]
  },
  {
   "cell_type": "code",
   "execution_count": 29,
   "id": "cefe00aa-99cd-4124-80a1-e62c574efa38",
   "metadata": {
    "tags": []
   },
   "outputs": [
    {
     "data": {
      "image/png": "[encoded data removed]",
      "text/plain": [
       "<Figure size 550x200 with 2 Axes>"
      ]
     },
     "metadata": {},
     "output_type": "display_data"
    }
   ],
   "source": [
    "fig, axs = plt.subplots(1, 2, figsize=(5.5, 2.), sharex=True)\n",
    "\n",
    "alpha = 0.7\n",
    "\n",
    "marker_list = 'osv^p<>hHP*XD'\n",
    "\n",
    "# Plot the growth\n",
    "ax = axs[0]\n",
    "for (gid, group), m in zip(track_data.groupby('void'), cycle(marker_list)):\n",
    "    ax.text(0, 0.9, '(a)', transform=ax.transAxes, fontsize=10, weight='normal')\n",
    "    group = group.sort_values('frame')\n",
    "    \n",
    "    # Determine the color for this group\n",
    "    color = group['color'].iloc[0].tolist()\n",
    "    color[3] = alpha  # Set the alpha\n",
    "    ax.plot(group['radius'], group['radius_dt'], m, \n",
    "            ms=3, lw=1, mfc=color, mec='none', markevery=12)\n",
    "\n",
    "ax.set_xlim(0, max(ax.get_xlim()) * 1.1)\n",
    "ax.plot(ax.get_xlim(), [0, 0], '--', c='gray', lw=0.7)\n",
    "ax.set_ylabel('Growth (nm/s)')\n",
    "ax.set_ylim(-0.05, 0.05)\n",
    "\n",
    "ax.text(0.5, 0.87, f'$\\dot{{r}}\\sim{growth_params[0]*1000:.1f}{growth_params[1]*1000:+.1f}r$',\n",
    "       transform=ax.transAxes, fontsize=8)\n",
    "\n",
    "steps = np.linspace(*ax.get_xlim(), 32)\n",
    "mean = growth_params[0] + steps * growth_params[1]\n",
    "std = np.power(10, growth_params[2] + growth_params[3] * steps)\n",
    "ax.plot(steps, mean, 'k')\n",
    "ax.fill_between(steps, mean + std, mean - std, alpha=0.3, color='k', edgecolor='none')\n",
    "\n",
    "# Plot the movement\n",
    "ax = axs[1]\n",
    "for (gid, group), m in zip(track_data.groupby('void'), cycle(marker_list)):\n",
    "    ax.text(0, 0.9, '(b)', transform=ax.transAxes, fontsize=10, weight='normal')\n",
    "    # Determine the color for this group\n",
    "    color = group['color'].iloc[0].tolist()\n",
    "    color[3] = alpha  # Set the alpha\n",
    "    ax.plot(group['radius'], group['velocity_mag'], m, \n",
    "            ms=3, lw=1, mfc=color, mec='none', markevery=12)\n",
    "\n",
    "ax.set_ylim(0, 0.4)\n",
    "ax.set_ylabel('Movement (nm/s)')\n",
    "\n",
    "ax.text(0.3, 0.87, f'$\\log\\\\left|v\\\\right|\\sim{movement_params[0]:.1f}{movement_params[1]:+.1f}r$',\n",
    "       transform=ax.transAxes, fontsize=8)\n",
    "\n",
    "steps = np.linspace(*ax.get_xlim(), 32)\n",
    "mean = movement_params[0] + steps * movement_params[1]\n",
    "std = np.power(10, movement_params[2] + movement_params[3] * steps)\n",
    "ax.plot(steps, np.exp(mean), 'k')\n",
    "ax.fill_between(steps, np.exp(mean + std), np.exp(mean - std), alpha=0.3, color='k', edgecolor='none')\n",
    "\n",
    "\n",
    "for ax in axs:\n",
    "    ax.set_xlabel('Size (nm)')\n",
    "fig.tight_layout()\n",
    "fig.savefig(out_directory / 'figures/time-resolved-voids-by-size.png', dpi=320)"
   ]
  },
  {
   "cell_type": "markdown",
   "id": "264c342b-ffef-46ea-8cff-d326781b0eeb",
   "metadata": {},
   "source": [
    "A few tweaks:\n",
    "- Put an equation on the slid\n",
    "- Make the \"zero line\" and the trend line a different color so that the trendline pops out"
   ]
  },
  {
   "cell_type": "markdown",
   "id": "082d12be-0d1c-4a8e-9241-83dc0230f6d1",
   "metadata": {},
   "source": [
    "Save the model parameters"
   ]
  },
  {
   "cell_type": "code",
   "execution_count": 27,
   "id": "1d85eb88-a88d-45be-86b7-533c2e34e5ef",
   "metadata": {
    "tags": []
   },
   "outputs": [],
   "source": [
    "with (out_directory / 'model-parameters.json').open('w') as fp:\n",
    "    json.dump({\n",
    "        'growth': growth_params.tolist(),\n",
    "        'movement': movement_params.tolist()\n",
    "    }, fp)"
   ]
  },
  {
   "cell_type": "code",
   "execution_count": null,
   "id": "2c7cf8c3-f04b-4ca0-9b80-a049d5d9d987",
   "metadata": {},
   "outputs": [],
   "source": []
  }
 ],
 "metadata": {
  "kernelspec": {
   "display_name": "Python 3 (ipykernel)",
   "language": "python",
   "name": "python3"
  },
  "language_info": {
   "codemirror_mode": {
    "name": "ipython",
    "version": 3
   },
   "file_extension": ".py",
   "mimetype": "text/x-python",
   "name": "python",
   "nbconvert_exporter": "python",
   "pygments_lexer": "ipython3",
   "version": "3.10.12"
  }
 },
 "nbformat": 4,
 "nbformat_minor": 5
}

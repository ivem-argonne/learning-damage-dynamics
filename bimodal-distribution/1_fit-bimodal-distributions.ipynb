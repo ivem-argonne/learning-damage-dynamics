{
 "cells": [
  {
   "cell_type": "markdown",
   "id": "0a0d6dda-d734-4da6-9dec-6c8641257450",
   "metadata": {},
   "source": [
    "# Fit Bimodal Distributions\n",
    "The goal in these notebooks to fit a distribution to the observed count data.\n",
    "As illustrated in [the previous notebook](./0_visualize-void-distribution.ipynb), we find that there are generally two populations of voids - small and large - and we're going to fit a bimodal distribution to predict the expected number of counts of voids of different sizes.\n"
   ]
  },
  {
   "cell_type": "code",
   "execution_count": 1,
   "id": "7e39cf1f-f8c8-4a28-983b-56d1b0290a5c",
   "metadata": {},
   "outputs": [],
   "source": [
    "%matplotlib inline\n",
    "from matplotlib import pyplot as plt\n",
    "from multiprocessing import Pool\n",
    "from functools import partial\n",
    "from scipy import stats, optimize\n",
    "from tqdm import tqdm\n",
    "import pandas as pd\n",
    "import numpy as np"
   ]
  },
  {
   "cell_type": "markdown",
   "id": "9f1881f7-2f36-43f4-b28a-6ea93ea48f7f",
   "metadata": {},
   "source": [
    "## Load in the Data\n",
    "Get the void counts from all frames"
   ]
  },
  {
   "cell_type": "code",
   "execution_count": 2,
   "id": "0a007950-c841-4ac0-8227-4c0496013d4a",
   "metadata": {},
   "outputs": [
    {
     "name": "stdout",
     "output_type": "stream",
     "text": [
      "Loaded in 8115 frames\n"
     ]
    }
   ],
   "source": [
    "data = pd.read_pickle('../datasets/initial_data.pkl')\n",
    "print(f'Loaded in {len(data)} frames')"
   ]
  },
  {
   "cell_type": "markdown",
   "id": "419cd5cb-eda5-44f7-a6d1-c6ccba2a4713",
   "metadata": {},
   "source": [
    "## Establish the Fitting Approach\n",
    "The number of voids counted in a particular view of a microscope is a random process - the actual count depends the overall density of voids and the particular region we chose to look at. \n",
    "Consequently, we will express the probability of observing the number of voids as a certain size as [a Poisson distribution](https://en.wikipedia.org/wiki/Poisson_distribution).\n",
    "The Poisson distribution describes the number of counts of a particular event given a \"rate\" parameter, &lambda;.\n",
    "Our task is to predict how this \"rate\" parameter varies over cells of different sizes.\n",
    "\n",
    "We will assume the rate parameter varies smoothly as a function of void size and that function has two peaks.\n",
    "Given the \"bimodal\" distribution of void sizes we found previously, we'll assume a functional form that is the sum of two Gaussians.\n",
    "\n",
    "$\\lambda(r) = \\lambda_1 exp(-(r - r_1)^2 / \\sigma_1^2) + \\lambda_2 exp(-(r - r_2)^2 / \\sigma_2^2)$\n",
    "\n",
    "This functional form has 6 fitting parameters: a base rate ($\\lambda_i$), and the mean ($r_i$) and width ($\\sigma_i$) of how that parameter varies over time for two different population of voids ($i \\in \\{1, 2\\}$)\n",
    "\n",
    "We will fit this distribution by binning our data according to void size then adjusting these parameters to minimizing the difference between the expected and actual number of values in that bin."
   ]
  },
  {
   "cell_type": "markdown",
   "id": "38ba2616-ddb1-4bb7-89b8-14fa4d0df869",
   "metadata": {},
   "source": [
    "Our first step is to get an example frame"
   ]
  },
  {
   "cell_type": "code",
   "execution_count": 3,
   "id": "901de09a-1b06-4082-9261-0d8a62abb9cd",
   "metadata": {},
   "outputs": [],
   "source": [
    "example_frame = data.iloc[50]"
   ]
  },
  {
   "cell_type": "code",
   "execution_count": 4,
   "id": "b0ed3cc8-df45-4c1b-9d30-dc5afc6103a3",
   "metadata": {},
   "outputs": [],
   "source": [
    "bins = np.linspace(0, 35, 32)"
   ]
  },
  {
   "cell_type": "code",
   "execution_count": 5,
   "id": "1a10a183-9cc3-4253-8a9c-ded3ca7ed4e0",
   "metadata": {},
   "outputs": [
    {
     "data": {
      "text/plain": [
       "Text(0, 0.5, 'Count')"
      ]
     },
     "execution_count": 5,
     "metadata": {},
     "output_type": "execute_result"
    },
    {
     "data": {
      "image/png": "[encoded data removed]",
      "text/plain": [
       "<Figure size 252x180 with 1 Axes>"
      ]
     },
     "metadata": {
      "needs_background": "light"
     },
     "output_type": "display_data"
    }
   ],
   "source": [
    "fig, ax = plt.subplots(figsize=(3.5, 2.5))\n",
    "\n",
    "ax.hist(example_frame['void_radii'], bins=bins)\n",
    "\n",
    "ax.set_xlabel('Radius (nm)')\n",
    "ax.set_ylabel('Count')"
   ]
  },
  {
   "cell_type": "markdown",
   "id": "c9187b26-47b4-48a2-8a8f-2181c83f193d",
   "metadata": {},
   "source": [
    "You can see the that there is a roughly bimodal distribution to the data."
   ]
  },
  {
   "cell_type": "code",
   "execution_count": 6,
   "id": "c4854882-251b-4dbe-9e00-1e0012266c2d",
   "metadata": {},
   "outputs": [],
   "source": [
    "def compute_count_distribution(r, rate_small, rate_large, mean_small, mean_large, width_small, width_large):\n",
    "    \"\"\"Generate the distribution of expected counts for voids of a certain size.\n",
    "    \n",
    "    The \"density/rate\" parameter describing the distribution of counts is defined by\n",
    "    \n",
    "    :math:`\\lambda(r) = \\lambda_1 exp(-(r - r_1)^2 / \\sigma_1) + \\lambda_2 exp(-(r - r_2)^2 / \\sigma_2)`\n",
    "    \n",
    "    where :math:`\\lambda` is the rate parameter of a Poisson distribution\n",
    "    \n",
    "    Args:\n",
    "        r: Radius of the void\n",
    "        rate_small: Rate parameter for small voids (:math:`\\lambda_1`)\n",
    "        rate_large: Rate parameter for large voids (:math:`\\lambda_2`)\n",
    "        mean_small: Mean size of the small voids (units: nm)\n",
    "        mean_large: Mean size of the large voids (units: nm)\n",
    "        width_small: Variance in size of small voids (units: nm)\n",
    "        width_large: Variance in size of large voids (units: nm)\n",
    "    Returns:\n",
    "        Probability distribution of expected void counts\n",
    "    \"\"\"\n",
    "    \n",
    "    rate_all = rate_small * np.exp(-(r - mean_small) ** 2 / width_small ** 2) + \\\n",
    "        rate_large * np.exp(-(r - mean_large) ** 2 / width_large ** 2)\n",
    "    \n",
    "    # TODO (wardlt): I'm just computing the value based on the center of the bin\n",
    "    #  an average (computed using an integral) for the bin range woud be more precise\n",
    "    return stats.poisson(rate_all)"
   ]
  },
  {
   "cell_type": "code",
   "execution_count": 7,
   "id": "718f28db-77a4-4b6a-b18d-77371ca84a88",
   "metadata": {},
   "outputs": [],
   "source": [
    "r_center = bins[:-1] + np.diff(bins) / 2   # Get the center of each bin\n",
    "count_distrib = compute_count_distribution(r_center, 5, 2, 5, 15, 4, 4)"
   ]
  },
  {
   "cell_type": "code",
   "execution_count": 8,
   "id": "9abaac33-0c85-4f95-ab52-1b206265e3e7",
   "metadata": {},
   "outputs": [
    {
     "data": {
      "text/plain": [
       "Text(0, 0.5, 'Expected Count')"
      ]
     },
     "execution_count": 8,
     "metadata": {},
     "output_type": "execute_result"
    },
    {
     "data": {
      "image/png": "[encoded data removed]",
      "text/plain": [
       "<Figure size 252x180 with 1 Axes>"
      ]
     },
     "metadata": {
      "needs_background": "light"
     },
     "output_type": "display_data"
    }
   ],
   "source": [
    "fig, ax = plt.subplots(figsize=(3.5, 2.5))\n",
    "\n",
    "ax.plot(r_center, count_distrib.mean(), '--o')\n",
    "\n",
    "ax.set_xlabel('Void radius (nm)') \n",
    "ax.set_ylabel('Expected Count')"
   ]
  },
  {
   "cell_type": "markdown",
   "id": "942bcc61-b32b-4ad4-ac74-bdbc3b70802b",
   "metadata": {},
   "source": [
    "This gives us a smoothly-varying number of expected counts and the bi-modal character that we expect\n",
    "\n",
    "Fit the distribution's parameters to observed data"
   ]
  },
  {
   "cell_type": "code",
   "execution_count": 9,
   "id": "5ce26acf-4fed-493b-8604-8f682ff958b9",
   "metadata": {},
   "outputs": [],
   "source": [
    "def objective_fun(radii, bins, *params) -> float:\n",
    "    \"\"\"Compute the \"log loss\" of a distribution given a set of observed counts and distribution parameters\n",
    "    \n",
    "    Args:\n",
    "        radii: Radii of voids observed in image\n",
    "        bins: Bin edges on which to divide categories of voids\n",
    "        params Parameters of the void size distribution\n",
    "    Returns:\n",
    "        - \"Log loss\" of distribution (higher values indicate worse fit)\n",
    "    \"\"\"\n",
    "    \n",
    "    # Compute the counts per bin\n",
    "    counts, edges = np.histogram(radii, bins)\n",
    "    \n",
    "    # Get the center of each bin\n",
    "    center = bins[:-1] + np.diff(edges) / 2\n",
    "    \n",
    "    # Compute the count distributions for each bin\n",
    "    count_dist = compute_count_distribution(center, *params)\n",
    "    \n",
    "    # Compute the log probability of the observed data given the distributions\n",
    "    return -count_dist.logpmf(counts).sum()"
   ]
  },
  {
   "cell_type": "code",
   "execution_count": 10,
   "id": "a93404fc-d0ae-45f9-8b11-6edd8a37756a",
   "metadata": {},
   "outputs": [],
   "source": [
    "def fit_distribution(radii, bins):\n",
    "    \"\"\"Fit the probability distribution given observed radii and bins for void sizes\n",
    "    \n",
    "    Args:\n",
    "        radii: Radii of voids observed in image\n",
    "        bins: Bin edges on which to divide categories of voids\n",
    "    Returns:\n",
    "        Fit values for the distribution\n",
    "    \"\"\"\n",
    "    \n",
    "    # Make the function to be minimized\n",
    "    #  Set the radii and bin values of the objective function defined above\n",
    "    fun = lambda x: objective_fun(radii, bins, *x)\n",
    "    \n",
    "    # Define the bounds for the values\n",
    "    bounds = [\n",
    "        (0, None),  # Rates are positive\n",
    "        (0, np.inf),\n",
    "        (0, 10),  # Small voids are between 0 and 10nm\n",
    "        (12, None),  # Large voids are larger than 12nm\n",
    "        (1, 10),  # Width is between 1 and 10nm\n",
    "        (1, 10)\n",
    "    ]\n",
    "        \n",
    "    \n",
    "    # Run optimization\n",
    "    return optimize.minimize(lambda x: objective_fun(radii, bins, *x), \n",
    "                             x0=(5, 2, 5, 15, 4, 4),\n",
    "                             method='Powell',\n",
    "                             bounds=bounds).x"
   ]
  },
  {
   "cell_type": "code",
   "execution_count": 11,
   "id": "e6b57d2a-6093-4796-9261-32dd6d529971",
   "metadata": {},
   "outputs": [],
   "source": [
    "res = fit_distribution(example_frame['void_radii'], bins)"
   ]
  },
  {
   "cell_type": "code",
   "execution_count": 12,
   "id": "3ebdebbd-58e9-4345-983c-5fd31a1ed2a8",
   "metadata": {},
   "outputs": [
    {
     "data": {
      "text/plain": [
       "Text(0, 0.5, 'Count')"
      ]
     },
     "execution_count": 12,
     "metadata": {},
     "output_type": "execute_result"
    },
    {
     "data": {
      "image/png": "[encoded data removed]",
      "text/plain": [
       "<Figure size 252x180 with 1 Axes>"
      ]
     },
     "metadata": {
      "needs_background": "light"
     },
     "output_type": "display_data"
    }
   ],
   "source": [
    "fig, ax = plt.subplots(figsize=(3.5, 2.5))\n",
    "\n",
    "count_distrib = compute_count_distribution(r_center, *res)\n",
    "ax.plot(r_center, count_distrib.mean(), '--o', label='Expected')\n",
    "\n",
    "ax.hist(example_frame['void_radii'], bins=bins, label='Observed')\n",
    "\n",
    "ax.legend()\n",
    "ax.set_xlabel('Void radius (nm)') \n",
    "ax.set_ylabel('Count')"
   ]
  },
  {
   "cell_type": "markdown",
   "id": "219826a0-e177-4274-a0f4-56fb9e109351",
   "metadata": {},
   "source": [
    "The result is that we can get a pretty good model for the void size distributions"
   ]
  },
  {
   "cell_type": "markdown",
   "id": "336ccc12-3060-4f75-a2a6-fdd23b4f3b92",
   "metadata": {},
   "source": [
    "## Run the fitting over all frames\n",
    "Now that we have the function, let's use it on all available data\n"
   ]
  },
  {
   "cell_type": "code",
   "execution_count": null,
   "id": "d0c9d999-8c55-4c68-889d-e1afb0297a74",
   "metadata": {},
   "outputs": [
    {
     "name": "stderr",
     "output_type": "stream",
     "text": [
      " 95%|███████████████████████████████████████████████████████████████████████████████████████████████████████████████████████████████████████████████████████████████         | 7684/8115 [01:52<00:06, 61.90it/s]"
     ]
    }
   ],
   "source": [
    "%%time\n",
    "with Pool() as pool:\n",
    "    fit_fun = partial(fit_distribution, bins=bins)\n",
    "    outputs = [x for x in tqdm(pool.imap(fit_fun, data['void_radii']), total=len(data))]"
   ]
  },
  {
   "cell_type": "markdown",
   "id": "71d033bf-739a-4036-b489-751c869030a2",
   "metadata": {},
   "source": [
    "Store the results in a Pandas dataframe"
   ]
  },
  {
   "cell_type": "code",
   "execution_count": null,
   "id": "1eb7d2a5-c0de-4027-82d0-e87b2428886e",
   "metadata": {},
   "outputs": [],
   "source": [
    "results = pd.DataFrame(outputs, columns=['density_small', 'density_large', 'radii_small', 'radii_large', 'std_small', 'std_large'])"
   ]
  },
  {
   "cell_type": "code",
   "execution_count": null,
   "id": "88f391de-7018-457a-a636-9c2fad97dc28",
   "metadata": {},
   "outputs": [],
   "source": [
    "results = pd.concat([data[['source', 'temp', 'frame_id', 'void_radii']], results], axis=1)"
   ]
  },
  {
   "cell_type": "markdown",
   "id": "69a76b4a-e0a1-4121-b461-1162adfd5df5",
   "metadata": {},
   "source": [
    "Lets plot how it varies for a trajectory"
   ]
  },
  {
   "cell_type": "code",
   "execution_count": null,
   "id": "fffbf815-efb5-4f4b-9734-0c7fa861d0f3",
   "metadata": {},
   "outputs": [],
   "source": [
    "subset = results.query('temp == 575.')"
   ]
  },
  {
   "cell_type": "code",
   "execution_count": null,
   "id": "d40a8f5e-0b21-4e31-82f6-becea1206826",
   "metadata": {},
   "outputs": [],
   "source": [
    "plot_cols = results.columns[-6:]\n",
    "fig, axs = plt.subplots(3, 2, sharex=True, figsize=(6.5, 4.5))\n",
    "\n",
    "for col, ax in zip(plot_cols, axs.flatten()):\n",
    "    ax.plot(subset['frame_id'], subset[col])\n",
    "    ax.set_title(col.capitalize().replace(\"_\", \", \"))\n",
    "    \n",
    "\n",
    "for ax in axs[-1, :]:\n",
    "    ax.set_xlabel('Frame ID')\n",
    "fig.tight_layout()\n",
    "fig.savefig('figures/distribution-params-575C.png', dpi=320)"
   ]
  },
  {
   "cell_type": "markdown",
   "id": "e519a19e-423a-49da-8d1f-6b87afb106fa",
   "metadata": {},
   "source": [
    "Plot a few example cells"
   ]
  },
  {
   "cell_type": "code",
   "execution_count": null,
   "id": "b51fe4f9-d095-40df-923b-5c88f67e033d",
   "metadata": {},
   "outputs": [],
   "source": [
    "fig, axs = plt.subplots(1, 5, sharey=True, figsize=(8.5, 2.))\n",
    "\n",
    "frames = np.linspace(0, len(subset)-1, len(axs), dtype=np.int)\n",
    "\n",
    "for frame, ax in zip(frames, axs):\n",
    "    frame = subset.iloc[frame]\n",
    "    \n",
    "    count_distrib = compute_count_distribution(r_center, *frame.values[-6:])\n",
    "    ax.plot(r_center, count_distrib.mean(), '--o', label='Expected')\n",
    "\n",
    "    ax.hist(frame['void_radii'], bins=bins, label='Observed')\n",
    "    \n",
    "    ax.set_xlabel('Radius (nm)')\n",
    "\n",
    "axs[0].set_ylabel('Expected Count')\n",
    "axs[0].legend()\n",
    "fig.tight_layout()\n",
    "fig.savefig('figures/distributions-575C-over-time.png', dpi=320)"
   ]
  },
  {
   "cell_type": "markdown",
   "id": "81bd944b-de00-4c86-9857-2b0e55799794",
   "metadata": {},
   "source": [
    "Save the data for later use"
   ]
  },
  {
   "cell_type": "code",
   "execution_count": null,
   "id": "9ae7075f-7b41-441f-bc54-07fc48bc2391",
   "metadata": {},
   "outputs": [],
   "source": [
    "results.to_csv('data/fitted-distributions.csv', index=False)"
   ]
  },
  {
   "cell_type": "code",
   "execution_count": null,
   "id": "8ac1846d-7a25-439d-a975-e7d9a54babcd",
   "metadata": {},
   "outputs": [],
   "source": []
  }
 ],
 "metadata": {
  "kernelspec": {
   "display_name": "Python 3 (ipykernel)",
   "language": "python",
   "name": "python3"
  },
  "language_info": {
   "codemirror_mode": {
    "name": "ipython",
    "version": 3
   },
   "file_extension": ".py",
   "mimetype": "text/x-python",
   "name": "python",
   "nbconvert_exporter": "python",
   "pygments_lexer": "ipython3",
   "version": "3.9.7"
  }
 },
 "nbformat": 4,
 "nbformat_minor": 5
}

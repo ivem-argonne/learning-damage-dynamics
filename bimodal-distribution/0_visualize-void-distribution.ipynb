{
 "cells": [
  {
   "cell_type": "markdown",
   "id": "ec63d497-e97b-4725-b068-b201ed74c9a9",
   "metadata": {},
   "source": [
    "# Visualize the Data\n",
    "Get an idea for what the typical void sizes are so we can get priors to fitting the bimodal distributions"
   ]
  },
  {
   "cell_type": "code",
   "execution_count": 1,
   "id": "4602d798-3eec-4296-bac0-7a966067129d",
   "metadata": {},
   "outputs": [],
   "source": [
    "%matplotlib inline\n",
    "from matplotlib import pyplot as plt\n",
    "import pandas as pd\n",
    "import numpy as np"
   ]
  },
  {
   "cell_type": "markdown",
   "id": "c3809a55-6eb1-4616-a9e7-5c43cabbd2fe",
   "metadata": {},
   "source": [
    "## Load in the Data\n",
    "We want the cleaned data from previous experiments"
   ]
  },
  {
   "cell_type": "code",
   "execution_count": 2,
   "id": "6e5518f9-ab40-4307-b182-1c774abc8c72",
   "metadata": {},
   "outputs": [],
   "source": [
    "data = pd.read_pickle('../datasets/initial_data.pkl')"
   ]
  },
  {
   "cell_type": "markdown",
   "id": "0b5db9b2-7da6-4cb6-8b2b-fd88be595f86",
   "metadata": {},
   "source": [
    "## Plot the Evolution of Void Size over Time\n",
    "We observed a bimodal distribution previously"
   ]
  },
  {
   "cell_type": "code",
   "execution_count": 3,
   "id": "1f1dde9c-a180-4a5d-a43a-226215b8e48c",
   "metadata": {},
   "outputs": [
    {
     "name": "stdout",
     "output_type": "stream",
     "text": [
      "Counted 1124033 voids over all 8115 frames\n"
     ]
    }
   ],
   "source": [
    "void_sizes = []\n",
    "data['void_radii'].apply(void_sizes.extend)\n",
    "print(f'Counted {len(void_sizes)} voids over all {len(data)} frames')"
   ]
  },
  {
   "cell_type": "code",
   "execution_count": 4,
   "id": "70148a71-e797-4cca-a3b5-0c93c74cbd0f",
   "metadata": {},
   "outputs": [
    {
     "name": "stdout",
     "output_type": "stream",
     "text": [
      "Voids range between 1.7 and 31.8 nm\n"
     ]
    }
   ],
   "source": [
    "max_void_size = np.percentile(void_sizes, 95)\n",
    "min_void_size = np.percentile(void_sizes, 1)\n",
    "print(f'Voids range between {min_void_size:.1f} and {max_void_size:.1f} nm')"
   ]
  },
  {
   "cell_type": "markdown",
   "id": "f380fcdc-04cb-4da6-8860-1592033de746",
   "metadata": {},
   "source": [
    "Use that information to define bin sizes"
   ]
  },
  {
   "cell_type": "code",
   "execution_count": 5,
   "id": "9d8a6377-8f36-4fc1-8a28-89afe3875a64",
   "metadata": {},
   "outputs": [],
   "source": [
    "assert 1 < min_void_size < 2  # Make sure the results haven't changed much\n",
    "assert 30 < max_void_size < 35\n",
    "bins = np.linspace(1, 35, 32)"
   ]
  },
  {
   "cell_type": "code",
   "execution_count": 6,
   "id": "751ff7db-a20c-4c12-86ce-9df4ff2200df",
   "metadata": {},
   "outputs": [
    {
     "data": {
      "image/png": "[encoded data removed]",
      "text/plain": [
       "<Figure size 612x324 with 6 Axes>"
      ]
     },
     "metadata": {
      "needs_background": "light"
     },
     "output_type": "display_data"
    }
   ],
   "source": [
    "fig, axs = plt.subplots(2, 3, figsize=(8.5, 4.5), sharex=True, sharey=True)\n",
    "\n",
    "# Get a subset\n",
    "subset = data.query('temp==550.')\n",
    "choices = np.linspace(0, len(subset)-1, 6, dtype=np.int)\n",
    "\n",
    "for ax, choice in zip(axs.flatten(), choices):\n",
    "    choice = subset.iloc[choice]\n",
    "    ax.hist(choice['void_radii'], bins=bins)\n",
    "    \n",
    "for ax in axs[:, 0]:\n",
    "    ax.set_ylabel('Count')\n",
    "for ax in axs[-1, :]:\n",
    "    ax.set_xlabel('Void Radius (nm)')"
   ]
  },
  {
   "cell_type": "markdown",
   "id": "476108a7-5a05-499c-8553-fab559adce0d",
   "metadata": {},
   "source": [
    "Seems like our void sizes are bimodal, in that we have one peak below 10nm and a second at 15 or greater."
   ]
  },
  {
   "cell_type": "code",
   "execution_count": null,
   "id": "acc0aea9-54ae-4db0-86e6-6e75a5036f57",
   "metadata": {},
   "outputs": [],
   "source": []
  }
 ],
 "metadata": {
  "kernelspec": {
   "display_name": "Python 3 (ipykernel)",
   "language": "python",
   "name": "python3"
  },
  "language_info": {
   "codemirror_mode": {
    "name": "ipython",
    "version": 3
   },
   "file_extension": ".py",
   "mimetype": "text/x-python",
   "name": "python",
   "nbconvert_exporter": "python",
   "pygments_lexer": "ipython3",
   "version": "3.9.7"
  }
 },
 "nbformat": 4,
 "nbformat_minor": 5
}

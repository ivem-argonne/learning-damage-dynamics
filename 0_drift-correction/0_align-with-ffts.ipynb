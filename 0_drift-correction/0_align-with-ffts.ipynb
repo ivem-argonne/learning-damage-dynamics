{
 "cells": [
  {
   "cell_type": "markdown",
   "id": "ccc929eb-608f-483c-b72a-6e370ca86eb4",
   "metadata": {},
   "source": [
    "# Image Alignment Tests\n",
    "Our microscopy images drift signficiantly over time, which frustrates us being able to study how voids move between images."
   ]
  },
  {
   "cell_type": "code",
   "execution_count": 1,
   "id": "bf0845c1-a5a4-48e7-95b0-2df4462e2640",
   "metadata": {
    "tags": []
   },
   "outputs": [],
   "source": [
    "%matplotlib inline\n",
    "from matplotlib import pyplot as plt\n",
    "from skimage.transform import AffineTransform, warp\n",
    "from scipy.signal import fftconvolve\n",
    "from pathlib import Path\n",
    "from tqdm import tqdm\n",
    "import pandas as pd\n",
    "import numpy as np\n",
    "import imageio"
   ]
  },
  {
   "cell_type": "markdown",
   "id": "df7174c8-05a3-4e0e-80bf-fac2892b9441",
   "metadata": {},
   "source": [
    "Configuration"
   ]
  },
  {
   "cell_type": "code",
   "execution_count": 2,
   "id": "5718f74d-c324-4971-bf71-77757edc1f40",
   "metadata": {
    "tags": [
     "parameters"
    ]
   },
   "outputs": [],
   "source": [
    "run_directory = '../data/8bitTIFF-video24-550C/'"
   ]
  },
  {
   "cell_type": "code",
   "execution_count": 3,
   "id": "cbdcce15-3ade-4b91-b8ea-0a5c69d3d819",
   "metadata": {
    "tags": []
   },
   "outputs": [],
   "source": [
    "run_directory = Path(run_directory)"
   ]
  },
  {
   "cell_type": "markdown",
   "id": "6fa94e2f-ee95-41d7-a492-8ac8b171eaf6",
   "metadata": {},
   "source": [
    "## Get a list of images\n",
    "We use the masks of void locations in the images as the FFT-based translation codes seem to work best with dealing with high-contrast images"
   ]
  },
  {
   "cell_type": "code",
   "execution_count": 4,
   "id": "51ec3c06-d91b-4b94-8812-05719cb591b3",
   "metadata": {
    "tags": []
   },
   "outputs": [
    {
     "name": "stdout",
     "output_type": "stream",
     "text": [
      "Found 931 images\n"
     ]
    }
   ],
   "source": [
    "images = sorted((run_directory / 'masks/').glob('*tif'))\n",
    "print(f'Found {len(images)} images')"
   ]
  },
  {
   "cell_type": "markdown",
   "id": "c83bc01a-cb0a-48a8-b475-6d1cda5a17e4",
   "metadata": {},
   "source": [
    "## Determine the correction\n",
    "The idea is to determine drift by computing the [cross-correlation between the two images](https://en.wikipedia.org/wiki/Cross-correlation#/media/File:Cross_correlation_animation.gif). \n",
    "The largest peak in the cross-correlation will correspond to the translation that leads to the greatest overlap between the two images.\n",
    "Due to same [math I don't understand](https://en.wikipedia.org/wiki/Discrete_Fourier_transform#Circular_convolution_theorem_and_cross-correlation_theorem), you can compute this cross-correlation very quickly using Fourier Transforms with [SciPy](https://stackoverflow.com/questions/24768222/how-to-detect-a-shift-between-images)."
   ]
  },
  {
   "cell_type": "code",
   "execution_count": 5,
   "id": "d53d47e8-1531-4991-8bd4-77631414c752",
   "metadata": {
    "tags": []
   },
   "outputs": [],
   "source": [
    "image_1 = imageio.read(images[0]).get_data(0)\n",
    "image_2 = imageio.read(images[20]).get_data(0)"
   ]
  },
  {
   "cell_type": "code",
   "execution_count": 6,
   "id": "d5bf14b2-08de-4f0a-94d8-6167e99a5c9f",
   "metadata": {
    "tags": []
   },
   "outputs": [
    {
     "data": {
      "text/plain": [
       "1.459364891052246"
      ]
     },
     "execution_count": 6,
     "metadata": {},
     "output_type": "execute_result"
    }
   ],
   "source": [
    "image_1.mean()"
   ]
  },
  {
   "cell_type": "code",
   "execution_count": 7,
   "id": "b752a9fa-f71f-488b-8549-fece4cc0e586",
   "metadata": {
    "tags": []
   },
   "outputs": [
    {
     "data": {
      "image/png": "[encoded data removed]",
      "text/plain": [
       "<Figure size 600x300 with 2 Axes>"
      ]
     },
     "metadata": {},
     "output_type": "display_data"
    }
   ],
   "source": [
    "fig, axs = plt.subplots(1, 2, figsize=(6, 3),)\n",
    "\n",
    "for ax in axs:\n",
    "    ax.set_yticks(ax.set_xticks([]))\n",
    "\n",
    "# Plot the original and new overlapped\n",
    "axs[0].imshow(image_1, cmap='Blues', vmin=0, vmax=1)\n",
    "axs[0].set_title('Image 1')\n",
    "\n",
    "# Plot the re-registered images\n",
    "axs[1].imshow(image_2, cmap='Blues', vmin=0, vmax=1)\n",
    "axs[1].set_title('Image 2')\n",
    "\n",
    "fig.tight_layout()"
   ]
  },
  {
   "cell_type": "markdown",
   "id": "9a351e38-d433-4a06-88e6-0de0a11faa22",
   "metadata": {},
   "source": [
    "It seems like image is drifting to the left and down."
   ]
  },
  {
   "cell_type": "code",
   "execution_count": 8,
   "id": "2a53eb45-22de-438b-8996-b138841819c9",
   "metadata": {
    "tags": []
   },
   "outputs": [
    {
     "data": {
      "text/plain": [
       "array([-34,  -2])"
      ]
     },
     "execution_count": 8,
     "metadata": {},
     "output_type": "execute_result"
    }
   ],
   "source": [
    "def compute_drift(image_1: np.ndarray, image_2: np.ndarray) -> np.ndarray:\n",
    "    \"\"\"Compute the drift between two different frames\n",
    "    \n",
    "    Args:\n",
    "        image_1: Starting image\n",
    "        image_2: Next image\n",
    "    Returns:\n",
    "        - The optimal translation between the two images\n",
    "        - Convolution used to make the judgement\n",
    "    \"\"\"\n",
    "    \n",
    "    # Compute the correlations between the two images using FFT\n",
    "    #  You must reverse the second signal/image for this trick\n",
    "    conv = fftconvolve(image_1, image_2[::-1,::-1], mode='same')\n",
    "    \n",
    "    # Find the location of the maximum\n",
    "    peak_loc = np.unravel_index(np.argmax(conv), conv.shape)\n",
    "    \n",
    "    # Find its deplacement from the image center, that's the location\n",
    "    drift = [peak_loc[1] - conv.shape[0] // 2 , peak_loc[0] - conv.shape[1] // 2]\n",
    "    return -np.array(drift), conv\n",
    "drift, conv = compute_drift(image_1, image_2)\n",
    "drift"
   ]
  },
  {
   "cell_type": "markdown",
   "id": "3c3f1e56-66ec-4e16-abe9-4e8b0662804d",
   "metadata": {},
   "source": [
    "We can see the image drifted to the left (-x) and down (y)"
   ]
  },
  {
   "cell_type": "code",
   "execution_count": 9,
   "id": "5e4a2284-4103-4082-b42f-75f63987a467",
   "metadata": {
    "tags": []
   },
   "outputs": [
    {
     "data": {
      "image/png": "[encoded data removed]",
      "text/plain": [
       "<Figure size 900x300 with 3 Axes>"
      ]
     },
     "metadata": {},
     "output_type": "display_data"
    }
   ],
   "source": [
    "fig, axs = plt.subplots(1, 3, figsize=(9, 3),)\n",
    "\n",
    "for ax in axs:\n",
    "    ax.set_yticks(ax.set_xticks([]))\n",
    "\n",
    "# Plot the original and new overlapped\n",
    "axs[0].imshow(0.5 * image_1 + image_2, cmap='Blues', vmin=0, vmax=1)\n",
    "axs[0].set_title('Uncorrected')\n",
    "\n",
    "# Plot the convolution\n",
    "axs[1].scatter([image_1.shape[0] // 2], [image_1.shape[1] // 2], marker='+', s=100., color='k')\n",
    "axs[1].imshow(conv)\n",
    "axs[1].set_title('Convolution Plot')\n",
    "\n",
    "# Plot the re-registered images\n",
    "affine = AffineTransform(translation=drift)\n",
    "image_2_shift = warp(image_2, affine)\n",
    "axs[2].imshow(0.5 * image_1 + image_2_shift, cmap='Blues', vmin=0, vmax=1)\n",
    "axs[2].set_title('Corrected')\n",
    "\n",
    "fig.tight_layout()\n",
    "fig.savefig('figures/drift-correlation.png', dpi=320)"
   ]
  },
  {
   "cell_type": "markdown",
   "id": "481e0a6f-20b9-4d14-9013-9765eff7acc2",
   "metadata": {},
   "source": [
    "The light and dark blue in the left image are the voids at different times. You can see the pattern drifts \"up to the right\" between them, which is reflected in the peak of the cross-correlation being up and to the right. \n",
    "Applying that transformation yields the two mapped directly atop each other."
   ]
  },
  {
   "cell_type": "markdown",
   "id": "9cc32dd2-591e-495e-b1df-f33590c2dbaa",
   "metadata": {},
   "source": [
    "## Apply to the whole stack\n",
    "We can now compute the drift between successive images in the stack to get the total drift over time"
   ]
  },
  {
   "cell_type": "code",
   "execution_count": 10,
   "id": "dc91e491-10f0-4018-8cd5-86862228c2a7",
   "metadata": {
    "tags": []
   },
   "outputs": [
    {
     "name": "stderr",
     "output_type": "stream",
     "text": [
      "930it [01:29, 10.43it/s]\n"
     ]
    }
   ],
   "source": [
    "stepwise_drifts = [\n",
    "    compute_drift(imageio.v3.imread(x), imageio.v3.imread(y))[0]\n",
    "    for x, y in tqdm(zip(images, images[1:]))\n",
    "]"
   ]
  },
  {
   "cell_type": "markdown",
   "id": "b55662cc-d5c3-48c7-8b93-d3ed79f90111",
   "metadata": {},
   "source": [
    "Plot how the drift goes over time."
   ]
  },
  {
   "cell_type": "code",
   "execution_count": 11,
   "id": "1e4f731c-347a-48b6-86a8-637dee79a75f",
   "metadata": {},
   "outputs": [],
   "source": [
    "stepwise_drifts = np.vstack(stepwise_drifts)"
   ]
  },
  {
   "cell_type": "code",
   "execution_count": 12,
   "id": "026f19fc-b99c-4442-8313-06fe1cbece7b",
   "metadata": {},
   "outputs": [],
   "source": [
    "total_drift = np.cumsum(stepwise_drifts, axis=0)"
   ]
  },
  {
   "cell_type": "code",
   "execution_count": 13,
   "id": "5e236540-9160-493d-a48e-587c2d55a039",
   "metadata": {},
   "outputs": [
    {
     "data": {
      "image/png": "[encoded data removed]",
      "text/plain": [
       "<Figure size 750x250 with 3 Axes>"
      ]
     },
     "metadata": {},
     "output_type": "display_data"
    }
   ],
   "source": [
    "fig, axs = plt.subplots(1, 3, figsize=(7.5, 2.5))\n",
    "\n",
    "for ax, i, l in zip(axs, range(2), ['x', 'y']):\n",
    "    ax.plot(total_drift[:, 1- i])\n",
    "    ax.set_xlabel('Frame')\n",
    "    ax.set_ylabel(l + ' drift')\n",
    "\n",
    "axs[2].scatter(total_drift[:, 1], total_drift[:, 0], c=np.arange(total_drift.shape[0]), s=2)\n",
    "axs[2].set_xlabel('x drift')\n",
    "axs[2].set_ylabel('y drift')\n",
    "\n",
    "# Plot the drifts\n",
    "for ax in axs:\n",
    "    ax.set_xlim(ax.get_xlim())\n",
    "    ax.set_ylim(ax.get_ylim())\n",
    "\n",
    "fig.tight_layout()\n",
    "fig.savefig('figures/drift-from-fft.png', dpi=320)"
   ]
  },
  {
   "cell_type": "markdown",
   "id": "61f26b7c-459e-48be-bf52-44f47fd289bd",
   "metadata": {},
   "source": [
    "Save it to disk for later use"
   ]
  },
  {
   "cell_type": "code",
   "execution_count": 14,
   "id": "0d377e99-efb9-4ff1-86ac-d9d80f75c5e8",
   "metadata": {
    "tags": []
   },
   "outputs": [],
   "source": [
    "out_dir = Path('drifts')\n",
    "out_dir.mkdir(exist_ok=True)"
   ]
  },
  {
   "cell_type": "code",
   "execution_count": 15,
   "id": "29f0f60f-d5f1-4e52-9c70-95e8c0042c40",
   "metadata": {
    "tags": []
   },
   "outputs": [],
   "source": [
    "out_path = out_dir / f'{run_directory.name}_drifts.csv'\n",
    "pd.DataFrame(total_drift, columns=['x', 'y']).to_csv(out_path, index_label='frame')"
   ]
  },
  {
   "cell_type": "code",
   "execution_count": null,
   "id": "03ff1fad-fbbb-4a09-a394-284c8cd60e1f",
   "metadata": {},
   "outputs": [],
   "source": []
  }
 ],
 "metadata": {
  "kernelspec": {
   "display_name": "Python 3 (ipykernel)",
   "language": "python",
   "name": "python3"
  },
  "language_info": {
   "codemirror_mode": {
    "name": "ipython",
    "version": 3
   },
   "file_extension": ".py",
   "mimetype": "text/x-python",
   "name": "python",
   "nbconvert_exporter": "python",
   "pygments_lexer": "ipython3",
   "version": "3.10.12"
  }
 },
 "nbformat": 4,
 "nbformat_minor": 5
}

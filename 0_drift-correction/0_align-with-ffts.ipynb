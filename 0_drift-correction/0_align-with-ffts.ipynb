{
 "cells": [
  {
   "cell_type": "markdown",
   "id": "ccc929eb-608f-483c-b72a-6e370ca86eb4",
   "metadata": {},
   "source": [
    "# Image Alignment Tests\n",
    "Our microscopy images drift signficiantly over time, which frustrates us being able to study how voids move between images."
   ]
  },
  {
   "cell_type": "code",
   "execution_count": 1,
   "id": "bf0845c1-a5a4-48e7-95b0-2df4462e2640",
   "metadata": {
    "tags": []
   },
   "outputs": [],
   "source": [
    "%matplotlib inline\n",
    "from matplotlib import pyplot as plt\n",
    "from skimage.transform import AffineTransform, warp\n",
    "from scipy.interpolate import interp1d\n",
    "from scipy.signal import fftconvolve\n",
    "from scipy.optimize import minimize\n",
    "from functools import lru_cache\n",
    "from imageio import v3 as iio\n",
    "from pathlib import Path\n",
    "from tqdm import tqdm\n",
    "import pandas as pd\n",
    "import numpy as np"
   ]
  },
  {
   "cell_type": "markdown",
   "id": "df7174c8-05a3-4e0e-80bf-fac2892b9441",
   "metadata": {},
   "source": [
    "Configuration"
   ]
  },
  {
   "cell_type": "code",
   "execution_count": 2,
   "id": "5718f74d-c324-4971-bf71-77757edc1f40",
   "metadata": {
    "tags": [
     "parameters"
    ]
   },
   "outputs": [],
   "source": [
    "run_directory = '../data/8bitTIFF-video26-575C/'"
   ]
  },
  {
   "cell_type": "markdown",
   "id": "d8f33531-1598-47cc-a260-09091fdf2516",
   "metadata": {},
   "source": [
    "Initialize the output directory"
   ]
  },
  {
   "cell_type": "code",
   "execution_count": 3,
   "id": "cbdcce15-3ade-4b91-b8ea-0a5c69d3d819",
   "metadata": {
    "tags": []
   },
   "outputs": [],
   "source": [
    "run_directory = Path(run_directory)\n",
    "out_directory = Path('output') / run_directory.name\n",
    "out_directory.mkdir(exist_ok=True, parents=True)\n",
    "(out_directory / 'figures').mkdir(exist_ok=True)"
   ]
  },
  {
   "cell_type": "markdown",
   "id": "9178e45c-d067-4646-8755-60edce397f2c",
   "metadata": {},
   "source": [
    "Make a cached function for reading images"
   ]
  },
  {
   "cell_type": "code",
   "execution_count": 4,
   "id": "1227af3d-54b2-43a4-9227-501446ccedd9",
   "metadata": {
    "tags": []
   },
   "outputs": [],
   "source": [
    "imread_fun = lru_cache()(iio.imread)"
   ]
  },
  {
   "cell_type": "markdown",
   "id": "6fa94e2f-ee95-41d7-a492-8ac8b171eaf6",
   "metadata": {},
   "source": [
    "## Get a list of images\n",
    "We use the masks of void locations in the images as the FFT-based translation codes seem to work best with dealing with high-contrast images"
   ]
  },
  {
   "cell_type": "code",
   "execution_count": 5,
   "id": "51ec3c06-d91b-4b94-8812-05719cb591b3",
   "metadata": {
    "tags": []
   },
   "outputs": [
    {
     "name": "stdout",
     "output_type": "stream",
     "text": [
      "Found 969 images\n"
     ]
    }
   ],
   "source": [
    "images = sorted((run_directory / 'masks').glob('*tif'))\n",
    "print(f'Found {len(images)} images')"
   ]
  },
  {
   "cell_type": "markdown",
   "id": "c83bc01a-cb0a-48a8-b475-6d1cda5a17e4",
   "metadata": {},
   "source": [
    "## Determine the correction\n",
    "The idea is to determine drift by computing the [cross-correlation between the two images](https://en.wikipedia.org/wiki/Cross-correlation#/media/File:Cross_correlation_animation.gif). \n",
    "The largest peak in the cross-correlation will correspond to the translation that leads to the greatest overlap between the two images.\n",
    "Due to same [math I don't understand](https://en.wikipedia.org/wiki/Discrete_Fourier_transform#Circular_convolution_theorem_and_cross-correlation_theorem), you can compute this cross-correlation very quickly using Fourier Transforms with [SciPy](https://stackoverflow.com/questions/24768222/how-to-detect-a-shift-between-images)."
   ]
  },
  {
   "cell_type": "code",
   "execution_count": 6,
   "id": "d53d47e8-1531-4991-8bd4-77631414c752",
   "metadata": {
    "tags": []
   },
   "outputs": [],
   "source": [
    "image_1 = imread_fun(images[0])\n",
    "image_2 = imread_fun(images[100])"
   ]
  },
  {
   "cell_type": "code",
   "execution_count": 7,
   "id": "b752a9fa-f71f-488b-8549-fece4cc0e586",
   "metadata": {
    "tags": []
   },
   "outputs": [
    {
     "data": {
      "image/png": "[encoded data removed]",
      "text/plain": [
       "<Figure size 600x300 with 2 Axes>"
      ]
     },
     "metadata": {},
     "output_type": "display_data"
    }
   ],
   "source": [
    "fig, axs = plt.subplots(1, 2, figsize=(6, 3),)\n",
    "\n",
    "for ax in axs:\n",
    "    ax.set_yticks(ax.set_xticks([]))\n",
    "\n",
    "# Plot the original and new overlapped\n",
    "axs[0].imshow(image_1, cmap='Blues', vmin=0, vmax=1)\n",
    "axs[0].set_title('Image 1')\n",
    "\n",
    "# Plot the re-registered images\n",
    "axs[1].imshow(image_2, cmap='Blues', vmin=0, vmax=1)\n",
    "axs[1].set_title('Image 2')\n",
    "\n",
    "fig.tight_layout()"
   ]
  },
  {
   "cell_type": "markdown",
   "id": "9a351e38-d433-4a06-88e6-0de0a11faa22",
   "metadata": {},
   "source": [
    "It seems like image is drifting to the left and down."
   ]
  },
  {
   "cell_type": "code",
   "execution_count": 8,
   "id": "2a53eb45-22de-438b-8996-b138841819c9",
   "metadata": {
    "tags": []
   },
   "outputs": [
    {
     "data": {
      "text/plain": [
       "array([ -8, -16])"
      ]
     },
     "execution_count": 8,
     "metadata": {},
     "output_type": "execute_result"
    }
   ],
   "source": [
    "def compute_drift(image_1: np.ndarray, image_2: np.ndarray) -> np.ndarray:\n",
    "    \"\"\"Compute the drift between two different frames\n",
    "    \n",
    "    Args:\n",
    "        image_1: Starting image\n",
    "        image_2: Next image\n",
    "    Returns:\n",
    "        - The optimal translation between the two images\n",
    "        - Convolution used to make the judgement\n",
    "    \"\"\"\n",
    "    \n",
    "    # Compute the correlations between the two images using FFT\n",
    "    #  You must reverse the second signal/image for this trick\n",
    "    conv = fftconvolve(image_1, image_2[::-1,::-1], mode='same')\n",
    "    \n",
    "    # Find the location of the maximum\n",
    "    peak_loc = np.unravel_index(np.argmax(conv), conv.shape)\n",
    "    \n",
    "    # Find its deplacement from the image center, that's the location\n",
    "    drift = [peak_loc[1] - conv.shape[0] // 2 , peak_loc[0] - conv.shape[1] // 2]\n",
    "    return -np.array(drift), conv\n",
    "drift, conv = compute_drift(image_1, image_2)\n",
    "drift"
   ]
  },
  {
   "cell_type": "markdown",
   "id": "3c3f1e56-66ec-4e16-abe9-4e8b0662804d",
   "metadata": {},
   "source": [
    "We can see the image drifted to the left (-x) and down (y)"
   ]
  },
  {
   "cell_type": "code",
   "execution_count": 9,
   "id": "5e4a2284-4103-4082-b42f-75f63987a467",
   "metadata": {
    "tags": []
   },
   "outputs": [
    {
     "data": {
      "image/png": "[encoded data removed]",
      "text/plain": [
       "<Figure size 900x300 with 3 Axes>"
      ]
     },
     "metadata": {},
     "output_type": "display_data"
    }
   ],
   "source": [
    "fig, axs = plt.subplots(1, 3, figsize=(9, 3),)\n",
    "\n",
    "for ax in axs:\n",
    "    ax.set_yticks(ax.set_xticks([]))\n",
    "\n",
    "# Plot the original and new overlapped\n",
    "image = np.zeros((*image_1.shape, 3), dtype=np.uint8) + 255\n",
    "image[:, :, 0] -= image_1\n",
    "image[:, :, 1] -= image_2\n",
    "axs[0].imshow(image)\n",
    "axs[0].set_title('Uncorrected')\n",
    "\n",
    "# Plot the convolution\n",
    "axs[1].scatter([image_1.shape[0] // 2], [image_1.shape[1] // 2], marker='+', s=100., color='k')\n",
    "axs[1].imshow(conv)\n",
    "axs[1].set_title('Convolution Plot')\n",
    "\n",
    "# Plot the re-registered images\n",
    "affine = AffineTransform(translation=drift)\n",
    "image_2_shift = np.array(warp(image_2, affine) * 255, dtype=np.uint8)\n",
    "image = np.zeros((*image_1.shape, 3), dtype=np.uint8) + 255\n",
    "image[:, :, 0] -= image_1\n",
    "image[:, :, 1] -= image_2_shift\n",
    "axs[2].imshow(image)\n",
    "axs[2].set_title('Corrected')\n",
    "\n",
    "fig.tight_layout()\n",
    "fig.savefig(out_directory / 'figures/drift-correlation.png', dpi=320)"
   ]
  },
  {
   "cell_type": "markdown",
   "id": "481e0a6f-20b9-4d14-9013-9765eff7acc2",
   "metadata": {},
   "source": [
    "The light and dark blue in the left image are the voids at different times. You can see the pattern drifts \"up to the right\" between them, which is reflected in the peak of the cross-correlation being up and to the right. \n",
    "Applying that transformation yields the two mapped directly atop each other."
   ]
  },
  {
   "cell_type": "markdown",
   "id": "f33d95d6-0201-4d57-ac5d-87999a0b09cc",
   "metadata": {},
   "source": [
    "## Apply to the whole stack\n",
    "We can now compute the drift between successive images in the stack to get the total drift over time"
   ]
  },
  {
   "cell_type": "code",
   "execution_count": 10,
   "id": "dc91e491-10f0-4018-8cd5-86862228c2a7",
   "metadata": {
    "tags": []
   },
   "outputs": [
    {
     "name": "stderr",
     "output_type": "stream",
     "text": [
      "968it [02:43,  5.92it/s]\n"
     ]
    }
   ],
   "source": [
    "stepwise_drifts = [\n",
    "    compute_drift(imread_fun(x), imread_fun(y))[0]\n",
    "    for x, y in tqdm(zip(images, images[1:]))\n",
    "] "
   ]
  },
  {
   "cell_type": "markdown",
   "id": "04dd835f-66fa-473b-9455-cd2222630a33",
   "metadata": {},
   "source": [
    "Plot how the drift goes over time."
   ]
  },
  {
   "cell_type": "code",
   "execution_count": 11,
   "id": "1e4f731c-347a-48b6-86a8-637dee79a75f",
   "metadata": {},
   "outputs": [],
   "source": [
    "stepwise_drifts = np.vstack([[0, 0], stepwise_drifts])  # Initial frame has no drift"
   ]
  },
  {
   "cell_type": "code",
   "execution_count": 12,
   "id": "026f19fc-b99c-4442-8313-06fe1cbece7b",
   "metadata": {},
   "outputs": [],
   "source": [
    "total_drift = np.cumsum(stepwise_drifts, axis=0)"
   ]
  },
  {
   "cell_type": "code",
   "execution_count": 13,
   "id": "5e236540-9160-493d-a48e-587c2d55a039",
   "metadata": {},
   "outputs": [
    {
     "data": {
      "image/png": "[encoded data removed]",
      "text/plain": [
       "<Figure size 750x250 with 3 Axes>"
      ]
     },
     "metadata": {},
     "output_type": "display_data"
    }
   ],
   "source": [
    "fig, axs = plt.subplots(1, 3, figsize=(7.5, 2.5))\n",
    "\n",
    "for ax, i, l in zip(axs, range(2), ['x', 'y']):\n",
    "    ax.plot(total_drift[:, 1- i])\n",
    "    ax.set_xlabel('Frame')\n",
    "    ax.set_ylabel(l + ' drift')\n",
    "\n",
    "axs[2].scatter(total_drift[:, 1], total_drift[:, 0], c=np.arange(total_drift.shape[0]), s=2)\n",
    "axs[2].set_xlabel('x drift')\n",
    "axs[2].set_ylabel('y drift')\n",
    "\n",
    "# Plot the drifts\n",
    "for ax in axs:\n",
    "    ax.set_xlim(ax.get_xlim())\n",
    "    ax.set_ylim(ax.get_ylim())\n",
    "\n",
    "fig.tight_layout()\n",
    "fig.savefig(out_directory / 'figures/drift-from-fft.png', dpi=320)"
   ]
  },
  {
   "cell_type": "markdown",
   "id": "05e9911d-7959-4457-ac06-9f2182c7bc82",
   "metadata": {},
   "source": [
    "This gives a quick estimate of drift by looking at individual pairs. One thing you will note are strong \"jumps\" between frames."
   ]
  },
  {
   "cell_type": "markdown",
   "id": "1903a559-ef3a-4be5-afe9-2376f1242bd4",
   "metadata": {},
   "source": [
    "## Looking ahead multiple frames\n",
    "The drift might be imperceptable between between adjacent frames but clearer for those far apart.\n",
    "Judging image drift with frames several spaces apart will be able to give a better estimate, but at the expense of worse "
   ]
  },
  {
   "cell_type": "code",
   "execution_count": 14,
   "id": "0d55491b-0268-44f1-9b98-4a399d404d6b",
   "metadata": {
    "tags": []
   },
   "outputs": [
    {
     "name": "stderr",
     "output_type": "stream",
     "text": [
      "100%|█████████████████████████████████████████████████████████████████████████████████████████████████████████████████████████████████████████████████████████████████████████████████████████████████████████████████████████████████████████████████████| 20/20 [00:03<00:00,  5.58it/s]\n"
     ]
    }
   ],
   "source": [
    "offsets = list(range(0, 100, 5))\n",
    "drifts = [\n",
    "    compute_drift(image_1, imread_fun(images[i]))[0] \n",
    "    for i in tqdm(offsets)\n",
    "]"
   ]
  },
  {
   "cell_type": "code",
   "execution_count": 15,
   "id": "982bc63d-0be7-446c-a710-39265b5a31d8",
   "metadata": {
    "tags": []
   },
   "outputs": [],
   "source": [
    "drifts = np.array(drifts)"
   ]
  },
  {
   "cell_type": "code",
   "execution_count": 16,
   "id": "81a574a7-2551-4a5b-9fdd-2d15720346ce",
   "metadata": {
    "tags": []
   },
   "outputs": [
    {
     "data": {
      "text/plain": [
       "Text(0, 0.5, 'Drifts')"
      ]
     },
     "execution_count": 16,
     "metadata": {},
     "output_type": "execute_result"
    },
    {
     "data": {
      "image/png": "[encoded data removed]",
      "text/plain": [
       "<Figure size 350x250 with 1 Axes>"
      ]
     },
     "metadata": {},
     "output_type": "display_data"
    }
   ],
   "source": [
    "fig, ax = plt.subplots(figsize=(3.5, 2.5))\n",
    "\n",
    "ax.plot(offsets, drifts[:, 0], label='x')\n",
    "ax.plot(offsets, drifts[:, 1], label='y')\n",
    "\n",
    "ax.set_xlabel('Offset')\n",
    "ax.set_ylabel('Drifts')"
   ]
  },
  {
   "cell_type": "markdown",
   "id": "f659eca3-5d24-44cb-80c0-3646eb60cf25",
   "metadata": {},
   "source": [
    "The drift is probably nonlinear given that the drifts to not change linearly with offset. So, it is not likely that we can just assume the drift 1 step ahead is $1/N$ times the difference."
   ]
  },
  {
   "cell_type": "markdown",
   "id": "d5823da6-d6ff-4a8f-a4ac-94083c1f5202",
   "metadata": {},
   "source": [
    "## Multi-Reference Point Drift Evaluation\n",
    "Instead of relying on measuring the drift at each frame, we are going to fit a single function which explains the observed drift between many pairs of frames.\n",
    "This will make it possible to include drifts computed between frames which are farther apart, where the estimates of drift are more accurate."
   ]
  },
  {
   "cell_type": "code",
   "execution_count": 17,
   "id": "c54f4839-d0be-46c3-9c00-ffa42d70415e",
   "metadata": {
    "tags": []
   },
   "outputs": [
    {
     "name": "stderr",
     "output_type": "stream",
     "text": [
      "100%|███████████████████████████████████████████████████████████████████████████████████████████████████████████████████████████████████████████████████████████████████████████████████████████████████████████████████████████████████████████████████| 969/969 [08:03<00:00,  2.00it/s]\n"
     ]
    },
    {
     "name": "stdout",
     "output_type": "stream",
     "text": [
      "Computed 3756 drift pairs\n"
     ]
    }
   ],
   "source": [
    "drift_pairs = []\n",
    "for frame_id in tqdm(range(len(images))):\n",
    "    image_1 = imread_fun(images[frame_id])\n",
    "    for offset in [8, 16, 32, 64]:\n",
    "        frame_2_id = frame_id + offset\n",
    "        if frame_2_id >= len(images):\n",
    "            break\n",
    "        image_2 = imread_fun(images[frame_id + offset])\n",
    "        drift, _ = compute_drift(image_1, image_2)\n",
    "        drift_pairs.append({\n",
    "            'frame_1': frame_id,\n",
    "            'frame_2': frame_2_id,\n",
    "            'offset': offset,\n",
    "            'drift_x': drift[0],\n",
    "            'drift_y': drift[1]\n",
    "        })\n",
    "drift_pairs = pd.DataFrame(drift_pairs)\n",
    "print(f'Computed {len(drift_pairs)} drift pairs')"
   ]
  },
  {
   "cell_type": "markdown",
   "id": "f81f35bf-49a8-4651-9dec-0f8cd0ceda93",
   "metadata": {},
   "source": [
    "We then will fit a model which explains the observed drift for each offset"
   ]
  },
  {
   "cell_type": "code",
   "execution_count": 18,
   "id": "fda6332f-81e5-4ec4-8838-907f9ebd1e01",
   "metadata": {
    "tags": []
   },
   "outputs": [],
   "source": [
    "def get_drift_model(drift_points: np.ndarray, n_images: int, kind: str = 'linear'):\n",
    "    \"\"\"Make a model which predicts drift as a function of frame number.\n",
    "    \n",
    "    Takes a 2D array of drift points and assumes they are equally-spaced\n",
    "    segments where the last row corresponds to the last frame in the series.\n",
    "    \n",
    "    We pre-prepend a drift of [0, 0] to the beginning of the drift points\n",
    "    before fitting the drift as a function of frame index\n",
    "    \n",
    "    Args:\n",
    "        drift_points: Equally-spaced estimates of drift\n",
    "        n_images: Number of images in the stack\n",
    "        kind: Kind of interpolator\n",
    "    Returns:\n",
    "        A single function which generates the drift at a single point\n",
    "    \"\"\"\n",
    "\n",
    "    # Guess the points for each frame\n",
    "    frame_points = np.linspace(0, n_images, drift_points.shape[0] + 1)\n",
    "    \n",
    "    # Prepend a point specifying drift is zero at frame 0\n",
    "    drift_fit = np.concatenate(([[0, 0]], drift_points), axis=0)\n",
    "    \n",
    "    # Make the interpolators\n",
    "    return interp1d(frame_points, drift_fit, kind=kind, axis=0)"
   ]
  },
  {
   "cell_type": "code",
   "execution_count": 19,
   "id": "e83ad5cf-b446-4132-9094-bc583dc5baed",
   "metadata": {
    "tags": []
   },
   "outputs": [],
   "source": [
    "drift_model = get_drift_model(np.array([[0, 0]]), len(images))"
   ]
  },
  {
   "cell_type": "code",
   "execution_count": 20,
   "id": "6efc9ae5-8b61-4aa4-97a6-8b9b17a23a4b",
   "metadata": {
    "tags": []
   },
   "outputs": [],
   "source": [
    "def assess_drift_model(model, drift_pairs: pd.DataFrame) -> float:\n",
    "    \"\"\"Score the quality of a drift model given the drift between pairs of points\n",
    "    \n",
    "    Args:\n",
    "        model: Model to be evaluated\n",
    "        drift_pairs: The drift measured at different points\n",
    "    Returns:\n",
    "        Mean difference between predicted and actual drift\n",
    "    \"\"\"\n",
    "    \n",
    "    # Predict the drift of each frame\n",
    "    frame_1_drift = model(drift_pairs['frame_1'])\n",
    "    frame_2_drift = model(drift_pairs['frame_2'])\n",
    "    \n",
    "    # Get the difference between the predicted and observed drift for each pair\n",
    "    pred_drift = frame_2_drift - frame_1_drift\n",
    "    difference = drift_pairs[['drift_x', 'drift_y']].values - pred_drift\n",
    "    return np.abs(difference).mean()"
   ]
  },
  {
   "cell_type": "code",
   "execution_count": 21,
   "id": "194e8904-b3f1-441a-b818-0606824a7ee9",
   "metadata": {
    "tags": []
   },
   "outputs": [
    {
     "data": {
      "text/plain": [
       "6.017039403620873"
      ]
     },
     "execution_count": 21,
     "metadata": {},
     "output_type": "execute_result"
    }
   ],
   "source": [
    "assess_drift_model(drift_model, drift_pairs)"
   ]
  },
  {
   "cell_type": "code",
   "execution_count": 22,
   "id": "70c45684-20c6-4bee-a022-64c30efb5a61",
   "metadata": {
    "tags": []
   },
   "outputs": [],
   "source": [
    "def fit_model(drift_pairs: pd.DataFrame, n_points: int, num_images: int):\n",
    "    \"\"\"Fit a drift model with a certain number of points in each direction\n",
    "    \n",
    "    Args:\n",
    "        drift_pairs: Observed drift between pairs of frames\n",
    "        n_points: Number of points to use to describe the function\n",
    "        num_images: Number of images in the series\n",
    "    Returns:\n",
    "        A function describing the drift\n",
    "    \"\"\"\n",
    "    \n",
    "    # Start with \"no drift\" as the initial guess\n",
    "    initial_guess = np.zeros((n_points, 2))\n",
    "    \n",
    "    # The function to minimize is the observed drift error\n",
    "    def function(x: np.ndarray) -> float:\n",
    "        points = x.reshape((-1, 2))\n",
    "        model = get_drift_model(points, num_images, kind='cubic')\n",
    "        return assess_drift_model(model, drift_pairs)\n",
    "    \n",
    "    result = minimize(function, initial_guess.flatten(), method='BFGS')\n",
    "\n",
    "    # Make the function\n",
    "    model = get_drift_model(result.x.reshape((-1, 2)), num_images, kind='cubic')\n",
    "    return model, result"
   ]
  },
  {
   "cell_type": "code",
   "execution_count": 23,
   "id": "ff2098d2-1551-458e-9110-f28cfd823110",
   "metadata": {
    "tags": []
   },
   "outputs": [],
   "source": [
    "%%time\n",
    "drift_model, result = fit_model(drift_pairs, len(images) // 10, len(images))  # One point every 10 frames"
   ]
  },
  {
   "cell_type": "code",
   "execution_count": 24,
   "id": "78ef2063-d5c3-40bd-8658-0e94702b4e75",
   "metadata": {
    "tags": []
   },
   "outputs": [
    {
     "name": "stdout",
     "output_type": "stream",
     "text": [
      "Improved fitness to 0.7985261586312372\n"
     ]
    }
   ],
   "source": [
    "print(f'Improved fitness to {result.fun}')"
   ]
  },
  {
   "cell_type": "code",
   "execution_count": 25,
   "id": "86a1ebf5-a342-483a-b274-3474451d245c",
   "metadata": {
    "tags": []
   },
   "outputs": [
    {
     "data": {
      "image/png": "[encoded data removed]",
      "text/plain": [
       "<Figure size 750x250 with 3 Axes>"
      ]
     },
     "metadata": {},
     "output_type": "display_data"
    }
   ],
   "source": [
    "fig, axs = plt.subplots(1, 3, figsize=(7.5, 2.5))\n",
    "\n",
    "frame = np.arange(len(images))\n",
    "model_drift = drift_model(frame)\n",
    "for ax, i, l in zip(axs, range(2), ['x', 'y']):\n",
    "    ax.plot(total_drift[:, 1- i], 'k--', lw=0.5)\n",
    "    ax.plot(model_drift[:, 1- i], '-')\n",
    "    ax.set_xlabel('Frame')\n",
    "    ax.set_ylabel(l + ' drift')\n",
    "\n",
    "axs[2].scatter(total_drift[:, 1], total_drift[:, 0], c=np.arange(total_drift.shape[0]), s=0.5, cmap='gray_r')\n",
    "axs[2].scatter(model_drift[:, 1], model_drift[:, 0], c=np.arange(total_drift.shape[0]), s=1)\n",
    "axs[2].set_xlabel('x drift')\n",
    "axs[2].set_ylabel('y drift')\n",
    "\n",
    "# Plot the drifts\n",
    "for ax in axs:\n",
    "    ax.set_xlim(ax.get_xlim())\n",
    "    ax.set_ylim(ax.get_ylim())\n",
    "\n",
    "fig.tight_layout()\n",
    "fig.savefig(out_directory / 'figures/drift-from-fft-multi-refrence.png', dpi=320)"
   ]
  },
  {
   "cell_type": "markdown",
   "id": "208c01ff-30b2-496f-9499-6fc3a510efa6",
   "metadata": {},
   "source": [
    "The drift seems to have a general trend but is more aggresive."
   ]
  },
  {
   "cell_type": "code",
   "execution_count": 26,
   "id": "8d74f2fa-899e-4757-a389-b7223f6eb799",
   "metadata": {
    "tags": []
   },
   "outputs": [
    {
     "data": {
      "image/png": "[encoded data removed]",
      "text/plain": [
       "<Figure size 400x800 with 8 Axes>"
      ]
     },
     "metadata": {},
     "output_type": "display_data"
    }
   ],
   "source": [
    "fig, axxs = plt.subplots(4, 2, figsize=(4, 8))\n",
    "\n",
    "\n",
    "axxs[0, 0].set_title('Uncorrected', fontsize=8)\n",
    "axxs[0, 1].set_title('Corrected', fontsize=8)\n",
    "\n",
    "for axs, (ind_1, ind_2) in zip(axxs, [(30, 60), (60, 120), (120, 240), (240, 480)]):\n",
    "    # Load the masks\n",
    "    image_1 = imread_fun(images[ind_1])\n",
    "    image_2 = imread_fun(images[ind_2])\n",
    "    \n",
    "    # Estimate the relative drift\n",
    "    drift = drift_model(ind_2) - drift_model(ind_1)\n",
    "    \n",
    "    for ax in axs:\n",
    "        ax.set_yticks(ax.set_xticks([]))\n",
    "\n",
    "    # Plot the original and new overlapped\n",
    "    image = np.zeros((*image_1.shape, 3), dtype=np.uint8) + 255\n",
    "    image[:, :, 0] -= image_1\n",
    "    image[:, :, 1] -= image_2\n",
    "    axs[0].imshow(image)\n",
    "\n",
    "    # Plot the re-registered images\n",
    "    affine = AffineTransform(translation=drift)\n",
    "    image_2_shift = np.array(warp(image_2, affine) * 255, dtype=np.uint8)\n",
    "    image = np.zeros((*image_1.shape, 3), dtype=np.uint8) + 255\n",
    "    image[:, :, 0] -= image_1\n",
    "    image[:, :, 1] -= image_2_shift\n",
    "    axs[1].imshow(image)\n",
    "    axs[1].text(0, 0, f'$\\delta$=({drift[0]:.0f}, {drift[1]:.0f})', transform=axs[1].transAxes)\n",
    "    \n",
    "    \n",
    "\n",
    "fig.tight_layout()\n",
    "fig.savefig(out_directory / 'figures/drift-correlation-multi-reference.png', dpi=320)"
   ]
  },
  {
   "cell_type": "markdown",
   "id": "61f26b7c-459e-48be-bf52-44f47fd289bd",
   "metadata": {},
   "source": [
    "## Save Updated Model\n",
    "Save it to disk for later use"
   ]
  },
  {
   "cell_type": "code",
   "execution_count": 27,
   "id": "29f0f60f-d5f1-4e52-9c70-95e8c0042c40",
   "metadata": {
    "tags": []
   },
   "outputs": [],
   "source": [
    "out_path = out_directory / 'drifts-fft.csv'\n",
    "pd.DataFrame(model_drift, columns=['x', 'y']).to_csv(out_path, index_label='frame')"
   ]
  },
  {
   "cell_type": "markdown",
   "id": "198732db-b9c8-4bff-9e9e-2b5a8b4af09a",
   "metadata": {},
   "source": [
    "## Update the Void Locations\n",
    "The void locations in the defect details files with the run should be updated too."
   ]
  },
  {
   "cell_type": "code",
   "execution_count": 34,
   "id": "03ff1fad-fbbb-4a09-a394-284c8cd60e1f",
   "metadata": {},
   "outputs": [],
   "source": [
    "defect_details = pd.read_json(run_directory / 'masks' / 'defect-details.json', lines=True).sort_values('image-path')"
   ]
  },
  {
   "cell_type": "code",
   "execution_count": 35,
   "id": "8cbf56e4-9ee3-4200-8b4b-bc3ed700c1d7",
   "metadata": {
    "tags": []
   },
   "outputs": [],
   "source": [
    "defect_details['positions_corrected-fft'] = [(x - y) if len(x) > 0 else x for x, y in zip(defect_details['positions'], model_drift)]\n",
    "defect_details['drift'] = total_drift.tolist()"
   ]
  },
  {
   "cell_type": "code",
   "execution_count": 33,
   "id": "ba324864-6837-41e4-9812-85edcfc1887c",
   "metadata": {
    "tags": []
   },
   "outputs": [],
   "source": [
    "defect_details.to_json(out_directory / f'defect-details.json', orient='records', lines=True)"
   ]
  },
  {
   "cell_type": "code",
   "execution_count": null,
   "id": "5b45b5ea-a642-4986-ae5f-db20b11652de",
   "metadata": {},
   "outputs": [],
   "source": []
  }
 ],
 "metadata": {
  "kernelspec": {
   "display_name": "Python 3 (ipykernel)",
   "language": "python",
   "name": "python3"
  },
  "language_info": {
   "codemirror_mode": {
    "name": "ipython",
    "version": 3
   },
   "file_extension": ".py",
   "mimetype": "text/x-python",
   "name": "python",
   "nbconvert_exporter": "python",
   "pygments_lexer": "ipython3",
   "version": "3.10.12"
  }
 },
 "nbformat": 4,
 "nbformat_minor": 5
}

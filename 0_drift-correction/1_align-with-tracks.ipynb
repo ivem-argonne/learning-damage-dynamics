{
 "cells": [
  {
   "cell_type": "markdown",
   "id": "315f5e54-401b-421a-9554-867513dcb116",
   "metadata": {},
   "source": [
    "# Align with Void Tracking\n",
    "The void tracks from the FFTs seem to have a large degree of jumps. Let's try to align images in a way which minimizes the net motion of all voids."
   ]
  },
  {
   "cell_type": "code",
   "execution_count": 1,
   "id": "a936aa06-5de2-4786-b5b2-3f5475731eb5",
   "metadata": {
    "tags": []
   },
   "outputs": [],
   "source": [
    "%matplotlib inline\n",
    "from matplotlib import pyplot as plt\n",
    "from rtdefects.analysis import convert_to_per_particle, compile_void_tracks, compute_drift\n",
    "from skimage.transform import AffineTransform, warp\n",
    "from pathlib import Path\n",
    "from tqdm import tqdm\n",
    "import trackpy as tp\n",
    "import pandas as pd\n",
    "import numpy as np\n",
    "import imageio"
   ]
  },
  {
   "cell_type": "markdown",
   "id": "db4559ea-8a04-4b76-ab25-1d9dcb8703fc",
   "metadata": {},
   "source": [
    "Configuration"
   ]
  },
  {
   "cell_type": "code",
   "execution_count": 2,
   "id": "30ef74d9-e3b3-4f47-a0fe-d9de6fdc161e",
   "metadata": {
    "tags": [
     "parameters"
    ]
   },
   "outputs": [],
   "source": [
    "run_directory = '../data/8bitTIFF-video26-575C/'"
   ]
  },
  {
   "cell_type": "markdown",
   "id": "9288866d-b58e-46ea-a67e-4bf86cf288f5",
   "metadata": {},
   "source": [
    "Determine location of keys files"
   ]
  },
  {
   "cell_type": "code",
   "execution_count": 3,
   "id": "74ebdcc1-14ff-4f14-b1a0-6c360379117b",
   "metadata": {
    "tags": []
   },
   "outputs": [],
   "source": [
    "run_directory = Path(run_directory)\n",
    "out_directory = Path('output') / run_directory.name\n",
    "defect_file = out_directory / 'defect-details.json'"
   ]
  },
  {
   "cell_type": "markdown",
   "id": "1771be6e-5b18-497d-b0c9-8b41ca94471f",
   "metadata": {},
   "source": [
    "## Determine the drift from defect movement\n",
    "We are going to do a very conservative particle tracking and evaluate drift based on the average movement of all defects."
   ]
  },
  {
   "cell_type": "code",
   "execution_count": 4,
   "id": "35d3c98b-6c4f-4ae5-8c2f-6a5e2c134730",
   "metadata": {
    "tags": []
   },
   "outputs": [
    {
     "name": "stdout",
     "output_type": "stream",
     "text": [
      "Loaded data from 969 frames\n"
     ]
    }
   ],
   "source": [
    "frame_data = pd.read_json(defect_file, lines=True)\n",
    "print(f'Loaded data from {len(frame_data)} frames')"
   ]
  },
  {
   "cell_type": "code",
   "execution_count": 5,
   "id": "1a2d06c8-c7ef-4fa8-aca5-01f69055737e",
   "metadata": {
    "tags": []
   },
   "outputs": [
    {
     "name": "stdout",
     "output_type": "stream",
     "text": [
      "Found 969 images\n"
     ]
    }
   ],
   "source": [
    "images = sorted((run_directory / 'masks/').glob('*tif'))\n",
    "print(f'Found {len(images)} images')"
   ]
  },
  {
   "cell_type": "markdown",
   "id": "1b50c962-5e1a-47ed-ad14-87e9a1c24913",
   "metadata": {},
   "source": [
    "Do a check where we only allow small movements of voids and do not remember them for more than 3 frames"
   ]
  },
  {
   "cell_type": "code",
   "execution_count": 6,
   "id": "0281b077-a963-4632-ac92-76f11b9ec616",
   "metadata": {
    "tags": []
   },
   "outputs": [
    {
     "name": "stdout",
     "output_type": "stream",
     "text": [
      "Frame 968: 11 trajectories present.\n",
      "Found a total of 13413 unique particles out of 14536 total\n",
      "CPU times: user 1.05 s, sys: 97.9 ms, total: 1.14 s\n",
      "Wall time: 1.05 s\n"
     ]
    }
   ],
   "source": [
    "%%time\n",
    "particles = pd.concat(list(convert_to_per_particle(frame_data, position_col='positions')))\n",
    "initial_tracks = tp.link_df(particles, search_range=4, memory=4)\n",
    "print(f'Found a total of {len(initial_tracks.particle.value_counts())} unique particles out of {frame_data[\"void_count\"].sum()} total')"
   ]
  },
  {
   "cell_type": "markdown",
   "id": "bc85b423-4efb-43d0-9ee9-c610b05e287c",
   "metadata": {},
   "source": [
    "Compute the median drift between each frame"
   ]
  },
  {
   "cell_type": "code",
   "execution_count": 7,
   "id": "99c3485e-c18c-457e-8dcb-78f73bc5713c",
   "metadata": {
    "tags": []
   },
   "outputs": [],
   "source": [
    "total_drift = compute_drift(initial_tracks)"
   ]
  },
  {
   "cell_type": "markdown",
   "id": "3a062d73-018a-42a5-a0c9-040cfa760636",
   "metadata": {},
   "source": [
    "Plot how the drift goes over time."
   ]
  },
  {
   "cell_type": "code",
   "execution_count": 8,
   "id": "b28069be-5296-4367-b2ba-76ff30f7ae4f",
   "metadata": {
    "tags": []
   },
   "outputs": [
    {
     "data": {
      "text/plain": [
       "count    14536.000000\n",
       "mean        10.338094\n",
       "std          5.897616\n",
       "min          3.989423\n",
       "25%          5.014627\n",
       "50%          7.399277\n",
       "75%         15.897737\n",
       "max         22.046750\n",
       "Name: radius, dtype: float64"
      ]
     },
     "execution_count": 8,
     "metadata": {},
     "output_type": "execute_result"
    }
   ],
   "source": [
    "initial_tracks['radius'].describe()"
   ]
  },
  {
   "cell_type": "code",
   "execution_count": 9,
   "id": "7cb3ffb4-3a91-4e54-9d37-43c67ea9b2da",
   "metadata": {},
   "outputs": [
    {
     "data": {
      "image/png": "[encoded data removed]",
      "text/plain": [
       "<Figure size 750x250 with 3 Axes>"
      ]
     },
     "metadata": {},
     "output_type": "display_data"
    }
   ],
   "source": [
    "fig, axs = plt.subplots(1, 3, figsize=(7.5, 2.5))\n",
    "\n",
    "for ax, i, l in zip(axs, range(2), ['x', 'y']):\n",
    "    ax.plot(total_drift[:, 1- i])\n",
    "    ax.set_xlabel('Frame')\n",
    "    ax.set_ylabel(l + ' drift')\n",
    "\n",
    "axs[2].scatter(total_drift[:, 1], total_drift[:, 0], c=np.arange(total_drift.shape[0]), s=2)\n",
    "axs[2].set_xlabel('x drift')\n",
    "axs[2].set_ylabel('y drift')\n",
    "\n",
    "# Plot the drifts\n",
    "for ax in axs:\n",
    "    ax.set_xlim(ax.get_xlim())\n",
    "    ax.set_ylim(ax.get_ylim())\n",
    "\n",
    "fig.tight_layout()\n",
    "fig.savefig(out_directory / 'figures/drift-from-tracks.png', dpi=320)"
   ]
  },
  {
   "cell_type": "markdown",
   "id": "28b57cad-8444-445e-9477-81ebc949b558",
   "metadata": {},
   "source": [
    "## See if there is a correlated motion between many voids\n",
    "That's the halmark of \"image drift\" rather than natural movement between voids"
   ]
  },
  {
   "cell_type": "code",
   "execution_count": 10,
   "id": "dc5ad554-e6fe-447b-b558-373b16eb33cb",
   "metadata": {
    "tags": []
   },
   "outputs": [
    {
     "data": {
      "text/html": [
       "<div>\n",
       "<style scoped>\n",
       "    .dataframe tbody tr th:only-of-type {\n",
       "        vertical-align: middle;\n",
       "    }\n",
       "\n",
       "    .dataframe tbody tr th {\n",
       "        vertical-align: top;\n",
       "    }\n",
       "\n",
       "    .dataframe thead th {\n",
       "        text-align: right;\n",
       "    }\n",
       "</style>\n",
       "<table border=\"1\" class=\"dataframe\">\n",
       "  <thead>\n",
       "    <tr style=\"text-align: right;\">\n",
       "      <th></th>\n",
       "      <th>start_frame</th>\n",
       "      <th>end_frame</th>\n",
       "      <th>total_frames</th>\n",
       "      <th>inferred_frames</th>\n",
       "      <th>positions</th>\n",
       "      <th>local_id</th>\n",
       "      <th>disp_from_start</th>\n",
       "      <th>max_disp</th>\n",
       "      <th>drift_rate</th>\n",
       "      <th>dist_traveled</th>\n",
       "      <th>total_traveled</th>\n",
       "      <th>movement_rate</th>\n",
       "      <th>radii</th>\n",
       "      <th>max_radius</th>\n",
       "      <th>min_radius</th>\n",
       "      <th>growth_rate</th>\n",
       "    </tr>\n",
       "  </thead>\n",
       "  <tbody>\n",
       "    <tr>\n",
       "      <th>0</th>\n",
       "      <td>0</td>\n",
       "      <td>12</td>\n",
       "      <td>13</td>\n",
       "      <td>9</td>\n",
       "      <td>[[196.0790273556, 28.0775075988], [195.9933130...</td>\n",
       "      <td>[0, None, None, None, 0, None, None, 0, None, ...</td>\n",
       "      <td>[0.0, 0.31427036384815316, 0.6285407276963106,...</td>\n",
       "      <td>2.795718</td>\n",
       "      <td>0.215055</td>\n",
       "      <td>[0.0, 0.31427036384815316, 0.6285407276963106,...</td>\n",
       "      <td>7.568737</td>\n",
       "      <td>0.582211</td>\n",
       "      <td>[14.4723151261, 14.59930368175, 14.7262922374,...</td>\n",
       "      <td>15.201743</td>\n",
       "      <td>14.295277</td>\n",
       "      <td>0.023396</td>\n",
       "    </tr>\n",
       "    <tr>\n",
       "      <th>5087</th>\n",
       "      <td>368</td>\n",
       "      <td>381</td>\n",
       "      <td>14</td>\n",
       "      <td>9</td>\n",
       "      <td>[[3.808, 308.624], [4.127183413066667, 309.698...</td>\n",
       "      <td>[7, None, None, 3, None, 5, None, None, None, ...</td>\n",
       "      <td>[0.0, 1.1207101966850168, 2.241420393369979, 3...</td>\n",
       "      <td>4.128942</td>\n",
       "      <td>0.294924</td>\n",
       "      <td>[0.0, 1.1207101966850168, 2.241420393369979, 3...</td>\n",
       "      <td>4.726432</td>\n",
       "      <td>0.337602</td>\n",
       "      <td>[6.3078313051, 6.924018934, 7.5402065629, 8.15...</td>\n",
       "      <td>9.097284</td>\n",
       "      <td>6.307831</td>\n",
       "      <td>0.232961</td>\n",
       "    </tr>\n",
       "  </tbody>\n",
       "</table>\n",
       "</div>"
      ],
      "text/plain": [
       "      start_frame  end_frame  total_frames  inferred_frames  \\\n",
       "0               0         12            13                9   \n",
       "5087          368        381            14                9   \n",
       "\n",
       "                                              positions  \\\n",
       "0     [[196.0790273556, 28.0775075988], [195.9933130...   \n",
       "5087  [[3.808, 308.624], [4.127183413066667, 309.698...   \n",
       "\n",
       "                                               local_id  \\\n",
       "0     [0, None, None, None, 0, None, None, 0, None, ...   \n",
       "5087  [7, None, None, 3, None, 5, None, None, None, ...   \n",
       "\n",
       "                                        disp_from_start  max_disp  drift_rate  \\\n",
       "0     [0.0, 0.31427036384815316, 0.6285407276963106,...  2.795718    0.215055   \n",
       "5087  [0.0, 1.1207101966850168, 2.241420393369979, 3...  4.128942    0.294924   \n",
       "\n",
       "                                          dist_traveled  total_traveled  \\\n",
       "0     [0.0, 0.31427036384815316, 0.6285407276963106,...        7.568737   \n",
       "5087  [0.0, 1.1207101966850168, 2.241420393369979, 3...        4.726432   \n",
       "\n",
       "      movement_rate                                              radii  \\\n",
       "0          0.582211  [14.4723151261, 14.59930368175, 14.7262922374,...   \n",
       "5087       0.337602  [6.3078313051, 6.924018934, 7.5402065629, 8.15...   \n",
       "\n",
       "      max_radius  min_radius  growth_rate  \n",
       "0      15.201743   14.295277     0.023396  \n",
       "5087    9.097284    6.307831     0.232961  "
      ]
     },
     "execution_count": 10,
     "metadata": {},
     "output_type": "execute_result"
    }
   ],
   "source": [
    "void_tracks = compile_void_tracks(initial_tracks)\n",
    "void_tracks.sort_values('total_frames').tail(2)"
   ]
  },
  {
   "cell_type": "code",
   "execution_count": 11,
   "id": "0cf3cb21-d97f-46ad-90b4-ae5c8161bbcf",
   "metadata": {
    "tags": []
   },
   "outputs": [
    {
     "data": {
      "image/png": "[encoded data removed]",
      "text/plain": [
       "<Figure size 300x300 with 1 Axes>"
      ]
     },
     "metadata": {},
     "output_type": "display_data"
    }
   ],
   "source": [
    "fig, ax = plt.subplots(figsize=(3, 3))\n",
    "\n",
    "longest_tracks = void_tracks.sort_values('total_frames').tail(8)\n",
    "for pos in longest_tracks['positions']:\n",
    "    ax.scatter(pos[:, 0], pos[:, 1], s=1, edgecolor='none')\n",
    "\n",
    "ax.set_xlim(0, 1024)\n",
    "ax.set_ylim(0, 1024)\n",
    "ax.set_xticks([])\n",
    "ax.set_yticks([])\n",
    "fig.tight_layout()\n",
    "fig.savefig(out_directory / 'figures/collective-movement.png', dpi=320)"
   ]
  },
  {
   "cell_type": "markdown",
   "id": "980e7053-979c-4761-b457-171be0dadb8a",
   "metadata": {},
   "source": [
    "There doesn't seem to be a lot of drift, but it is colleated"
   ]
  },
  {
   "cell_type": "code",
   "execution_count": 12,
   "id": "a2537064-7637-4ef5-9c52-35f93214608f",
   "metadata": {
    "tags": []
   },
   "outputs": [
    {
     "data": {
      "text/html": [
       "<div>\n",
       "<style scoped>\n",
       "    .dataframe tbody tr th:only-of-type {\n",
       "        vertical-align: middle;\n",
       "    }\n",
       "\n",
       "    .dataframe tbody tr th {\n",
       "        vertical-align: top;\n",
       "    }\n",
       "\n",
       "    .dataframe thead th {\n",
       "        text-align: right;\n",
       "    }\n",
       "</style>\n",
       "<table border=\"1\" class=\"dataframe\">\n",
       "  <thead>\n",
       "    <tr style=\"text-align: right;\">\n",
       "      <th></th>\n",
       "      <th>start_frame</th>\n",
       "      <th>end_frame</th>\n",
       "      <th>total_frames</th>\n",
       "      <th>inferred_frames</th>\n",
       "      <th>positions</th>\n",
       "      <th>local_id</th>\n",
       "      <th>disp_from_start</th>\n",
       "      <th>max_disp</th>\n",
       "      <th>drift_rate</th>\n",
       "      <th>dist_traveled</th>\n",
       "      <th>total_traveled</th>\n",
       "      <th>movement_rate</th>\n",
       "      <th>radii</th>\n",
       "      <th>max_radius</th>\n",
       "      <th>min_radius</th>\n",
       "      <th>growth_rate</th>\n",
       "    </tr>\n",
       "  </thead>\n",
       "  <tbody>\n",
       "    <tr>\n",
       "      <th>0</th>\n",
       "      <td>0</td>\n",
       "      <td>12</td>\n",
       "      <td>13</td>\n",
       "      <td>9</td>\n",
       "      <td>[[196.0790273556, 28.0775075988], [195.9933130...</td>\n",
       "      <td>[0, None, None, None, 0, None, None, 0, None, ...</td>\n",
       "      <td>[0.0, 0.31427036384815316, 0.6285407276963106,...</td>\n",
       "      <td>2.795718</td>\n",
       "      <td>0.215055</td>\n",
       "      <td>[0.0, 0.31427036384815316, 0.6285407276963106,...</td>\n",
       "      <td>9.377142</td>\n",
       "      <td>0.721319</td>\n",
       "      <td>[14.4723151261, 14.59930368175, 14.7262922374,...</td>\n",
       "      <td>15.201743</td>\n",
       "      <td>14.295277</td>\n",
       "      <td>0.023396</td>\n",
       "    </tr>\n",
       "    <tr>\n",
       "      <th>5087</th>\n",
       "      <td>368</td>\n",
       "      <td>381</td>\n",
       "      <td>14</td>\n",
       "      <td>9</td>\n",
       "      <td>[[5.926551936156561, 317.35569461432624], [6.2...</td>\n",
       "      <td>[7, None, None, 3, None, 5, None, None, None, ...</td>\n",
       "      <td>[0.0, 1.1207101966849622, 2.241420393369979, 3...</td>\n",
       "      <td>3.362131</td>\n",
       "      <td>0.240152</td>\n",
       "      <td>[0.0, 1.1207101966849622, 2.241420393369979, 3...</td>\n",
       "      <td>4.526519</td>\n",
       "      <td>0.323323</td>\n",
       "      <td>[6.3078313051, 6.924018934, 7.5402065629, 8.15...</td>\n",
       "      <td>9.097284</td>\n",
       "      <td>6.307831</td>\n",
       "      <td>0.232961</td>\n",
       "    </tr>\n",
       "  </tbody>\n",
       "</table>\n",
       "</div>"
      ],
      "text/plain": [
       "      start_frame  end_frame  total_frames  inferred_frames  \\\n",
       "0               0         12            13                9   \n",
       "5087          368        381            14                9   \n",
       "\n",
       "                                              positions  \\\n",
       "0     [[196.0790273556, 28.0775075988], [195.9933130...   \n",
       "5087  [[5.926551936156561, 317.35569461432624], [6.2...   \n",
       "\n",
       "                                               local_id  \\\n",
       "0     [0, None, None, None, 0, None, None, 0, None, ...   \n",
       "5087  [7, None, None, 3, None, 5, None, None, None, ...   \n",
       "\n",
       "                                        disp_from_start  max_disp  drift_rate  \\\n",
       "0     [0.0, 0.31427036384815316, 0.6285407276963106,...  2.795718    0.215055   \n",
       "5087  [0.0, 1.1207101966849622, 2.241420393369979, 3...  3.362131    0.240152   \n",
       "\n",
       "                                          dist_traveled  total_traveled  \\\n",
       "0     [0.0, 0.31427036384815316, 0.6285407276963106,...        9.377142   \n",
       "5087  [0.0, 1.1207101966849622, 2.241420393369979, 3...        4.526519   \n",
       "\n",
       "      movement_rate                                              radii  \\\n",
       "0          0.721319  [14.4723151261, 14.59930368175, 14.7262922374,...   \n",
       "5087       0.323323  [6.3078313051, 6.924018934, 7.5402065629, 8.15...   \n",
       "\n",
       "      max_radius  min_radius  growth_rate  \n",
       "0      15.201743   14.295277     0.023396  \n",
       "5087    9.097284    6.307831     0.232961  "
      ]
     },
     "execution_count": 12,
     "metadata": {},
     "output_type": "execute_result"
    }
   ],
   "source": [
    "corrected_tracks = initial_tracks.copy()\n",
    "corrected_tracks['x'] -= total_drift[initial_tracks['frame'], 0]\n",
    "corrected_tracks['y'] -= total_drift[initial_tracks['frame'], 1]\n",
    "void_tracks = compile_void_tracks(corrected_tracks)\n",
    "void_tracks.sort_values('total_frames').tail(2)"
   ]
  },
  {
   "cell_type": "code",
   "execution_count": 13,
   "id": "7795433e-5321-4e4e-8c29-e2da98ed3416",
   "metadata": {
    "tags": []
   },
   "outputs": [
    {
     "data": {
      "image/png": "[encoded data removed]",
      "text/plain": [
       "<Figure size 300x300 with 1 Axes>"
      ]
     },
     "metadata": {},
     "output_type": "display_data"
    }
   ],
   "source": [
    "fig, ax = plt.subplots(figsize=(3, 3))\n",
    "\n",
    "longest_tracks = void_tracks.sort_values('total_frames').tail(8)\n",
    "for pos in longest_tracks['positions']:\n",
    "    ax.scatter(pos[:, 0], pos[:, 1], s=1, edgecolor='none')\n",
    "\n",
    "ax.set_xlim(0, 1024)\n",
    "ax.set_ylim(0, 1024)\n",
    "ax.set_xticks([])\n",
    "ax.set_yticks([])\n",
    "fig.tight_layout()\n",
    "fig.savefig(out_directory / 'figures/subtracted-off-movement.png', dpi=320)"
   ]
  },
  {
   "cell_type": "markdown",
   "id": "3caf3a83-6872-4724-9108-cfb23bf35b8d",
   "metadata": {},
   "source": [
    "Plot the drift between frames 0 and 20"
   ]
  },
  {
   "cell_type": "code",
   "execution_count": 14,
   "id": "2c6f6c4c-53c2-47be-8f61-96559205d376",
   "metadata": {
    "tags": []
   },
   "outputs": [],
   "source": [
    "frame_1, frame_2 = 100, 150"
   ]
  },
  {
   "cell_type": "code",
   "execution_count": 15,
   "id": "f52d9d97-8103-442b-bfa3-dea8b9646ded",
   "metadata": {
    "tags": []
   },
   "outputs": [],
   "source": [
    "image_1 = imageio.read(images[frame_1]).get_data(0)\n",
    "image_2 = imageio.read(images[frame_2]).get_data(0)"
   ]
  },
  {
   "cell_type": "code",
   "execution_count": 16,
   "id": "bb7a2280-432a-4189-978c-de016819d226",
   "metadata": {
    "tags": []
   },
   "outputs": [
    {
     "data": {
      "text/plain": [
       "array([5.54499364, 4.0637579 ])"
      ]
     },
     "execution_count": 16,
     "metadata": {},
     "output_type": "execute_result"
    }
   ],
   "source": [
    "drift = total_drift[frame_2, :] - total_drift[frame_1, :]\n",
    "drift"
   ]
  },
  {
   "cell_type": "code",
   "execution_count": 17,
   "id": "0c37ac9e-e1a2-45ea-be61-cca5df2b9a65",
   "metadata": {
    "tags": []
   },
   "outputs": [
    {
     "data": {
      "image/png": "[encoded data removed]",
      "text/plain": [
       "<Figure size 600x300 with 2 Axes>"
      ]
     },
     "metadata": {},
     "output_type": "display_data"
    }
   ],
   "source": [
    "fig, axs = plt.subplots(1, 2, figsize=(6, 3),)\n",
    "\n",
    "for ax in axs:\n",
    "    ax.set_yticks(ax.set_xticks([]))\n",
    "\n",
    "# Plot the original and new overlapped\n",
    "image = np.zeros((*image_1.shape, 3), dtype=np.uint8) + 255\n",
    "image[:, :, 0] -= image_1\n",
    "image[:, :, 1] -= image_2\n",
    "axs[0].imshow(image)\n",
    "axs[0].set_title('Uncorrected')\n",
    "\n",
    "# Plot the re-registered images\n",
    "affine = AffineTransform(translation=drift)\n",
    "image_2_shift = np.array(warp(image_2, affine) * 255, dtype=np.uint8)\n",
    "image = np.zeros((*image_1.shape, 3), dtype=np.uint8) + 255\n",
    "image[:, :, 0] -= image_1\n",
    "image[:, :, 1] -= image_2_shift\n",
    "axs[1].imshow(image)\n",
    "axs[1].set_title('Corrected')\n",
    "\n",
    "fig.tight_layout()\n",
    "fig.savefig(out_directory / 'figures/drift-correlation-tracks.png', dpi=320)"
   ]
  },
  {
   "cell_type": "markdown",
   "id": "0ff7c82f-bfbe-4c3e-a09c-95313c4d4de1",
   "metadata": {},
   "source": [
    "## Save for later use\n",
    "Save the drifts and the defect coordinates"
   ]
  },
  {
   "cell_type": "code",
   "execution_count": 18,
   "id": "9ad14f82-b97a-4661-9da6-71083db33de6",
   "metadata": {
    "tags": []
   },
   "outputs": [],
   "source": [
    "out_path = out_directory / 'drifts-tracks.csv'\n",
    "pd.DataFrame(total_drift, columns=['x', 'y']).to_csv(out_path, index_label='frame')"
   ]
  },
  {
   "cell_type": "markdown",
   "id": "fe06fcc5-a82e-46ca-85c4-2ba75fa08dff",
   "metadata": {},
   "source": [
    "Update the coordinates too"
   ]
  },
  {
   "cell_type": "code",
   "execution_count": 19,
   "id": "3062370e-a33b-4b88-814a-353ae3d922fd",
   "metadata": {
    "tags": []
   },
   "outputs": [],
   "source": [
    "frame_data['positions_corrected-track'] = [(x - y) if len(x) > 0 else x for x, y in zip(frame_data['positions'], total_drift)]\n",
    "frame_data['drift'] = total_drift.tolist()"
   ]
  },
  {
   "cell_type": "code",
   "execution_count": 20,
   "id": "e463dc14-91d5-47c0-bd8a-1474a1d938b2",
   "metadata": {
    "tags": []
   },
   "outputs": [],
   "source": [
    "frame_data.to_json(out_directory / 'defect-details.json', orient='records', lines=True)"
   ]
  },
  {
   "cell_type": "code",
   "execution_count": null,
   "id": "887d7b77-5ee5-42f8-a3a5-7cd757b59dc0",
   "metadata": {},
   "outputs": [],
   "source": []
  }
 ],
 "metadata": {
  "kernelspec": {
   "display_name": "Python 3 (ipykernel)",
   "language": "python",
   "name": "python3"
  },
  "language_info": {
   "codemirror_mode": {
    "name": "ipython",
    "version": 3
   },
   "file_extension": ".py",
   "mimetype": "text/x-python",
   "name": "python",
   "nbconvert_exporter": "python",
   "pygments_lexer": "ipython3",
   "version": "3.10.12"
  }
 },
 "nbformat": 4,
 "nbformat_minor": 5
}

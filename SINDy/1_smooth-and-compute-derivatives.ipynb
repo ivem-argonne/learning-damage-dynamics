{
 "cells": [
  {
   "cell_type": "markdown",
   "id": "8abd3432-c1c5-4aa1-8094-4a35912c6c72",
   "metadata": {},
   "source": [
    "# Smooth the Data and Compute Derivatives\n",
    "The data has a lot of noise in it, which is going to make derivatives particularly problematic"
   ]
  },
  {
   "cell_type": "code",
   "execution_count": 1,
   "id": "0747cb97-52da-4dd2-bebb-13ef7ef1051b",
   "metadata": {},
   "outputs": [],
   "source": [
    "%matplotlib inline\n",
    "from matplotlib import pyplot as plt\n",
    "from scipy.interpolate import UnivariateSpline\n",
    "from tqdm import tqdm\n",
    "import pandas as pd\n",
    "import numpy as np"
   ]
  },
  {
   "cell_type": "markdown",
   "id": "62676fa4-37fe-4e9c-b249-6bb7f907a9b9",
   "metadata": {},
   "source": [
    "## Load in the Data\n",
    "We'll use the pickle file saved earlier"
   ]
  },
  {
   "cell_type": "code",
   "execution_count": 2,
   "id": "0d43b634-b918-4b65-80b0-65d5c8532ea3",
   "metadata": {},
   "outputs": [
    {
     "data": {
      "text/html": [
       "<div>\n",
       "<style scoped>\n",
       "    .dataframe tbody tr th:only-of-type {\n",
       "        vertical-align: middle;\n",
       "    }\n",
       "\n",
       "    .dataframe tbody tr th {\n",
       "        vertical-align: top;\n",
       "    }\n",
       "\n",
       "    .dataframe thead th {\n",
       "        text-align: right;\n",
       "    }\n",
       "</style>\n",
       "<table border=\"1\" class=\"dataframe\">\n",
       "  <thead>\n",
       "    <tr style=\"text-align: right;\">\n",
       "      <th></th>\n",
       "      <th>void_frac</th>\n",
       "      <th>void_count</th>\n",
       "      <th>radii</th>\n",
       "      <th>radii_average</th>\n",
       "      <th>positions</th>\n",
       "      <th>run_time</th>\n",
       "      <th>created_time</th>\n",
       "      <th>completed_time</th>\n",
       "      <th>mask-path</th>\n",
       "      <th>image-path</th>\n",
       "      <th>...</th>\n",
       "      <th>void_count</th>\n",
       "      <th>radius_total</th>\n",
       "      <th>radius_mean</th>\n",
       "      <th>radius_stddev</th>\n",
       "      <th>surfarea_total</th>\n",
       "      <th>surfarea_mean</th>\n",
       "      <th>surfarea_stddev</th>\n",
       "      <th>volume_total</th>\n",
       "      <th>volume_mean</th>\n",
       "      <th>volume_stddev</th>\n",
       "    </tr>\n",
       "  </thead>\n",
       "  <tbody>\n",
       "    <tr>\n",
       "      <th>319</th>\n",
       "      <td>0.027991</td>\n",
       "      <td>63</td>\n",
       "      <td>[8.667244841319219, 21.11004122822376, 43.2038...</td>\n",
       "      <td>20.234900</td>\n",
       "      <td>[[3.76271186440678, 745.3389830508474], [7.582...</td>\n",
       "      <td>0.343604</td>\n",
       "      <td>2023-04-20 09:33:31.827892</td>\n",
       "      <td>2023-04-20 09:46:10.641119</td>\n",
       "      <td>frames/masks/frame-0.tiff</td>\n",
       "      <td>frames/frame-0.tiff</td>\n",
       "      <td>...</td>\n",
       "      <td>73</td>\n",
       "      <td>1435.225919</td>\n",
       "      <td>19.660629</td>\n",
       "      <td>14.367429</td>\n",
       "      <td>543952.0</td>\n",
       "      <td>7451.397260</td>\n",
       "      <td>10352.594839</td>\n",
       "      <td>7.143823e+06</td>\n",
       "      <td>97860.589080</td>\n",
       "      <td>173061.300436</td>\n",
       "    </tr>\n",
       "    <tr>\n",
       "      <th>80</th>\n",
       "      <td>0.029204</td>\n",
       "      <td>76</td>\n",
       "      <td>[21.587164551489145, 42.937755656025104, 9.574...</td>\n",
       "      <td>18.648905</td>\n",
       "      <td>[[7.816939890710382, 870.9972677595629], [30.9...</td>\n",
       "      <td>0.344804</td>\n",
       "      <td>2023-04-20 09:33:31.827892</td>\n",
       "      <td>2023-04-20 09:44:45.912109</td>\n",
       "      <td>frames/masks/frame-1.tiff</td>\n",
       "      <td>frames/frame-1.tiff</td>\n",
       "      <td>...</td>\n",
       "      <td>96</td>\n",
       "      <td>1692.452142</td>\n",
       "      <td>17.629710</td>\n",
       "      <td>14.395926</td>\n",
       "      <td>624960.0</td>\n",
       "      <td>6510.000000</td>\n",
       "      <td>10677.163981</td>\n",
       "      <td>8.545622e+06</td>\n",
       "      <td>89016.895811</td>\n",
       "      <td>185201.067189</td>\n",
       "    </tr>\n",
       "    <tr>\n",
       "      <th>84</th>\n",
       "      <td>0.028668</td>\n",
       "      <td>67</td>\n",
       "      <td>[20.806283791440396, 43.04141653790755, 11.170...</td>\n",
       "      <td>19.713692</td>\n",
       "      <td>[[7.279411764705882, 870.9], [30.3725085910652...</td>\n",
       "      <td>0.345819</td>\n",
       "      <td>2023-04-20 09:33:31.835892</td>\n",
       "      <td>2023-04-20 09:44:47.335162</td>\n",
       "      <td>frames/masks/frame-10.tiff</td>\n",
       "      <td>frames/frame-10.tiff</td>\n",
       "      <td>...</td>\n",
       "      <td>96</td>\n",
       "      <td>1701.732359</td>\n",
       "      <td>17.726379</td>\n",
       "      <td>14.368861</td>\n",
       "      <td>628144.0</td>\n",
       "      <td>6543.166667</td>\n",
       "      <td>10688.472138</td>\n",
       "      <td>8.579721e+06</td>\n",
       "      <td>89372.095334</td>\n",
       "      <td>185751.062246</td>\n",
       "    </tr>\n",
       "  </tbody>\n",
       "</table>\n",
       "<p>3 rows × 24 columns</p>\n",
       "</div>"
      ],
      "text/plain": [
       "     void_frac  void_count                                              radii  \\\n",
       "319   0.027991          63  [8.667244841319219, 21.11004122822376, 43.2038...   \n",
       "80    0.029204          76  [21.587164551489145, 42.937755656025104, 9.574...   \n",
       "84    0.028668          67  [20.806283791440396, 43.04141653790755, 11.170...   \n",
       "\n",
       "     radii_average                                          positions  \\\n",
       "319      20.234900  [[3.76271186440678, 745.3389830508474], [7.582...   \n",
       "80       18.648905  [[7.816939890710382, 870.9972677595629], [30.9...   \n",
       "84       19.713692  [[7.279411764705882, 870.9], [30.3725085910652...   \n",
       "\n",
       "     run_time               created_time             completed_time  \\\n",
       "319  0.343604 2023-04-20 09:33:31.827892 2023-04-20 09:46:10.641119   \n",
       "80   0.344804 2023-04-20 09:33:31.827892 2023-04-20 09:44:45.912109   \n",
       "84   0.345819 2023-04-20 09:33:31.835892 2023-04-20 09:44:47.335162   \n",
       "\n",
       "                      mask-path            image-path  ...  void_count  \\\n",
       "319   frames/masks/frame-0.tiff   frames/frame-0.tiff  ...          73   \n",
       "80    frames/masks/frame-1.tiff   frames/frame-1.tiff  ...          96   \n",
       "84   frames/masks/frame-10.tiff  frames/frame-10.tiff  ...          96   \n",
       "\n",
       "    radius_total radius_mean  radius_stddev  surfarea_total  surfarea_mean  \\\n",
       "319  1435.225919   19.660629      14.367429        543952.0    7451.397260   \n",
       "80   1692.452142   17.629710      14.395926        624960.0    6510.000000   \n",
       "84   1701.732359   17.726379      14.368861        628144.0    6543.166667   \n",
       "\n",
       "     surfarea_stddev  volume_total   volume_mean  volume_stddev  \n",
       "319     10352.594839  7.143823e+06  97860.589080  173061.300436  \n",
       "80      10677.163981  8.545622e+06  89016.895811  185201.067189  \n",
       "84      10688.472138  8.579721e+06  89372.095334  185751.062246  \n",
       "\n",
       "[3 rows x 24 columns]"
      ]
     },
     "execution_count": 2,
     "metadata": {},
     "output_type": "execute_result"
    }
   ],
   "source": [
    "raw_data = pd.read_pickle('datasets/initial_data.pkl')\n",
    "raw_data.head(3)"
   ]
  },
  {
   "cell_type": "markdown",
   "id": "8268c460-8502-40cd-b894-e5291b8981d5",
   "metadata": {
    "tags": []
   },
   "source": [
    "## Determine which data to screen out\n",
    "There are some initial parts of each measurement series that are reliable. We determined these points by "
   ]
  },
  {
   "cell_type": "code",
   "execution_count": 3,
   "id": "d143c91e-45b3-44b8-9f98-9859e62dafa2",
   "metadata": {},
   "outputs": [],
   "source": [
    "cutoff = {\n",
    "    'void_size_Ni_550C_0.7_to_3dpa_01282022.csv': 1900,\n",
    "    'void_size_Ni_575C_0.7_to_3dpa_01282022.csv': 100,\n",
    "    'void_size_Ni_600C_0.7_to_3dpa_01282022.csv': 500\n",
    "}"
   ]
  },
  {
   "cell_type": "markdown",
   "id": "6a8f65d8-a3f4-436b-aa13-d934c8ba779c",
   "metadata": {},
   "source": [
    "Plot the choice"
   ]
  },
  {
   "cell_type": "code",
   "execution_count": 4,
   "id": "23bfd489-1275-4b75-8a52-d4e1a971a318",
   "metadata": {},
   "outputs": [
    {
     "ename": "AttributeError",
     "evalue": "'DataFrame' object has no attribute 'source'",
     "output_type": "error",
     "traceback": [
      "\u001b[0;31m---------------------------------------------------------------------------\u001b[0m",
      "\u001b[0;31mAttributeError\u001b[0m                            Traceback (most recent call last)",
      "Cell \u001b[0;32mIn[4], line 1\u001b[0m\n\u001b[0;32m----> 1\u001b[0m fig, axs \u001b[38;5;241m=\u001b[39m plt\u001b[38;5;241m.\u001b[39msubplots(\u001b[38;5;241m1\u001b[39m, \u001b[38;5;28mlen\u001b[39m(\u001b[38;5;28mset\u001b[39m(\u001b[43mraw_data\u001b[49m\u001b[38;5;241;43m.\u001b[39;49m\u001b[43msource\u001b[49m)), figsize\u001b[38;5;241m=\u001b[39m(\u001b[38;5;241m6.5\u001b[39m, \u001b[38;5;241m2.5\u001b[39m))\n\u001b[1;32m      3\u001b[0m \u001b[38;5;28;01mfor\u001b[39;00m (gid, group), ax \u001b[38;5;129;01min\u001b[39;00m \u001b[38;5;28mzip\u001b[39m(raw_data\u001b[38;5;241m.\u001b[39mgroupby(\u001b[38;5;124m'\u001b[39m\u001b[38;5;124msource\u001b[39m\u001b[38;5;124m'\u001b[39m), axs):\n\u001b[1;32m      4\u001b[0m     ax\u001b[38;5;241m.\u001b[39mset_title(\u001b[38;5;124mf\u001b[39m\u001b[38;5;124m'\u001b[39m\u001b[38;5;132;01m{\u001b[39;00mgid[:\u001b[38;5;241m16\u001b[39m]\u001b[38;5;132;01m}\u001b[39;00m\u001b[38;5;124m...\u001b[39m\u001b[38;5;124m'\u001b[39m)\n",
      "File \u001b[0;32m~/miniconda3/envs/radpde/lib/python3.10/site-packages/pandas/core/generic.py:5902\u001b[0m, in \u001b[0;36mNDFrame.__getattr__\u001b[0;34m(self, name)\u001b[0m\n\u001b[1;32m   5895\u001b[0m \u001b[38;5;28;01mif\u001b[39;00m (\n\u001b[1;32m   5896\u001b[0m     name \u001b[38;5;129;01mnot\u001b[39;00m \u001b[38;5;129;01min\u001b[39;00m \u001b[38;5;28mself\u001b[39m\u001b[38;5;241m.\u001b[39m_internal_names_set\n\u001b[1;32m   5897\u001b[0m     \u001b[38;5;129;01mand\u001b[39;00m name \u001b[38;5;129;01mnot\u001b[39;00m \u001b[38;5;129;01min\u001b[39;00m \u001b[38;5;28mself\u001b[39m\u001b[38;5;241m.\u001b[39m_metadata\n\u001b[1;32m   5898\u001b[0m     \u001b[38;5;129;01mand\u001b[39;00m name \u001b[38;5;129;01mnot\u001b[39;00m \u001b[38;5;129;01min\u001b[39;00m \u001b[38;5;28mself\u001b[39m\u001b[38;5;241m.\u001b[39m_accessors\n\u001b[1;32m   5899\u001b[0m     \u001b[38;5;129;01mand\u001b[39;00m \u001b[38;5;28mself\u001b[39m\u001b[38;5;241m.\u001b[39m_info_axis\u001b[38;5;241m.\u001b[39m_can_hold_identifiers_and_holds_name(name)\n\u001b[1;32m   5900\u001b[0m ):\n\u001b[1;32m   5901\u001b[0m     \u001b[38;5;28;01mreturn\u001b[39;00m \u001b[38;5;28mself\u001b[39m[name]\n\u001b[0;32m-> 5902\u001b[0m \u001b[38;5;28;01mreturn\u001b[39;00m \u001b[38;5;28;43mobject\u001b[39;49m\u001b[38;5;241;43m.\u001b[39;49m\u001b[38;5;21;43m__getattribute__\u001b[39;49m\u001b[43m(\u001b[49m\u001b[38;5;28;43mself\u001b[39;49m\u001b[43m,\u001b[49m\u001b[43m \u001b[49m\u001b[43mname\u001b[49m\u001b[43m)\u001b[49m\n",
      "\u001b[0;31mAttributeError\u001b[0m: 'DataFrame' object has no attribute 'source'"
     ]
    }
   ],
   "source": [
    "fig, axs = plt.subplots(1, len(set(raw_data.source)), figsize=(6.5, 2.5))\n",
    "\n",
    "for (gid, group), ax in zip(raw_data.groupby('source'), axs):\n",
    "    ax.set_title(f'{gid[:16]}...')\n",
    "    \n",
    "    ax.plot(group.frame_id, group.radius_mean)\n",
    "    ax.set_xlabel('Frame')\n",
    "    \n",
    "    ax.set_ylim(ax.get_ylim())\n",
    "    ax.plot([cutoff[gid]]*2, ax.get_ylim(), 'k--')\n",
    "    \n",
    "axs[0].set_ylabel('$R_{mean}$ (nm)')\n",
    "fig.tight_layout()"
   ]
  },
  {
   "cell_type": "markdown",
   "id": "11c3cf09-a054-4eeb-8e5b-9dcae156f86a",
   "metadata": {},
   "source": [
    "Make the change"
   ]
  },
  {
   "cell_type": "code",
   "execution_count": 5,
   "id": "d5dcf9dd-7726-447e-b28b-2ce6b5b98fc2",
   "metadata": {},
   "outputs": [],
   "source": [
    "for source, thr in cutoff.items():\n",
    "    raw_data.query(f'(source==\"{source}\" and frame_id >= {thr}) or source != \"{source}\"', inplace=True)"
   ]
  },
  {
   "cell_type": "markdown",
   "id": "2a16b8c7-ab2b-4df6-b397-d1a682d4887f",
   "metadata": {},
   "source": [
    "## Initial Smoothing\n",
    "Our data has a lot of large jumps, so we'll smooth it out with a median filter first"
   ]
  },
  {
   "cell_type": "code",
   "execution_count": 28,
   "id": "c6abd38a-b058-4613-b244-c8afc9a0f4fd",
   "metadata": {},
   "outputs": [
    {
     "ename": "ValueError",
     "evalue": "Columns must be same length as key",
     "output_type": "error",
     "traceback": [
      "\u001b[0;31m---------------------------------------------------------------------------\u001b[0m",
      "\u001b[0;31mValueError\u001b[0m                                Traceback (most recent call last)",
      "Cell \u001b[0;32mIn[28], line 4\u001b[0m\n\u001b[1;32m      2\u001b[0m group \u001b[38;5;241m=\u001b[39m data\u001b[38;5;241m.\u001b[39mdrop(columns\u001b[38;5;241m=\u001b[39m[\u001b[38;5;124m'\u001b[39m\u001b[38;5;124mradii\u001b[39m\u001b[38;5;124m'\u001b[39m, \u001b[38;5;124m'\u001b[39m\u001b[38;5;124mpositions\u001b[39m\u001b[38;5;124m'\u001b[39m, \u001b[38;5;124m'\u001b[39m\u001b[38;5;124mimage-path\u001b[39m\u001b[38;5;124m'\u001b[39m, \u001b[38;5;124m'\u001b[39m\u001b[38;5;124mmask-path\u001b[39m\u001b[38;5;124m'\u001b[39m, \u001b[38;5;124m'\u001b[39m\u001b[38;5;124mframe_id\u001b[39m\u001b[38;5;124m'\u001b[39m, \u001b[38;5;124m'\u001b[39m\u001b[38;5;124mcreated_time\u001b[39m\u001b[38;5;124m'\u001b[39m, \u001b[38;5;124m'\u001b[39m\u001b[38;5;124mcompleted_time\u001b[39m\u001b[38;5;124m'\u001b[39m, \u001b[38;5;124m'\u001b[39m\u001b[38;5;124mdetect_time\u001b[39m\u001b[38;5;124m'\u001b[39m, \u001b[38;5;124m'\u001b[39m\u001b[38;5;124mfilename\u001b[39m\u001b[38;5;124m'\u001b[39m])\n\u001b[1;32m      3\u001b[0m smoothed_group \u001b[38;5;241m=\u001b[39m group\u001b[38;5;241m.\u001b[39mrolling(\u001b[38;5;241m65\u001b[39m, center\u001b[38;5;241m=\u001b[39m\u001b[38;5;28;01mTrue\u001b[39;00m)\u001b[38;5;241m.\u001b[39mmedian()\n\u001b[0;32m----> 4\u001b[0m data[smoothed_group\u001b[38;5;241m.\u001b[39mcolumns] \u001b[38;5;241m=\u001b[39m smoothed_group\n",
      "File \u001b[0;32m~/miniconda3/envs/radpde/lib/python3.10/site-packages/pandas/core/frame.py:3968\u001b[0m, in \u001b[0;36mDataFrame.__setitem__\u001b[0;34m(self, key, value)\u001b[0m\n\u001b[1;32m   3966\u001b[0m     \u001b[38;5;28mself\u001b[39m\u001b[38;5;241m.\u001b[39m_setitem_frame(key, value)\n\u001b[1;32m   3967\u001b[0m \u001b[38;5;28;01melif\u001b[39;00m \u001b[38;5;28misinstance\u001b[39m(key, (Series, np\u001b[38;5;241m.\u001b[39mndarray, \u001b[38;5;28mlist\u001b[39m, Index)):\n\u001b[0;32m-> 3968\u001b[0m     \u001b[38;5;28;43mself\u001b[39;49m\u001b[38;5;241;43m.\u001b[39;49m\u001b[43m_setitem_array\u001b[49m\u001b[43m(\u001b[49m\u001b[43mkey\u001b[49m\u001b[43m,\u001b[49m\u001b[43m \u001b[49m\u001b[43mvalue\u001b[49m\u001b[43m)\u001b[49m\n\u001b[1;32m   3969\u001b[0m \u001b[38;5;28;01melif\u001b[39;00m \u001b[38;5;28misinstance\u001b[39m(value, DataFrame):\n\u001b[1;32m   3970\u001b[0m     \u001b[38;5;28mself\u001b[39m\u001b[38;5;241m.\u001b[39m_set_item_frame_value(key, value)\n",
      "File \u001b[0;32m~/miniconda3/envs/radpde/lib/python3.10/site-packages/pandas/core/frame.py:4010\u001b[0m, in \u001b[0;36mDataFrame._setitem_array\u001b[0;34m(self, key, value)\u001b[0m\n\u001b[1;32m   4005\u001b[0m \u001b[38;5;28;01melse\u001b[39;00m:\n\u001b[1;32m   4006\u001b[0m     \u001b[38;5;66;03m# Note: unlike self.iloc[:, indexer] = value, this will\u001b[39;00m\n\u001b[1;32m   4007\u001b[0m     \u001b[38;5;66;03m#  never try to overwrite values inplace\u001b[39;00m\n\u001b[1;32m   4009\u001b[0m     \u001b[38;5;28;01mif\u001b[39;00m \u001b[38;5;28misinstance\u001b[39m(value, DataFrame):\n\u001b[0;32m-> 4010\u001b[0m         \u001b[43mcheck_key_length\u001b[49m\u001b[43m(\u001b[49m\u001b[38;5;28;43mself\u001b[39;49m\u001b[38;5;241;43m.\u001b[39;49m\u001b[43mcolumns\u001b[49m\u001b[43m,\u001b[49m\u001b[43m \u001b[49m\u001b[43mkey\u001b[49m\u001b[43m,\u001b[49m\u001b[43m \u001b[49m\u001b[43mvalue\u001b[49m\u001b[43m)\u001b[49m\n\u001b[1;32m   4011\u001b[0m         \u001b[38;5;28;01mfor\u001b[39;00m k1, k2 \u001b[38;5;129;01min\u001b[39;00m \u001b[38;5;28mzip\u001b[39m(key, value\u001b[38;5;241m.\u001b[39mcolumns):\n\u001b[1;32m   4012\u001b[0m             \u001b[38;5;28mself\u001b[39m[k1] \u001b[38;5;241m=\u001b[39m value[k2]\n",
      "File \u001b[0;32m~/miniconda3/envs/radpde/lib/python3.10/site-packages/pandas/core/indexers/utils.py:405\u001b[0m, in \u001b[0;36mcheck_key_length\u001b[0;34m(columns, key, value)\u001b[0m\n\u001b[1;32m    402\u001b[0m \u001b[38;5;28;01melse\u001b[39;00m:\n\u001b[1;32m    403\u001b[0m     \u001b[38;5;66;03m# Missing keys in columns are represented as -1\u001b[39;00m\n\u001b[1;32m    404\u001b[0m     \u001b[38;5;28;01mif\u001b[39;00m \u001b[38;5;28mlen\u001b[39m(columns\u001b[38;5;241m.\u001b[39mget_indexer_non_unique(key)[\u001b[38;5;241m0\u001b[39m]) \u001b[38;5;241m!=\u001b[39m \u001b[38;5;28mlen\u001b[39m(value\u001b[38;5;241m.\u001b[39mcolumns):\n\u001b[0;32m--> 405\u001b[0m         \u001b[38;5;28;01mraise\u001b[39;00m \u001b[38;5;167;01mValueError\u001b[39;00m(\u001b[38;5;124m\"\u001b[39m\u001b[38;5;124mColumns must be same length as key\u001b[39m\u001b[38;5;124m\"\u001b[39m)\n",
      "\u001b[0;31mValueError\u001b[0m: Columns must be same length as key"
     ]
    }
   ],
   "source": [
    "data = raw_data.copy()  # Make a copy of the raw data first\n",
    "group = data.drop(columns=['radii', 'positions', 'image-path', 'mask-path', 'frame_id', 'created_time', 'completed_time', 'detect_time', 'filename'])\n",
    "smoothed_group = group.rolling(65, center=True).median()\n",
    "data[smoothed_group.columns] = smoothed_group"
   ]
  },
  {
   "cell_type": "markdown",
   "id": "61808298-d01f-4d22-ac1f-7addd3ec38ab",
   "metadata": {},
   "source": [
    "Now drop off the data near the edges that we could not smooth, which are stored as NaNs"
   ]
  },
  {
   "cell_type": "code",
   "execution_count": 7,
   "id": "283641cf-d916-44d9-b106-832946b36b48",
   "metadata": {},
   "outputs": [],
   "source": [
    "data.dropna(inplace=True)"
   ]
  },
  {
   "cell_type": "code",
   "execution_count": 8,
   "id": "7d286093-cbf6-45fd-8835-6b7be55b01e3",
   "metadata": {},
   "outputs": [
    {
     "data": {
      "image/png": "[encoded data removed]",
      "text/plain": [
       "<Figure size 468x180 with 3 Axes>"
      ]
     },
     "metadata": {
      "needs_background": "light"
     },
     "output_type": "display_data"
    }
   ],
   "source": [
    "fig, axs = plt.subplots(1, len(set(raw_data.source)), figsize=(6.5, 2.5))\n",
    "\n",
    "for (gid, group), ax in zip(data.groupby('source'), axs):\n",
    "    ax.set_title(f'{gid[:16]}...')\n",
    "    \n",
    "    ax.plot(group.frame_id, group.radius_mean)\n",
    "    ax.set_xlabel('Frame')\n",
    "    \n",
    "    unsmooth_group = raw_data.loc[group.index]\n",
    "    ax.scatter(unsmooth_group.frame_id, unsmooth_group.radius_mean, s=0.2, c='gray')\n",
    "\n",
    "axs[0].set_ylabel('$R_{mean}$ (nm)')\n",
    "fig.tight_layout()"
   ]
  },
  {
   "cell_type": "markdown",
   "id": "dd56d001-86df-4d19-b0fd-673f1b61e174",
   "metadata": {},
   "source": [
    "That reduces the noise significantly, but we should go further to avoid unsmooth derivatives"
   ]
  },
  {
   "cell_type": "markdown",
   "id": "e96bdc5d-6f4e-4cf5-abb4-bed25406c8fd",
   "metadata": {},
   "source": [
    "## Try out smoothing splines\n",
    "The key way to adjust a spline in scipy's [`UnivariateSpline`](https://docs.scipy.org/doc/scipy/reference/generated/scipy.interpolate.UnivariateSpline.html) is the \"smoothing factor,\" which controls the number of knots on the spline by asserting the error between the spline and the original data stays below a threshold.\n",
    "\n",
    "We are going to make that threshold equal to 10% of the value fo the data points."
   ]
  },
  {
   "cell_type": "code",
   "execution_count": 9,
   "id": "9eb59cc0-e1a8-4184-9985-87c924830fdb",
   "metadata": {},
   "outputs": [],
   "source": [
    "subset = data.query(f'source==\"{data.source.iloc[-1]}\"')"
   ]
  },
  {
   "cell_type": "code",
   "execution_count": 10,
   "id": "783ec5c4-e958-43e1-a02c-c4829c3d2dab",
   "metadata": {},
   "outputs": [],
   "source": [
    "spline = UnivariateSpline(subset['frame_id'], subset['radius_mean'], k=5, s=(subset['radius_mean'].median() * 0.01) ** 2 * len(data))"
   ]
  },
  {
   "cell_type": "code",
   "execution_count": 11,
   "id": "81ec61f9-be68-4f06-8006-9d41bb5170b6",
   "metadata": {},
   "outputs": [
    {
     "data": {
      "text/plain": [
       "Text(0, 0.5, 'Radius (nm)')"
      ]
     },
     "execution_count": 11,
     "metadata": {},
     "output_type": "execute_result"
    },
    {
     "data": {
      "image/png": "[encoded data removed]",
      "text/plain": [
       "<Figure size 432x288 with 1 Axes>"
      ]
     },
     "metadata": {
      "needs_background": "light"
     },
     "output_type": "display_data"
    }
   ],
   "source": [
    "fig, ax = plt.subplots()\n",
    "\n",
    "x = subset['frame_id']\n",
    "ax.scatter(subset['frame_id'], subset['radius_mean'])\n",
    "\n",
    "ax.plot(subset['frame_id'], spline(subset['frame_id']), 'r', lw=3)\n",
    "\n",
    "ax.set_xlabel('Time (frame #)')\n",
    "ax.set_ylabel('Radius (nm)')"
   ]
  },
  {
   "cell_type": "markdown",
   "id": "dbf8da81-8db8-4495-87a7-04157769190c",
   "metadata": {},
   "source": [
    "**TODO**: Probably good enough for the time being, though it seems too smooth. Eventually impose a rule like \"select the maximum `s` such that derivatives that there are no outliers above 4 * IQR\""
   ]
  },
  {
   "cell_type": "code",
   "execution_count": 12,
   "id": "2acb5dac-4ba9-4be7-86f6-23b543de2d60",
   "metadata": {},
   "outputs": [
    {
     "data": {
      "text/plain": [
       "Text(0, 0.5, '$d$Radius/$dt$ (nm/s)')"
      ]
     },
     "execution_count": 12,
     "metadata": {},
     "output_type": "execute_result"
    },
    {
     "data": {
      "image/png": "[encoded data removed]",
      "text/plain": [
       "<Figure size 432x288 with 1 Axes>"
      ]
     },
     "metadata": {
      "needs_background": "light"
     },
     "output_type": "display_data"
    }
   ],
   "source": [
    "fig, ax = plt.subplots()\n",
    "\n",
    "ax.plot(x, spline.derivative(1)(x), 'r', lw=3)\n",
    "\n",
    "ax.set_xlabel('Time (frame #)')\n",
    "ax.set_ylabel('$d$Radius/$dt$ (nm/s)')"
   ]
  },
  {
   "cell_type": "markdown",
   "id": "f4dfac8f-12f2-46d0-9d83-82b630b77435",
   "metadata": {},
   "source": [
    "## Run them on all columns\n",
    "So that we get smooth derivatives for everything"
   ]
  },
  {
   "cell_type": "code",
   "execution_count": 13,
   "id": "c4ac51dd-047a-42ba-b3dc-335837087100",
   "metadata": {},
   "outputs": [],
   "source": [
    "data_cols = data.columns[4:] # Skip frame_id, void_radii, source, temp"
   ]
  },
  {
   "cell_type": "code",
   "execution_count": 14,
   "id": "42258d46-024a-4395-b0f9-770914393838",
   "metadata": {},
   "outputs": [
    {
     "name": "stderr",
     "output_type": "stream",
     "text": [
      "100%|█████████████████████████████████████████████████████████████████████████████████████████████████████████████████████████████████████████████████████████████████████████████████████████████████████| 10/10 [00:00<00:00, 121.95it/s]\n"
     ]
    }
   ],
   "source": [
    "smooth_data = data.copy()\n",
    "for c in tqdm(data_cols):\n",
    "    dtcol = f'{c}_dt'\n",
    "    smooth_data[dtcol] = np.nan\n",
    "    for gid, group in data.groupby('source'):\n",
    "        # Fit a smoothing spline\n",
    "        spline = UnivariateSpline(group['frame_id'], group[c], k=5, s=(group[c].median() * 0.01) ** 2 * len(data))\n",
    "\n",
    "        # Smooth the data\n",
    "        smooth_data.loc[group.index, c] = spline(group['frame_id'])\n",
    "\n",
    "        # Compute derivatives of the smoothed data\n",
    "        smooth_data.loc[group.index, dtcol] = spline.derivative(1)(group['frame_id'])"
   ]
  },
  {
   "cell_type": "markdown",
   "id": "b3134332-85df-4eb4-907c-59e14c8e4c2f",
   "metadata": {},
   "source": [
    "## Save Data\n",
    "In both CSV and pickle formats"
   ]
  },
  {
   "cell_type": "code",
   "execution_count": 15,
   "id": "1aa26e70-a99c-4603-afd6-fa7c917e81b5",
   "metadata": {},
   "outputs": [],
   "source": [
    "smooth_data.to_csv('datasets/smooth_data.csv', index=False)"
   ]
  },
  {
   "cell_type": "code",
   "execution_count": 16,
   "id": "fe7eff5d-cc3a-4092-bea3-2c699f037bb6",
   "metadata": {},
   "outputs": [],
   "source": [
    "smooth_data.to_pickle('datasets/smooth_data.pkl')"
   ]
  },
  {
   "cell_type": "code",
   "execution_count": null,
   "id": "e30a9faa-5779-416e-b946-f2ff55fcd58b",
   "metadata": {},
   "outputs": [],
   "source": []
  }
 ],
 "metadata": {
  "kernelspec": {
   "display_name": "Python 3 (ipykernel)",
   "language": "python",
   "name": "python3"
  },
  "language_info": {
   "codemirror_mode": {
    "name": "ipython",
    "version": 3
   },
   "file_extension": ".py",
   "mimetype": "text/x-python",
   "name": "python",
   "nbconvert_exporter": "python",
   "pygments_lexer": "ipython3",
   "version": "3.10.10"
  }
 },
 "nbformat": 4,
 "nbformat_minor": 5
}

{
 "cells": [
  {
   "cell_type": "markdown",
   "id": "cc3bb388-9feb-46d3-8ceb-23f26cee9a1e",
   "metadata": {},
   "source": [
    "# Initial Attempts at SINDy\n",
    "[Sparse Identification of Nonlinear Dynamics (SINDy)](https://www.pnas.org/content/113/15/3932) is an approach for learning differential equations from time-evolution data.\n",
    "In short, one developes a differential equation where: $f^\\prime(x) = \\eta(x)$ where $\\eta$ is learned from the data. \n"
   ]
  },
  {
   "cell_type": "code",
   "execution_count": 1,
   "id": "5da10986-0a00-4ab5-a8b1-d456545cfc28",
   "metadata": {},
   "outputs": [],
   "source": [
    "%matplotlib inline\n",
    "from matplotlib import pyplot as plt\n",
    "from sklearn.model_selection import TimeSeriesSplit\n",
    "from sklearn.preprocessing import PolynomialFeatures, StandardScaler\n",
    "from sklearn.multioutput import MultiOutputRegressor\n",
    "from sklearn.linear_model import LassoCV\n",
    "from sklearn.pipeline import Pipeline\n",
    "from scipy.integrate import solve_ivp\n",
    "import pandas as pd\n",
    "import numpy as np\n",
    "import warnings"
   ]
  },
  {
   "cell_type": "markdown",
   "id": "8c8434f6-8bf7-44d1-a854-00ca8289dd23",
   "metadata": {},
   "source": [
    "## Load in the Smoothed Data\n",
    "We use derivatives, which are sensitive to noise in the data"
   ]
  },
  {
   "cell_type": "code",
   "execution_count": 2,
   "id": "a005c9b0-9837-41e8-a0f9-d182e7333e3f",
   "metadata": {},
   "outputs": [],
   "source": [
    "smooth_data = pd.read_csv('datasets/smooth_data.csv').query('temp == 575')  # Get only one temperature"
   ]
  },
  {
   "cell_type": "code",
   "execution_count": 3,
   "id": "cdf300b4-e38a-44b5-84f2-2346803e28f2",
   "metadata": {},
   "outputs": [
    {
     "data": {
      "text/html": [
       "<div>\n",
       "<style scoped>\n",
       "    .dataframe tbody tr th:only-of-type {\n",
       "        vertical-align: middle;\n",
       "    }\n",
       "\n",
       "    .dataframe tbody tr th {\n",
       "        vertical-align: top;\n",
       "    }\n",
       "\n",
       "    .dataframe thead th {\n",
       "        text-align: right;\n",
       "    }\n",
       "</style>\n",
       "<table border=\"1\" class=\"dataframe\">\n",
       "  <thead>\n",
       "    <tr style=\"text-align: right;\">\n",
       "      <th></th>\n",
       "      <th>void_radii</th>\n",
       "      <th>temp</th>\n",
       "      <th>frame_id</th>\n",
       "      <th>source</th>\n",
       "      <th>void_count</th>\n",
       "      <th>radius_total</th>\n",
       "      <th>radius_mean</th>\n",
       "      <th>radius_stddev</th>\n",
       "      <th>surfarea_total</th>\n",
       "      <th>surfarea_mean</th>\n",
       "      <th>...</th>\n",
       "      <th>void_count_dt</th>\n",
       "      <th>radius_total_dt</th>\n",
       "      <th>radius_mean_dt</th>\n",
       "      <th>radius_stddev_dt</th>\n",
       "      <th>surfarea_total_dt</th>\n",
       "      <th>surfarea_mean_dt</th>\n",
       "      <th>surfarea_stddev_dt</th>\n",
       "      <th>volume_total_dt</th>\n",
       "      <th>volume_mean_dt</th>\n",
       "      <th>volume_stddev_dt</th>\n",
       "    </tr>\n",
       "  </thead>\n",
       "  <tbody>\n",
       "    <tr>\n",
       "      <th>1184</th>\n",
       "      <td>[8.288790818838285, 8.377443509789549, 8.15400...</td>\n",
       "      <td>575.0</td>\n",
       "      <td>132</td>\n",
       "      <td>void_size_Ni_575C_0.7_to_3dpa_01282022.csv</td>\n",
       "      <td>155.139871</td>\n",
       "      <td>1212.521576</td>\n",
       "      <td>7.850807</td>\n",
       "      <td>1.854915</td>\n",
       "      <td>128647.860498</td>\n",
       "      <td>804.396321</td>\n",
       "      <td>...</td>\n",
       "      <td>-0.481597</td>\n",
       "      <td>-4.396977</td>\n",
       "      <td>-0.006487</td>\n",
       "      <td>0.011576</td>\n",
       "      <td>-616.287771</td>\n",
       "      <td>0.192034</td>\n",
       "      <td>3.920751</td>\n",
       "      <td>-1164.168283</td>\n",
       "      <td>2.792533</td>\n",
       "      <td>17.175099</td>\n",
       "    </tr>\n",
       "    <tr>\n",
       "      <th>1185</th>\n",
       "      <td>[7.92426824088062, 6.602002906473624, 8.421419...</td>\n",
       "      <td>575.0</td>\n",
       "      <td>133</td>\n",
       "      <td>void_size_Ni_575C_0.7_to_3dpa_01282022.csv</td>\n",
       "      <td>154.660023</td>\n",
       "      <td>1208.144379</td>\n",
       "      <td>7.844373</td>\n",
       "      <td>1.866426</td>\n",
       "      <td>128036.461400</td>\n",
       "      <td>804.583798</td>\n",
       "      <td>...</td>\n",
       "      <td>-0.478096</td>\n",
       "      <td>-4.357430</td>\n",
       "      <td>-0.006383</td>\n",
       "      <td>0.011445</td>\n",
       "      <td>-606.528477</td>\n",
       "      <td>0.182957</td>\n",
       "      <td>3.860392</td>\n",
       "      <td>-1149.562026</td>\n",
       "      <td>2.752341</td>\n",
       "      <td>16.989120</td>\n",
       "    </tr>\n",
       "    <tr>\n",
       "      <th>1186</th>\n",
       "      <td>[7.8304866152859285, 5.954843113816836, 8.4214...</td>\n",
       "      <td>575.0</td>\n",
       "      <td>134</td>\n",
       "      <td>void_size_Ni_575C_0.7_to_3dpa_01282022.csv</td>\n",
       "      <td>154.183684</td>\n",
       "      <td>1203.806689</td>\n",
       "      <td>7.838041</td>\n",
       "      <td>1.877806</td>\n",
       "      <td>127434.767570</td>\n",
       "      <td>804.762310</td>\n",
       "      <td>...</td>\n",
       "      <td>-0.474581</td>\n",
       "      <td>-4.317964</td>\n",
       "      <td>-0.006280</td>\n",
       "      <td>0.011315</td>\n",
       "      <td>-596.877105</td>\n",
       "      <td>0.174105</td>\n",
       "      <td>3.800793</td>\n",
       "      <td>-1135.049484</td>\n",
       "      <td>2.712898</td>\n",
       "      <td>16.804961</td>\n",
       "    </tr>\n",
       "    <tr>\n",
       "      <th>1187</th>\n",
       "      <td>[7.877516987782423, 4.382645864810783, 8.76529...</td>\n",
       "      <td>575.0</td>\n",
       "      <td>135</td>\n",
       "      <td>void_size_Ni_575C_0.7_to_3dpa_01282022.csv</td>\n",
       "      <td>153.710866</td>\n",
       "      <td>1199.508424</td>\n",
       "      <td>7.831811</td>\n",
       "      <td>1.889056</td>\n",
       "      <td>126842.671477</td>\n",
       "      <td>804.932082</td>\n",
       "      <td>...</td>\n",
       "      <td>-0.471052</td>\n",
       "      <td>-4.278580</td>\n",
       "      <td>-0.006179</td>\n",
       "      <td>0.011186</td>\n",
       "      <td>-587.332873</td>\n",
       "      <td>0.165476</td>\n",
       "      <td>3.741950</td>\n",
       "      <td>-1120.630297</td>\n",
       "      <td>2.674197</td>\n",
       "      <td>16.622613</td>\n",
       "    </tr>\n",
       "    <tr>\n",
       "      <th>1188</th>\n",
       "      <td>[7.8304866152859285, 4.122053492430359, 11.206...</td>\n",
       "      <td>575.0</td>\n",
       "      <td>136</td>\n",
       "      <td>void_size_Ni_575C_0.7_to_3dpa_01282022.csv</td>\n",
       "      <td>153.241584</td>\n",
       "      <td>1195.249501</td>\n",
       "      <td>7.825683</td>\n",
       "      <td>1.900179</td>\n",
       "      <td>126260.066370</td>\n",
       "      <td>805.093336</td>\n",
       "      <td>...</td>\n",
       "      <td>-0.467510</td>\n",
       "      <td>-4.239281</td>\n",
       "      <td>-0.006078</td>\n",
       "      <td>0.011059</td>\n",
       "      <td>-577.895003</td>\n",
       "      <td>0.157067</td>\n",
       "      <td>3.683857</td>\n",
       "      <td>-1106.304106</td>\n",
       "      <td>2.636232</td>\n",
       "      <td>16.442065</td>\n",
       "    </tr>\n",
       "    <tr>\n",
       "      <th>...</th>\n",
       "      <td>...</td>\n",
       "      <td>...</td>\n",
       "      <td>...</td>\n",
       "      <td>...</td>\n",
       "      <td>...</td>\n",
       "      <td>...</td>\n",
       "      <td>...</td>\n",
       "      <td>...</td>\n",
       "      <td>...</td>\n",
       "      <td>...</td>\n",
       "      <td>...</td>\n",
       "      <td>...</td>\n",
       "      <td>...</td>\n",
       "      <td>...</td>\n",
       "      <td>...</td>\n",
       "      <td>...</td>\n",
       "      <td>...</td>\n",
       "      <td>...</td>\n",
       "      <td>...</td>\n",
       "      <td>...</td>\n",
       "      <td>...</td>\n",
       "    </tr>\n",
       "    <tr>\n",
       "      <th>3988</th>\n",
       "      <td>[5.436003166402974, 6.822129830163047, 5.57024...</td>\n",
       "      <td>575.0</td>\n",
       "      <td>2936</td>\n",
       "      <td>void_size_Ni_575C_0.7_to_3dpa_01282022.csv</td>\n",
       "      <td>191.313349</td>\n",
       "      <td>1613.703574</td>\n",
       "      <td>8.557675</td>\n",
       "      <td>4.890628</td>\n",
       "      <td>219618.486584</td>\n",
       "      <td>1180.291521</td>\n",
       "      <td>...</td>\n",
       "      <td>1.553105</td>\n",
       "      <td>10.063233</td>\n",
       "      <td>0.006022</td>\n",
       "      <td>0.003927</td>\n",
       "      <td>-467.871544</td>\n",
       "      <td>-7.680819</td>\n",
       "      <td>2.793113</td>\n",
       "      <td>-463.632468</td>\n",
       "      <td>-45.978520</td>\n",
       "      <td>-49.783785</td>\n",
       "    </tr>\n",
       "    <tr>\n",
       "      <th>3989</th>\n",
       "      <td>[6.712968709769421, 4.382645864810783, 7.63947...</td>\n",
       "      <td>575.0</td>\n",
       "      <td>2937</td>\n",
       "      <td>void_size_Ni_575C_0.7_to_3dpa_01282022.csv</td>\n",
       "      <td>192.937273</td>\n",
       "      <td>1624.263023</td>\n",
       "      <td>8.563718</td>\n",
       "      <td>4.894566</td>\n",
       "      <td>219147.536100</td>\n",
       "      <td>1172.259120</td>\n",
       "      <td>...</td>\n",
       "      <td>1.695665</td>\n",
       "      <td>11.062741</td>\n",
       "      <td>0.006064</td>\n",
       "      <td>0.003949</td>\n",
       "      <td>-474.040467</td>\n",
       "      <td>-8.389118</td>\n",
       "      <td>2.830444</td>\n",
       "      <td>-464.410511</td>\n",
       "      <td>-50.249860</td>\n",
       "      <td>-54.606200</td>\n",
       "    </tr>\n",
       "    <tr>\n",
       "      <th>3990</th>\n",
       "      <td>[6.4319656867244275, 6.9295715553602335, 5.367...</td>\n",
       "      <td>575.0</td>\n",
       "      <td>2938</td>\n",
       "      <td>void_size_Ni_575C_0.7_to_3dpa_01282022.csv</td>\n",
       "      <td>194.706548</td>\n",
       "      <td>1635.843383</td>\n",
       "      <td>8.569803</td>\n",
       "      <td>4.898525</td>\n",
       "      <td>218670.383485</td>\n",
       "      <td>1163.502881</td>\n",
       "      <td>...</td>\n",
       "      <td>1.843830</td>\n",
       "      <td>12.105232</td>\n",
       "      <td>0.006107</td>\n",
       "      <td>0.003970</td>\n",
       "      <td>-480.275882</td>\n",
       "      <td>-9.128628</td>\n",
       "      <td>2.868147</td>\n",
       "      <td>-465.173506</td>\n",
       "      <td>-54.706796</td>\n",
       "      <td>-59.642748</td>\n",
       "    </tr>\n",
       "    <tr>\n",
       "      <th>3991</th>\n",
       "      <td>[3.9387584938912115, 4.031447845852497, 15.399...</td>\n",
       "      <td>575.0</td>\n",
       "      <td>2939</td>\n",
       "      <td>void_size_Ni_575C_0.7_to_3dpa_01282022.csv</td>\n",
       "      <td>196.626845</td>\n",
       "      <td>1648.488175</td>\n",
       "      <td>8.575931</td>\n",
       "      <td>4.902506</td>\n",
       "      <td>218186.962017</td>\n",
       "      <td>1153.991191</td>\n",
       "      <td>...</td>\n",
       "      <td>1.997729</td>\n",
       "      <td>13.191787</td>\n",
       "      <td>0.006149</td>\n",
       "      <td>0.003992</td>\n",
       "      <td>-486.578253</td>\n",
       "      <td>-9.900156</td>\n",
       "      <td>2.906225</td>\n",
       "      <td>-465.921270</td>\n",
       "      <td>-59.354059</td>\n",
       "      <td>-64.898966</td>\n",
       "    </tr>\n",
       "    <tr>\n",
       "      <th>3992</th>\n",
       "      <td>[5.011747286263713, 7.393763675322254, 4.29753...</td>\n",
       "      <td>575.0</td>\n",
       "      <td>2940</td>\n",
       "      <td>void_size_Ni_575C_0.7_to_3dpa_01282022.csv</td>\n",
       "      <td>198.703962</td>\n",
       "      <td>1662.242009</td>\n",
       "      <td>8.582102</td>\n",
       "      <td>4.906508</td>\n",
       "      <td>217697.204506</td>\n",
       "      <td>1143.691625</td>\n",
       "      <td>...</td>\n",
       "      <td>2.157494</td>\n",
       "      <td>14.323499</td>\n",
       "      <td>0.006192</td>\n",
       "      <td>0.004013</td>\n",
       "      <td>-492.948045</td>\n",
       "      <td>-10.704516</td>\n",
       "      <td>2.944681</td>\n",
       "      <td>-466.653620</td>\n",
       "      <td>-64.196438</td>\n",
       "      <td>-70.380464</td>\n",
       "    </tr>\n",
       "  </tbody>\n",
       "</table>\n",
       "<p>2809 rows × 24 columns</p>\n",
       "</div>"
      ],
      "text/plain": [
       "                                             void_radii   temp  frame_id  \\\n",
       "1184  [8.288790818838285, 8.377443509789549, 8.15400...  575.0       132   \n",
       "1185  [7.92426824088062, 6.602002906473624, 8.421419...  575.0       133   \n",
       "1186  [7.8304866152859285, 5.954843113816836, 8.4214...  575.0       134   \n",
       "1187  [7.877516987782423, 4.382645864810783, 8.76529...  575.0       135   \n",
       "1188  [7.8304866152859285, 4.122053492430359, 11.206...  575.0       136   \n",
       "...                                                 ...    ...       ...   \n",
       "3988  [5.436003166402974, 6.822129830163047, 5.57024...  575.0      2936   \n",
       "3989  [6.712968709769421, 4.382645864810783, 7.63947...  575.0      2937   \n",
       "3990  [6.4319656867244275, 6.9295715553602335, 5.367...  575.0      2938   \n",
       "3991  [3.9387584938912115, 4.031447845852497, 15.399...  575.0      2939   \n",
       "3992  [5.011747286263713, 7.393763675322254, 4.29753...  575.0      2940   \n",
       "\n",
       "                                          source  void_count  radius_total  \\\n",
       "1184  void_size_Ni_575C_0.7_to_3dpa_01282022.csv  155.139871   1212.521576   \n",
       "1185  void_size_Ni_575C_0.7_to_3dpa_01282022.csv  154.660023   1208.144379   \n",
       "1186  void_size_Ni_575C_0.7_to_3dpa_01282022.csv  154.183684   1203.806689   \n",
       "1187  void_size_Ni_575C_0.7_to_3dpa_01282022.csv  153.710866   1199.508424   \n",
       "1188  void_size_Ni_575C_0.7_to_3dpa_01282022.csv  153.241584   1195.249501   \n",
       "...                                          ...         ...           ...   \n",
       "3988  void_size_Ni_575C_0.7_to_3dpa_01282022.csv  191.313349   1613.703574   \n",
       "3989  void_size_Ni_575C_0.7_to_3dpa_01282022.csv  192.937273   1624.263023   \n",
       "3990  void_size_Ni_575C_0.7_to_3dpa_01282022.csv  194.706548   1635.843383   \n",
       "3991  void_size_Ni_575C_0.7_to_3dpa_01282022.csv  196.626845   1648.488175   \n",
       "3992  void_size_Ni_575C_0.7_to_3dpa_01282022.csv  198.703962   1662.242009   \n",
       "\n",
       "      radius_mean  radius_stddev  surfarea_total  surfarea_mean  ...  \\\n",
       "1184     7.850807       1.854915   128647.860498     804.396321  ...   \n",
       "1185     7.844373       1.866426   128036.461400     804.583798  ...   \n",
       "1186     7.838041       1.877806   127434.767570     804.762310  ...   \n",
       "1187     7.831811       1.889056   126842.671477     804.932082  ...   \n",
       "1188     7.825683       1.900179   126260.066370     805.093336  ...   \n",
       "...           ...            ...             ...            ...  ...   \n",
       "3988     8.557675       4.890628   219618.486584    1180.291521  ...   \n",
       "3989     8.563718       4.894566   219147.536100    1172.259120  ...   \n",
       "3990     8.569803       4.898525   218670.383485    1163.502881  ...   \n",
       "3991     8.575931       4.902506   218186.962017    1153.991191  ...   \n",
       "3992     8.582102       4.906508   217697.204506    1143.691625  ...   \n",
       "\n",
       "      void_count_dt  radius_total_dt  radius_mean_dt  radius_stddev_dt  \\\n",
       "1184      -0.481597        -4.396977       -0.006487          0.011576   \n",
       "1185      -0.478096        -4.357430       -0.006383          0.011445   \n",
       "1186      -0.474581        -4.317964       -0.006280          0.011315   \n",
       "1187      -0.471052        -4.278580       -0.006179          0.011186   \n",
       "1188      -0.467510        -4.239281       -0.006078          0.011059   \n",
       "...             ...              ...             ...               ...   \n",
       "3988       1.553105        10.063233        0.006022          0.003927   \n",
       "3989       1.695665        11.062741        0.006064          0.003949   \n",
       "3990       1.843830        12.105232        0.006107          0.003970   \n",
       "3991       1.997729        13.191787        0.006149          0.003992   \n",
       "3992       2.157494        14.323499        0.006192          0.004013   \n",
       "\n",
       "      surfarea_total_dt  surfarea_mean_dt  surfarea_stddev_dt  \\\n",
       "1184        -616.287771          0.192034            3.920751   \n",
       "1185        -606.528477          0.182957            3.860392   \n",
       "1186        -596.877105          0.174105            3.800793   \n",
       "1187        -587.332873          0.165476            3.741950   \n",
       "1188        -577.895003          0.157067            3.683857   \n",
       "...                 ...               ...                 ...   \n",
       "3988        -467.871544         -7.680819            2.793113   \n",
       "3989        -474.040467         -8.389118            2.830444   \n",
       "3990        -480.275882         -9.128628            2.868147   \n",
       "3991        -486.578253         -9.900156            2.906225   \n",
       "3992        -492.948045        -10.704516            2.944681   \n",
       "\n",
       "      volume_total_dt  volume_mean_dt  volume_stddev_dt  \n",
       "1184     -1164.168283        2.792533         17.175099  \n",
       "1185     -1149.562026        2.752341         16.989120  \n",
       "1186     -1135.049484        2.712898         16.804961  \n",
       "1187     -1120.630297        2.674197         16.622613  \n",
       "1188     -1106.304106        2.636232         16.442065  \n",
       "...               ...             ...               ...  \n",
       "3988      -463.632468      -45.978520        -49.783785  \n",
       "3989      -464.410511      -50.249860        -54.606200  \n",
       "3990      -465.173506      -54.706796        -59.642748  \n",
       "3991      -465.921270      -59.354059        -64.898966  \n",
       "3992      -466.653620      -64.196438        -70.380464  \n",
       "\n",
       "[2809 rows x 24 columns]"
      ]
     },
     "execution_count": 3,
     "metadata": {},
     "output_type": "execute_result"
    }
   ],
   "source": [
    "smooth_data"
   ]
  },
  {
   "cell_type": "markdown",
   "id": "06c931b8-cf1d-4dbf-b330-dea13bb0c3d5",
   "metadata": {},
   "source": [
    "Normalize it such that maximum values for each cateory are 1"
   ]
  },
  {
   "cell_type": "code",
   "execution_count": 4,
   "id": "c7e35e8b-4c6a-454a-88e4-1b10be158467",
   "metadata": {},
   "outputs": [],
   "source": [
    "target_cols = [c for c in smooth_data.columns[1:] if not c.endswith('_dt') and c not in ['frame_id', 'source', 'temp']]"
   ]
  },
  {
   "cell_type": "code",
   "execution_count": 5,
   "id": "77b83919-eff5-49d0-b522-c65db30d04be",
   "metadata": {},
   "outputs": [],
   "source": [
    "scale_factors = {}\n",
    "for c in target_cols:\n",
    "    scale_factors[c] = smooth_data[c].max()\n",
    "    smooth_data[c] /= scale_factors[c]\n",
    "    smooth_data[f'{c}_dt'] /= scale_factors[c]"
   ]
  },
  {
   "cell_type": "markdown",
   "id": "9d2a6626-d158-400f-a195-fd08559994f2",
   "metadata": {},
   "source": [
    "## Train a LASSO Model\n",
    "Just to see if we get any sensible void growth predictions.\n",
    "We are going to compare against JMAK, which gives us total volume, and assume that the volume growth has to do with the total surface are and - possibly - the distribution of void sizes"
   ]
  },
  {
   "cell_type": "code",
   "execution_count": 6,
   "id": "d9fa6ca1-5925-4a65-bbef-8c49659707f6",
   "metadata": {},
   "outputs": [],
   "source": [
    "state_cols = ['volume_total', 'surfarea_total', 'radius_mean', 'radius_stddev', 'void_count']"
   ]
  },
  {
   "cell_type": "markdown",
   "id": "9e2dce0b-ac59-45db-b815-4b0c4fc412c3",
   "metadata": {},
   "source": [
    "## Step 1: Visualize the Data\n",
    "Make sure it seems reasonable. Inputs are the state of the void growth"
   ]
  },
  {
   "cell_type": "code",
   "execution_count": 7,
   "id": "0ff9668a-024d-4d33-9e98-4999f2bb9332",
   "metadata": {},
   "outputs": [
    {
     "data": {
      "image/png": "[encoded data removed]",
      "text/plain": [
       "<Figure size 612x180 with 5 Axes>"
      ]
     },
     "metadata": {
      "needs_background": "light"
     },
     "output_type": "display_data"
    }
   ],
   "source": [
    "fig, axs = plt.subplots(1, len(state_cols), figsize=(8.5, 2.5))\n",
    "\n",
    "input_cols = state_cols\n",
    "for c, ax in zip(input_cols, axs):\n",
    "    ax.plot(smooth_data['frame_id'], smooth_data[c])\n",
    "    ax.set_title(c)\n",
    "    ax.set_xlabel('Frame ID')\n",
    "    ax.set_ylim(ax.get_ylim())\n",
    "    \n",
    "    \n",
    "fig.tight_layout()"
   ]
  },
  {
   "cell_type": "markdown",
   "id": "3c1743e4-c149-4de7-bf37-6a10295bc832",
   "metadata": {},
   "source": [
    "Outputs are the derivatives"
   ]
  },
  {
   "cell_type": "code",
   "execution_count": 8,
   "id": "597864c8-385b-4824-bd38-84b5ec61d485",
   "metadata": {},
   "outputs": [
    {
     "data": {
      "image/png": "[encoded data removed]",
      "text/plain": [
       "<Figure size 612x180 with 5 Axes>"
      ]
     },
     "metadata": {
      "needs_background": "light"
     },
     "output_type": "display_data"
    }
   ],
   "source": [
    "fig, axs = plt.subplots(1, len(state_cols), figsize=(8.5, 2.5))\n",
    "\n",
    "output_cols = [x + '_dt' for x in state_cols]\n",
    "for c, ax in zip(output_cols, axs):\n",
    "    ax.plot(smooth_data['frame_id'], smooth_data[c])\n",
    "    ax.set_title(c)\n",
    "    ax.set_xlabel('Frame ID')\n",
    "    ax.set_ylim(ax.get_ylim())\n",
    "    \n",
    "    \n",
    "fig.tight_layout()"
   ]
  },
  {
   "cell_type": "markdown",
   "id": "366de3f9-8be2-48c2-b337-602c46451bbd",
   "metadata": {},
   "source": [
    "## Step 2: Build the Model Pipeline\n",
    "We want polynomial features and then to normalize them"
   ]
  },
  {
   "cell_type": "code",
   "execution_count": 9,
   "id": "a2ca680c-4fce-4a9c-87ed-d01c86a97e70",
   "metadata": {},
   "outputs": [],
   "source": [
    "model = Pipeline([\n",
    "    ('poly', PolynomialFeatures(2, include_bias=False)),\n",
    "    #('scale', StandardScaler()),\n",
    "    ('model', MultiOutputRegressor(LassoCV(max_iter=10000, cv=TimeSeriesSplit())))\n",
    "])"
   ]
  },
  {
   "cell_type": "markdown",
   "id": "6ac7b3c8-5980-4e1a-95f1-95ae3911593b",
   "metadata": {},
   "source": [
    "## Step 3: Fit it on all the data\n",
    "Just to see how it works"
   ]
  },
  {
   "cell_type": "code",
   "execution_count": 10,
   "id": "1e2eb8d5-ded6-44d7-a7aa-073fc8bf9fe1",
   "metadata": {},
   "outputs": [],
   "source": [
    "train_X = smooth_data[output_cols]\n",
    "\n",
    "with warnings.catch_warnings():\n",
    "    warnings.simplefilter('ignore')\n",
    "    model.fit(smooth_data[input_cols], smooth_data[output_cols].values)"
   ]
  },
  {
   "cell_type": "code",
   "execution_count": 11,
   "id": "5ae45938-28cb-4285-8f02-45a34bd79afb",
   "metadata": {},
   "outputs": [],
   "source": [
    "y_pred = model.predict(smooth_data[input_cols])"
   ]
  },
  {
   "cell_type": "code",
   "execution_count": 12,
   "id": "9731023f-0d73-446f-816e-56501c6acb50",
   "metadata": {},
   "outputs": [
    {
     "data": {
      "image/png": "[encoded data removed]",
      "text/plain": [
       "<Figure size 612x180 with 5 Axes>"
      ]
     },
     "metadata": {
      "needs_background": "light"
     },
     "output_type": "display_data"
    }
   ],
   "source": [
    "fig, axs = plt.subplots(1, len(output_cols), figsize=(8.5, 2.5))\n",
    "\n",
    "for c, ax, p in zip(output_cols, axs, y_pred.T):\n",
    "    ax.plot(smooth_data['frame_id'], smooth_data[c])\n",
    "    ax.plot(smooth_data['frame_id'], p)\n",
    "    ax.set_title(c)\n",
    "    ax.set_xlabel('Frame ID')\n",
    "fig.tight_layout()"
   ]
  },
  {
   "cell_type": "markdown",
   "id": "2ae48d47-0bcc-41b6-a78a-c5462ac73322",
   "metadata": {},
   "source": [
    "Display the learned equations"
   ]
  },
  {
   "cell_type": "code",
   "execution_count": 13,
   "id": "84aefcca-bff4-4c3d-9bbc-6cd8185a1b06",
   "metadata": {},
   "outputs": [
    {
     "data": {
      "text/plain": [
       "['volume_total',\n",
       " 'surfarea_total',\n",
       " 'radius_mean',\n",
       " 'radius_stddev',\n",
       " 'void_count',\n",
       " 'volume_total^2',\n",
       " 'volume_total surfarea_total',\n",
       " 'volume_total radius_mean',\n",
       " 'volume_total radius_stddev',\n",
       " 'volume_total void_count',\n",
       " 'surfarea_total^2',\n",
       " 'surfarea_total radius_mean',\n",
       " 'surfarea_total radius_stddev',\n",
       " 'surfarea_total void_count',\n",
       " 'radius_mean^2',\n",
       " 'radius_mean radius_stddev',\n",
       " 'radius_mean void_count',\n",
       " 'radius_stddev^2',\n",
       " 'radius_stddev void_count',\n",
       " 'void_count^2']"
      ]
     },
     "execution_count": 13,
     "metadata": {},
     "output_type": "execute_result"
    }
   ],
   "source": [
    "input_names = model['poly'].get_feature_names(input_cols)\n",
    "input_names"
   ]
  },
  {
   "cell_type": "code",
   "execution_count": 14,
   "id": "64415b7e-9138-4f70-b92f-5780612295a7",
   "metadata": {},
   "outputs": [
    {
     "name": "stdout",
     "output_type": "stream",
     "text": [
      "volume_total_dt = -2.6e-04 * volume_total + 3.4e-04 * surfarea_total + 1.7e-04\n",
      "surfarea_total_dt = -6.7e-20 * volume_total + 1.1e-04\n",
      "radius_mean_dt =  + 2.8e-05\n",
      "radius_stddev_dt = -3.8e-04 * volume_total + 4.3e-04\n",
      "void_count_dt =  + 5.3e-05\n"
     ]
    }
   ],
   "source": [
    "for output, submodel in zip(output_cols, model['model'].estimators_):\n",
    "    params = submodel.coef_\n",
    "    print(f'{output} = {\" + \".join(map(lambda x: f\"{x[0]:.1e} * {x[1]}\", zip(params[np.nonzero(params)], input_names)))} + {submodel.intercept_:.1e}')"
   ]
  },
  {
   "cell_type": "markdown",
   "id": "c4eea834-c7f3-4566-9255-7b66c5758914",
   "metadata": {},
   "source": [
    "## See if we can solve the PDE and achieve reasonable results\n",
    "The game will be to to use up to 1500 frames and predict up to 2000\n",
    "\n",
    "### Step 1: Fit the model\n",
    "Take only the data up to the desired cycle"
   ]
  },
  {
   "cell_type": "code",
   "execution_count": 15,
   "id": "e169be3b-6ec7-4117-a7a3-44ee5f242903",
   "metadata": {},
   "outputs": [],
   "source": [
    "stop_frame = 1000"
   ]
  },
  {
   "cell_type": "code",
   "execution_count": 16,
   "id": "1347f9d6-700f-4fd9-b8f6-b1c2be5148b9",
   "metadata": {},
   "outputs": [],
   "source": [
    "fit_data = smooth_data.query(f'frame_id < {stop_frame}')"
   ]
  },
  {
   "cell_type": "code",
   "execution_count": 17,
   "id": "4add7e7a-488c-4e2a-8148-892b35179e0b",
   "metadata": {},
   "outputs": [],
   "source": [
    "with warnings.catch_warnings():\n",
    "    warnings.simplefilter('ignore')\n",
    "    model.fit(fit_data[input_cols], fit_data[output_cols])"
   ]
  },
  {
   "cell_type": "markdown",
   "id": "137a2d86-cccc-44e5-9fc0-cb736cabd66e",
   "metadata": {},
   "source": [
    "### Step 2: Solve the IVP\n",
    "Take the state at Step 1500 and propogate!"
   ]
  },
  {
   "cell_type": "code",
   "execution_count": 18,
   "id": "b4949887-cc27-4d55-9ebc-5876e67189fc",
   "metadata": {},
   "outputs": [
    {
     "data": {
      "text/plain": [
       "volume_total      0.483138\n",
       "surfarea_total    0.562426\n",
       "radius_mean       0.855221\n",
       "radius_stddev     0.592429\n",
       "void_count        0.620625\n",
       "Name: 2051, dtype: object"
      ]
     },
     "execution_count": 18,
     "metadata": {},
     "output_type": "execute_result"
    }
   ],
   "source": [
    "y0 = fit_data.iloc[-1][input_cols]\n",
    "y0"
   ]
  },
  {
   "cell_type": "code",
   "execution_count": 19,
   "id": "33c2a5d2-8a23-4087-8825-309efe7040ef",
   "metadata": {},
   "outputs": [
    {
     "data": {
      "text/plain": [
       "array([ 3.76644339e-04,  3.83135997e-04, -3.08403161e-06,  1.06708430e-04,\n",
       "        6.96843924e-04])"
      ]
     },
     "execution_count": 19,
     "metadata": {},
     "output_type": "execute_result"
    }
   ],
   "source": [
    "def f_prime(t, y):\n",
    "    return model.predict([y])[0, :]\n",
    "f_prime(1500, y0)"
   ]
  },
  {
   "cell_type": "code",
   "execution_count": 20,
   "id": "5b39df25-8e1a-46d8-8569-04ab54f91e24",
   "metadata": {},
   "outputs": [],
   "source": [
    "res = solve_ivp(f_prime, [stop_frame, 2000], y0, t_eval=np.linspace(stop_frame, 2000, 256))"
   ]
  },
  {
   "cell_type": "markdown",
   "id": "1cd0d111-7c5e-4f79-a3a9-d10994b7eb92",
   "metadata": {},
   "source": [
    "Plot the outcome"
   ]
  },
  {
   "cell_type": "code",
   "execution_count": 21,
   "id": "c7de8840-c0c2-4998-ab5b-bf3eddd77448",
   "metadata": {},
   "outputs": [
    {
     "data": {
      "image/png": "[encoded data removed]",
      "text/plain": [
       "<Figure size 684x180 with 5 Axes>"
      ]
     },
     "metadata": {
      "needs_background": "light"
     },
     "output_type": "display_data"
    }
   ],
   "source": [
    "fig, axs = plt.subplots(1, len(output_cols), figsize=(9.5, 2.5))\n",
    "\n",
    "axs = axs.flatten()\n",
    "\n",
    "for c, ax, p in zip(input_cols, axs, res.y):\n",
    "    ax.plot(smooth_data['frame_id'], smooth_data[c], label='Exp.')\n",
    "    ax.plot(res.t, p, label='ML')\n",
    "    ax.set_title(c)\n",
    "    ax.set_xlabel('Frame ID')\n",
    "    ax.set_xlim(0, 1300)\n",
    "    ax.set_ylim(ax.get_ylim())\n",
    "    \n",
    "    ax.plot([stop_frame]*2, ax.get_ylim(), 'k--', lw=1)\n",
    "    \n",
    "axs[0].legend()\n",
    "fig.tight_layout()"
   ]
  },
  {
   "cell_type": "markdown",
   "id": "40d04819-c4f7-48e6-8bdd-c525a0384eed",
   "metadata": {},
   "source": [
    "👆 You can see that we miss the large increase in average void size, which is probably us forming that second population"
   ]
  },
  {
   "cell_type": "code",
   "execution_count": null,
   "id": "24b821d8-663b-4447-a0ac-9e26052c1e29",
   "metadata": {},
   "outputs": [],
   "source": []
  }
 ],
 "metadata": {
  "kernelspec": {
   "display_name": "Python 3 (ipykernel)",
   "language": "python",
   "name": "python3"
  },
  "language_info": {
   "codemirror_mode": {
    "name": "ipython",
    "version": 3
   },
   "file_extension": ".py",
   "mimetype": "text/x-python",
   "name": "python",
   "nbconvert_exporter": "python",
   "pygments_lexer": "ipython3",
   "version": "3.9.7"
  }
 },
 "nbformat": 4,
 "nbformat_minor": 5
}
